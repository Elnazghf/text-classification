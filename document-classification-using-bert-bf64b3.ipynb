{
 "cells": [
  {
   "cell_type": "code",
   "execution_count": 1,
   "metadata": {
    "execution": {
     "iopub.execute_input": "2023-02-23T18:23:36.516058Z",
     "iopub.status.busy": "2023-02-23T18:23:36.515691Z"
    }
   },
   "outputs": [],
   "source": [
    "# !pip uninstall tensorflow -y \n",
    "# !pip install tensorflow==1.15.0"
   ]
  },
  {
   "cell_type": "markdown",
   "metadata": {},
   "source": [
    "Getting bert functions"
   ]
  },
  {
   "cell_type": "code",
   "execution_count": 2,
   "metadata": {
    "execution": {
     "iopub.execute_input": "2023-02-23T18:22:53.360046Z",
     "iopub.status.busy": "2023-02-23T18:22:53.359811Z",
     "iopub.status.idle": "2023-02-23T18:23:34.060483Z",
     "shell.execute_reply": "2023-02-23T18:23:34.059369Z",
     "shell.execute_reply.started": "2023-02-23T18:22:53.360019Z"
    }
   },
   "outputs": [],
   "source": [
    "# !wget https://raw.githubusercontent.com/google-research/bert/master/modeling.py \n",
    "# !wget https://raw.githubusercontent.com/google-research/bert/master/optimization.py\n",
    "# !wget https://raw.githubusercontent.com/google-research/bert/master/run_classifier.py\n",
    "# !wget https://raw.githubusercontent.com/google-research/bert/master/tokenization.py"
   ]
  },
  {
   "cell_type": "markdown",
   "metadata": {},
   "source": [
    "### Import necessary libraries"
   ]
  },
  {
   "cell_type": "code",
   "execution_count": 3,
   "metadata": {
    "execution": {
     "iopub.execute_input": "2023-02-23T18:23:34.062140Z",
     "iopub.status.busy": "2023-02-23T18:23:34.061869Z",
     "iopub.status.idle": "2023-02-23T18:23:35.735646Z",
     "shell.execute_reply": "2023-02-23T18:23:35.732590Z",
     "shell.execute_reply.started": "2023-02-23T18:23:34.062111Z"
    }
   },
   "outputs": [
    {
     "name": "stdout",
     "output_type": "stream",
     "text": [
      "WARNING:tensorflow:From /Users/elnazghofrani/miniconda3/lib/python3.10/site-packages/tensorflow/python/compat/v2_compat.py:107: disable_resource_variables (from tensorflow.python.ops.variable_scope) is deprecated and will be removed in a future version.\n",
      "Instructions for updating:\n",
      "non-resource variables are not supported in the long term\n"
     ]
    }
   ],
   "source": [
    "import numpy as np # linear algebra\n",
    "import re, os\n",
    "import pandas as pd # data processing, CSV file I/O (e.g. pd.read_csv)\n",
    "from sklearn.preprocessing import LabelEncoder\n",
    "from nltk.corpus import stopwords\n",
    "from sklearn.model_selection import train_test_split\n",
    "# import tensorflow as tf\n",
    "import tensorflow.compat.v1 as tf\n",
    "tf.disable_v2_behavior()\n",
    "\n",
    "\n",
    "import datetime\n",
    "from datetime import datetime\n",
    "\n",
    "# BERT\n",
    "import optimization\n",
    "import run_classifier\n",
    "import tokenization\n",
    "import tensorflow_hub as hub"
   ]
  },
  {
   "cell_type": "code",
   "execution_count": 4,
   "metadata": {
    "execution": {
     "iopub.status.busy": "2023-02-23T18:23:35.737025Z",
     "iopub.status.idle": "2023-02-23T18:23:35.737550Z"
    }
   },
   "outputs": [
    {
     "data": {
      "text/plain": [
       "'2.9.0'"
      ]
     },
     "execution_count": 4,
     "metadata": {},
     "output_type": "execute_result"
    }
   ],
   "source": [
    "# Checking tensorflow version (should be 1.15)\n",
    "tf.__version__"
   ]
  },
  {
   "cell_type": "markdown",
   "metadata": {},
   "source": [
    "### Read the training dataset"
   ]
  },
  {
   "cell_type": "code",
   "execution_count": 5,
   "metadata": {
    "execution": {
     "iopub.status.busy": "2023-02-23T18:23:35.738634Z",
     "iopub.status.idle": "2023-02-23T18:23:35.739027Z"
    }
   },
   "outputs": [],
   "source": [
    "# Get the file details\n",
    "directory = []\n",
    "file = []\n",
    "title = []\n",
    "text = []\n",
    "label = []\n",
    "\n",
    "datapath = './archive/bbc-fulltext (document classification)/bbc/' \n",
    "for dirname, _ , filenames in os.walk(datapath):\n",
    "    #print('Directory: ', dirname)\n",
    "    #print('Subdir: ', dirname.split('/')[-1])\n",
    "    # remove the Readme.txt file\n",
    "    # will not find file in the second iteration so we skip the error\n",
    "    try:\n",
    "        filenames.remove('README.TXT')\n",
    "    except:\n",
    "        pass\n",
    "    for filename in filenames:\n",
    "        directory.append(dirname)\n",
    "        file.append(filename)\n",
    "        label.append(dirname.split('/')[-1])\n",
    "        fullpathfile = os.path.join(dirname,filename)\n",
    "        with open(fullpathfile, 'r', encoding=\"utf8\", errors='ignore') as infile:\n",
    "            intext = ''\n",
    "            firstline = True\n",
    "            for line in infile:\n",
    "                if firstline:\n",
    "                    title.append(line.replace('\\n',''))\n",
    "                    firstline = False\n",
    "                else:\n",
    "                    intext = intext + ' ' + line.replace('\\n','')\n",
    "            text.append(intext)\n"
   ]
  },
  {
   "cell_type": "markdown",
   "metadata": {},
   "source": [
    "### Get the data as dataframe"
   ]
  },
  {
   "cell_type": "code",
   "execution_count": 6,
   "metadata": {
    "_cell_guid": "79c7e3d0-c299-4dcb-8224-4455121ee9b0",
    "_uuid": "d629ff2d2480ee46fbb7e2d37f6b5fab8052498a",
    "execution": {
     "iopub.status.busy": "2023-02-23T18:23:35.739884Z",
     "iopub.status.idle": "2023-02-23T18:23:35.740444Z"
    },
    "scrolled": true
   },
   "outputs": [
    {
     "data": {
      "text/html": [
       "<div>\n",
       "<style scoped>\n",
       "    .dataframe tbody tr th:only-of-type {\n",
       "        vertical-align: middle;\n",
       "    }\n",
       "\n",
       "    .dataframe tbody tr th {\n",
       "        vertical-align: top;\n",
       "    }\n",
       "\n",
       "    .dataframe thead th {\n",
       "        text-align: right;\n",
       "    }\n",
       "</style>\n",
       "<table border=\"1\" class=\"dataframe\">\n",
       "  <thead>\n",
       "    <tr style=\"text-align: right;\">\n",
       "      <th></th>\n",
       "      <th>directory</th>\n",
       "      <th>file</th>\n",
       "      <th>title</th>\n",
       "      <th>label</th>\n",
       "      <th>text</th>\n",
       "    </tr>\n",
       "  </thead>\n",
       "  <tbody>\n",
       "    <tr>\n",
       "      <th>0</th>\n",
       "      <td>./archive/bbc-fulltext (document classificatio...</td>\n",
       "      <td>289.txt</td>\n",
       "      <td>Musicians to tackle US red tape</td>\n",
       "      <td>entertainment</td>\n",
       "      <td>Musicians' groups are to tackle US visa regu...</td>\n",
       "    </tr>\n",
       "    <tr>\n",
       "      <th>1</th>\n",
       "      <td>./archive/bbc-fulltext (document classificatio...</td>\n",
       "      <td>262.txt</td>\n",
       "      <td>U2's desire to be number one</td>\n",
       "      <td>entertainment</td>\n",
       "      <td>U2, who have won three prestigious Grammy Aw...</td>\n",
       "    </tr>\n",
       "    <tr>\n",
       "      <th>2</th>\n",
       "      <td>./archive/bbc-fulltext (document classificatio...</td>\n",
       "      <td>276.txt</td>\n",
       "      <td>Rocker Doherty in on-stage fight</td>\n",
       "      <td>entertainment</td>\n",
       "      <td>Rock singer Pete Doherty has been involved i...</td>\n",
       "    </tr>\n",
       "    <tr>\n",
       "      <th>3</th>\n",
       "      <td>./archive/bbc-fulltext (document classificatio...</td>\n",
       "      <td>060.txt</td>\n",
       "      <td>Snicket tops US box office chart</td>\n",
       "      <td>entertainment</td>\n",
       "      <td>The film adaptation of Lemony Snicket novels...</td>\n",
       "    </tr>\n",
       "    <tr>\n",
       "      <th>4</th>\n",
       "      <td>./archive/bbc-fulltext (document classificatio...</td>\n",
       "      <td>074.txt</td>\n",
       "      <td>Ocean's Twelve raids box office</td>\n",
       "      <td>entertainment</td>\n",
       "      <td>Ocean's Twelve, the crime caper sequel starr...</td>\n",
       "    </tr>\n",
       "  </tbody>\n",
       "</table>\n",
       "</div>"
      ],
      "text/plain": [
       "                                           directory     file  \\\n",
       "0  ./archive/bbc-fulltext (document classificatio...  289.txt   \n",
       "1  ./archive/bbc-fulltext (document classificatio...  262.txt   \n",
       "2  ./archive/bbc-fulltext (document classificatio...  276.txt   \n",
       "3  ./archive/bbc-fulltext (document classificatio...  060.txt   \n",
       "4  ./archive/bbc-fulltext (document classificatio...  074.txt   \n",
       "\n",
       "                              title          label  \\\n",
       "0   Musicians to tackle US red tape  entertainment   \n",
       "1      U2's desire to be number one  entertainment   \n",
       "2  Rocker Doherty in on-stage fight  entertainment   \n",
       "3  Snicket tops US box office chart  entertainment   \n",
       "4   Ocean's Twelve raids box office  entertainment   \n",
       "\n",
       "                                                text  \n",
       "0    Musicians' groups are to tackle US visa regu...  \n",
       "1    U2, who have won three prestigious Grammy Aw...  \n",
       "2    Rock singer Pete Doherty has been involved i...  \n",
       "3    The film adaptation of Lemony Snicket novels...  \n",
       "4    Ocean's Twelve, the crime caper sequel starr...  "
      ]
     },
     "execution_count": 6,
     "metadata": {},
     "output_type": "execute_result"
    }
   ],
   "source": [
    "DATA_COLUMN = 'text'\n",
    "LABEL_COLUMN = 'label'\n",
    "\n",
    "fulldf = pd.DataFrame(list(zip(directory, file, title, label, text)), \n",
    "               columns =['directory', 'file', 'title', 'label','text'])\n",
    "\n",
    "df = fulldf.filter(['label','text'], axis=1)\n",
    "fulldf.head()"
   ]
  },
  {
   "cell_type": "markdown",
   "metadata": {},
   "source": [
    "Checking the shape of the dataframe"
   ]
  },
  {
   "cell_type": "code",
   "execution_count": 7,
   "metadata": {
    "execution": {
     "iopub.status.busy": "2023-02-23T18:23:35.741613Z",
     "iopub.status.idle": "2023-02-23T18:23:35.742211Z"
    }
   },
   "outputs": [
    {
     "data": {
      "text/plain": [
       "(2225, 2)"
      ]
     },
     "execution_count": 7,
     "metadata": {},
     "output_type": "execute_result"
    }
   ],
   "source": [
    "df.shape"
   ]
  },
  {
   "cell_type": "markdown",
   "metadata": {},
   "source": [
    "Checking if null values exist"
   ]
  },
  {
   "cell_type": "code",
   "execution_count": 8,
   "metadata": {
    "execution": {
     "iopub.status.busy": "2023-02-23T18:23:35.743496Z",
     "iopub.status.idle": "2023-02-23T18:23:35.744052Z"
    }
   },
   "outputs": [
    {
     "data": {
      "text/plain": [
       "label    0\n",
       "text     0\n",
       "dtype: int64"
      ]
     },
     "execution_count": 8,
     "metadata": {},
     "output_type": "execute_result"
    }
   ],
   "source": [
    "df.isnull().sum()"
   ]
  },
  {
   "cell_type": "markdown",
   "metadata": {},
   "source": [
    "Get unique labels"
   ]
  },
  {
   "cell_type": "code",
   "execution_count": 9,
   "metadata": {
    "execution": {
     "iopub.status.busy": "2023-02-23T18:23:35.745235Z",
     "iopub.status.idle": "2023-02-23T18:23:35.745751Z"
    }
   },
   "outputs": [
    {
     "name": "stdout",
     "output_type": "stream",
     "text": [
      "business\n",
      "entertainment\n",
      "politics\n",
      "sport\n",
      "tech\n"
     ]
    }
   ],
   "source": [
    "for label in np.unique(df['label']):\n",
    "    print(label)"
   ]
  },
  {
   "cell_type": "code",
   "execution_count": 10,
   "metadata": {
    "execution": {
     "iopub.status.busy": "2023-02-23T18:23:35.746817Z",
     "iopub.status.idle": "2023-02-23T18:23:35.747364Z"
    }
   },
   "outputs": [
    {
     "data": {
      "text/plain": [
       "<Axes: >"
      ]
     },
     "execution_count": 10,
     "metadata": {},
     "output_type": "execute_result"
    },
    {
     "data": {
      "image/png": "[encoded data removed]",
      "text/plain": [
       "<Figure size 640x480 with 1 Axes>"
      ]
     },
     "metadata": {},
     "output_type": "display_data"
    }
   ],
   "source": [
    "# Checking number of records of each label\n",
    "df['label'].value_counts().sort_values(ascending=False).plot(kind='bar')"
   ]
  },
  {
   "cell_type": "markdown",
   "metadata": {},
   "source": [
    "### Encode the labels into numeric"
   ]
  },
  {
   "cell_type": "code",
   "execution_count": 11,
   "metadata": {
    "execution": {
     "iopub.status.busy": "2023-02-23T18:23:35.748439Z",
     "iopub.status.idle": "2023-02-23T18:23:35.748958Z"
    }
   },
   "outputs": [
    {
     "data": {
      "text/plain": [
       "['business', 'entertainment', 'politics', 'sport', 'tech']"
      ]
     },
     "execution_count": 11,
     "metadata": {},
     "output_type": "execute_result"
    }
   ],
   "source": [
    "le = LabelEncoder()\n",
    "df['label'] = le.fit_transform(df['label'])\n",
    "list(le.classes_)"
   ]
  },
  {
   "cell_type": "code",
   "execution_count": 12,
   "metadata": {},
   "outputs": [
    {
     "name": "stdout",
     "output_type": "stream",
     "text": [
      "['business', 'entertainment', 'politics', 'sport', 'tech'] \n",
      "    label                                               text\n",
      "0      1    Musicians' groups are to tackle US visa regu...\n",
      "1      1    U2, who have won three prestigious Grammy Aw...\n",
      "2      1    Rock singer Pete Doherty has been involved i...\n",
      "3      1    The film adaptation of Lemony Snicket novels...\n",
      "4      1    Ocean's Twelve, the crime caper sequel starr...\n"
     ]
    }
   ],
   "source": [
    "print(list(le.classes_), \"\\n\" ,df.head())"
   ]
  },
  {
   "cell_type": "markdown",
   "metadata": {},
   "source": [
    "### Perform preprocessing to text"
   ]
  },
  {
   "cell_type": "code",
   "execution_count": 13,
   "metadata": {
    "execution": {
     "iopub.status.busy": "2023-02-23T18:23:35.750244Z",
     "iopub.status.idle": "2023-02-23T18:23:35.750806Z"
    }
   },
   "outputs": [],
   "source": [
    "REPLACE_BY_SPACE_RE = re.compile('[/(){}\\[\\]\\|@,;]')\n",
    "BAD_SYMBOLS_RE = re.compile('[^0-9a-z #+_]')\n",
    "STOPWORDS = set(stopwords.words('english'))\n",
    "\n",
    "def clean_text(text):\n",
    "    \"\"\"\n",
    "        text: a string\n",
    "        \n",
    "        return: modified initial string\n",
    "    \"\"\"\n",
    "    text = text.lower() # lowercase text\n",
    "    text = REPLACE_BY_SPACE_RE.sub(' ', text) # replace REPLACE_BY_SPACE_RE symbols by space in text. substitute the matched string in REPLACE_BY_SPACE_RE with space.\n",
    "    text = BAD_SYMBOLS_RE.sub('', text) # remove symbols which are in BAD_SYMBOLS_RE from text. substitute the matched string in BAD_SYMBOLS_RE with nothing. \n",
    "#     text = re.sub(r'\\W+', '', text)\n",
    "    text = ' '.join(word for word in text.split() if word not in STOPWORDS) # remove stopwors from text\n",
    "    return text"
   ]
  },
  {
   "cell_type": "code",
   "execution_count": 14,
   "metadata": {
    "execution": {
     "iopub.status.busy": "2023-02-23T18:23:35.751962Z",
     "iopub.status.idle": "2023-02-23T18:23:35.752497Z"
    }
   },
   "outputs": [
    {
     "name": "stderr",
     "output_type": "stream",
     "text": [
      "/var/folders/b2/hx3hnjy967d2_x_0tbdd6xzc0000gn/T/ipykernel_1027/317573912.py:2: FutureWarning: The default value of regex will change from True to False in a future version.\n",
      "  df['text'] = df['text'].str.replace('\\d+', '')\n"
     ]
    },
    {
     "data": {
      "text/html": [
       "<div>\n",
       "<style scoped>\n",
       "    .dataframe tbody tr th:only-of-type {\n",
       "        vertical-align: middle;\n",
       "    }\n",
       "\n",
       "    .dataframe tbody tr th {\n",
       "        vertical-align: top;\n",
       "    }\n",
       "\n",
       "    .dataframe thead th {\n",
       "        text-align: right;\n",
       "    }\n",
       "</style>\n",
       "<table border=\"1\" class=\"dataframe\">\n",
       "  <thead>\n",
       "    <tr style=\"text-align: right;\">\n",
       "      <th></th>\n",
       "      <th>label</th>\n",
       "      <th>text</th>\n",
       "    </tr>\n",
       "  </thead>\n",
       "  <tbody>\n",
       "    <tr>\n",
       "      <th>0</th>\n",
       "      <td>1</td>\n",
       "      <td>musicians groups tackle us visa regulations bl...</td>\n",
       "    </tr>\n",
       "    <tr>\n",
       "      <th>1</th>\n",
       "      <td>1</td>\n",
       "      <td>u three prestigious grammy awards hit vertigo ...</td>\n",
       "    </tr>\n",
       "    <tr>\n",
       "      <th>2</th>\n",
       "      <td>1</td>\n",
       "      <td>rock singer pete doherty involved fight bands ...</td>\n",
       "    </tr>\n",
       "    <tr>\n",
       "      <th>3</th>\n",
       "      <td>1</td>\n",
       "      <td>film adaptation lemony snicket novels topped n...</td>\n",
       "    </tr>\n",
       "    <tr>\n",
       "      <th>4</th>\n",
       "      <td>1</td>\n",
       "      <td>oceans twelve crime caper sequel starring geor...</td>\n",
       "    </tr>\n",
       "  </tbody>\n",
       "</table>\n",
       "</div>"
      ],
      "text/plain": [
       "   label                                               text\n",
       "0      1  musicians groups tackle us visa regulations bl...\n",
       "1      1  u three prestigious grammy awards hit vertigo ...\n",
       "2      1  rock singer pete doherty involved fight bands ...\n",
       "3      1  film adaptation lemony snicket novels topped n...\n",
       "4      1  oceans twelve crime caper sequel starring geor..."
      ]
     },
     "execution_count": 14,
     "metadata": {},
     "output_type": "execute_result"
    }
   ],
   "source": [
    "df['text'] = df['text'].apply(clean_text)\n",
    "df['text'] = df['text'].str.replace('\\d+', '')\n",
    "df.head()"
   ]
  },
  {
   "cell_type": "markdown",
   "metadata": {},
   "source": [
    "### Processing text for BERT model\n",
    "\n"
   ]
  },
  {
   "cell_type": "code",
   "execution_count": 208,
   "metadata": {
    "execution": {
     "iopub.status.busy": "2023-02-23T18:23:35.753573Z",
     "iopub.status.idle": "2023-02-23T18:23:35.754125Z"
    }
   },
   "outputs": [],
   "source": [
    "def get_split(text1):\n",
    "    l_total = []\n",
    "    l_parcial = []\n",
    "    if len(text1.split())//150 >0:\n",
    "        n = len(text1.split())//150\n",
    "    else: \n",
    "        n = 1\n",
    "    for w in range(n):\n",
    "        if w == 0:\n",
    "            try:\n",
    "                l_parcial = text1.split()[:200]\n",
    "                l_total.append(\" \".join(l_parcial))\n",
    "            except:\n",
    "                print(\"An exception occurred in w==\",w)\n",
    "        else:\n",
    "            try:\n",
    "                l_parcial = text1.split()[w*150:w*150 + 200]\n",
    "                l_total.append(\" \".join(l_parcial))\n",
    "            except:\n",
    "                print(\"An exception occurred w==\",w)\n",
    "    return l_total"
   ]
  },
  {
   "cell_type": "code",
   "execution_count": 16,
   "metadata": {
    "execution": {
     "iopub.status.busy": "2023-02-23T18:23:35.755235Z",
     "iopub.status.idle": "2023-02-23T18:23:35.755751Z"
    }
   },
   "outputs": [
    {
     "data": {
      "text/html": [
       "<div>\n",
       "<style scoped>\n",
       "    .dataframe tbody tr th:only-of-type {\n",
       "        vertical-align: middle;\n",
       "    }\n",
       "\n",
       "    .dataframe tbody tr th {\n",
       "        vertical-align: top;\n",
       "    }\n",
       "\n",
       "    .dataframe thead th {\n",
       "        text-align: right;\n",
       "    }\n",
       "</style>\n",
       "<table border=\"1\" class=\"dataframe\">\n",
       "  <thead>\n",
       "    <tr style=\"text-align: right;\">\n",
       "      <th></th>\n",
       "      <th>label</th>\n",
       "      <th>text</th>\n",
       "      <th>text_split</th>\n",
       "    </tr>\n",
       "  </thead>\n",
       "  <tbody>\n",
       "    <tr>\n",
       "      <th>0</th>\n",
       "      <td>1</td>\n",
       "      <td>musicians groups tackle us visa regulations bl...</td>\n",
       "      <td>[musicians groups tackle us visa regulations b...</td>\n",
       "    </tr>\n",
       "    <tr>\n",
       "      <th>1</th>\n",
       "      <td>1</td>\n",
       "      <td>u three prestigious grammy awards hit vertigo ...</td>\n",
       "      <td>[u three prestigious grammy awards hit vertigo...</td>\n",
       "    </tr>\n",
       "    <tr>\n",
       "      <th>2</th>\n",
       "      <td>1</td>\n",
       "      <td>rock singer pete doherty involved fight bands ...</td>\n",
       "      <td>[rock singer pete doherty involved fight bands...</td>\n",
       "    </tr>\n",
       "    <tr>\n",
       "      <th>3</th>\n",
       "      <td>1</td>\n",
       "      <td>film adaptation lemony snicket novels topped n...</td>\n",
       "      <td>[film adaptation lemony snicket novels topped ...</td>\n",
       "    </tr>\n",
       "    <tr>\n",
       "      <th>4</th>\n",
       "      <td>1</td>\n",
       "      <td>oceans twelve crime caper sequel starring geor...</td>\n",
       "      <td>[oceans twelve crime caper sequel starring geo...</td>\n",
       "    </tr>\n",
       "  </tbody>\n",
       "</table>\n",
       "</div>"
      ],
      "text/plain": [
       "   label                                               text  \\\n",
       "0      1  musicians groups tackle us visa regulations bl...   \n",
       "1      1  u three prestigious grammy awards hit vertigo ...   \n",
       "2      1  rock singer pete doherty involved fight bands ...   \n",
       "3      1  film adaptation lemony snicket novels topped n...   \n",
       "4      1  oceans twelve crime caper sequel starring geor...   \n",
       "\n",
       "                                          text_split  \n",
       "0  [musicians groups tackle us visa regulations b...  \n",
       "1  [u three prestigious grammy awards hit vertigo...  \n",
       "2  [rock singer pete doherty involved fight bands...  \n",
       "3  [film adaptation lemony snicket novels topped ...  \n",
       "4  [oceans twelve crime caper sequel starring geo...  "
      ]
     },
     "execution_count": 16,
     "metadata": {},
     "output_type": "execute_result"
    }
   ],
   "source": [
    "df['text_split'] = df['text'].apply(get_split)\n",
    "df.head()"
   ]
  },
  {
   "cell_type": "code",
   "execution_count": 17,
   "metadata": {},
   "outputs": [
    {
     "name": "stdout",
     "output_type": "stream",
     "text": [
      "['u three prestigious grammy awards hit vertigo stubbornly clinging status one biggest bands world popular groups history rock several things common music must inspired appeal across generations distinctive always groundbreaking success music compelling performers charismatic intelligent enough make good decisions keep feet ground also want want biggest band ever stop wanting beatles rolling stones still rem hold onto queen catsuit u spades keep churning new album dismantle atomic bomb comes years schoolfriends got together dublin years joshua tree cemented place alltime rock alist may lost edginess raw youthful force propelled top lost none desire ability craft songs albums vertigo first single new album went straight uk singles chart number one knocking eminem top spot giving th top hit challenge bigger bolder better make records whole world listen bono recently said drummer larry mullen jr echoed sentiments competitive want radio big singles dont want thought veteran band band done everything considerable powers ensure remain biggest band world according q magazine editor paul rees makes hugely determined formidable added equally determined push make music continues stand theyve constantly reinvented challenged perhaps alone rock band got better age key ingredient fact highly organised mr rees said everything right way group born mullen put', 'powers ensure remain biggest band world according q magazine editor paul rees makes hugely determined formidable added equally determined push make music continues stand theyve constantly reinvented challenged perhaps alone rock band got better age key ingredient fact highly organised mr rees said everything right way group born mullen put appeal bandmates high school notice board attracting fellow pupils paul hewson bono vocals adam clayton bass david evans edge guitar brother dick dick evans soon dropped fourpiece known feedback hype settling u talent contest got noticed manager paul mcguinness brilliant coarse mcguinness recently said way exactly badly struggled attract record company attention later described pretty damn average strange eerie scouts saw live released two irelandonly singles topped national charts leading deal island debut album boy stadiumfilling anthemic sound us aim start third album war saw make breakthrough sides atlantic going number one uk us songs like sunday bloody sunday new years day brought success image political spiritual band bono rejected cliche stage performances included flagwaving speakerclimbing drumthrowing earned reputation electric performer appearance s live aid widely seen sealing global stardom joshua tree broke sales records saw band reach height powers hits including streets name still havent found im looking without']\n"
     ]
    },
    {
     "data": {
      "text/plain": [
       "1495"
      ]
     },
     "execution_count": 17,
     "metadata": {},
     "output_type": "execute_result"
    }
   ],
   "source": [
    "print(df['text_split'][1])\n",
    "len([a for a in df['text'] if len(a.split())>150])"
   ]
  },
  {
   "cell_type": "code",
   "execution_count": null,
   "metadata": {},
   "outputs": [],
   "source": []
  },
  {
   "cell_type": "markdown",
   "metadata": {},
   "source": [
    "Setting output directory for BERT"
   ]
  },
  {
   "cell_type": "code",
   "execution_count": 18,
   "metadata": {
    "execution": {
     "iopub.status.busy": "2023-02-23T18:23:35.756794Z",
     "iopub.status.idle": "2023-02-23T18:23:35.757372Z"
    }
   },
   "outputs": [
    {
     "name": "stdout",
     "output_type": "stream",
     "text": [
      "***** Model output directory: ./bert_news_category *****\n"
     ]
    }
   ],
   "source": [
    "# Set the output directory for saving model file\n",
    "OUTPUT_DIR = './bert_news_category'\n",
    "\n",
    "#@markdown Whether or not to clear/delete the directory and create a new one\n",
    "DO_DELETE = True #@param {type:\"boolean\"}\n",
    "\n",
    "if DO_DELETE:\n",
    "    try:\n",
    "        tf.io.gfile.DeleteRecursively(OUTPUT_DIR)\n",
    "#         tf.compat.v1.gfile.DeleteRecursively(OUTPUT_DIR)\n",
    "    except:\n",
    "        pass\n",
    "\n",
    "tf.io.gfile.makedirs(OUTPUT_DIR)\n",
    "print('***** Model output directory: {} *****'.format(OUTPUT_DIR))"
   ]
  },
  {
   "cell_type": "markdown",
   "metadata": {},
   "source": [
    "### Split into 80% training and 20% validation"
   ]
  },
  {
   "cell_type": "code",
   "execution_count": 19,
   "metadata": {
    "execution": {
     "iopub.status.busy": "2023-02-23T18:23:35.758318Z",
     "iopub.status.idle": "2023-02-23T18:23:35.758837Z"
    }
   },
   "outputs": [
    {
     "data": {
      "text/html": [
       "<div>\n",
       "<style scoped>\n",
       "    .dataframe tbody tr th:only-of-type {\n",
       "        vertical-align: middle;\n",
       "    }\n",
       "\n",
       "    .dataframe tbody tr th {\n",
       "        vertical-align: top;\n",
       "    }\n",
       "\n",
       "    .dataframe thead th {\n",
       "        text-align: right;\n",
       "    }\n",
       "</style>\n",
       "<table border=\"1\" class=\"dataframe\">\n",
       "  <thead>\n",
       "    <tr style=\"text-align: right;\">\n",
       "      <th></th>\n",
       "      <th>label</th>\n",
       "      <th>text</th>\n",
       "      <th>text_split</th>\n",
       "    </tr>\n",
       "  </thead>\n",
       "  <tbody>\n",
       "    <tr>\n",
       "      <th>0</th>\n",
       "      <td>1</td>\n",
       "      <td>french film long engagement received  nominati...</td>\n",
       "      <td>[french film long engagement received nominati...</td>\n",
       "    </tr>\n",
       "    <tr>\n",
       "      <th>1</th>\n",
       "      <td>0</td>\n",
       "      <td>russias renationalisation energy industry need...</td>\n",
       "      <td>[russias renationalisation energy industry nee...</td>\n",
       "    </tr>\n",
       "  </tbody>\n",
       "</table>\n",
       "</div>"
      ],
      "text/plain": [
       "   label                                               text  \\\n",
       "0      1  french film long engagement received  nominati...   \n",
       "1      0  russias renationalisation energy industry need...   \n",
       "\n",
       "                                          text_split  \n",
       "0  [french film long engagement received nominati...  \n",
       "1  [russias renationalisation energy industry nee...  "
      ]
     },
     "execution_count": 19,
     "metadata": {},
     "output_type": "execute_result"
    }
   ],
   "source": [
    "train, val = train_test_split(df, test_size=0.2, random_state=35)\n",
    "train.reset_index(drop=True, inplace=True)\n",
    "train.head(2)"
   ]
  },
  {
   "cell_type": "code",
   "execution_count": 20,
   "metadata": {
    "execution": {
     "iopub.status.busy": "2023-02-23T18:23:35.760684Z",
     "iopub.status.idle": "2023-02-23T18:23:35.761354Z"
    }
   },
   "outputs": [
    {
     "data": {
      "text/plain": [
       "[0, 1, 2, 3, 4]"
      ]
     },
     "execution_count": 20,
     "metadata": {},
     "output_type": "execute_result"
    }
   ],
   "source": [
    "# Get labels\n",
    "label_list = [x for x in np.unique(train.label)]\n",
    "label_list"
   ]
  },
  {
   "cell_type": "code",
   "execution_count": 21,
   "metadata": {
    "execution": {
     "iopub.status.busy": "2023-02-23T18:23:35.762125Z",
     "iopub.status.idle": "2023-02-23T18:23:35.762489Z"
    }
   },
   "outputs": [
    {
     "data": {
      "text/html": [
       "<div>\n",
       "<style scoped>\n",
       "    .dataframe tbody tr th:only-of-type {\n",
       "        vertical-align: middle;\n",
       "    }\n",
       "\n",
       "    .dataframe tbody tr th {\n",
       "        vertical-align: top;\n",
       "    }\n",
       "\n",
       "    .dataframe thead th {\n",
       "        text-align: right;\n",
       "    }\n",
       "</style>\n",
       "<table border=\"1\" class=\"dataframe\">\n",
       "  <thead>\n",
       "    <tr style=\"text-align: right;\">\n",
       "      <th></th>\n",
       "      <th>label</th>\n",
       "      <th>text</th>\n",
       "      <th>text_split</th>\n",
       "    </tr>\n",
       "  </thead>\n",
       "  <tbody>\n",
       "    <tr>\n",
       "      <th>0</th>\n",
       "      <td>0</td>\n",
       "      <td>italian prime minister silvio berlusconi unvei...</td>\n",
       "      <td>[italian prime minister silvio berlusconi unve...</td>\n",
       "    </tr>\n",
       "    <tr>\n",
       "      <th>1</th>\n",
       "      <td>3</td>\n",
       "      <td>mexican outfit red sharks veracruz hope sign j...</td>\n",
       "      <td>[mexican outfit red sharks veracruz hope sign ...</td>\n",
       "    </tr>\n",
       "  </tbody>\n",
       "</table>\n",
       "</div>"
      ],
      "text/plain": [
       "   label                                               text  \\\n",
       "0      0  italian prime minister silvio berlusconi unvei...   \n",
       "1      3  mexican outfit red sharks veracruz hope sign j...   \n",
       "\n",
       "                                          text_split  \n",
       "0  [italian prime minister silvio berlusconi unve...  \n",
       "1  [mexican outfit red sharks veracruz hope sign ...  "
      ]
     },
     "execution_count": 21,
     "metadata": {},
     "output_type": "execute_result"
    }
   ],
   "source": [
    "val.reset_index(drop=True, inplace=True)\n",
    "val.head(2)"
   ]
  },
  {
   "cell_type": "markdown",
   "metadata": {},
   "source": [
    "### Check shape of train and validation data"
   ]
  },
  {
   "cell_type": "code",
   "execution_count": 22,
   "metadata": {
    "execution": {
     "iopub.status.busy": "2023-02-23T18:23:35.763180Z",
     "iopub.status.idle": "2023-02-23T18:23:35.763546Z"
    }
   },
   "outputs": [
    {
     "data": {
      "text/plain": [
       "((445, 3), (1780, 3))"
      ]
     },
     "execution_count": 22,
     "metadata": {},
     "output_type": "execute_result"
    }
   ],
   "source": [
    "val.shape, train.shape"
   ]
  },
  {
   "cell_type": "code",
   "execution_count": 23,
   "metadata": {
    "execution": {
     "iopub.status.busy": "2023-02-23T18:23:35.764616Z",
     "iopub.status.idle": "2023-02-23T18:23:35.764978Z"
    }
   },
   "outputs": [
    {
     "data": {
      "text/plain": [
       "(2168, 2168, 2168)"
      ]
     },
     "execution_count": 23,
     "metadata": {},
     "output_type": "execute_result"
    }
   ],
   "source": [
    "train_l = []\n",
    "label_l = []\n",
    "index_l =[]\n",
    "\n",
    "for idx,row in train.iterrows():\n",
    "    for l in row['text_split']:\n",
    "        train_l.append(l)\n",
    "        label_l.append(row['label'])\n",
    "        index_l.append(idx)\n",
    "    \n",
    "len(train_l), len(label_l), len(index_l)"
   ]
  },
  {
   "cell_type": "code",
   "execution_count": 24,
   "metadata": {},
   "outputs": [],
   "source": [
    "# p=0\n",
    "# for idx,row in train.iterrows():\n",
    "#     for l in row['text_split']:        \n",
    "#         if len(row['text_split'])>1:\n",
    "#             p=p+1\n",
    "# print(p)"
   ]
  },
  {
   "cell_type": "code",
   "execution_count": 25,
   "metadata": {},
   "outputs": [],
   "source": [
    "# print(train_l[:5],\"\\n\", label_l[:5],\"\\n\", index_l[:5])"
   ]
  },
  {
   "cell_type": "code",
   "execution_count": 26,
   "metadata": {
    "execution": {
     "iopub.status.busy": "2023-02-23T18:23:35.765705Z",
     "iopub.status.idle": "2023-02-23T18:23:35.766058Z"
    }
   },
   "outputs": [
    {
     "data": {
      "text/plain": [
       "(546, 546, 546)"
      ]
     },
     "execution_count": 26,
     "metadata": {},
     "output_type": "execute_result"
    }
   ],
   "source": [
    "val_l = []\n",
    "val_label_l = []\n",
    "val_index_l = []\n",
    "\n",
    "for idx,row in val.iterrows():\n",
    "    for l in row['text_split']:\n",
    "        val_l.append(l)\n",
    "        val_label_l.append(row['label'])\n",
    "        val_index_l.append(idx)\n",
    "            \n",
    "len(val_l), len(val_label_l), len(val_index_l)"
   ]
  },
  {
   "cell_type": "code",
   "execution_count": 27,
   "metadata": {},
   "outputs": [],
   "source": [
    "# p=0\n",
    "# for idx,row in val.iterrows():\n",
    "#     for l in row['text_split']:        \n",
    "#         if len(row['text_split'])>1:\n",
    "#             p=p+1\n",
    "# print(p)"
   ]
  },
  {
   "cell_type": "markdown",
   "metadata": {},
   "source": [
    "### Getting train and validation set as dataframe"
   ]
  },
  {
   "cell_type": "code",
   "execution_count": 28,
   "metadata": {
    "execution": {
     "iopub.status.busy": "2023-02-23T18:23:35.766848Z",
     "iopub.status.idle": "2023-02-23T18:23:35.767224Z"
    }
   },
   "outputs": [
    {
     "data": {
      "text/html": [
       "<div>\n",
       "<style scoped>\n",
       "    .dataframe tbody tr th:only-of-type {\n",
       "        vertical-align: middle;\n",
       "    }\n",
       "\n",
       "    .dataframe tbody tr th {\n",
       "        vertical-align: top;\n",
       "    }\n",
       "\n",
       "    .dataframe thead th {\n",
       "        text-align: right;\n",
       "    }\n",
       "</style>\n",
       "<table border=\"1\" class=\"dataframe\">\n",
       "  <thead>\n",
       "    <tr style=\"text-align: right;\">\n",
       "      <th></th>\n",
       "      <th>text</th>\n",
       "      <th>label</th>\n",
       "    </tr>\n",
       "  </thead>\n",
       "  <tbody>\n",
       "    <tr>\n",
       "      <th>0</th>\n",
       "      <td>french film long engagement received nominatio...</td>\n",
       "      <td>1</td>\n",
       "    </tr>\n",
       "    <tr>\n",
       "      <th>1</th>\n",
       "      <td>russias renationalisation energy industry need...</td>\n",
       "      <td>0</td>\n",
       "    </tr>\n",
       "    <tr>\n",
       "      <th>2</th>\n",
       "      <td>lowbudget horror film produced evil dead direc...</td>\n",
       "      <td>1</td>\n",
       "    </tr>\n",
       "    <tr>\n",
       "      <th>3</th>\n",
       "      <td>users warned windows virus poses hugely popula...</td>\n",
       "      <td>4</td>\n",
       "    </tr>\n",
       "    <tr>\n",
       "      <th>4</th>\n",
       "      <td>news corp media company controlled australian ...</td>\n",
       "      <td>0</td>\n",
       "    </tr>\n",
       "  </tbody>\n",
       "</table>\n",
       "</div>"
      ],
      "text/plain": [
       "                                                text  label\n",
       "0  french film long engagement received nominatio...      1\n",
       "1  russias renationalisation energy industry need...      0\n",
       "2  lowbudget horror film produced evil dead direc...      1\n",
       "3  users warned windows virus poses hugely popula...      4\n",
       "4  news corp media company controlled australian ...      0"
      ]
     },
     "execution_count": 28,
     "metadata": {},
     "output_type": "execute_result"
    }
   ],
   "source": [
    "train_df = pd.DataFrame({DATA_COLUMN:train_l, LABEL_COLUMN:label_l})\n",
    "train_df.head()"
   ]
  },
  {
   "cell_type": "code",
   "execution_count": 29,
   "metadata": {
    "execution": {
     "iopub.status.busy": "2023-02-23T18:23:35.768018Z",
     "iopub.status.idle": "2023-02-23T18:23:35.768377Z"
    }
   },
   "outputs": [
    {
     "data": {
      "text/html": [
       "<div>\n",
       "<style scoped>\n",
       "    .dataframe tbody tr th:only-of-type {\n",
       "        vertical-align: middle;\n",
       "    }\n",
       "\n",
       "    .dataframe tbody tr th {\n",
       "        vertical-align: top;\n",
       "    }\n",
       "\n",
       "    .dataframe thead th {\n",
       "        text-align: right;\n",
       "    }\n",
       "</style>\n",
       "<table border=\"1\" class=\"dataframe\">\n",
       "  <thead>\n",
       "    <tr style=\"text-align: right;\">\n",
       "      <th></th>\n",
       "      <th>text</th>\n",
       "      <th>label</th>\n",
       "    </tr>\n",
       "  </thead>\n",
       "  <tbody>\n",
       "    <tr>\n",
       "      <th>0</th>\n",
       "      <td>italian prime minister silvio berlusconi unvei...</td>\n",
       "      <td>0</td>\n",
       "    </tr>\n",
       "    <tr>\n",
       "      <th>1</th>\n",
       "      <td>mexican outfit red sharks veracruz hope sign j...</td>\n",
       "      <td>3</td>\n",
       "    </tr>\n",
       "    <tr>\n",
       "      <th>2</th>\n",
       "      <td>french consumers increased spending january fi...</td>\n",
       "      <td>0</td>\n",
       "    </tr>\n",
       "    <tr>\n",
       "      <th>3</th>\n",
       "      <td>special adaptor helps people hand tremors cont...</td>\n",
       "      <td>4</td>\n",
       "    </tr>\n",
       "    <tr>\n",
       "      <th>4</th>\n",
       "      <td>arsene wenger stepped feud sir alex ferguson c...</td>\n",
       "      <td>3</td>\n",
       "    </tr>\n",
       "  </tbody>\n",
       "</table>\n",
       "</div>"
      ],
      "text/plain": [
       "                                                text  label\n",
       "0  italian prime minister silvio berlusconi unvei...      0\n",
       "1  mexican outfit red sharks veracruz hope sign j...      3\n",
       "2  french consumers increased spending january fi...      0\n",
       "3  special adaptor helps people hand tremors cont...      4\n",
       "4  arsene wenger stepped feud sir alex ferguson c...      3"
      ]
     },
     "execution_count": 29,
     "metadata": {},
     "output_type": "execute_result"
    }
   ],
   "source": [
    "val_df = pd.DataFrame({DATA_COLUMN:val_l, LABEL_COLUMN:val_label_l})\n",
    "val_df.head()"
   ]
  },
  {
   "cell_type": "code",
   "execution_count": 30,
   "metadata": {
    "execution": {
     "iopub.status.busy": "2023-02-23T18:23:35.769084Z",
     "iopub.status.idle": "2023-02-23T18:23:35.769478Z"
    }
   },
   "outputs": [],
   "source": [
    "# X_train, X_val, y_train, y_val = train_test_split(df['text'], df['label'], test_size=0.20, random_state=42)\n",
    "# X_val"
   ]
  },
  {
   "cell_type": "markdown",
   "metadata": {},
   "source": [
    "### Fine tuning the BERT model\n",
    "\n",
    "The BERT model can be applied for any kind of classification task by fine-tuning it."
   ]
  },
  {
   "cell_type": "markdown",
   "metadata": {},
   "source": [
    "#### 1. Preparing the input data, i.e create **InputExample** using the BERT’s constructor."
   ]
  },
  {
   "cell_type": "code",
   "execution_count": 31,
   "metadata": {
    "execution": {
     "iopub.status.busy": "2023-02-23T18:23:35.770434Z",
     "iopub.status.idle": "2023-02-23T18:23:35.770775Z"
    }
   },
   "outputs": [],
   "source": [
    "# Use the InputExample class from BERT's run_classifier code to create examples from the data\n",
    "train_InputExamples = train.apply(lambda x: run_classifier.InputExample(guid=None, # Globally unique ID for bookkeeping, unused in this example\n",
    "                                                                   text_a = x[DATA_COLUMN], \n",
    "                                                                   text_b = None, \n",
    "                                                                   label = x[LABEL_COLUMN]), axis = 1)\n",
    "\n",
    "val_InputExamples = val.apply(lambda x: run_classifier.InputExample(guid=None, \n",
    "                                                                   text_a = x[DATA_COLUMN], \n",
    "                                                                   text_b = None, \n",
    "                                                                   label = x[LABEL_COLUMN]), axis = 1)"
   ]
  },
  {
   "cell_type": "code",
   "execution_count": 32,
   "metadata": {
    "execution": {
     "iopub.status.busy": "2023-02-23T18:23:35.771493Z",
     "iopub.status.idle": "2023-02-23T18:23:35.771826Z"
    }
   },
   "outputs": [
    {
     "data": {
      "text/plain": [
       "0       <run_classifier.InputExample object at 0x28566...\n",
       "1       <run_classifier.InputExample object at 0x28566...\n",
       "2       <run_classifier.InputExample object at 0x28566...\n",
       "3       <run_classifier.InputExample object at 0x28566...\n",
       "4       <run_classifier.InputExample object at 0x28566...\n",
       "                              ...                        \n",
       "1775    <run_classifier.InputExample object at 0x2856d...\n",
       "1776    <run_classifier.InputExample object at 0x2856d...\n",
       "1777    <run_classifier.InputExample object at 0x2856d...\n",
       "1778    <run_classifier.InputExample object at 0x2856d...\n",
       "1779    <run_classifier.InputExample object at 0x2856d...\n",
       "Length: 1780, dtype: object"
      ]
     },
     "execution_count": 32,
     "metadata": {},
     "output_type": "execute_result"
    }
   ],
   "source": [
    "train_InputExamples\n"
   ]
  },
  {
   "cell_type": "code",
   "execution_count": 33,
   "metadata": {
    "execution": {
     "iopub.status.busy": "2023-02-23T18:23:35.772462Z",
     "iopub.status.idle": "2023-02-23T18:23:35.772790Z"
    }
   },
   "outputs": [
    {
     "name": "stdout",
     "output_type": "stream",
     "text": [
      "Row 0 - guid of training set :  None\n",
      "\n",
      "__________\n",
      "Row 0 - text_a of training set :  french film long engagement received  nominations frances cesar film awards despite recent ruling french enough world war romantic drama starring audrey tautou recently ruled american paris court partially backed warner bros cesar organisers modified rules allow film compete film directed jeanpierre jeunet received best actress picture director nominations last november court judged film american compete french film festivals two associations french producers challenged jeunets right french government subsidies warner bros backer ruling meant movie filmed france used french actors technicians eligible compete french prizes alain terzian president cesar organisers academie des arts et techniques du cinema said changes eligibility rules allow films french expression made three months prior court decision films best film category include police drama  quai des orfevres arnaud desplechins kings queen abdellatif kechiches lesquive frances number one film  boxoffice chorus best actors daniel auteuil  mathieu amalric kings queen gerard jugnot chorus philippe torreton lequipier benoit poelvoorde podium tautou compete maggie cheung emmanuelle devos yolande moreau karin viard best actress michael moores fahrenheit   motorcycle diaries lost translation eternal sunshine spotless mind  grams vying best foreign film prize awards ceremony held  february year smith star robot independence day men black given honorary cesar along french singer actor jacques dutronc\n",
      "\n",
      "__________\n",
      "Row 0 - text_b of training set :  None\n",
      "\n",
      "__________\n",
      "Row 0 - label of training set :  1\n"
     ]
    }
   ],
   "source": [
    "print(\"Row 0 - guid of training set : \", train_InputExamples.iloc[0].guid)\n",
    "print(\"\\n__________\\nRow 0 - text_a of training set : \", train_InputExamples.iloc[0].text_a)\n",
    "print(\"\\n__________\\nRow 0 - text_b of training set : \", train_InputExamples.iloc[0].text_b)\n",
    "print(\"\\n__________\\nRow 0 - label of training set : \", train_InputExamples.iloc[0].label)"
   ]
  },
  {
   "cell_type": "code",
   "execution_count": 34,
   "metadata": {
    "execution": {
     "iopub.status.busy": "2023-02-23T18:23:35.773497Z",
     "iopub.status.idle": "2023-02-23T18:23:35.773824Z"
    }
   },
   "outputs": [
    {
     "name": "stdout",
     "output_type": "stream",
     "text": [
      "INFO:tensorflow:Saver not created because there are no variables in the graph to restore\n"
     ]
    },
    {
     "name": "stderr",
     "output_type": "stream",
     "text": [
      "INFO:tensorflow:Saver not created because there are no variables in the graph to restore\n"
     ]
    },
    {
     "name": "stdout",
     "output_type": "stream",
     "text": [
      "Metal device set to: Apple M1\n"
     ]
    },
    {
     "name": "stderr",
     "output_type": "stream",
     "text": [
      "2023-03-12 15:14:00.703140: I tensorflow/core/common_runtime/pluggable_device/pluggable_device_factory.cc:305] Could not identify NUMA node of platform GPU ID 0, defaulting to 0. Your kernel may not have been built with NUMA support.\n",
      "2023-03-12 15:14:00.703876: I tensorflow/core/common_runtime/pluggable_device/pluggable_device_factory.cc:271] Created TensorFlow device (/job:localhost/replica:0/task:0/device:GPU:0 with 0 MB memory) -> physical PluggableDevice (device: 0, name: METAL, pci bus id: <undefined>)\n",
      "2023-03-12 15:14:00.731903: I tensorflow/compiler/mlir/mlir_graph_optimization_pass.cc:354] MLIR V1 optimization pass is not enabled\n",
      "2023-03-12 15:14:00.768269: W tensorflow/core/platform/profile_utils/cpu_utils.cc:128] Failed to get CPU frequency: 0 Hz\n",
      "2023-03-12 15:14:00.775216: I tensorflow/core/grappler/optimizers/custom_graph_optimizer_registry.cc:113] Plugin optimizer for device_type GPU is enabled.\n"
     ]
    }
   ],
   "source": [
    "BERT_MODEL_HUB = \"https://tfhub.dev/google/bert_uncased_L-12_H-768_A-12/1\"\n",
    "\n",
    "def create_tokenizer_from_hub_module():\n",
    "  \"\"\"Get the vocab file and casing info from the Hub module.\"\"\"\n",
    "  with tf.Graph().as_default():\n",
    "    bert_module = hub.Module(BERT_MODEL_HUB)\n",
    "    tokenization_info = bert_module(signature=\"tokenization_info\", as_dict=True)\n",
    "    with tf.Session() as sess:\n",
    "#     with tf.compat.v1.Session() as sess:\n",
    "        vocab_file, do_lower_case = sess.run([tokenization_info[\"vocab_file\"],\n",
    "                                            tokenization_info[\"do_lower_case\"]])\n",
    "      \n",
    "    return tokenization.FullTokenizer(\n",
    "      vocab_file=vocab_file, do_lower_case=do_lower_case)\n",
    "\n",
    "tokenizer = create_tokenizer_from_hub_module()"
   ]
  },
  {
   "cell_type": "code",
   "execution_count": 35,
   "metadata": {
    "execution": {
     "iopub.status.busy": "2023-02-23T18:23:35.774448Z",
     "iopub.status.idle": "2023-02-23T18:23:35.774777Z"
    }
   },
   "outputs": [],
   "source": [
    "# len(tokenizer.vocab.keys())"
   ]
  },
  {
   "cell_type": "code",
   "execution_count": 36,
   "metadata": {},
   "outputs": [],
   "source": [
    "# print(tokenizer.vocab[\"##w\"])"
   ]
  },
  {
   "cell_type": "code",
   "execution_count": 37,
   "metadata": {
    "execution": {
     "iopub.status.busy": "2023-02-23T18:23:35.775687Z",
     "iopub.status.idle": "2023-02-23T18:23:35.776209Z"
    }
   },
   "outputs": [
    {
     "name": "stdout",
     "output_type": "stream",
     "text": [
      "['french', 'film', 'long', 'engagement', 'received', 'nominations', 'frances', 'cesar', 'film', 'awards', 'despite', 'recent', 'ruling', 'french', 'enough', 'world', 'war', 'romantic', 'drama', 'starring', 'audrey', 'taut', '##ou', 'recently', 'ruled', 'american', 'paris', 'court', 'partially', 'backed', 'warner', 'bros', 'cesar', 'organise', '##rs', 'modified', 'rules', 'allow', 'film', 'compete', 'film', 'directed', 'jean', '##pie', '##rre', 'je', '##une', '##t', 'received', 'best', 'actress', 'picture', 'director', 'nominations', 'last', 'november', 'court', 'judged', 'film', 'american', 'compete', 'french', 'film', 'festivals', 'two', 'associations', 'french', 'producers', 'challenged', 'je', '##une', '##ts', 'right', 'french', 'government', 'subsidies', 'warner', 'bros', 'back', '##er', 'ruling', 'meant', 'movie', 'filmed', 'france', 'used', 'french', 'actors', 'technicians', 'eligible', 'compete', 'french', 'prizes', 'alain', 'ter', '##zia', '##n', 'president', 'cesar', 'organise', '##rs', 'academie', 'des', 'arts', 'et', 'techniques', 'du', 'cinema', 'said', 'changes', 'eligibility', 'rules', 'allow', 'films', 'french', 'expression', 'made', 'three', 'months', 'prior', 'court', 'decision', 'films', 'best', 'film', 'category', 'include', 'police', 'drama', 'qu', '##ai', 'des', 'or', '##fe', '##vres', 'ar', '##naud', 'des', '##ple', '##chin', '##s', 'kings', 'queen', 'abd', '##ella', '##ti', '##f', 'ke', '##chi', '##ches', 'les', '##qui', '##ve', 'frances', 'number', 'one', 'film', 'box', '##off', '##ice', 'chorus', 'best', 'actors', 'daniel', 'au', '##te', '##uil', 'math', '##ieu', 'ama', '##lr', '##ic', 'kings', 'queen', 'gerard', 'jug', '##not', 'chorus', 'philippe', 'torre', '##ton', 'le', '##qui', '##pie', '##r', 'benoit', 'poe', '##l', '##vo', '##ord', '##e', 'podium', 'taut', '##ou', 'compete', 'maggie', 'cheung', 'emmanuel', '##le', 'dev', '##os', 'yo', '##land', '##e', 'more', '##au', 'karin', 'via', '##rd', 'best', 'actress', 'michael', 'moore', '##s', 'fa', '##hre', '##nh', '##eit', 'motorcycle', 'diaries', 'lost', 'translation', 'eternal', 'sunshine', 'spot', '##less', 'mind', 'grams', 'v', '##ying', 'best', 'foreign', 'film', 'prize', 'awards', 'ceremony', 'held', 'february', 'year', 'smith', 'star', 'robot', 'independence', 'day', 'men', 'black', 'given', 'honorary', 'cesar', 'along', 'french', 'singer', 'actor', 'jacques', 'du', '##tron', '##c']\n"
     ]
    }
   ],
   "source": [
    "#Here is what the tokenised sample of the first training set observation looks like\n",
    "print(tokenizer.tokenize(train_InputExamples.iloc[0].text_a))"
   ]
  },
  {
   "cell_type": "markdown",
   "metadata": {},
   "source": [
    "#### 2. Converting the train and validation features to InputFeatures that BERT understands."
   ]
  },
  {
   "cell_type": "code",
   "execution_count": 38,
   "metadata": {
    "execution": {
     "iopub.status.busy": "2023-02-23T18:23:35.776965Z",
     "iopub.status.idle": "2023-02-23T18:23:35.777317Z"
    }
   },
   "outputs": [
    {
     "name": "stdout",
     "output_type": "stream",
     "text": [
      "INFO:tensorflow:Writing example 0 of 1780\n"
     ]
    },
    {
     "name": "stderr",
     "output_type": "stream",
     "text": [
      "INFO:tensorflow:Writing example 0 of 1780\n"
     ]
    },
    {
     "name": "stdout",
     "output_type": "stream",
     "text": [
      "INFO:tensorflow:*** Example ***\n"
     ]
    },
    {
     "name": "stderr",
     "output_type": "stream",
     "text": [
      "INFO:tensorflow:*** Example ***\n"
     ]
    },
    {
     "name": "stdout",
     "output_type": "stream",
     "text": [
      "INFO:tensorflow:guid: None\n"
     ]
    },
    {
     "name": "stderr",
     "output_type": "stream",
     "text": [
      "INFO:tensorflow:guid: None\n"
     ]
    },
    {
     "name": "stdout",
     "output_type": "stream",
     "text": [
      "INFO:tensorflow:tokens: [CLS] french film long engagement received nominations frances cesar film awards despite recent ruling french enough world war romantic drama starring audrey taut ##ou recently ruled american paris court partially backed warner bros cesar organise ##rs modified rules allow film compete film directed jean ##pie ##rre je ##une ##t received best actress picture director nominations last november court judged film american compete french film festivals two associations french producers challenged je ##une ##ts right french government subsidies warner bros back ##er ruling meant movie filmed france used french actors technicians eligible compete french prizes alain ter ##zia ##n president cesar organise ##rs academie des arts et techniques du cinema said changes eligibility rules allow films french expression made three months prior court decision films best film category include police drama qu ##ai des or ##fe ##vres ar ##naud des ##ple ##chin ##s kings queen abd ##ella ##ti ##f ke ##chi ##ches les ##qui ##ve frances number one film box ##off ##ice chorus best actors daniel au ##te ##uil math ##ieu ama ##lr ##ic kings queen gerard jug ##not chorus philippe torre ##ton le ##qui ##pie ##r benoit poe ##l ##vo ##ord ##e podium taut ##ou compete maggie cheung emmanuel [SEP]\n"
     ]
    },
    {
     "name": "stderr",
     "output_type": "stream",
     "text": [
      "INFO:tensorflow:tokens: [CLS] french film long engagement received nominations frances cesar film awards despite recent ruling french enough world war romantic drama starring audrey taut ##ou recently ruled american paris court partially backed warner bros cesar organise ##rs modified rules allow film compete film directed jean ##pie ##rre je ##une ##t received best actress picture director nominations last november court judged film american compete french film festivals two associations french producers challenged je ##une ##ts right french government subsidies warner bros back ##er ruling meant movie filmed france used french actors technicians eligible compete french prizes alain ter ##zia ##n president cesar organise ##rs academie des arts et techniques du cinema said changes eligibility rules allow films french expression made three months prior court decision films best film category include police drama qu ##ai des or ##fe ##vres ar ##naud des ##ple ##chin ##s kings queen abd ##ella ##ti ##f ke ##chi ##ches les ##qui ##ve frances number one film box ##off ##ice chorus best actors daniel au ##te ##uil math ##ieu ama ##lr ##ic kings queen gerard jug ##not chorus philippe torre ##ton le ##qui ##pie ##r benoit poe ##l ##vo ##ord ##e podium taut ##ou compete maggie cheung emmanuel [SEP]\n"
     ]
    },
    {
     "name": "stdout",
     "output_type": "stream",
     "text": [
      "INFO:tensorflow:input_ids: 101 2413 2143 2146 8147 2363 9930 10360 14923 2143 2982 2750 3522 6996 2413 2438 2088 2162 6298 3689 4626 14166 21642 7140 3728 5451 2137 3000 2457 6822 6153 6654 10243 14923 22933 2869 6310 3513 3499 2143 5566 2143 2856 3744 14756 14343 15333 9816 2102 2363 2190 3883 3861 2472 9930 2197 2281 2457 13224 2143 2137 5566 2413 2143 7519 2048 8924 2413 6443 8315 15333 9816 3215 2157 2413 2231 21762 6654 10243 2067 2121 6996 3214 3185 6361 2605 2109 2413 5889 20202 7792 5566 2413 11580 15654 28774 12871 2078 2343 14923 22933 2869 19669 4078 2840 3802 5461 4241 5988 2056 3431 11395 3513 3499 3152 2413 3670 2081 2093 2706 3188 2457 3247 3152 2190 2143 4696 2421 2610 3689 24209 4886 4078 2030 7959 24790 12098 26160 4078 10814 17231 2015 5465 3035 19935 8411 3775 2546 17710 5428 8376 4649 15549 3726 10360 2193 2028 2143 3482 7245 6610 7165 2190 5889 3817 8740 2618 19231 8785 17301 25933 20974 2594 5465 3035 11063 26536 17048 7165 11169 22047 2669 3393 15549 14756 2099 21721 18922 2140 6767 8551 2063 14502 21642 7140 5566 8538 22632 14459 102\n"
     ]
    },
    {
     "name": "stderr",
     "output_type": "stream",
     "text": [
      "INFO:tensorflow:input_ids: 101 2413 2143 2146 8147 2363 9930 10360 14923 2143 2982 2750 3522 6996 2413 2438 2088 2162 6298 3689 4626 14166 21642 7140 3728 5451 2137 3000 2457 6822 6153 6654 10243 14923 22933 2869 6310 3513 3499 2143 5566 2143 2856 3744 14756 14343 15333 9816 2102 2363 2190 3883 3861 2472 9930 2197 2281 2457 13224 2143 2137 5566 2413 2143 7519 2048 8924 2413 6443 8315 15333 9816 3215 2157 2413 2231 21762 6654 10243 2067 2121 6996 3214 3185 6361 2605 2109 2413 5889 20202 7792 5566 2413 11580 15654 28774 12871 2078 2343 14923 22933 2869 19669 4078 2840 3802 5461 4241 5988 2056 3431 11395 3513 3499 3152 2413 3670 2081 2093 2706 3188 2457 3247 3152 2190 2143 4696 2421 2610 3689 24209 4886 4078 2030 7959 24790 12098 26160 4078 10814 17231 2015 5465 3035 19935 8411 3775 2546 17710 5428 8376 4649 15549 3726 10360 2193 2028 2143 3482 7245 6610 7165 2190 5889 3817 8740 2618 19231 8785 17301 25933 20974 2594 5465 3035 11063 26536 17048 7165 11169 22047 2669 3393 15549 14756 2099 21721 18922 2140 6767 8551 2063 14502 21642 7140 5566 8538 22632 14459 102\n"
     ]
    },
    {
     "name": "stdout",
     "output_type": "stream",
     "text": [
      "INFO:tensorflow:input_mask: 1 1 1 1 1 1 1 1 1 1 1 1 1 1 1 1 1 1 1 1 1 1 1 1 1 1 1 1 1 1 1 1 1 1 1 1 1 1 1 1 1 1 1 1 1 1 1 1 1 1 1 1 1 1 1 1 1 1 1 1 1 1 1 1 1 1 1 1 1 1 1 1 1 1 1 1 1 1 1 1 1 1 1 1 1 1 1 1 1 1 1 1 1 1 1 1 1 1 1 1 1 1 1 1 1 1 1 1 1 1 1 1 1 1 1 1 1 1 1 1 1 1 1 1 1 1 1 1 1 1 1 1 1 1 1 1 1 1 1 1 1 1 1 1 1 1 1 1 1 1 1 1 1 1 1 1 1 1 1 1 1 1 1 1 1 1 1 1 1 1 1 1 1 1 1 1 1 1 1 1 1 1 1 1 1 1 1 1 1 1 1 1 1 1 1 1 1 1 1 1\n"
     ]
    },
    {
     "name": "stderr",
     "output_type": "stream",
     "text": [
      "INFO:tensorflow:input_mask: 1 1 1 1 1 1 1 1 1 1 1 1 1 1 1 1 1 1 1 1 1 1 1 1 1 1 1 1 1 1 1 1 1 1 1 1 1 1 1 1 1 1 1 1 1 1 1 1 1 1 1 1 1 1 1 1 1 1 1 1 1 1 1 1 1 1 1 1 1 1 1 1 1 1 1 1 1 1 1 1 1 1 1 1 1 1 1 1 1 1 1 1 1 1 1 1 1 1 1 1 1 1 1 1 1 1 1 1 1 1 1 1 1 1 1 1 1 1 1 1 1 1 1 1 1 1 1 1 1 1 1 1 1 1 1 1 1 1 1 1 1 1 1 1 1 1 1 1 1 1 1 1 1 1 1 1 1 1 1 1 1 1 1 1 1 1 1 1 1 1 1 1 1 1 1 1 1 1 1 1 1 1 1 1 1 1 1 1 1 1 1 1 1 1 1 1 1 1 1 1\n"
     ]
    },
    {
     "name": "stdout",
     "output_type": "stream",
     "text": [
      "INFO:tensorflow:segment_ids: 0 0 0 0 0 0 0 0 0 0 0 0 0 0 0 0 0 0 0 0 0 0 0 0 0 0 0 0 0 0 0 0 0 0 0 0 0 0 0 0 0 0 0 0 0 0 0 0 0 0 0 0 0 0 0 0 0 0 0 0 0 0 0 0 0 0 0 0 0 0 0 0 0 0 0 0 0 0 0 0 0 0 0 0 0 0 0 0 0 0 0 0 0 0 0 0 0 0 0 0 0 0 0 0 0 0 0 0 0 0 0 0 0 0 0 0 0 0 0 0 0 0 0 0 0 0 0 0 0 0 0 0 0 0 0 0 0 0 0 0 0 0 0 0 0 0 0 0 0 0 0 0 0 0 0 0 0 0 0 0 0 0 0 0 0 0 0 0 0 0 0 0 0 0 0 0 0 0 0 0 0 0 0 0 0 0 0 0 0 0 0 0 0 0 0 0 0 0 0 0\n"
     ]
    },
    {
     "name": "stderr",
     "output_type": "stream",
     "text": [
      "INFO:tensorflow:segment_ids: 0 0 0 0 0 0 0 0 0 0 0 0 0 0 0 0 0 0 0 0 0 0 0 0 0 0 0 0 0 0 0 0 0 0 0 0 0 0 0 0 0 0 0 0 0 0 0 0 0 0 0 0 0 0 0 0 0 0 0 0 0 0 0 0 0 0 0 0 0 0 0 0 0 0 0 0 0 0 0 0 0 0 0 0 0 0 0 0 0 0 0 0 0 0 0 0 0 0 0 0 0 0 0 0 0 0 0 0 0 0 0 0 0 0 0 0 0 0 0 0 0 0 0 0 0 0 0 0 0 0 0 0 0 0 0 0 0 0 0 0 0 0 0 0 0 0 0 0 0 0 0 0 0 0 0 0 0 0 0 0 0 0 0 0 0 0 0 0 0 0 0 0 0 0 0 0 0 0 0 0 0 0 0 0 0 0 0 0 0 0 0 0 0 0 0 0 0 0 0 0\n"
     ]
    },
    {
     "name": "stdout",
     "output_type": "stream",
     "text": [
      "INFO:tensorflow:label: 1 (id = 1)\n"
     ]
    },
    {
     "name": "stderr",
     "output_type": "stream",
     "text": [
      "INFO:tensorflow:label: 1 (id = 1)\n"
     ]
    },
    {
     "name": "stdout",
     "output_type": "stream",
     "text": [
      "INFO:tensorflow:*** Example ***\n"
     ]
    },
    {
     "name": "stderr",
     "output_type": "stream",
     "text": [
      "INFO:tensorflow:*** Example ***\n"
     ]
    },
    {
     "name": "stdout",
     "output_type": "stream",
     "text": [
      "INFO:tensorflow:guid: None\n"
     ]
    },
    {
     "name": "stderr",
     "output_type": "stream",
     "text": [
      "INFO:tensorflow:guid: None\n"
     ]
    },
    {
     "name": "stdout",
     "output_type": "stream",
     "text": [
      "INFO:tensorflow:tokens: [CLS] russia ##s ren ##ation ##alis ##ation energy industry needs reversed senior government figure warned economy minister german gr ##ef told ko ##mmer ##sant newspaper direct state involvement oil un ##just ##ified comments follow sale much oil giant yu ##kos cover back taxes deal effectively took firms assets public ownership december another senior economic adviser called sale sw ##ind ##le century yu ##gan ##sk ##ne ##ft ##ega ##z unit produced yu ##kos output seized sold december less bn previously unknown firm called bai ##kal bai ##kal promptly passed hands state ##con ##tro ##lled firm ro ##s ##ne ##ft shortly merge state gas giant ga ##z ##pro ##m used see street hu ##stle ##rs kind thing andrei ill ##arion ##ov economic adviser president vladimir putin told press conference officials within days stripped responsibilities mr gr ##ef well ##k ##now ##n opponent national ##isation competitive parts market keen distance mr il ##ia ##ron ##ov ##s comments pri ##vati ##sation companies yu ##kos s badly handled said stressed government needed get oil think ro ##s ##ne ##ft yu ##gan ##sk ##ne ##ft ##ega ##z become state ##own ##ed company must pri ##vati ##zed said today government ineffective state companies result overwhelming part [SEP]\n"
     ]
    },
    {
     "name": "stderr",
     "output_type": "stream",
     "text": [
      "INFO:tensorflow:tokens: [CLS] russia ##s ren ##ation ##alis ##ation energy industry needs reversed senior government figure warned economy minister german gr ##ef told ko ##mmer ##sant newspaper direct state involvement oil un ##just ##ified comments follow sale much oil giant yu ##kos cover back taxes deal effectively took firms assets public ownership december another senior economic adviser called sale sw ##ind ##le century yu ##gan ##sk ##ne ##ft ##ega ##z unit produced yu ##kos output seized sold december less bn previously unknown firm called bai ##kal bai ##kal promptly passed hands state ##con ##tro ##lled firm ro ##s ##ne ##ft shortly merge state gas giant ga ##z ##pro ##m used see street hu ##stle ##rs kind thing andrei ill ##arion ##ov economic adviser president vladimir putin told press conference officials within days stripped responsibilities mr gr ##ef well ##k ##now ##n opponent national ##isation competitive parts market keen distance mr il ##ia ##ron ##ov ##s comments pri ##vati ##sation companies yu ##kos s badly handled said stressed government needed get oil think ro ##s ##ne ##ft yu ##gan ##sk ##ne ##ft ##ega ##z become state ##own ##ed company must pri ##vati ##zed said today government ineffective state companies result overwhelming part [SEP]\n"
     ]
    },
    {
     "name": "stdout",
     "output_type": "stream",
     "text": [
      "INFO:tensorflow:input_ids: 101 3607 2015 14916 3370 13911 3370 2943 3068 3791 11674 3026 2231 3275 7420 4610 2704 2446 24665 12879 2409 12849 15810 22341 3780 3622 2110 6624 3514 4895 29427 7810 7928 3582 5096 2172 3514 5016 9805 15710 3104 2067 7773 3066 6464 2165 9786 7045 2270 6095 2285 2178 3026 3171 11747 2170 5096 25430 22254 2571 2301 9805 5289 6711 2638 6199 29107 2480 3131 2550 9805 15710 6434 8243 2853 2285 2625 24869 3130 4242 3813 2170 21790 12902 21790 12902 13364 2979 2398 2110 8663 13181 11001 3813 20996 2015 2638 6199 3859 13590 2110 3806 5016 11721 2480 21572 2213 2109 2156 2395 15876 22516 2869 2785 2518 18125 5665 27548 4492 3171 11747 2343 8748 22072 2409 2811 3034 4584 2306 2420 10040 10198 2720 24665 12879 2092 2243 19779 2078 7116 2120 6648 6975 3033 3006 10326 3292 2720 6335 2401 4948 4492 2015 7928 26927 20203 26652 3316 9805 15710 1055 6649 8971 2056 13233 2231 2734 2131 3514 2228 20996 2015 2638 6199 9805 5289 6711 2638 6199 29107 2480 2468 2110 12384 2098 2194 2442 26927 20203 5422 2056 2651 2231 20694 2110 3316 2765 10827 2112 102\n"
     ]
    },
    {
     "name": "stderr",
     "output_type": "stream",
     "text": [
      "INFO:tensorflow:input_ids: 101 3607 2015 14916 3370 13911 3370 2943 3068 3791 11674 3026 2231 3275 7420 4610 2704 2446 24665 12879 2409 12849 15810 22341 3780 3622 2110 6624 3514 4895 29427 7810 7928 3582 5096 2172 3514 5016 9805 15710 3104 2067 7773 3066 6464 2165 9786 7045 2270 6095 2285 2178 3026 3171 11747 2170 5096 25430 22254 2571 2301 9805 5289 6711 2638 6199 29107 2480 3131 2550 9805 15710 6434 8243 2853 2285 2625 24869 3130 4242 3813 2170 21790 12902 21790 12902 13364 2979 2398 2110 8663 13181 11001 3813 20996 2015 2638 6199 3859 13590 2110 3806 5016 11721 2480 21572 2213 2109 2156 2395 15876 22516 2869 2785 2518 18125 5665 27548 4492 3171 11747 2343 8748 22072 2409 2811 3034 4584 2306 2420 10040 10198 2720 24665 12879 2092 2243 19779 2078 7116 2120 6648 6975 3033 3006 10326 3292 2720 6335 2401 4948 4492 2015 7928 26927 20203 26652 3316 9805 15710 1055 6649 8971 2056 13233 2231 2734 2131 3514 2228 20996 2015 2638 6199 9805 5289 6711 2638 6199 29107 2480 2468 2110 12384 2098 2194 2442 26927 20203 5422 2056 2651 2231 20694 2110 3316 2765 10827 2112 102\n"
     ]
    },
    {
     "name": "stdout",
     "output_type": "stream",
     "text": [
      "INFO:tensorflow:input_mask: 1 1 1 1 1 1 1 1 1 1 1 1 1 1 1 1 1 1 1 1 1 1 1 1 1 1 1 1 1 1 1 1 1 1 1 1 1 1 1 1 1 1 1 1 1 1 1 1 1 1 1 1 1 1 1 1 1 1 1 1 1 1 1 1 1 1 1 1 1 1 1 1 1 1 1 1 1 1 1 1 1 1 1 1 1 1 1 1 1 1 1 1 1 1 1 1 1 1 1 1 1 1 1 1 1 1 1 1 1 1 1 1 1 1 1 1 1 1 1 1 1 1 1 1 1 1 1 1 1 1 1 1 1 1 1 1 1 1 1 1 1 1 1 1 1 1 1 1 1 1 1 1 1 1 1 1 1 1 1 1 1 1 1 1 1 1 1 1 1 1 1 1 1 1 1 1 1 1 1 1 1 1 1 1 1 1 1 1 1 1 1 1 1 1 1 1 1 1 1 1\n"
     ]
    },
    {
     "name": "stderr",
     "output_type": "stream",
     "text": [
      "INFO:tensorflow:input_mask: 1 1 1 1 1 1 1 1 1 1 1 1 1 1 1 1 1 1 1 1 1 1 1 1 1 1 1 1 1 1 1 1 1 1 1 1 1 1 1 1 1 1 1 1 1 1 1 1 1 1 1 1 1 1 1 1 1 1 1 1 1 1 1 1 1 1 1 1 1 1 1 1 1 1 1 1 1 1 1 1 1 1 1 1 1 1 1 1 1 1 1 1 1 1 1 1 1 1 1 1 1 1 1 1 1 1 1 1 1 1 1 1 1 1 1 1 1 1 1 1 1 1 1 1 1 1 1 1 1 1 1 1 1 1 1 1 1 1 1 1 1 1 1 1 1 1 1 1 1 1 1 1 1 1 1 1 1 1 1 1 1 1 1 1 1 1 1 1 1 1 1 1 1 1 1 1 1 1 1 1 1 1 1 1 1 1 1 1 1 1 1 1 1 1 1 1 1 1 1 1\n"
     ]
    },
    {
     "name": "stdout",
     "output_type": "stream",
     "text": [
      "INFO:tensorflow:segment_ids: 0 0 0 0 0 0 0 0 0 0 0 0 0 0 0 0 0 0 0 0 0 0 0 0 0 0 0 0 0 0 0 0 0 0 0 0 0 0 0 0 0 0 0 0 0 0 0 0 0 0 0 0 0 0 0 0 0 0 0 0 0 0 0 0 0 0 0 0 0 0 0 0 0 0 0 0 0 0 0 0 0 0 0 0 0 0 0 0 0 0 0 0 0 0 0 0 0 0 0 0 0 0 0 0 0 0 0 0 0 0 0 0 0 0 0 0 0 0 0 0 0 0 0 0 0 0 0 0 0 0 0 0 0 0 0 0 0 0 0 0 0 0 0 0 0 0 0 0 0 0 0 0 0 0 0 0 0 0 0 0 0 0 0 0 0 0 0 0 0 0 0 0 0 0 0 0 0 0 0 0 0 0 0 0 0 0 0 0 0 0 0 0 0 0 0 0 0 0 0 0\n"
     ]
    },
    {
     "name": "stderr",
     "output_type": "stream",
     "text": [
      "INFO:tensorflow:segment_ids: 0 0 0 0 0 0 0 0 0 0 0 0 0 0 0 0 0 0 0 0 0 0 0 0 0 0 0 0 0 0 0 0 0 0 0 0 0 0 0 0 0 0 0 0 0 0 0 0 0 0 0 0 0 0 0 0 0 0 0 0 0 0 0 0 0 0 0 0 0 0 0 0 0 0 0 0 0 0 0 0 0 0 0 0 0 0 0 0 0 0 0 0 0 0 0 0 0 0 0 0 0 0 0 0 0 0 0 0 0 0 0 0 0 0 0 0 0 0 0 0 0 0 0 0 0 0 0 0 0 0 0 0 0 0 0 0 0 0 0 0 0 0 0 0 0 0 0 0 0 0 0 0 0 0 0 0 0 0 0 0 0 0 0 0 0 0 0 0 0 0 0 0 0 0 0 0 0 0 0 0 0 0 0 0 0 0 0 0 0 0 0 0 0 0 0 0 0 0 0 0\n"
     ]
    },
    {
     "name": "stdout",
     "output_type": "stream",
     "text": [
      "INFO:tensorflow:label: 0 (id = 0)\n"
     ]
    },
    {
     "name": "stderr",
     "output_type": "stream",
     "text": [
      "INFO:tensorflow:label: 0 (id = 0)\n"
     ]
    },
    {
     "name": "stdout",
     "output_type": "stream",
     "text": [
      "INFO:tensorflow:*** Example ***\n"
     ]
    },
    {
     "name": "stderr",
     "output_type": "stream",
     "text": [
      "INFO:tensorflow:*** Example ***\n"
     ]
    },
    {
     "name": "stdout",
     "output_type": "stream",
     "text": [
      "INFO:tensorflow:guid: None\n"
     ]
    },
    {
     "name": "stderr",
     "output_type": "stream",
     "text": [
      "INFO:tensorflow:guid: None\n"
     ]
    },
    {
     "name": "stdout",
     "output_type": "stream",
     "text": [
      "INFO:tensorflow:tokens: [CLS] low ##bu ##dget horror film produced evil dead director sam rai ##mi topped north american box office boo ##ge ##yman focuses man returns childhood home confront traumatic past took m m three days last weeks chart ##top ##per robert de ni ##ro thriller hide seek fell number four new entries included wedding date comedy starring grace ##s debra messing number two road ##trip comedy yet multiple oscar nominee million dollar baby completed top five oscar contenders including aviator sideways continued perform strongly box office aviator taken m m far sideways taken m m limited release boo ##ge ##yman cost m m make performed well even though screened critics release normally sign film get bad reviews perform poorly box office certainly believe genre people going moved marketing materials movie critics say said rory br ##uer head distribution sony pictures released film us overall weekend box office strong despite fact american football ##s super bowl weekend time cinema admissions generally fall year top films grossed around m m compared s super bowl weekend total box office m m [SEP]\n"
     ]
    },
    {
     "name": "stderr",
     "output_type": "stream",
     "text": [
      "INFO:tensorflow:tokens: [CLS] low ##bu ##dget horror film produced evil dead director sam rai ##mi topped north american box office boo ##ge ##yman focuses man returns childhood home confront traumatic past took m m three days last weeks chart ##top ##per robert de ni ##ro thriller hide seek fell number four new entries included wedding date comedy starring grace ##s debra messing number two road ##trip comedy yet multiple oscar nominee million dollar baby completed top five oscar contenders including aviator sideways continued perform strongly box office aviator taken m m far sideways taken m m limited release boo ##ge ##yman cost m m make performed well even though screened critics release normally sign film get bad reviews perform poorly box office certainly believe genre people going moved marketing materials movie critics say said rory br ##uer head distribution sony pictures released film us overall weekend box office strong despite fact american football ##s super bowl weekend time cinema admissions generally fall year top films grossed around m m compared s super bowl weekend total box office m m [SEP]\n"
     ]
    },
    {
     "name": "stdout",
     "output_type": "stream",
     "text": [
      "INFO:tensorflow:input_ids: 101 2659 8569 24291 5469 2143 2550 4763 2757 2472 3520 15547 4328 9370 2167 2137 3482 2436 22017 3351 17906 7679 2158 5651 5593 2188 14323 19686 2627 2165 1049 1049 2093 2420 2197 3134 3673 14399 4842 2728 2139 9152 3217 10874 5342 6148 3062 2193 2176 2047 10445 2443 5030 3058 4038 4626 4519 2015 28762 22308 2193 2048 2346 24901 4038 2664 3674 7436 9773 2454 7922 3336 2949 2327 2274 7436 27236 2164 24035 12579 2506 4685 6118 3482 2436 24035 2579 1049 1049 2521 12579 2579 1049 1049 3132 2713 22017 3351 17906 3465 1049 1049 2191 2864 2092 2130 2295 12238 4401 2713 5373 3696 2143 2131 2919 4391 4685 9996 3482 2436 5121 2903 6907 2111 2183 2333 5821 4475 3185 4401 2360 2056 14285 7987 13094 2132 4353 8412 4620 2207 2143 2149 3452 5353 3482 2436 2844 2750 2755 2137 2374 2015 3565 4605 5353 2051 5988 20247 3227 2991 2095 2327 3152 17500 2105 1049 1049 4102 1055 3565 4605 5353 2561 3482 2436 1049 1049 102 0 0 0 0 0 0 0 0 0 0 0 0 0 0 0 0 0 0 0 0 0 0\n"
     ]
    },
    {
     "name": "stderr",
     "output_type": "stream",
     "text": [
      "INFO:tensorflow:input_ids: 101 2659 8569 24291 5469 2143 2550 4763 2757 2472 3520 15547 4328 9370 2167 2137 3482 2436 22017 3351 17906 7679 2158 5651 5593 2188 14323 19686 2627 2165 1049 1049 2093 2420 2197 3134 3673 14399 4842 2728 2139 9152 3217 10874 5342 6148 3062 2193 2176 2047 10445 2443 5030 3058 4038 4626 4519 2015 28762 22308 2193 2048 2346 24901 4038 2664 3674 7436 9773 2454 7922 3336 2949 2327 2274 7436 27236 2164 24035 12579 2506 4685 6118 3482 2436 24035 2579 1049 1049 2521 12579 2579 1049 1049 3132 2713 22017 3351 17906 3465 1049 1049 2191 2864 2092 2130 2295 12238 4401 2713 5373 3696 2143 2131 2919 4391 4685 9996 3482 2436 5121 2903 6907 2111 2183 2333 5821 4475 3185 4401 2360 2056 14285 7987 13094 2132 4353 8412 4620 2207 2143 2149 3452 5353 3482 2436 2844 2750 2755 2137 2374 2015 3565 4605 5353 2051 5988 20247 3227 2991 2095 2327 3152 17500 2105 1049 1049 4102 1055 3565 4605 5353 2561 3482 2436 1049 1049 102 0 0 0 0 0 0 0 0 0 0 0 0 0 0 0 0 0 0 0 0 0 0\n"
     ]
    },
    {
     "name": "stdout",
     "output_type": "stream",
     "text": [
      "INFO:tensorflow:input_mask: 1 1 1 1 1 1 1 1 1 1 1 1 1 1 1 1 1 1 1 1 1 1 1 1 1 1 1 1 1 1 1 1 1 1 1 1 1 1 1 1 1 1 1 1 1 1 1 1 1 1 1 1 1 1 1 1 1 1 1 1 1 1 1 1 1 1 1 1 1 1 1 1 1 1 1 1 1 1 1 1 1 1 1 1 1 1 1 1 1 1 1 1 1 1 1 1 1 1 1 1 1 1 1 1 1 1 1 1 1 1 1 1 1 1 1 1 1 1 1 1 1 1 1 1 1 1 1 1 1 1 1 1 1 1 1 1 1 1 1 1 1 1 1 1 1 1 1 1 1 1 1 1 1 1 1 1 1 1 1 1 1 1 1 1 1 1 1 1 1 1 1 1 1 1 1 1 1 1 0 0 0 0 0 0 0 0 0 0 0 0 0 0 0 0 0 0 0 0 0 0\n"
     ]
    },
    {
     "name": "stderr",
     "output_type": "stream",
     "text": [
      "INFO:tensorflow:input_mask: 1 1 1 1 1 1 1 1 1 1 1 1 1 1 1 1 1 1 1 1 1 1 1 1 1 1 1 1 1 1 1 1 1 1 1 1 1 1 1 1 1 1 1 1 1 1 1 1 1 1 1 1 1 1 1 1 1 1 1 1 1 1 1 1 1 1 1 1 1 1 1 1 1 1 1 1 1 1 1 1 1 1 1 1 1 1 1 1 1 1 1 1 1 1 1 1 1 1 1 1 1 1 1 1 1 1 1 1 1 1 1 1 1 1 1 1 1 1 1 1 1 1 1 1 1 1 1 1 1 1 1 1 1 1 1 1 1 1 1 1 1 1 1 1 1 1 1 1 1 1 1 1 1 1 1 1 1 1 1 1 1 1 1 1 1 1 1 1 1 1 1 1 1 1 1 1 1 1 0 0 0 0 0 0 0 0 0 0 0 0 0 0 0 0 0 0 0 0 0 0\n"
     ]
    },
    {
     "name": "stdout",
     "output_type": "stream",
     "text": [
      "INFO:tensorflow:segment_ids: 0 0 0 0 0 0 0 0 0 0 0 0 0 0 0 0 0 0 0 0 0 0 0 0 0 0 0 0 0 0 0 0 0 0 0 0 0 0 0 0 0 0 0 0 0 0 0 0 0 0 0 0 0 0 0 0 0 0 0 0 0 0 0 0 0 0 0 0 0 0 0 0 0 0 0 0 0 0 0 0 0 0 0 0 0 0 0 0 0 0 0 0 0 0 0 0 0 0 0 0 0 0 0 0 0 0 0 0 0 0 0 0 0 0 0 0 0 0 0 0 0 0 0 0 0 0 0 0 0 0 0 0 0 0 0 0 0 0 0 0 0 0 0 0 0 0 0 0 0 0 0 0 0 0 0 0 0 0 0 0 0 0 0 0 0 0 0 0 0 0 0 0 0 0 0 0 0 0 0 0 0 0 0 0 0 0 0 0 0 0 0 0 0 0 0 0 0 0 0 0\n"
     ]
    },
    {
     "name": "stderr",
     "output_type": "stream",
     "text": [
      "INFO:tensorflow:segment_ids: 0 0 0 0 0 0 0 0 0 0 0 0 0 0 0 0 0 0 0 0 0 0 0 0 0 0 0 0 0 0 0 0 0 0 0 0 0 0 0 0 0 0 0 0 0 0 0 0 0 0 0 0 0 0 0 0 0 0 0 0 0 0 0 0 0 0 0 0 0 0 0 0 0 0 0 0 0 0 0 0 0 0 0 0 0 0 0 0 0 0 0 0 0 0 0 0 0 0 0 0 0 0 0 0 0 0 0 0 0 0 0 0 0 0 0 0 0 0 0 0 0 0 0 0 0 0 0 0 0 0 0 0 0 0 0 0 0 0 0 0 0 0 0 0 0 0 0 0 0 0 0 0 0 0 0 0 0 0 0 0 0 0 0 0 0 0 0 0 0 0 0 0 0 0 0 0 0 0 0 0 0 0 0 0 0 0 0 0 0 0 0 0 0 0 0 0 0 0 0 0\n"
     ]
    },
    {
     "name": "stdout",
     "output_type": "stream",
     "text": [
      "INFO:tensorflow:label: 1 (id = 1)\n"
     ]
    },
    {
     "name": "stderr",
     "output_type": "stream",
     "text": [
      "INFO:tensorflow:label: 1 (id = 1)\n"
     ]
    },
    {
     "name": "stdout",
     "output_type": "stream",
     "text": [
      "INFO:tensorflow:*** Example ***\n"
     ]
    },
    {
     "name": "stderr",
     "output_type": "stream",
     "text": [
      "INFO:tensorflow:*** Example ***\n"
     ]
    },
    {
     "name": "stdout",
     "output_type": "stream",
     "text": [
      "INFO:tensorflow:guid: None\n"
     ]
    },
    {
     "name": "stderr",
     "output_type": "stream",
     "text": [
      "INFO:tensorflow:guid: None\n"
     ]
    },
    {
     "name": "stdout",
     "output_type": "stream",
     "text": [
      "INFO:tensorflow:tokens: [CLS] users warned windows virus poses hugely popular te ##tri ##s game cell ##ery worm install ##s playable version classic falling blocks game pcs infected users play game worm spends time using machine search new victims in ##fect nearby networks risk infection cell ##ery thought low copies worm found wild cell ##ery worm spread via email like many viruses instead brows ##es computer networks pcs shut ins ##ecure ways connect machines in ##fect ##s machine cell ##ery install ##s version te ##tri ##s users play game starts worm also starts music file accompany time virus starts sc ##ouring networks vulnerable machines virus damage machines heavily infected networks could slow scanning traffic builds productivity may suffer users spend time playing te ##tri ##s pcs running windows nt xp could vulnerable worm company culture allowing games played office staff may believe simply new game installed rather something cause concern said graham cl ##ule ##y spokesman anti ##virus firm so ##ph ##os far number people infected cell ##ery thought small risks infection low so ##ph ##os urged users companies update anti ##virus software keep protected [SEP]\n"
     ]
    },
    {
     "name": "stderr",
     "output_type": "stream",
     "text": [
      "INFO:tensorflow:tokens: [CLS] users warned windows virus poses hugely popular te ##tri ##s game cell ##ery worm install ##s playable version classic falling blocks game pcs infected users play game worm spends time using machine search new victims in ##fect nearby networks risk infection cell ##ery thought low copies worm found wild cell ##ery worm spread via email like many viruses instead brows ##es computer networks pcs shut ins ##ecure ways connect machines in ##fect ##s machine cell ##ery install ##s version te ##tri ##s users play game starts worm also starts music file accompany time virus starts sc ##ouring networks vulnerable machines virus damage machines heavily infected networks could slow scanning traffic builds productivity may suffer users spend time playing te ##tri ##s pcs running windows nt xp could vulnerable worm company culture allowing games played office staff may believe simply new game installed rather something cause concern said graham cl ##ule ##y spokesman anti ##virus firm so ##ph ##os far number people infected cell ##ery thought small risks infection low so ##ph ##os urged users companies update anti ##virus software keep protected [SEP]\n"
     ]
    },
    {
     "name": "stdout",
     "output_type": "stream",
     "text": [
      "INFO:tensorflow:input_ids: 101 5198 7420 3645 7865 22382 27564 2759 8915 18886 2015 2208 3526 7301 15485 16500 2015 16854 2544 4438 4634 5991 2208 27019 10372 5198 2377 2208 15485 15970 2051 2478 3698 3945 2047 5694 1999 25969 3518 6125 3891 8985 3526 7301 2245 2659 4809 15485 2179 3748 3526 7301 15485 3659 3081 10373 2066 2116 18191 2612 11347 2229 3274 6125 27019 3844 16021 29150 3971 7532 6681 1999 25969 2015 3698 3526 7301 16500 2015 2544 8915 18886 2015 5198 2377 2208 4627 15485 2036 4627 2189 5371 12673 2051 7865 4627 8040 27897 6125 8211 6681 7865 4053 6681 4600 10372 6125 2071 4030 13722 4026 16473 15836 2089 9015 5198 5247 2051 2652 8915 18886 2015 27019 2770 3645 23961 26726 2071 8211 15485 2194 3226 4352 2399 2209 2436 3095 2089 2903 3432 2047 2208 5361 2738 2242 3426 5142 2056 5846 18856 9307 2100 14056 3424 23350 3813 2061 8458 2891 2521 2193 2111 10372 3526 7301 2245 2235 10831 8985 2659 2061 8458 2891 9720 5198 3316 10651 3424 23350 4007 2562 5123 102 0 0 0 0 0 0 0 0 0 0 0 0 0 0 0 0 0\n"
     ]
    },
    {
     "name": "stderr",
     "output_type": "stream",
     "text": [
      "INFO:tensorflow:input_ids: 101 5198 7420 3645 7865 22382 27564 2759 8915 18886 2015 2208 3526 7301 15485 16500 2015 16854 2544 4438 4634 5991 2208 27019 10372 5198 2377 2208 15485 15970 2051 2478 3698 3945 2047 5694 1999 25969 3518 6125 3891 8985 3526 7301 2245 2659 4809 15485 2179 3748 3526 7301 15485 3659 3081 10373 2066 2116 18191 2612 11347 2229 3274 6125 27019 3844 16021 29150 3971 7532 6681 1999 25969 2015 3698 3526 7301 16500 2015 2544 8915 18886 2015 5198 2377 2208 4627 15485 2036 4627 2189 5371 12673 2051 7865 4627 8040 27897 6125 8211 6681 7865 4053 6681 4600 10372 6125 2071 4030 13722 4026 16473 15836 2089 9015 5198 5247 2051 2652 8915 18886 2015 27019 2770 3645 23961 26726 2071 8211 15485 2194 3226 4352 2399 2209 2436 3095 2089 2903 3432 2047 2208 5361 2738 2242 3426 5142 2056 5846 18856 9307 2100 14056 3424 23350 3813 2061 8458 2891 2521 2193 2111 10372 3526 7301 2245 2235 10831 8985 2659 2061 8458 2891 9720 5198 3316 10651 3424 23350 4007 2562 5123 102 0 0 0 0 0 0 0 0 0 0 0 0 0 0 0 0 0\n"
     ]
    },
    {
     "name": "stdout",
     "output_type": "stream",
     "text": [
      "INFO:tensorflow:input_mask: 1 1 1 1 1 1 1 1 1 1 1 1 1 1 1 1 1 1 1 1 1 1 1 1 1 1 1 1 1 1 1 1 1 1 1 1 1 1 1 1 1 1 1 1 1 1 1 1 1 1 1 1 1 1 1 1 1 1 1 1 1 1 1 1 1 1 1 1 1 1 1 1 1 1 1 1 1 1 1 1 1 1 1 1 1 1 1 1 1 1 1 1 1 1 1 1 1 1 1 1 1 1 1 1 1 1 1 1 1 1 1 1 1 1 1 1 1 1 1 1 1 1 1 1 1 1 1 1 1 1 1 1 1 1 1 1 1 1 1 1 1 1 1 1 1 1 1 1 1 1 1 1 1 1 1 1 1 1 1 1 1 1 1 1 1 1 1 1 1 1 1 1 1 1 1 1 1 1 1 1 1 1 1 0 0 0 0 0 0 0 0 0 0 0 0 0 0 0 0 0\n"
     ]
    },
    {
     "name": "stderr",
     "output_type": "stream",
     "text": [
      "INFO:tensorflow:input_mask: 1 1 1 1 1 1 1 1 1 1 1 1 1 1 1 1 1 1 1 1 1 1 1 1 1 1 1 1 1 1 1 1 1 1 1 1 1 1 1 1 1 1 1 1 1 1 1 1 1 1 1 1 1 1 1 1 1 1 1 1 1 1 1 1 1 1 1 1 1 1 1 1 1 1 1 1 1 1 1 1 1 1 1 1 1 1 1 1 1 1 1 1 1 1 1 1 1 1 1 1 1 1 1 1 1 1 1 1 1 1 1 1 1 1 1 1 1 1 1 1 1 1 1 1 1 1 1 1 1 1 1 1 1 1 1 1 1 1 1 1 1 1 1 1 1 1 1 1 1 1 1 1 1 1 1 1 1 1 1 1 1 1 1 1 1 1 1 1 1 1 1 1 1 1 1 1 1 1 1 1 1 1 1 0 0 0 0 0 0 0 0 0 0 0 0 0 0 0 0 0\n"
     ]
    },
    {
     "name": "stdout",
     "output_type": "stream",
     "text": [
      "INFO:tensorflow:segment_ids: 0 0 0 0 0 0 0 0 0 0 0 0 0 0 0 0 0 0 0 0 0 0 0 0 0 0 0 0 0 0 0 0 0 0 0 0 0 0 0 0 0 0 0 0 0 0 0 0 0 0 0 0 0 0 0 0 0 0 0 0 0 0 0 0 0 0 0 0 0 0 0 0 0 0 0 0 0 0 0 0 0 0 0 0 0 0 0 0 0 0 0 0 0 0 0 0 0 0 0 0 0 0 0 0 0 0 0 0 0 0 0 0 0 0 0 0 0 0 0 0 0 0 0 0 0 0 0 0 0 0 0 0 0 0 0 0 0 0 0 0 0 0 0 0 0 0 0 0 0 0 0 0 0 0 0 0 0 0 0 0 0 0 0 0 0 0 0 0 0 0 0 0 0 0 0 0 0 0 0 0 0 0 0 0 0 0 0 0 0 0 0 0 0 0 0 0 0 0 0 0\n"
     ]
    },
    {
     "name": "stderr",
     "output_type": "stream",
     "text": [
      "INFO:tensorflow:segment_ids: 0 0 0 0 0 0 0 0 0 0 0 0 0 0 0 0 0 0 0 0 0 0 0 0 0 0 0 0 0 0 0 0 0 0 0 0 0 0 0 0 0 0 0 0 0 0 0 0 0 0 0 0 0 0 0 0 0 0 0 0 0 0 0 0 0 0 0 0 0 0 0 0 0 0 0 0 0 0 0 0 0 0 0 0 0 0 0 0 0 0 0 0 0 0 0 0 0 0 0 0 0 0 0 0 0 0 0 0 0 0 0 0 0 0 0 0 0 0 0 0 0 0 0 0 0 0 0 0 0 0 0 0 0 0 0 0 0 0 0 0 0 0 0 0 0 0 0 0 0 0 0 0 0 0 0 0 0 0 0 0 0 0 0 0 0 0 0 0 0 0 0 0 0 0 0 0 0 0 0 0 0 0 0 0 0 0 0 0 0 0 0 0 0 0 0 0 0 0 0 0\n"
     ]
    },
    {
     "name": "stdout",
     "output_type": "stream",
     "text": [
      "INFO:tensorflow:label: 4 (id = 4)\n"
     ]
    },
    {
     "name": "stderr",
     "output_type": "stream",
     "text": [
      "INFO:tensorflow:label: 4 (id = 4)\n"
     ]
    },
    {
     "name": "stdout",
     "output_type": "stream",
     "text": [
      "INFO:tensorflow:*** Example ***\n"
     ]
    },
    {
     "name": "stderr",
     "output_type": "stream",
     "text": [
      "INFO:tensorflow:*** Example ***\n"
     ]
    },
    {
     "name": "stdout",
     "output_type": "stream",
     "text": [
      "INFO:tensorflow:guid: None\n"
     ]
    },
    {
     "name": "stderr",
     "output_type": "stream",
     "text": [
      "INFO:tensorflow:guid: None\n"
     ]
    },
    {
     "name": "stdout",
     "output_type": "stream",
     "text": [
      "INFO:tensorflow:tokens: [CLS] news corp media company controlled australian billionaire rupert murdoch eyeing move video games market according financial times chief operating officer peter cher ##nin said news corp kicking tires pretty much video games companies santa monica ##base ##d act ##iv ##ison said one firm takeover list video games big business paper quoted mr cher ##nin saying would like get success products sony ##s playstation microsoft ##s xbox nintendo ##s game cube boosted demand video games days arcade classics space invaders pac ##man donkey kong long gone today games often budgets big enough feature films look give gamer ##s real experience possible price tags reflecting heavy investment development companies video games proving almost profitable fun mr cher ##nin however told ft news corp finding difficult identify suitable target struggling gap companies like electronic arts comes high price tag next tier companies explained conference phoenix arizona may focused one two product lines [SEP]\n"
     ]
    },
    {
     "name": "stderr",
     "output_type": "stream",
     "text": [
      "INFO:tensorflow:tokens: [CLS] news corp media company controlled australian billionaire rupert murdoch eyeing move video games market according financial times chief operating officer peter cher ##nin said news corp kicking tires pretty much video games companies santa monica ##base ##d act ##iv ##ison said one firm takeover list video games big business paper quoted mr cher ##nin saying would like get success products sony ##s playstation microsoft ##s xbox nintendo ##s game cube boosted demand video games days arcade classics space invaders pac ##man donkey kong long gone today games often budgets big enough feature films look give gamer ##s real experience possible price tags reflecting heavy investment development companies video games proving almost profitable fun mr cher ##nin however told ft news corp finding difficult identify suitable target struggling gap companies like electronic arts comes high price tag next tier companies explained conference phoenix arizona may focused one two product lines [SEP]\n"
     ]
    },
    {
     "name": "stdout",
     "output_type": "stream",
     "text": [
      "INFO:tensorflow:input_ids: 101 2739 13058 2865 2194 4758 2827 22301 14641 19954 19285 2693 2678 2399 3006 2429 3361 2335 2708 4082 2961 2848 24188 11483 2056 2739 13058 10209 13310 3492 2172 2678 2399 3316 4203 9018 15058 2094 2552 12848 10929 2056 2028 3813 15336 2862 2678 2399 2502 2449 3259 9339 2720 24188 11483 3038 2052 2066 2131 3112 3688 8412 2015 9160 7513 2015 12202 10022 2015 2208 14291 28043 5157 2678 2399 2420 10877 10002 2686 17347 14397 2386 20325 4290 2146 2908 2651 2399 2411 26178 2502 2438 3444 3152 2298 2507 27911 2015 2613 3325 2825 3976 22073 10842 3082 5211 2458 3316 2678 2399 13946 2471 15282 4569 2720 24188 11483 2174 2409 3027 2739 13058 4531 3697 6709 7218 4539 8084 6578 3316 2066 4816 2840 3310 2152 3976 6415 2279 7563 3316 4541 3034 6708 5334 2089 4208 2028 2048 4031 3210 102 0 0 0 0 0 0 0 0 0 0 0 0 0 0 0 0 0 0 0 0 0 0 0 0 0 0 0 0 0 0 0 0 0 0 0 0 0 0 0 0 0 0 0 0 0 0 0 0 0\n"
     ]
    },
    {
     "name": "stderr",
     "output_type": "stream",
     "text": [
      "INFO:tensorflow:input_ids: 101 2739 13058 2865 2194 4758 2827 22301 14641 19954 19285 2693 2678 2399 3006 2429 3361 2335 2708 4082 2961 2848 24188 11483 2056 2739 13058 10209 13310 3492 2172 2678 2399 3316 4203 9018 15058 2094 2552 12848 10929 2056 2028 3813 15336 2862 2678 2399 2502 2449 3259 9339 2720 24188 11483 3038 2052 2066 2131 3112 3688 8412 2015 9160 7513 2015 12202 10022 2015 2208 14291 28043 5157 2678 2399 2420 10877 10002 2686 17347 14397 2386 20325 4290 2146 2908 2651 2399 2411 26178 2502 2438 3444 3152 2298 2507 27911 2015 2613 3325 2825 3976 22073 10842 3082 5211 2458 3316 2678 2399 13946 2471 15282 4569 2720 24188 11483 2174 2409 3027 2739 13058 4531 3697 6709 7218 4539 8084 6578 3316 2066 4816 2840 3310 2152 3976 6415 2279 7563 3316 4541 3034 6708 5334 2089 4208 2028 2048 4031 3210 102 0 0 0 0 0 0 0 0 0 0 0 0 0 0 0 0 0 0 0 0 0 0 0 0 0 0 0 0 0 0 0 0 0 0 0 0 0 0 0 0 0 0 0 0 0 0 0 0 0\n"
     ]
    },
    {
     "name": "stdout",
     "output_type": "stream",
     "text": [
      "INFO:tensorflow:input_mask: 1 1 1 1 1 1 1 1 1 1 1 1 1 1 1 1 1 1 1 1 1 1 1 1 1 1 1 1 1 1 1 1 1 1 1 1 1 1 1 1 1 1 1 1 1 1 1 1 1 1 1 1 1 1 1 1 1 1 1 1 1 1 1 1 1 1 1 1 1 1 1 1 1 1 1 1 1 1 1 1 1 1 1 1 1 1 1 1 1 1 1 1 1 1 1 1 1 1 1 1 1 1 1 1 1 1 1 1 1 1 1 1 1 1 1 1 1 1 1 1 1 1 1 1 1 1 1 1 1 1 1 1 1 1 1 1 1 1 1 1 1 1 1 1 1 1 1 1 1 1 1 0 0 0 0 0 0 0 0 0 0 0 0 0 0 0 0 0 0 0 0 0 0 0 0 0 0 0 0 0 0 0 0 0 0 0 0 0 0 0 0 0 0 0 0 0 0 0 0 0\n"
     ]
    },
    {
     "name": "stderr",
     "output_type": "stream",
     "text": [
      "INFO:tensorflow:input_mask: 1 1 1 1 1 1 1 1 1 1 1 1 1 1 1 1 1 1 1 1 1 1 1 1 1 1 1 1 1 1 1 1 1 1 1 1 1 1 1 1 1 1 1 1 1 1 1 1 1 1 1 1 1 1 1 1 1 1 1 1 1 1 1 1 1 1 1 1 1 1 1 1 1 1 1 1 1 1 1 1 1 1 1 1 1 1 1 1 1 1 1 1 1 1 1 1 1 1 1 1 1 1 1 1 1 1 1 1 1 1 1 1 1 1 1 1 1 1 1 1 1 1 1 1 1 1 1 1 1 1 1 1 1 1 1 1 1 1 1 1 1 1 1 1 1 1 1 1 1 1 1 0 0 0 0 0 0 0 0 0 0 0 0 0 0 0 0 0 0 0 0 0 0 0 0 0 0 0 0 0 0 0 0 0 0 0 0 0 0 0 0 0 0 0 0 0 0 0 0 0\n"
     ]
    },
    {
     "name": "stdout",
     "output_type": "stream",
     "text": [
      "INFO:tensorflow:segment_ids: 0 0 0 0 0 0 0 0 0 0 0 0 0 0 0 0 0 0 0 0 0 0 0 0 0 0 0 0 0 0 0 0 0 0 0 0 0 0 0 0 0 0 0 0 0 0 0 0 0 0 0 0 0 0 0 0 0 0 0 0 0 0 0 0 0 0 0 0 0 0 0 0 0 0 0 0 0 0 0 0 0 0 0 0 0 0 0 0 0 0 0 0 0 0 0 0 0 0 0 0 0 0 0 0 0 0 0 0 0 0 0 0 0 0 0 0 0 0 0 0 0 0 0 0 0 0 0 0 0 0 0 0 0 0 0 0 0 0 0 0 0 0 0 0 0 0 0 0 0 0 0 0 0 0 0 0 0 0 0 0 0 0 0 0 0 0 0 0 0 0 0 0 0 0 0 0 0 0 0 0 0 0 0 0 0 0 0 0 0 0 0 0 0 0 0 0 0 0 0 0\n"
     ]
    },
    {
     "name": "stderr",
     "output_type": "stream",
     "text": [
      "INFO:tensorflow:segment_ids: 0 0 0 0 0 0 0 0 0 0 0 0 0 0 0 0 0 0 0 0 0 0 0 0 0 0 0 0 0 0 0 0 0 0 0 0 0 0 0 0 0 0 0 0 0 0 0 0 0 0 0 0 0 0 0 0 0 0 0 0 0 0 0 0 0 0 0 0 0 0 0 0 0 0 0 0 0 0 0 0 0 0 0 0 0 0 0 0 0 0 0 0 0 0 0 0 0 0 0 0 0 0 0 0 0 0 0 0 0 0 0 0 0 0 0 0 0 0 0 0 0 0 0 0 0 0 0 0 0 0 0 0 0 0 0 0 0 0 0 0 0 0 0 0 0 0 0 0 0 0 0 0 0 0 0 0 0 0 0 0 0 0 0 0 0 0 0 0 0 0 0 0 0 0 0 0 0 0 0 0 0 0 0 0 0 0 0 0 0 0 0 0 0 0 0 0 0 0 0 0\n"
     ]
    },
    {
     "name": "stdout",
     "output_type": "stream",
     "text": [
      "INFO:tensorflow:label: 0 (id = 0)\n"
     ]
    },
    {
     "name": "stderr",
     "output_type": "stream",
     "text": [
      "INFO:tensorflow:label: 0 (id = 0)\n"
     ]
    },
    {
     "name": "stdout",
     "output_type": "stream",
     "text": [
      "INFO:tensorflow:Writing example 0 of 445\n"
     ]
    },
    {
     "name": "stderr",
     "output_type": "stream",
     "text": [
      "INFO:tensorflow:Writing example 0 of 445\n"
     ]
    },
    {
     "name": "stdout",
     "output_type": "stream",
     "text": [
      "INFO:tensorflow:*** Example ***\n"
     ]
    },
    {
     "name": "stderr",
     "output_type": "stream",
     "text": [
      "INFO:tensorflow:*** Example ***\n"
     ]
    },
    {
     "name": "stdout",
     "output_type": "stream",
     "text": [
      "INFO:tensorflow:guid: None\n"
     ]
    },
    {
     "name": "stderr",
     "output_type": "stream",
     "text": [
      "INFO:tensorflow:guid: None\n"
     ]
    },
    {
     "name": "stdout",
     "output_type": "stream",
     "text": [
      "INFO:tensorflow:tokens: [CLS] italian prime minister silvio be ##rl ##us ##con ##i un ##ve ##il plans aimed kicks ##tar ##ting country ##s sp ##utter ##ing economy thursday night rome present action plan development italy meeting industrialist ##s trade union leaders mr be ##rl ##us ##con ##i expected table reforms aimed boost ##ing research development rd spending competitive ##ness small firms also focus bankruptcy laws slow pace legal system prime minister scheduled start meeting gm ##t government accused under ##fu ##nding rd making harder italy compete european nations leading brain ##dra ##in country ##s brightest talents analysts say hiring firing staff still difficult expensive ham ##per ##ing development small medium ##si ##zed businesses result say italy ##s corporate landscape filled numerous smaller companies often reluctant become bigger extra has ##sle would accompany running larger firm time bankruptcy laws make difficult failed company directors set new businesses emerge debts situation ham ##per ##ing italy ##s entrepreneur ##ial spirit government says set tack ##ling problems adding getting growth going responsibility italy ##s million population according il sole ore italy ##s business newspaper government focus opening markets infrastructure research making incentives available bankruptcy law slow pace justice system mr be ##rl ##us ##con ##i previously [SEP]\n"
     ]
    },
    {
     "name": "stderr",
     "output_type": "stream",
     "text": [
      "INFO:tensorflow:tokens: [CLS] italian prime minister silvio be ##rl ##us ##con ##i un ##ve ##il plans aimed kicks ##tar ##ting country ##s sp ##utter ##ing economy thursday night rome present action plan development italy meeting industrialist ##s trade union leaders mr be ##rl ##us ##con ##i expected table reforms aimed boost ##ing research development rd spending competitive ##ness small firms also focus bankruptcy laws slow pace legal system prime minister scheduled start meeting gm ##t government accused under ##fu ##nding rd making harder italy compete european nations leading brain ##dra ##in country ##s brightest talents analysts say hiring firing staff still difficult expensive ham ##per ##ing development small medium ##si ##zed businesses result say italy ##s corporate landscape filled numerous smaller companies often reluctant become bigger extra has ##sle would accompany running larger firm time bankruptcy laws make difficult failed company directors set new businesses emerge debts situation ham ##per ##ing italy ##s entrepreneur ##ial spirit government says set tack ##ling problems adding getting growth going responsibility italy ##s million population according il sole ore italy ##s business newspaper government focus opening markets infrastructure research making incentives available bankruptcy law slow pace justice system mr be ##rl ##us ##con ##i previously [SEP]\n"
     ]
    },
    {
     "name": "stdout",
     "output_type": "stream",
     "text": [
      "INFO:tensorflow:input_ids: 101 3059 3539 2704 28107 2022 12190 2271 8663 2072 4895 3726 4014 3488 6461 14590 7559 3436 2406 2015 11867 26878 2075 4610 9432 2305 4199 2556 2895 2933 2458 3304 3116 21691 2015 3119 2586 4177 2720 2022 12190 2271 8663 2072 3517 2795 8818 6461 12992 2075 2470 2458 16428 5938 6975 2791 2235 9786 2036 3579 10528 4277 4030 6393 3423 2291 3539 2704 5115 2707 3116 13938 2102 2231 5496 2104 11263 15683 16428 2437 6211 3304 5566 2647 3741 2877 4167 7265 2378 2406 2015 26849 11725 18288 2360 14763 7493 3095 2145 3697 6450 10654 4842 2075 2458 2235 5396 5332 5422 5661 2765 2360 3304 2015 5971 5957 3561 3365 3760 3316 2411 11542 2468 7046 4469 2038 25016 2052 12673 2770 3469 3813 2051 10528 4277 2191 3697 3478 2194 5501 2275 2047 5661 12636 13930 3663 10654 4842 2075 3304 2015 10670 4818 4382 2231 2758 2275 26997 2989 3471 5815 2893 3930 2183 5368 3304 2015 2454 2313 2429 6335 7082 10848 3304 2015 2449 3780 2231 3579 3098 6089 6502 2470 2437 21134 2800 10528 2375 4030 6393 3425 2291 2720 2022 12190 2271 8663 2072 3130 102\n"
     ]
    },
    {
     "name": "stderr",
     "output_type": "stream",
     "text": [
      "INFO:tensorflow:input_ids: 101 3059 3539 2704 28107 2022 12190 2271 8663 2072 4895 3726 4014 3488 6461 14590 7559 3436 2406 2015 11867 26878 2075 4610 9432 2305 4199 2556 2895 2933 2458 3304 3116 21691 2015 3119 2586 4177 2720 2022 12190 2271 8663 2072 3517 2795 8818 6461 12992 2075 2470 2458 16428 5938 6975 2791 2235 9786 2036 3579 10528 4277 4030 6393 3423 2291 3539 2704 5115 2707 3116 13938 2102 2231 5496 2104 11263 15683 16428 2437 6211 3304 5566 2647 3741 2877 4167 7265 2378 2406 2015 26849 11725 18288 2360 14763 7493 3095 2145 3697 6450 10654 4842 2075 2458 2235 5396 5332 5422 5661 2765 2360 3304 2015 5971 5957 3561 3365 3760 3316 2411 11542 2468 7046 4469 2038 25016 2052 12673 2770 3469 3813 2051 10528 4277 2191 3697 3478 2194 5501 2275 2047 5661 12636 13930 3663 10654 4842 2075 3304 2015 10670 4818 4382 2231 2758 2275 26997 2989 3471 5815 2893 3930 2183 5368 3304 2015 2454 2313 2429 6335 7082 10848 3304 2015 2449 3780 2231 3579 3098 6089 6502 2470 2437 21134 2800 10528 2375 4030 6393 3425 2291 2720 2022 12190 2271 8663 2072 3130 102\n"
     ]
    },
    {
     "name": "stdout",
     "output_type": "stream",
     "text": [
      "INFO:tensorflow:input_mask: 1 1 1 1 1 1 1 1 1 1 1 1 1 1 1 1 1 1 1 1 1 1 1 1 1 1 1 1 1 1 1 1 1 1 1 1 1 1 1 1 1 1 1 1 1 1 1 1 1 1 1 1 1 1 1 1 1 1 1 1 1 1 1 1 1 1 1 1 1 1 1 1 1 1 1 1 1 1 1 1 1 1 1 1 1 1 1 1 1 1 1 1 1 1 1 1 1 1 1 1 1 1 1 1 1 1 1 1 1 1 1 1 1 1 1 1 1 1 1 1 1 1 1 1 1 1 1 1 1 1 1 1 1 1 1 1 1 1 1 1 1 1 1 1 1 1 1 1 1 1 1 1 1 1 1 1 1 1 1 1 1 1 1 1 1 1 1 1 1 1 1 1 1 1 1 1 1 1 1 1 1 1 1 1 1 1 1 1 1 1 1 1 1 1 1 1 1 1 1 1\n"
     ]
    },
    {
     "name": "stderr",
     "output_type": "stream",
     "text": [
      "INFO:tensorflow:input_mask: 1 1 1 1 1 1 1 1 1 1 1 1 1 1 1 1 1 1 1 1 1 1 1 1 1 1 1 1 1 1 1 1 1 1 1 1 1 1 1 1 1 1 1 1 1 1 1 1 1 1 1 1 1 1 1 1 1 1 1 1 1 1 1 1 1 1 1 1 1 1 1 1 1 1 1 1 1 1 1 1 1 1 1 1 1 1 1 1 1 1 1 1 1 1 1 1 1 1 1 1 1 1 1 1 1 1 1 1 1 1 1 1 1 1 1 1 1 1 1 1 1 1 1 1 1 1 1 1 1 1 1 1 1 1 1 1 1 1 1 1 1 1 1 1 1 1 1 1 1 1 1 1 1 1 1 1 1 1 1 1 1 1 1 1 1 1 1 1 1 1 1 1 1 1 1 1 1 1 1 1 1 1 1 1 1 1 1 1 1 1 1 1 1 1 1 1 1 1 1 1\n"
     ]
    },
    {
     "name": "stdout",
     "output_type": "stream",
     "text": [
      "INFO:tensorflow:segment_ids: 0 0 0 0 0 0 0 0 0 0 0 0 0 0 0 0 0 0 0 0 0 0 0 0 0 0 0 0 0 0 0 0 0 0 0 0 0 0 0 0 0 0 0 0 0 0 0 0 0 0 0 0 0 0 0 0 0 0 0 0 0 0 0 0 0 0 0 0 0 0 0 0 0 0 0 0 0 0 0 0 0 0 0 0 0 0 0 0 0 0 0 0 0 0 0 0 0 0 0 0 0 0 0 0 0 0 0 0 0 0 0 0 0 0 0 0 0 0 0 0 0 0 0 0 0 0 0 0 0 0 0 0 0 0 0 0 0 0 0 0 0 0 0 0 0 0 0 0 0 0 0 0 0 0 0 0 0 0 0 0 0 0 0 0 0 0 0 0 0 0 0 0 0 0 0 0 0 0 0 0 0 0 0 0 0 0 0 0 0 0 0 0 0 0 0 0 0 0 0 0\n"
     ]
    },
    {
     "name": "stderr",
     "output_type": "stream",
     "text": [
      "INFO:tensorflow:segment_ids: 0 0 0 0 0 0 0 0 0 0 0 0 0 0 0 0 0 0 0 0 0 0 0 0 0 0 0 0 0 0 0 0 0 0 0 0 0 0 0 0 0 0 0 0 0 0 0 0 0 0 0 0 0 0 0 0 0 0 0 0 0 0 0 0 0 0 0 0 0 0 0 0 0 0 0 0 0 0 0 0 0 0 0 0 0 0 0 0 0 0 0 0 0 0 0 0 0 0 0 0 0 0 0 0 0 0 0 0 0 0 0 0 0 0 0 0 0 0 0 0 0 0 0 0 0 0 0 0 0 0 0 0 0 0 0 0 0 0 0 0 0 0 0 0 0 0 0 0 0 0 0 0 0 0 0 0 0 0 0 0 0 0 0 0 0 0 0 0 0 0 0 0 0 0 0 0 0 0 0 0 0 0 0 0 0 0 0 0 0 0 0 0 0 0 0 0 0 0 0 0\n"
     ]
    },
    {
     "name": "stdout",
     "output_type": "stream",
     "text": [
      "INFO:tensorflow:label: 0 (id = 0)\n"
     ]
    },
    {
     "name": "stderr",
     "output_type": "stream",
     "text": [
      "INFO:tensorflow:label: 0 (id = 0)\n"
     ]
    },
    {
     "name": "stdout",
     "output_type": "stream",
     "text": [
      "INFO:tensorflow:*** Example ***\n"
     ]
    },
    {
     "name": "stderr",
     "output_type": "stream",
     "text": [
      "INFO:tensorflow:*** Example ***\n"
     ]
    },
    {
     "name": "stdout",
     "output_type": "stream",
     "text": [
      "INFO:tensorflow:guid: None\n"
     ]
    },
    {
     "name": "stderr",
     "output_type": "stream",
     "text": [
      "INFO:tensorflow:guid: None\n"
     ]
    },
    {
     "name": "stdout",
     "output_type": "stream",
     "text": [
      "INFO:tensorflow:tokens: [CLS] mexican outfit red sharks veracruz hope sign jun ##inho brazilian decides leave celtic frustrated lack first ##tea ##m action president gustavo parent ##e sanchez says jun ##inho wish remain scottish football anymore agent brian has ##sell insists year ##old brazilian midfielder determined win back place manager going pick that ##s different ball game told sun that ##s something wed look jun ##inho deserves respect little kid has ##sell warns jun ##inho could rec ##ons ##ider future celtic unless given run games end january transfer window jun ##inho signed middlesbrough summer failed live high expectations lost place year ##old aiden mc ##ge ##ady caps brazil he ##s best signing celtic ever made insisted has ##sell wants play martin one ##ill martin one ##ill want play jun ##inho someone come celtic ranks deserves much respect sanchez bull ##ish hopes pri ##sing jun ##inho scottish champions although has ##sell believes mexico would preferred destination already spoken jun ##inho said firm offer club spain veracruz destination sanchez told clubs official website celtic manager one ##ill respect ##er reputation ##s on ##us jun ##inho force way team said players get game merit that ##s way always certainly case celtic park [SEP]\n"
     ]
    },
    {
     "name": "stderr",
     "output_type": "stream",
     "text": [
      "INFO:tensorflow:tokens: [CLS] mexican outfit red sharks veracruz hope sign jun ##inho brazilian decides leave celtic frustrated lack first ##tea ##m action president gustavo parent ##e sanchez says jun ##inho wish remain scottish football anymore agent brian has ##sell insists year ##old brazilian midfielder determined win back place manager going pick that ##s different ball game told sun that ##s something wed look jun ##inho deserves respect little kid has ##sell warns jun ##inho could rec ##ons ##ider future celtic unless given run games end january transfer window jun ##inho signed middlesbrough summer failed live high expectations lost place year ##old aiden mc ##ge ##ady caps brazil he ##s best signing celtic ever made insisted has ##sell wants play martin one ##ill martin one ##ill want play jun ##inho someone come celtic ranks deserves much respect sanchez bull ##ish hopes pri ##sing jun ##inho scottish champions although has ##sell believes mexico would preferred destination already spoken jun ##inho said firm offer club spain veracruz destination sanchez told clubs official website celtic manager one ##ill respect ##er reputation ##s on ##us jun ##inho force way team said players get game merit that ##s way always certainly case celtic park [SEP]\n"
     ]
    },
    {
     "name": "stdout",
     "output_type": "stream",
     "text": [
      "INFO:tensorflow:input_ids: 101 4916 11018 2417 12004 23741 3246 3696 12022 29344 6142 7288 2681 8730 10206 3768 2034 27058 2213 2895 2343 24801 6687 2063 10568 2758 12022 29344 4299 3961 4104 2374 4902 4005 4422 2038 23836 16818 2095 11614 6142 8850 4340 2663 2067 2173 3208 2183 4060 2008 2015 2367 3608 2208 2409 3103 2008 2015 2242 21981 2298 12022 29344 17210 4847 2210 4845 2038 23836 19428 12022 29344 2071 28667 5644 18688 2925 8730 4983 2445 2448 2399 2203 2254 4651 3332 12022 29344 2772 21655 2621 3478 2444 2152 10908 2439 2173 2095 11614 15086 11338 3351 18632 9700 4380 2002 2015 2190 6608 8730 2412 2081 7278 2038 23836 4122 2377 3235 2028 8591 3235 2028 8591 2215 2377 12022 29344 2619 2272 8730 6938 17210 2172 4847 10568 7087 4509 8069 26927 7741 12022 29344 4104 3966 2348 2038 23836 7164 3290 2052 6871 7688 2525 5287 12022 29344 2056 3813 3749 2252 3577 23741 7688 10568 2409 4184 2880 4037 8730 3208 2028 8591 4847 2121 5891 2015 2006 2271 12022 29344 2486 2126 2136 2056 2867 2131 2208 7857 2008 2015 2126 2467 5121 2553 8730 2380 102 0 0 0\n"
     ]
    },
    {
     "name": "stderr",
     "output_type": "stream",
     "text": [
      "INFO:tensorflow:input_ids: 101 4916 11018 2417 12004 23741 3246 3696 12022 29344 6142 7288 2681 8730 10206 3768 2034 27058 2213 2895 2343 24801 6687 2063 10568 2758 12022 29344 4299 3961 4104 2374 4902 4005 4422 2038 23836 16818 2095 11614 6142 8850 4340 2663 2067 2173 3208 2183 4060 2008 2015 2367 3608 2208 2409 3103 2008 2015 2242 21981 2298 12022 29344 17210 4847 2210 4845 2038 23836 19428 12022 29344 2071 28667 5644 18688 2925 8730 4983 2445 2448 2399 2203 2254 4651 3332 12022 29344 2772 21655 2621 3478 2444 2152 10908 2439 2173 2095 11614 15086 11338 3351 18632 9700 4380 2002 2015 2190 6608 8730 2412 2081 7278 2038 23836 4122 2377 3235 2028 8591 3235 2028 8591 2215 2377 12022 29344 2619 2272 8730 6938 17210 2172 4847 10568 7087 4509 8069 26927 7741 12022 29344 4104 3966 2348 2038 23836 7164 3290 2052 6871 7688 2525 5287 12022 29344 2056 3813 3749 2252 3577 23741 7688 10568 2409 4184 2880 4037 8730 3208 2028 8591 4847 2121 5891 2015 2006 2271 12022 29344 2486 2126 2136 2056 2867 2131 2208 7857 2008 2015 2126 2467 5121 2553 8730 2380 102 0 0 0\n"
     ]
    },
    {
     "name": "stdout",
     "output_type": "stream",
     "text": [
      "INFO:tensorflow:input_mask: 1 1 1 1 1 1 1 1 1 1 1 1 1 1 1 1 1 1 1 1 1 1 1 1 1 1 1 1 1 1 1 1 1 1 1 1 1 1 1 1 1 1 1 1 1 1 1 1 1 1 1 1 1 1 1 1 1 1 1 1 1 1 1 1 1 1 1 1 1 1 1 1 1 1 1 1 1 1 1 1 1 1 1 1 1 1 1 1 1 1 1 1 1 1 1 1 1 1 1 1 1 1 1 1 1 1 1 1 1 1 1 1 1 1 1 1 1 1 1 1 1 1 1 1 1 1 1 1 1 1 1 1 1 1 1 1 1 1 1 1 1 1 1 1 1 1 1 1 1 1 1 1 1 1 1 1 1 1 1 1 1 1 1 1 1 1 1 1 1 1 1 1 1 1 1 1 1 1 1 1 1 1 1 1 1 1 1 1 1 1 1 1 1 1 1 1 1 0 0 0\n"
     ]
    },
    {
     "name": "stderr",
     "output_type": "stream",
     "text": [
      "INFO:tensorflow:input_mask: 1 1 1 1 1 1 1 1 1 1 1 1 1 1 1 1 1 1 1 1 1 1 1 1 1 1 1 1 1 1 1 1 1 1 1 1 1 1 1 1 1 1 1 1 1 1 1 1 1 1 1 1 1 1 1 1 1 1 1 1 1 1 1 1 1 1 1 1 1 1 1 1 1 1 1 1 1 1 1 1 1 1 1 1 1 1 1 1 1 1 1 1 1 1 1 1 1 1 1 1 1 1 1 1 1 1 1 1 1 1 1 1 1 1 1 1 1 1 1 1 1 1 1 1 1 1 1 1 1 1 1 1 1 1 1 1 1 1 1 1 1 1 1 1 1 1 1 1 1 1 1 1 1 1 1 1 1 1 1 1 1 1 1 1 1 1 1 1 1 1 1 1 1 1 1 1 1 1 1 1 1 1 1 1 1 1 1 1 1 1 1 1 1 1 1 1 1 0 0 0\n"
     ]
    },
    {
     "name": "stdout",
     "output_type": "stream",
     "text": [
      "INFO:tensorflow:segment_ids: 0 0 0 0 0 0 0 0 0 0 0 0 0 0 0 0 0 0 0 0 0 0 0 0 0 0 0 0 0 0 0 0 0 0 0 0 0 0 0 0 0 0 0 0 0 0 0 0 0 0 0 0 0 0 0 0 0 0 0 0 0 0 0 0 0 0 0 0 0 0 0 0 0 0 0 0 0 0 0 0 0 0 0 0 0 0 0 0 0 0 0 0 0 0 0 0 0 0 0 0 0 0 0 0 0 0 0 0 0 0 0 0 0 0 0 0 0 0 0 0 0 0 0 0 0 0 0 0 0 0 0 0 0 0 0 0 0 0 0 0 0 0 0 0 0 0 0 0 0 0 0 0 0 0 0 0 0 0 0 0 0 0 0 0 0 0 0 0 0 0 0 0 0 0 0 0 0 0 0 0 0 0 0 0 0 0 0 0 0 0 0 0 0 0 0 0 0 0 0 0\n"
     ]
    },
    {
     "name": "stderr",
     "output_type": "stream",
     "text": [
      "INFO:tensorflow:segment_ids: 0 0 0 0 0 0 0 0 0 0 0 0 0 0 0 0 0 0 0 0 0 0 0 0 0 0 0 0 0 0 0 0 0 0 0 0 0 0 0 0 0 0 0 0 0 0 0 0 0 0 0 0 0 0 0 0 0 0 0 0 0 0 0 0 0 0 0 0 0 0 0 0 0 0 0 0 0 0 0 0 0 0 0 0 0 0 0 0 0 0 0 0 0 0 0 0 0 0 0 0 0 0 0 0 0 0 0 0 0 0 0 0 0 0 0 0 0 0 0 0 0 0 0 0 0 0 0 0 0 0 0 0 0 0 0 0 0 0 0 0 0 0 0 0 0 0 0 0 0 0 0 0 0 0 0 0 0 0 0 0 0 0 0 0 0 0 0 0 0 0 0 0 0 0 0 0 0 0 0 0 0 0 0 0 0 0 0 0 0 0 0 0 0 0 0 0 0 0 0 0\n"
     ]
    },
    {
     "name": "stdout",
     "output_type": "stream",
     "text": [
      "INFO:tensorflow:label: 3 (id = 3)\n"
     ]
    },
    {
     "name": "stderr",
     "output_type": "stream",
     "text": [
      "INFO:tensorflow:label: 3 (id = 3)\n"
     ]
    },
    {
     "name": "stdout",
     "output_type": "stream",
     "text": [
      "INFO:tensorflow:*** Example ***\n"
     ]
    },
    {
     "name": "stderr",
     "output_type": "stream",
     "text": [
      "INFO:tensorflow:*** Example ***\n"
     ]
    },
    {
     "name": "stdout",
     "output_type": "stream",
     "text": [
      "INFO:tensorflow:guid: None\n"
     ]
    },
    {
     "name": "stderr",
     "output_type": "stream",
     "text": [
      "INFO:tensorflow:guid: None\n"
     ]
    },
    {
     "name": "stdout",
     "output_type": "stream",
     "text": [
      "INFO:tensorflow:tokens: [CLS] french consumers increased spending january figure bo ##des well country ##s economic growth figures revealed national stat ##istic institute ins ##ee added consumer spending january rose year ##ony ##ear basis rising sales household equipment behind increase ins ##ee also said french consumer prices fell january annual basis despite general increase spending january french households bought fewer cars january according ins ##ee car sales fell january following fall december year ##ony ##ear basis sector still saw sales increase consumer spending fuel ##led frances economic growth last quarter analysts expect continue support economy growth remain fragile vulnerable risks like strong rise long ##ter ##m interest rates tension oil price emmanuel ferry ex ##ane bn ##p par ##iba ##s told reuters news agency meanwhile italy consumer confidence rose highest level since october economic research group isa ##e said italian consumer confidence rose despite slight deterioration short ##ter ##m sentiment [SEP]\n"
     ]
    },
    {
     "name": "stderr",
     "output_type": "stream",
     "text": [
      "INFO:tensorflow:tokens: [CLS] french consumers increased spending january figure bo ##des well country ##s economic growth figures revealed national stat ##istic institute ins ##ee added consumer spending january rose year ##ony ##ear basis rising sales household equipment behind increase ins ##ee also said french consumer prices fell january annual basis despite general increase spending january french households bought fewer cars january according ins ##ee car sales fell january following fall december year ##ony ##ear basis sector still saw sales increase consumer spending fuel ##led frances economic growth last quarter analysts expect continue support economy growth remain fragile vulnerable risks like strong rise long ##ter ##m interest rates tension oil price emmanuel ferry ex ##ane bn ##p par ##iba ##s told reuters news agency meanwhile italy consumer confidence rose highest level since october economic research group isa ##e said italian consumer confidence rose despite slight deterioration short ##ter ##m sentiment [SEP]\n"
     ]
    },
    {
     "name": "stdout",
     "output_type": "stream",
     "text": [
      "INFO:tensorflow:input_ids: 101 2413 10390 3445 5938 2254 3275 8945 6155 2092 2406 2015 3171 3930 4481 3936 2120 28093 6553 2820 16021 4402 2794 7325 5938 2254 3123 2095 16585 14644 3978 4803 4341 4398 3941 2369 3623 16021 4402 2036 2056 2413 7325 7597 3062 2254 3296 3978 2750 2236 3623 5938 2254 2413 3911 4149 8491 3765 2254 2429 16021 4402 2482 4341 3062 2254 2206 2991 2285 2095 16585 14644 3978 4753 2145 2387 4341 3623 7325 5938 4762 3709 10360 3171 3930 2197 4284 18288 5987 3613 2490 4610 3930 3961 13072 8211 10831 2066 2844 4125 2146 3334 2213 3037 6165 6980 3514 3976 14459 7115 4654 7231 24869 2361 11968 18410 2015 2409 26665 2739 4034 5564 3304 7325 7023 3123 3284 2504 2144 2255 3171 2470 2177 18061 2063 2056 3059 7325 7023 3123 2750 7263 26118 2460 3334 2213 15792 102 0 0 0 0 0 0 0 0 0 0 0 0 0 0 0 0 0 0 0 0 0 0 0 0 0 0 0 0 0 0 0 0 0 0 0 0 0 0 0 0 0 0 0 0 0 0 0 0 0 0 0 0\n"
     ]
    },
    {
     "name": "stderr",
     "output_type": "stream",
     "text": [
      "INFO:tensorflow:input_ids: 101 2413 10390 3445 5938 2254 3275 8945 6155 2092 2406 2015 3171 3930 4481 3936 2120 28093 6553 2820 16021 4402 2794 7325 5938 2254 3123 2095 16585 14644 3978 4803 4341 4398 3941 2369 3623 16021 4402 2036 2056 2413 7325 7597 3062 2254 3296 3978 2750 2236 3623 5938 2254 2413 3911 4149 8491 3765 2254 2429 16021 4402 2482 4341 3062 2254 2206 2991 2285 2095 16585 14644 3978 4753 2145 2387 4341 3623 7325 5938 4762 3709 10360 3171 3930 2197 4284 18288 5987 3613 2490 4610 3930 3961 13072 8211 10831 2066 2844 4125 2146 3334 2213 3037 6165 6980 3514 3976 14459 7115 4654 7231 24869 2361 11968 18410 2015 2409 26665 2739 4034 5564 3304 7325 7023 3123 3284 2504 2144 2255 3171 2470 2177 18061 2063 2056 3059 7325 7023 3123 2750 7263 26118 2460 3334 2213 15792 102 0 0 0 0 0 0 0 0 0 0 0 0 0 0 0 0 0 0 0 0 0 0 0 0 0 0 0 0 0 0 0 0 0 0 0 0 0 0 0 0 0 0 0 0 0 0 0 0 0 0 0 0\n"
     ]
    },
    {
     "name": "stdout",
     "output_type": "stream",
     "text": [
      "INFO:tensorflow:input_mask: 1 1 1 1 1 1 1 1 1 1 1 1 1 1 1 1 1 1 1 1 1 1 1 1 1 1 1 1 1 1 1 1 1 1 1 1 1 1 1 1 1 1 1 1 1 1 1 1 1 1 1 1 1 1 1 1 1 1 1 1 1 1 1 1 1 1 1 1 1 1 1 1 1 1 1 1 1 1 1 1 1 1 1 1 1 1 1 1 1 1 1 1 1 1 1 1 1 1 1 1 1 1 1 1 1 1 1 1 1 1 1 1 1 1 1 1 1 1 1 1 1 1 1 1 1 1 1 1 1 1 1 1 1 1 1 1 1 1 1 1 1 1 1 1 1 1 1 1 0 0 0 0 0 0 0 0 0 0 0 0 0 0 0 0 0 0 0 0 0 0 0 0 0 0 0 0 0 0 0 0 0 0 0 0 0 0 0 0 0 0 0 0 0 0 0 0 0 0 0 0\n"
     ]
    },
    {
     "name": "stderr",
     "output_type": "stream",
     "text": [
      "INFO:tensorflow:input_mask: 1 1 1 1 1 1 1 1 1 1 1 1 1 1 1 1 1 1 1 1 1 1 1 1 1 1 1 1 1 1 1 1 1 1 1 1 1 1 1 1 1 1 1 1 1 1 1 1 1 1 1 1 1 1 1 1 1 1 1 1 1 1 1 1 1 1 1 1 1 1 1 1 1 1 1 1 1 1 1 1 1 1 1 1 1 1 1 1 1 1 1 1 1 1 1 1 1 1 1 1 1 1 1 1 1 1 1 1 1 1 1 1 1 1 1 1 1 1 1 1 1 1 1 1 1 1 1 1 1 1 1 1 1 1 1 1 1 1 1 1 1 1 1 1 1 1 1 1 0 0 0 0 0 0 0 0 0 0 0 0 0 0 0 0 0 0 0 0 0 0 0 0 0 0 0 0 0 0 0 0 0 0 0 0 0 0 0 0 0 0 0 0 0 0 0 0 0 0 0 0\n"
     ]
    },
    {
     "name": "stdout",
     "output_type": "stream",
     "text": [
      "INFO:tensorflow:segment_ids: 0 0 0 0 0 0 0 0 0 0 0 0 0 0 0 0 0 0 0 0 0 0 0 0 0 0 0 0 0 0 0 0 0 0 0 0 0 0 0 0 0 0 0 0 0 0 0 0 0 0 0 0 0 0 0 0 0 0 0 0 0 0 0 0 0 0 0 0 0 0 0 0 0 0 0 0 0 0 0 0 0 0 0 0 0 0 0 0 0 0 0 0 0 0 0 0 0 0 0 0 0 0 0 0 0 0 0 0 0 0 0 0 0 0 0 0 0 0 0 0 0 0 0 0 0 0 0 0 0 0 0 0 0 0 0 0 0 0 0 0 0 0 0 0 0 0 0 0 0 0 0 0 0 0 0 0 0 0 0 0 0 0 0 0 0 0 0 0 0 0 0 0 0 0 0 0 0 0 0 0 0 0 0 0 0 0 0 0 0 0 0 0 0 0 0 0 0 0 0 0\n"
     ]
    },
    {
     "name": "stderr",
     "output_type": "stream",
     "text": [
      "INFO:tensorflow:segment_ids: 0 0 0 0 0 0 0 0 0 0 0 0 0 0 0 0 0 0 0 0 0 0 0 0 0 0 0 0 0 0 0 0 0 0 0 0 0 0 0 0 0 0 0 0 0 0 0 0 0 0 0 0 0 0 0 0 0 0 0 0 0 0 0 0 0 0 0 0 0 0 0 0 0 0 0 0 0 0 0 0 0 0 0 0 0 0 0 0 0 0 0 0 0 0 0 0 0 0 0 0 0 0 0 0 0 0 0 0 0 0 0 0 0 0 0 0 0 0 0 0 0 0 0 0 0 0 0 0 0 0 0 0 0 0 0 0 0 0 0 0 0 0 0 0 0 0 0 0 0 0 0 0 0 0 0 0 0 0 0 0 0 0 0 0 0 0 0 0 0 0 0 0 0 0 0 0 0 0 0 0 0 0 0 0 0 0 0 0 0 0 0 0 0 0 0 0 0 0 0 0\n"
     ]
    },
    {
     "name": "stdout",
     "output_type": "stream",
     "text": [
      "INFO:tensorflow:label: 0 (id = 0)\n"
     ]
    },
    {
     "name": "stderr",
     "output_type": "stream",
     "text": [
      "INFO:tensorflow:label: 0 (id = 0)\n"
     ]
    },
    {
     "name": "stdout",
     "output_type": "stream",
     "text": [
      "INFO:tensorflow:*** Example ***\n"
     ]
    },
    {
     "name": "stderr",
     "output_type": "stream",
     "text": [
      "INFO:tensorflow:*** Example ***\n"
     ]
    },
    {
     "name": "stdout",
     "output_type": "stream",
     "text": [
      "INFO:tensorflow:guid: None\n"
     ]
    },
    {
     "name": "stderr",
     "output_type": "stream",
     "text": [
      "INFO:tensorflow:guid: None\n"
     ]
    },
    {
     "name": "stdout",
     "output_type": "stream",
     "text": [
      "INFO:tensorflow:tokens: [CLS] special adapt ##or helps people hand tremor ##s control computer mouse easily developed device uses similar steady cam technology found cam ##cor ##ders filter shaking hand movements people hand tremor ##s find hard use conventional mice simple computer tasks erratic movements cu ##rso ##r screen three million brit ##ons sort hand tremor condition said uk national tremor foundation using computer mouse well known extremely hard people tremor ##s delighted hear technology developed address problem said karen walsh uk national tremor foundation commonly associated tremor ##s parkinson ##s disease also caused conditions like essential tremor et tremor ##s often affect older people hit ages et example genetic af ##flict people throughout lives assist ##ive mouse adapt ##er ama brain ##child ibm researcher jim levine developed prototype seeing uncle parkinson ##s disease struggle mouse control knew must way improve situation millions tremor suffer ##ers around world including elderly number elderly computer users increase population ages time need computer access grows said computer users plug device pc adjusted depending severe tremor also able recognise multiple clicking mouse button caused shaky digits ibm said would partner small uk ##base ##d electronics firm montrose sec ##am produce devices cost james co ##sg ##rave [SEP]\n"
     ]
    },
    {
     "name": "stderr",
     "output_type": "stream",
     "text": [
      "INFO:tensorflow:tokens: [CLS] special adapt ##or helps people hand tremor ##s control computer mouse easily developed device uses similar steady cam technology found cam ##cor ##ders filter shaking hand movements people hand tremor ##s find hard use conventional mice simple computer tasks erratic movements cu ##rso ##r screen three million brit ##ons sort hand tremor condition said uk national tremor foundation using computer mouse well known extremely hard people tremor ##s delighted hear technology developed address problem said karen walsh uk national tremor foundation commonly associated tremor ##s parkinson ##s disease also caused conditions like essential tremor et tremor ##s often affect older people hit ages et example genetic af ##flict people throughout lives assist ##ive mouse adapt ##er ama brain ##child ibm researcher jim levine developed prototype seeing uncle parkinson ##s disease struggle mouse control knew must way improve situation millions tremor suffer ##ers around world including elderly number elderly computer users increase population ages time need computer access grows said computer users plug device pc adjusted depending severe tremor also able recognise multiple clicking mouse button caused shaky digits ibm said would partner small uk ##base ##d electronics firm montrose sec ##am produce devices cost james co ##sg ##rave [SEP]\n"
     ]
    },
    {
     "name": "stdout",
     "output_type": "stream",
     "text": [
      "INFO:tensorflow:input_ids: 101 2569 15581 2953 7126 2111 2192 27734 2015 2491 3274 8000 4089 2764 5080 3594 2714 6706 11503 2974 2179 11503 27108 13375 11307 5513 2192 5750 2111 2192 27734 2015 2424 2524 2224 7511 12328 3722 3274 8518 24122 5750 12731 25301 2099 3898 2093 2454 28101 5644 4066 2192 27734 4650 2056 2866 2120 27734 3192 2478 3274 8000 2092 2124 5186 2524 2111 27734 2015 15936 2963 2974 2764 4769 3291 2056 8129 11019 2866 2120 27734 3192 4141 3378 27734 2015 20310 2015 4295 2036 3303 3785 2066 6827 27734 3802 27734 2015 2411 7461 3080 2111 2718 5535 3802 2742 7403 21358 29301 2111 2802 3268 6509 3512 8000 15581 2121 25933 4167 19339 9980 10753 3958 17780 2764 8773 3773 4470 20310 2015 4295 5998 8000 2491 2354 2442 2126 5335 3663 8817 27734 9015 2545 2105 2088 2164 9750 2193 9750 3274 5198 3623 2313 5535 2051 2342 3274 3229 7502 2056 3274 5198 13354 5080 7473 10426 5834 5729 27734 2036 2583 17614 3674 22042 8000 6462 3303 15311 16648 9980 2056 2052 4256 2235 2866 15058 2094 8139 3813 24990 10819 3286 3965 5733 3465 2508 2522 28745 22401 102\n"
     ]
    },
    {
     "name": "stderr",
     "output_type": "stream",
     "text": [
      "INFO:tensorflow:input_ids: 101 2569 15581 2953 7126 2111 2192 27734 2015 2491 3274 8000 4089 2764 5080 3594 2714 6706 11503 2974 2179 11503 27108 13375 11307 5513 2192 5750 2111 2192 27734 2015 2424 2524 2224 7511 12328 3722 3274 8518 24122 5750 12731 25301 2099 3898 2093 2454 28101 5644 4066 2192 27734 4650 2056 2866 2120 27734 3192 2478 3274 8000 2092 2124 5186 2524 2111 27734 2015 15936 2963 2974 2764 4769 3291 2056 8129 11019 2866 2120 27734 3192 4141 3378 27734 2015 20310 2015 4295 2036 3303 3785 2066 6827 27734 3802 27734 2015 2411 7461 3080 2111 2718 5535 3802 2742 7403 21358 29301 2111 2802 3268 6509 3512 8000 15581 2121 25933 4167 19339 9980 10753 3958 17780 2764 8773 3773 4470 20310 2015 4295 5998 8000 2491 2354 2442 2126 5335 3663 8817 27734 9015 2545 2105 2088 2164 9750 2193 9750 3274 5198 3623 2313 5535 2051 2342 3274 3229 7502 2056 3274 5198 13354 5080 7473 10426 5834 5729 27734 2036 2583 17614 3674 22042 8000 6462 3303 15311 16648 9980 2056 2052 4256 2235 2866 15058 2094 8139 3813 24990 10819 3286 3965 5733 3465 2508 2522 28745 22401 102\n"
     ]
    },
    {
     "name": "stdout",
     "output_type": "stream",
     "text": [
      "INFO:tensorflow:input_mask: 1 1 1 1 1 1 1 1 1 1 1 1 1 1 1 1 1 1 1 1 1 1 1 1 1 1 1 1 1 1 1 1 1 1 1 1 1 1 1 1 1 1 1 1 1 1 1 1 1 1 1 1 1 1 1 1 1 1 1 1 1 1 1 1 1 1 1 1 1 1 1 1 1 1 1 1 1 1 1 1 1 1 1 1 1 1 1 1 1 1 1 1 1 1 1 1 1 1 1 1 1 1 1 1 1 1 1 1 1 1 1 1 1 1 1 1 1 1 1 1 1 1 1 1 1 1 1 1 1 1 1 1 1 1 1 1 1 1 1 1 1 1 1 1 1 1 1 1 1 1 1 1 1 1 1 1 1 1 1 1 1 1 1 1 1 1 1 1 1 1 1 1 1 1 1 1 1 1 1 1 1 1 1 1 1 1 1 1 1 1 1 1 1 1 1 1 1 1 1 1\n"
     ]
    },
    {
     "name": "stderr",
     "output_type": "stream",
     "text": [
      "INFO:tensorflow:input_mask: 1 1 1 1 1 1 1 1 1 1 1 1 1 1 1 1 1 1 1 1 1 1 1 1 1 1 1 1 1 1 1 1 1 1 1 1 1 1 1 1 1 1 1 1 1 1 1 1 1 1 1 1 1 1 1 1 1 1 1 1 1 1 1 1 1 1 1 1 1 1 1 1 1 1 1 1 1 1 1 1 1 1 1 1 1 1 1 1 1 1 1 1 1 1 1 1 1 1 1 1 1 1 1 1 1 1 1 1 1 1 1 1 1 1 1 1 1 1 1 1 1 1 1 1 1 1 1 1 1 1 1 1 1 1 1 1 1 1 1 1 1 1 1 1 1 1 1 1 1 1 1 1 1 1 1 1 1 1 1 1 1 1 1 1 1 1 1 1 1 1 1 1 1 1 1 1 1 1 1 1 1 1 1 1 1 1 1 1 1 1 1 1 1 1 1 1 1 1 1 1\n"
     ]
    },
    {
     "name": "stdout",
     "output_type": "stream",
     "text": [
      "INFO:tensorflow:segment_ids: 0 0 0 0 0 0 0 0 0 0 0 0 0 0 0 0 0 0 0 0 0 0 0 0 0 0 0 0 0 0 0 0 0 0 0 0 0 0 0 0 0 0 0 0 0 0 0 0 0 0 0 0 0 0 0 0 0 0 0 0 0 0 0 0 0 0 0 0 0 0 0 0 0 0 0 0 0 0 0 0 0 0 0 0 0 0 0 0 0 0 0 0 0 0 0 0 0 0 0 0 0 0 0 0 0 0 0 0 0 0 0 0 0 0 0 0 0 0 0 0 0 0 0 0 0 0 0 0 0 0 0 0 0 0 0 0 0 0 0 0 0 0 0 0 0 0 0 0 0 0 0 0 0 0 0 0 0 0 0 0 0 0 0 0 0 0 0 0 0 0 0 0 0 0 0 0 0 0 0 0 0 0 0 0 0 0 0 0 0 0 0 0 0 0 0 0 0 0 0 0\n"
     ]
    },
    {
     "name": "stderr",
     "output_type": "stream",
     "text": [
      "INFO:tensorflow:segment_ids: 0 0 0 0 0 0 0 0 0 0 0 0 0 0 0 0 0 0 0 0 0 0 0 0 0 0 0 0 0 0 0 0 0 0 0 0 0 0 0 0 0 0 0 0 0 0 0 0 0 0 0 0 0 0 0 0 0 0 0 0 0 0 0 0 0 0 0 0 0 0 0 0 0 0 0 0 0 0 0 0 0 0 0 0 0 0 0 0 0 0 0 0 0 0 0 0 0 0 0 0 0 0 0 0 0 0 0 0 0 0 0 0 0 0 0 0 0 0 0 0 0 0 0 0 0 0 0 0 0 0 0 0 0 0 0 0 0 0 0 0 0 0 0 0 0 0 0 0 0 0 0 0 0 0 0 0 0 0 0 0 0 0 0 0 0 0 0 0 0 0 0 0 0 0 0 0 0 0 0 0 0 0 0 0 0 0 0 0 0 0 0 0 0 0 0 0 0 0 0 0\n"
     ]
    },
    {
     "name": "stdout",
     "output_type": "stream",
     "text": [
      "INFO:tensorflow:label: 4 (id = 4)\n"
     ]
    },
    {
     "name": "stderr",
     "output_type": "stream",
     "text": [
      "INFO:tensorflow:label: 4 (id = 4)\n"
     ]
    },
    {
     "name": "stdout",
     "output_type": "stream",
     "text": [
      "INFO:tensorflow:*** Example ***\n"
     ]
    },
    {
     "name": "stderr",
     "output_type": "stream",
     "text": [
      "INFO:tensorflow:*** Example ***\n"
     ]
    },
    {
     "name": "stdout",
     "output_type": "stream",
     "text": [
      "INFO:tensorflow:guid: None\n"
     ]
    },
    {
     "name": "stderr",
     "output_type": "stream",
     "text": [
      "INFO:tensorflow:guid: None\n"
     ]
    },
    {
     "name": "stdout",
     "output_type": "stream",
     "text": [
      "INFO:tensorflow:tokens: [CLS] ars ##ene wen ##ger stepped feud sir alex ferguson claiming manchester united manager guilty bringing football di ##sr ##ep ##ute pairs long ##run ##ning row put back headlines saturday ferguson said arsenal counterpart disgrace wen ##ger initially refused bite back saying never answer questions man claims ferguson punished football association latest twist ferguson ##wen ##ger saga came saturday united boss interview independent newspaper discussed events game two sides october united day old trafford game followed notorious food fight saw ferguson ##s clothes covered soup pizza sides meet high ##bury february tunnel wen ##ger critic ##ising players calling cheat ##s told leave alone behave ferguson said saturday ran hands raised saying want ap ##olo ##gis ##e behaviour players another manager un ##thi ##nka ##ble disgrace don ##t expect wen ##ger ever ap ##olo ##gis ##e he ##s type person allegations put wen ##ger saturdays game bolton arsenal lost slip points behind chelsea title race first said iv ##e always consistent story told nothing happened talk talks wants make newspaper article makes newspaper article doesn ##t interest doesn ##t matter never answer pro ##vocation likes england anyway go abroad one day see later saturday according independent wen ##ger spoke smaller [SEP]\n"
     ]
    },
    {
     "name": "stderr",
     "output_type": "stream",
     "text": [
      "INFO:tensorflow:tokens: [CLS] ars ##ene wen ##ger stepped feud sir alex ferguson claiming manchester united manager guilty bringing football di ##sr ##ep ##ute pairs long ##run ##ning row put back headlines saturday ferguson said arsenal counterpart disgrace wen ##ger initially refused bite back saying never answer questions man claims ferguson punished football association latest twist ferguson ##wen ##ger saga came saturday united boss interview independent newspaper discussed events game two sides october united day old trafford game followed notorious food fight saw ferguson ##s clothes covered soup pizza sides meet high ##bury february tunnel wen ##ger critic ##ising players calling cheat ##s told leave alone behave ferguson said saturday ran hands raised saying want ap ##olo ##gis ##e behaviour players another manager un ##thi ##nka ##ble disgrace don ##t expect wen ##ger ever ap ##olo ##gis ##e he ##s type person allegations put wen ##ger saturdays game bolton arsenal lost slip points behind chelsea title race first said iv ##e always consistent story told nothing happened talk talks wants make newspaper article makes newspaper article doesn ##t interest doesn ##t matter never answer pro ##vocation likes england anyway go abroad one day see later saturday according independent wen ##ger spoke smaller [SEP]\n"
     ]
    },
    {
     "name": "stdout",
     "output_type": "stream",
     "text": [
      "INFO:tensorflow:input_ids: 101 29393 8625 19181 4590 3706 13552 2909 4074 11262 6815 5087 2142 3208 5905 5026 2374 4487 21338 13699 10421 7689 2146 15532 5582 5216 2404 2067 19377 5095 11262 2056 9433 13637 29591 19181 4590 3322 4188 6805 2067 3038 2196 3437 3980 2158 4447 11262 14248 2374 2523 6745 9792 11262 12449 4590 12312 2234 5095 2142 5795 4357 2981 3780 6936 2824 2208 2048 3903 2255 2142 2154 2214 26894 2208 2628 12536 2833 2954 2387 11262 2015 4253 3139 11350 10733 3903 3113 2152 4917 2337 5234 19181 4590 6232 9355 2867 4214 21910 2015 2409 2681 2894 16582 11262 2056 5095 2743 2398 2992 3038 2215 9706 12898 17701 2063 9164 2867 2178 3208 4895 15222 25804 3468 29591 2123 2102 5987 19181 4590 2412 9706 12898 17701 2063 2002 2015 2828 2711 9989 2404 19181 4590 18860 2208 12118 9433 2439 7540 2685 2369 9295 2516 2679 2034 2056 4921 2063 2467 8335 2466 2409 2498 3047 2831 7566 4122 2191 3780 3720 3084 3780 3720 2987 2102 3037 2987 2102 3043 2196 3437 4013 19152 7777 2563 4312 2175 6917 2028 2154 2156 2101 5095 2429 2981 19181 4590 3764 3760 102\n"
     ]
    },
    {
     "name": "stderr",
     "output_type": "stream",
     "text": [
      "INFO:tensorflow:input_ids: 101 29393 8625 19181 4590 3706 13552 2909 4074 11262 6815 5087 2142 3208 5905 5026 2374 4487 21338 13699 10421 7689 2146 15532 5582 5216 2404 2067 19377 5095 11262 2056 9433 13637 29591 19181 4590 3322 4188 6805 2067 3038 2196 3437 3980 2158 4447 11262 14248 2374 2523 6745 9792 11262 12449 4590 12312 2234 5095 2142 5795 4357 2981 3780 6936 2824 2208 2048 3903 2255 2142 2154 2214 26894 2208 2628 12536 2833 2954 2387 11262 2015 4253 3139 11350 10733 3903 3113 2152 4917 2337 5234 19181 4590 6232 9355 2867 4214 21910 2015 2409 2681 2894 16582 11262 2056 5095 2743 2398 2992 3038 2215 9706 12898 17701 2063 9164 2867 2178 3208 4895 15222 25804 3468 29591 2123 2102 5987 19181 4590 2412 9706 12898 17701 2063 2002 2015 2828 2711 9989 2404 19181 4590 18860 2208 12118 9433 2439 7540 2685 2369 9295 2516 2679 2034 2056 4921 2063 2467 8335 2466 2409 2498 3047 2831 7566 4122 2191 3780 3720 3084 3780 3720 2987 2102 3037 2987 2102 3043 2196 3437 4013 19152 7777 2563 4312 2175 6917 2028 2154 2156 2101 5095 2429 2981 19181 4590 3764 3760 102\n"
     ]
    },
    {
     "name": "stdout",
     "output_type": "stream",
     "text": [
      "INFO:tensorflow:input_mask: 1 1 1 1 1 1 1 1 1 1 1 1 1 1 1 1 1 1 1 1 1 1 1 1 1 1 1 1 1 1 1 1 1 1 1 1 1 1 1 1 1 1 1 1 1 1 1 1 1 1 1 1 1 1 1 1 1 1 1 1 1 1 1 1 1 1 1 1 1 1 1 1 1 1 1 1 1 1 1 1 1 1 1 1 1 1 1 1 1 1 1 1 1 1 1 1 1 1 1 1 1 1 1 1 1 1 1 1 1 1 1 1 1 1 1 1 1 1 1 1 1 1 1 1 1 1 1 1 1 1 1 1 1 1 1 1 1 1 1 1 1 1 1 1 1 1 1 1 1 1 1 1 1 1 1 1 1 1 1 1 1 1 1 1 1 1 1 1 1 1 1 1 1 1 1 1 1 1 1 1 1 1 1 1 1 1 1 1 1 1 1 1 1 1 1 1 1 1 1 1\n"
     ]
    },
    {
     "name": "stderr",
     "output_type": "stream",
     "text": [
      "INFO:tensorflow:input_mask: 1 1 1 1 1 1 1 1 1 1 1 1 1 1 1 1 1 1 1 1 1 1 1 1 1 1 1 1 1 1 1 1 1 1 1 1 1 1 1 1 1 1 1 1 1 1 1 1 1 1 1 1 1 1 1 1 1 1 1 1 1 1 1 1 1 1 1 1 1 1 1 1 1 1 1 1 1 1 1 1 1 1 1 1 1 1 1 1 1 1 1 1 1 1 1 1 1 1 1 1 1 1 1 1 1 1 1 1 1 1 1 1 1 1 1 1 1 1 1 1 1 1 1 1 1 1 1 1 1 1 1 1 1 1 1 1 1 1 1 1 1 1 1 1 1 1 1 1 1 1 1 1 1 1 1 1 1 1 1 1 1 1 1 1 1 1 1 1 1 1 1 1 1 1 1 1 1 1 1 1 1 1 1 1 1 1 1 1 1 1 1 1 1 1 1 1 1 1 1 1\n"
     ]
    },
    {
     "name": "stdout",
     "output_type": "stream",
     "text": [
      "INFO:tensorflow:segment_ids: 0 0 0 0 0 0 0 0 0 0 0 0 0 0 0 0 0 0 0 0 0 0 0 0 0 0 0 0 0 0 0 0 0 0 0 0 0 0 0 0 0 0 0 0 0 0 0 0 0 0 0 0 0 0 0 0 0 0 0 0 0 0 0 0 0 0 0 0 0 0 0 0 0 0 0 0 0 0 0 0 0 0 0 0 0 0 0 0 0 0 0 0 0 0 0 0 0 0 0 0 0 0 0 0 0 0 0 0 0 0 0 0 0 0 0 0 0 0 0 0 0 0 0 0 0 0 0 0 0 0 0 0 0 0 0 0 0 0 0 0 0 0 0 0 0 0 0 0 0 0 0 0 0 0 0 0 0 0 0 0 0 0 0 0 0 0 0 0 0 0 0 0 0 0 0 0 0 0 0 0 0 0 0 0 0 0 0 0 0 0 0 0 0 0 0 0 0 0 0 0\n"
     ]
    },
    {
     "name": "stderr",
     "output_type": "stream",
     "text": [
      "INFO:tensorflow:segment_ids: 0 0 0 0 0 0 0 0 0 0 0 0 0 0 0 0 0 0 0 0 0 0 0 0 0 0 0 0 0 0 0 0 0 0 0 0 0 0 0 0 0 0 0 0 0 0 0 0 0 0 0 0 0 0 0 0 0 0 0 0 0 0 0 0 0 0 0 0 0 0 0 0 0 0 0 0 0 0 0 0 0 0 0 0 0 0 0 0 0 0 0 0 0 0 0 0 0 0 0 0 0 0 0 0 0 0 0 0 0 0 0 0 0 0 0 0 0 0 0 0 0 0 0 0 0 0 0 0 0 0 0 0 0 0 0 0 0 0 0 0 0 0 0 0 0 0 0 0 0 0 0 0 0 0 0 0 0 0 0 0 0 0 0 0 0 0 0 0 0 0 0 0 0 0 0 0 0 0 0 0 0 0 0 0 0 0 0 0 0 0 0 0 0 0 0 0 0 0 0 0\n"
     ]
    },
    {
     "name": "stdout",
     "output_type": "stream",
     "text": [
      "INFO:tensorflow:label: 3 (id = 3)\n"
     ]
    },
    {
     "name": "stderr",
     "output_type": "stream",
     "text": [
      "INFO:tensorflow:label: 3 (id = 3)\n"
     ]
    }
   ],
   "source": [
    "MAX_SEQ_LENGTH = 200\n",
    "\n",
    "train_features = run_classifier.convert_examples_to_features(train_InputExamples, label_list, MAX_SEQ_LENGTH, tokenizer)\n",
    "\n",
    "val_features = run_classifier.convert_examples_to_features(val_InputExamples, label_list, MAX_SEQ_LENGTH, tokenizer)"
   ]
  },
  {
   "cell_type": "code",
   "execution_count": 39,
   "metadata": {
    "execution": {
     "iopub.status.busy": "2023-02-23T18:23:35.778034Z",
     "iopub.status.idle": "2023-02-23T18:23:35.778399Z"
    }
   },
   "outputs": [
    {
     "name": "stdout",
     "output_type": "stream",
     "text": [
      "Sentence :  talks aimed averting series national strikes pensions reforms take place weekend five public sector unions hold private talks deputy prime minister john prescott labours spring conference gateshead want government withdraw regulations due introduced weeks would raise pension age council workers   m workers could take part strike already earmarked  march however sides anxious avoid major confrontation run general election said bbc labour affairs correspondent stephen cape four days britains biggest union unison start balloting   local government workers strikes public sector unions pledged follow weeks new regulations introduced raise pension age local government workers five unions meeting mr prescott want government withdraw regulations would allow months tough negotiations follow said correspondent spokesman mr prescott warned changes local government pension scheme would go ahead april privately ministers believe less painful option correspondent added public commercial services union pcs coordinate industrial action six public sector unions pcs leader mark serwotka warned last week could walkouts unless government rethink government lectures everyone choice choice public service choice choice isnt ironic theyre saying public sector workers choice said want pension promised started must work extra five years working people drop th century completely unacceptable unisons   workers transport general workers unions   amicus   among balloted  march walkout mr prescott held private meeting senior union figures last week understood deal offered meeting room negotiations\n",
      "------------------------------\n",
      "Tokens :  ['talks', 'aimed', 'ave', '##rting', 'series', 'national', 'strikes', 'pensions', 'reforms', 'take', 'place', 'weekend', 'five', 'public', 'sector', 'unions', 'hold', 'private', 'talks', 'deputy', 'prime', 'minister', 'john', 'prescott', 'labour', '##s', 'spring', 'conference', 'gates', '##head', 'want', 'government', 'withdraw', 'regulations', 'due', 'introduced', 'weeks', 'would', 'raise', 'pension', 'age', 'council', 'workers', 'm', 'workers', 'could', 'take', 'part', 'strike', 'already', 'ear', '##mark', '##ed', 'march', 'however', 'sides', 'anxious', 'avoid', 'major', 'confrontation', 'run', 'general', 'election', 'said', 'bbc', 'labour', 'affairs', 'correspondent', 'stephen', 'cape', 'four', 'days', 'britain', '##s', 'biggest', 'union', 'unison', 'start', 'ballot', '##ing', 'local', 'government', 'workers', 'strikes', 'public', 'sector', 'unions', 'pledged', 'follow', 'weeks', 'new', 'regulations', 'introduced', 'raise', 'pension', 'age', 'local', 'government', 'workers', 'five', 'unions', 'meeting', 'mr', 'prescott', 'want', 'government', 'withdraw', 'regulations', 'would', 'allow', 'months', 'tough', 'negotiations', 'follow', 'said', 'correspondent', 'spokesman', 'mr', 'prescott', 'warned', 'changes', 'local', 'government', 'pension', 'scheme', 'would', 'go', 'ahead', 'april', 'privately', 'ministers', 'believe', 'less', 'painful', 'option', 'correspondent', 'added', 'public', 'commercial', 'services', 'union', 'pcs', 'coordinate', 'industrial', 'action', 'six', 'public', 'sector', 'unions', 'pcs', 'leader', 'mark', 'ser', '##wo', '##t', '##ka', 'warned', 'last', 'week', 'could', 'walk', '##outs', 'unless', 'government', 're', '##thi', '##nk', 'government', 'lectures', 'everyone', 'choice', 'choice', 'public', 'service', 'choice', 'choice', 'isn', '##t', 'ironic', 'they', '##re', 'saying', 'public', 'sector', 'workers', 'choice', 'said', 'want', 'pension', 'promised', 'started', 'must', 'work', 'extra', 'five', 'years', 'working', 'people', 'drop', 'th', 'century', 'completely', 'unacceptable', 'unison', '##s', 'workers', 'transport', 'general', 'workers', 'unions', 'ami', '##cus', 'among', 'ballot', '##ed', 'march', 'walk', '##out', 'mr', 'prescott', 'held', 'private', 'meeting', 'senior', 'union', 'figures', 'last', 'week', 'understood', 'deal', 'offered', 'meeting', 'room', 'negotiations']\n",
      "------------------------------\n",
      "Input IDs :  [101, 7566, 6461, 13642, 24097, 2186, 2120, 9326, 22024, 8818, 2202, 2173, 5353, 2274, 2270, 4753, 9209, 2907, 2797, 7566, 4112, 3539, 2704, 2198, 20719, 4428, 2015, 3500, 3034, 6733, 4974, 2215, 2231, 10632, 7040, 2349, 3107, 3134, 2052, 5333, 11550, 2287, 2473, 3667, 1049, 3667, 2071, 2202, 2112, 4894, 2525, 4540, 10665, 2098, 2233, 2174, 3903, 11480, 4468, 2350, 13111, 2448, 2236, 2602, 2056, 4035, 4428, 3821, 11370, 4459, 4880, 2176, 2420, 3725, 2015, 5221, 2586, 18732, 2707, 10428, 2075, 2334, 2231, 3667, 9326, 2270, 4753, 9209, 16970, 3582, 3134, 2047, 7040, 3107, 5333, 11550, 2287, 2334, 2231, 3667, 2274, 9209, 3116, 2720, 20719, 2215, 2231, 10632, 7040, 2052, 3499, 2706, 7823, 7776, 3582, 2056, 11370, 14056, 2720, 20719, 7420, 3431, 2334, 2231, 11550, 5679, 2052, 2175, 3805, 2258, 9139, 7767, 2903, 2625, 9145, 5724, 11370, 2794, 2270, 3293, 2578, 2586, 27019, 13530, 3919, 2895, 2416, 2270, 4753, 9209, 27019, 3003, 2928, 14262, 12155, 2102, 2912, 7420, 2197, 2733, 2071, 3328, 12166, 4983, 2231, 2128, 15222, 8950, 2231, 8921, 3071, 3601, 3601, 2270, 2326, 3601, 3601, 3475, 2102, 19313, 2027, 2890, 3038, 2270, 4753, 3667, 3601, 2056, 2215, 11550, 5763, 2318, 2442, 2147, 4469, 2274, 2086, 2551, 2111, 102]\n",
      "------------------------------\n",
      "Input Masks :  [1, 1, 1, 1, 1, 1, 1, 1, 1, 1, 1, 1, 1, 1, 1, 1, 1, 1, 1, 1, 1, 1, 1, 1, 1, 1, 1, 1, 1, 1, 1, 1, 1, 1, 1, 1, 1, 1, 1, 1, 1, 1, 1, 1, 1, 1, 1, 1, 1, 1, 1, 1, 1, 1, 1, 1, 1, 1, 1, 1, 1, 1, 1, 1, 1, 1, 1, 1, 1, 1, 1, 1, 1, 1, 1, 1, 1, 1, 1, 1, 1, 1, 1, 1, 1, 1, 1, 1, 1, 1, 1, 1, 1, 1, 1, 1, 1, 1, 1, 1, 1, 1, 1, 1, 1, 1, 1, 1, 1, 1, 1, 1, 1, 1, 1, 1, 1, 1, 1, 1, 1, 1, 1, 1, 1, 1, 1, 1, 1, 1, 1, 1, 1, 1, 1, 1, 1, 1, 1, 1, 1, 1, 1, 1, 1, 1, 1, 1, 1, 1, 1, 1, 1, 1, 1, 1, 1, 1, 1, 1, 1, 1, 1, 1, 1, 1, 1, 1, 1, 1, 1, 1, 1, 1, 1, 1, 1, 1, 1, 1, 1, 1, 1, 1, 1, 1, 1, 1, 1, 1, 1, 1, 1, 1, 1, 1, 1, 1, 1, 1]\n",
      "------------------------------\n",
      "Segment IDs :  [0, 0, 0, 0, 0, 0, 0, 0, 0, 0, 0, 0, 0, 0, 0, 0, 0, 0, 0, 0, 0, 0, 0, 0, 0, 0, 0, 0, 0, 0, 0, 0, 0, 0, 0, 0, 0, 0, 0, 0, 0, 0, 0, 0, 0, 0, 0, 0, 0, 0, 0, 0, 0, 0, 0, 0, 0, 0, 0, 0, 0, 0, 0, 0, 0, 0, 0, 0, 0, 0, 0, 0, 0, 0, 0, 0, 0, 0, 0, 0, 0, 0, 0, 0, 0, 0, 0, 0, 0, 0, 0, 0, 0, 0, 0, 0, 0, 0, 0, 0, 0, 0, 0, 0, 0, 0, 0, 0, 0, 0, 0, 0, 0, 0, 0, 0, 0, 0, 0, 0, 0, 0, 0, 0, 0, 0, 0, 0, 0, 0, 0, 0, 0, 0, 0, 0, 0, 0, 0, 0, 0, 0, 0, 0, 0, 0, 0, 0, 0, 0, 0, 0, 0, 0, 0, 0, 0, 0, 0, 0, 0, 0, 0, 0, 0, 0, 0, 0, 0, 0, 0, 0, 0, 0, 0, 0, 0, 0, 0, 0, 0, 0, 0, 0, 0, 0, 0, 0, 0, 0, 0, 0, 0, 0, 0, 0, 0, 0, 0, 0]\n"
     ]
    }
   ],
   "source": [
    "#Example on first observation in the training set\n",
    "print(\"Sentence : \", train_InputExamples.iloc[80].text_a)\n",
    "print(\"-\"*30)\n",
    "print(\"Tokens : \", tokenizer.tokenize(train_InputExamples.iloc[80].text_a))\n",
    "print(\"-\"*30)\n",
    "print(\"Input IDs : \", train_features[80].input_ids)\n",
    "print(\"-\"*30)\n",
    "print(\"Input Masks : \", train_features[80].input_mask)\n",
    "print(\"-\"*30)\n",
    "print(\"Segment IDs : \", train_features[80].segment_ids)"
   ]
  },
  {
   "cell_type": "markdown",
   "metadata": {},
   "source": [
    "### Creating prediction model"
   ]
  },
  {
   "cell_type": "code",
   "execution_count": 40,
   "metadata": {
    "execution": {
     "iopub.status.busy": "2023-02-23T18:23:35.779186Z",
     "iopub.status.idle": "2023-02-23T18:23:35.779526Z"
    }
   },
   "outputs": [],
   "source": [
    "def create_model(is_predicting, input_ids, input_mask, segment_ids, labels,\n",
    "                 num_labels):\n",
    "  \n",
    "    bert_module = hub.Module(\n",
    "        BERT_MODEL_HUB,\n",
    "        trainable=True)\n",
    "    bert_inputs = dict(\n",
    "      input_ids=input_ids,\n",
    "      input_mask=input_mask,\n",
    "      segment_ids=segment_ids)\n",
    "    bert_outputs = bert_module(\n",
    "      inputs=bert_inputs,\n",
    "      signature=\"tokens\",\n",
    "      as_dict=True)\n",
    "\n",
    "    # Use \"pooled_output\" for classification tasks on an entire sentence.\n",
    "    # Use \"sequence_outputs\" for token-level output.\n",
    "    output_layer = bert_outputs[\"pooled_output\"]\n",
    "    # with tf.Session() as sess:\n",
    "    output_layer1 = bert_outputs[\"pooled_output\"]\n",
    "    # output_layer1 = 999\n",
    "    hidden_size = output_layer.shape[-1].value\n",
    "\n",
    "    # Create our own layer to tune for politeness data.\n",
    "    output_weights = tf.get_variable(\n",
    "      \"output_weights\", [num_labels, hidden_size],\n",
    "      initializer=tf.truncated_normal_initializer(stddev=0.02))\n",
    "\n",
    "    output_bias = tf.get_variable(\n",
    "      \"output_bias\", [num_labels], initializer=tf.zeros_initializer())\n",
    "\n",
    "    with tf.variable_scope(\"loss\"):\n",
    "\n",
    "        # Dropout helps prevent overfitting\n",
    "        output_layer = tf.nn.dropout(output_layer, keep_prob=0.8)\n",
    "\n",
    "        logits = tf.matmul(output_layer, output_weights, transpose_b=True)\n",
    "        logits = tf.nn.bias_add(logits, output_bias)\n",
    "        log_probs = tf.nn.log_softmax(logits, axis=-1)\n",
    "\n",
    "        # Convert labels into one-hot encoding\n",
    "        one_hot_labels = tf.one_hot(labels, depth=num_labels, dtype=tf.float32)\n",
    "\n",
    "        predicted_labels = tf.squeeze(tf.argmax(log_probs, axis=-1, output_type=tf.int32))\n",
    "        # If we're predicting, we want predicted labels and the probabiltiies.\n",
    "        if is_predicting:\n",
    "            return (predicted_labels, log_probs, output_layer1)\n",
    "\n",
    "        # If we're train/eval, compute loss between predicted and actual label\n",
    "        per_example_loss = -tf.reduce_sum(one_hot_labels * log_probs, axis=-1)\n",
    "        loss = tf.reduce_mean(per_example_loss)\n",
    "        \n",
    "        return (loss, predicted_labels, log_probs)"
   ]
  },
  {
   "cell_type": "code",
   "execution_count": 41,
   "metadata": {},
   "outputs": [],
   "source": [
    "# labels=[\"a\",\"b\",\"c\",\"d\",\"e\"]\n",
    "# mode = tf.estimator.ModeKeys.PREDICT\n",
    "# params={}\n",
    "# features=train_input_fn\n",
    "\n",
    "\n",
    "# model_fn(features, labels, mode, params)"
   ]
  },
  {
   "cell_type": "code",
   "execution_count": 42,
   "metadata": {
    "execution": {
     "iopub.status.busy": "2023-02-23T18:23:35.780273Z",
     "iopub.status.idle": "2023-02-23T18:23:35.780622Z"
    }
   },
   "outputs": [],
   "source": [
    "def model_fn_builder(num_labels, learning_rate, num_train_steps,\n",
    "                     num_warmup_steps):\n",
    "    \"\"\"Returns `model_fn` closure for TPUEstimator.\"\"\"\n",
    "    \n",
    "    def model_fn(features, labels, mode, params):  # pylint: disable=unused-argument\n",
    "        \"\"\"The `model_fn` for TPUEstimator.\"\"\"\n",
    "\n",
    "        input_ids = features[\"input_ids\"]\n",
    "        input_mask = features[\"input_mask\"]\n",
    "        segment_ids = features[\"segment_ids\"]\n",
    "        label_ids = features[\"label_ids\"]\n",
    "\n",
    "        is_predicting = (mode == tf.estimator.ModeKeys.PREDICT)\n",
    "\n",
    "        # TRAIN and EVAL\n",
    "        if not is_predicting:\n",
    "\n",
    "            (loss, predicted_labels, log_probs) = create_model(\n",
    "            is_predicting, input_ids, input_mask, segment_ids, label_ids, num_labels)\n",
    "\n",
    "            train_op = optimization.create_optimizer(\n",
    "              loss, learning_rate, num_train_steps, num_warmup_steps, use_tpu=False)\n",
    "\n",
    "            # Calculate evaluation metrics. \n",
    "            def metric_fn(label_ids, predicted_labels):\n",
    "                accuracy = tf.metrics.accuracy(label_ids, predicted_labels)\n",
    "                true_pos = tf.metrics.true_positives(\n",
    "                    label_ids,\n",
    "                    predicted_labels)\n",
    "                true_neg = tf.metrics.true_negatives(\n",
    "                    label_ids,\n",
    "                    predicted_labels)   \n",
    "                false_pos = tf.metrics.false_positives(\n",
    "                    label_ids,\n",
    "                    predicted_labels)  \n",
    "                false_neg = tf.metrics.false_negatives(\n",
    "                    label_ids,\n",
    "                    predicted_labels)\n",
    "\n",
    "                return {\n",
    "                    \"eval_accuracy\": accuracy,\n",
    "                    \"true_positives\": true_pos,\n",
    "                    \"true_negatives\": true_neg,\n",
    "                    \"false_positives\": false_pos,\n",
    "                    \"false_negatives\": false_neg,\n",
    "                    }\n",
    "\n",
    "            eval_metrics = metric_fn(label_ids, predicted_labels)\n",
    "\n",
    "            if mode == tf.estimator.ModeKeys.TRAIN:\n",
    "                return tf.estimator.EstimatorSpec(mode=mode,\n",
    "                  loss=loss,\n",
    "                  train_op=train_op)\n",
    "            else:\n",
    "                return tf.estimator.EstimatorSpec(mode=mode,\n",
    "                    loss=loss,\n",
    "                    eval_metric_ops=eval_metrics)\n",
    "        else:\n",
    "            (predicted_labels, log_probs, output_layer) = create_model(\n",
    "            is_predicting, input_ids, input_mask, segment_ids, label_ids, num_labels)\n",
    "            predictions = {\n",
    "              'probabilities': log_probs,\n",
    "              'labels': predicted_labels,\n",
    "              'pooled_output': output_layer\n",
    "            }\n",
    "        return tf.estimator.EstimatorSpec(mode, predictions=predictions)\n",
    "\n",
    "    # Return the actual model function in the closure\n",
    "    return model_fn"
   ]
  },
  {
   "cell_type": "code",
   "execution_count": 43,
   "metadata": {
    "execution": {
     "iopub.status.busy": "2023-02-23T18:23:35.781395Z",
     "iopub.status.idle": "2023-02-23T18:23:35.781752Z"
    }
   },
   "outputs": [],
   "source": [
    "BATCH_SIZE = 16\n",
    "LEARNING_RATE = 2e-5\n",
    "NUM_TRAIN_EPOCHS = 1.0\n",
    "# Warmup is a period of time where the learning rate is small and gradually increases--usually helps training.\n",
    "WARMUP_PROPORTION = 0.1\n",
    "# Model configs\n",
    "SAVE_CHECKPOINTS_STEPS = 300\n",
    "SAVE_SUMMARY_STEPS = 100\n",
    "\n",
    "# Compute train and warmup steps from batch size\n",
    "num_train_steps = int(len(train_features) / BATCH_SIZE * NUM_TRAIN_EPOCHS)\n",
    "num_warmup_steps = int(num_train_steps * WARMUP_PROPORTION)\n",
    "\n",
    "# Specify output directory and number of checkpoint steps to save\n",
    "run_config = tf.estimator.RunConfig(\n",
    "    model_dir=OUTPUT_DIR,\n",
    "    save_summary_steps=SAVE_SUMMARY_STEPS,\n",
    "    save_checkpoints_steps=SAVE_CHECKPOINTS_STEPS)\n",
    "\n",
    "# Specify output directory and number of checkpoint steps to save\n",
    "run_config = tf.estimator.RunConfig(\n",
    "    model_dir=OUTPUT_DIR,\n",
    "    save_summary_steps=SAVE_SUMMARY_STEPS,\n",
    "    save_checkpoints_steps=SAVE_CHECKPOINTS_STEPS)"
   ]
  },
  {
   "cell_type": "code",
   "execution_count": 44,
   "metadata": {
    "execution": {
     "iopub.status.busy": "2023-02-23T18:23:35.782434Z",
     "iopub.status.idle": "2023-02-23T18:23:35.782775Z"
    }
   },
   "outputs": [
    {
     "data": {
      "text/plain": [
       "(111, 5)"
      ]
     },
     "execution_count": 44,
     "metadata": {},
     "output_type": "execute_result"
    }
   ],
   "source": [
    "num_train_steps, len(label_list)\n"
   ]
  },
  {
   "cell_type": "markdown",
   "metadata": {},
   "source": [
    "### Initializing the model and the estimator\n"
   ]
  },
  {
   "cell_type": "code",
   "execution_count": 45,
   "metadata": {
    "execution": {
     "iopub.status.busy": "2023-02-23T18:23:35.783484Z",
     "iopub.status.idle": "2023-02-23T18:23:35.783817Z"
    }
   },
   "outputs": [
    {
     "name": "stdout",
     "output_type": "stream",
     "text": [
      "INFO:tensorflow:Using config: {'_model_dir': './bert_news_category', '_tf_random_seed': None, '_save_summary_steps': 100, '_save_checkpoints_steps': 300, '_save_checkpoints_secs': None, '_session_config': allow_soft_placement: true\n",
      "graph_options {\n",
      "  rewrite_options {\n",
      "    meta_optimizer_iterations: ONE\n",
      "  }\n",
      "}\n",
      ", '_keep_checkpoint_max': 5, '_keep_checkpoint_every_n_hours': 10000, '_log_step_count_steps': 100, '_train_distribute': None, '_device_fn': None, '_protocol': None, '_eval_distribute': None, '_experimental_distribute': None, '_experimental_max_worker_delay_secs': None, '_session_creation_timeout_secs': 7200, '_checkpoint_save_graph_def': True, '_service': None, '_cluster_spec': ClusterSpec({}), '_task_type': 'worker', '_task_id': 0, '_global_id_in_cluster': 0, '_master': '', '_evaluation_master': '', '_is_chief': True, '_num_ps_replicas': 0, '_num_worker_replicas': 1}\n"
     ]
    },
    {
     "name": "stderr",
     "output_type": "stream",
     "text": [
      "INFO:tensorflow:Using config: {'_model_dir': './bert_news_category', '_tf_random_seed': None, '_save_summary_steps': 100, '_save_checkpoints_steps': 300, '_save_checkpoints_secs': None, '_session_config': allow_soft_placement: true\n",
      "graph_options {\n",
      "  rewrite_options {\n",
      "    meta_optimizer_iterations: ONE\n",
      "  }\n",
      "}\n",
      ", '_keep_checkpoint_max': 5, '_keep_checkpoint_every_n_hours': 10000, '_log_step_count_steps': 100, '_train_distribute': None, '_device_fn': None, '_protocol': None, '_eval_distribute': None, '_experimental_distribute': None, '_experimental_max_worker_delay_secs': None, '_session_creation_timeout_secs': 7200, '_checkpoint_save_graph_def': True, '_service': None, '_cluster_spec': ClusterSpec({}), '_task_type': 'worker', '_task_id': 0, '_global_id_in_cluster': 0, '_master': '', '_evaluation_master': '', '_is_chief': True, '_num_ps_replicas': 0, '_num_worker_replicas': 1}\n"
     ]
    }
   ],
   "source": [
    "model_fn = model_fn_builder(\n",
    "  num_labels=len(label_list),\n",
    "  learning_rate=LEARNING_RATE,\n",
    "  num_train_steps=num_train_steps,\n",
    "  num_warmup_steps=num_warmup_steps)\n",
    "\n",
    "estimator = tf.estimator.Estimator(\n",
    "  model_fn=model_fn,\n",
    "  config=run_config,\n",
    "  params={\"batch_size\": BATCH_SIZE})"
   ]
  },
  {
   "cell_type": "code",
   "execution_count": 46,
   "metadata": {
    "execution": {
     "iopub.status.busy": "2023-02-23T18:23:35.784559Z",
     "iopub.status.idle": "2023-02-23T18:23:35.784886Z"
    }
   },
   "outputs": [],
   "source": [
    "train_input_fn = run_classifier.input_fn_builder(\n",
    "    features=train_features,\n",
    "    seq_length=MAX_SEQ_LENGTH,\n",
    "    is_training=True,\n",
    "    drop_remainder=False)\n",
    "\n",
    "# Create an input function for validating. drop_remainder = True for using TPUs.\n",
    "val_input_fn = run_classifier.input_fn_builder(\n",
    "    features=val_features,\n",
    "    seq_length=MAX_SEQ_LENGTH,\n",
    "    is_training=False,\n",
    "    drop_remainder=False)"
   ]
  },
  {
   "cell_type": "markdown",
   "metadata": {},
   "source": [
    "### Training the model"
   ]
  },
  {
   "cell_type": "code",
   "execution_count": 47,
   "metadata": {
    "execution": {
     "iopub.status.busy": "2023-02-23T18:23:35.785766Z",
     "iopub.status.idle": "2023-02-23T18:23:35.786150Z"
    }
   },
   "outputs": [
    {
     "name": "stdout",
     "output_type": "stream",
     "text": [
      "Beginning Training!\n",
      "INFO:tensorflow:Skipping training since max_steps has already saved.\n"
     ]
    },
    {
     "name": "stderr",
     "output_type": "stream",
     "text": [
      "INFO:tensorflow:Skipping training since max_steps has already saved.\n"
     ]
    },
    {
     "name": "stdout",
     "output_type": "stream",
     "text": [
      "Training took time  0:00:00.004027\n"
     ]
    }
   ],
   "source": [
    "# Training\n",
    "print(f'Beginning Training!')\n",
    "current_time = datetime.now()\n",
    "estimator.train(input_fn=train_input_fn, max_steps=num_train_steps)\n",
    "print(\"Training took time \", datetime.now() - current_time)"
   ]
  },
  {
   "cell_type": "markdown",
   "metadata": {},
   "source": [
    "### Validation"
   ]
  },
  {
   "cell_type": "code",
   "execution_count": 48,
   "metadata": {},
   "outputs": [
    {
     "name": "stdout",
     "output_type": "stream",
     "text": [
      "INFO:tensorflow:Calling model_fn.\n"
     ]
    },
    {
     "name": "stderr",
     "output_type": "stream",
     "text": [
      "INFO:tensorflow:Calling model_fn.\n",
      "2023-03-12 15:14:06.216450: W tensorflow/core/common_runtime/graph_constructor.cc:1526] Importing a graph with a lower producer version 27 into an existing graph with producer version 1087. Shape inference will have run different parts of the graph with different producer versions.\n"
     ]
    },
    {
     "name": "stdout",
     "output_type": "stream",
     "text": [
      "INFO:tensorflow:Saver not created because there are no variables in the graph to restore\n"
     ]
    },
    {
     "name": "stderr",
     "output_type": "stream",
     "text": [
      "INFO:tensorflow:Saver not created because there are no variables in the graph to restore\n"
     ]
    },
    {
     "name": "stdout",
     "output_type": "stream",
     "text": [
      "WARNING:tensorflow:From /Users/elnazghofrani/miniconda3/lib/python3.10/site-packages/tensorflow/python/util/dispatch.py:1082: calling dropout (from tensorflow.python.ops.nn_ops) with keep_prob is deprecated and will be removed in a future version.\n",
      "Instructions for updating:\n",
      "Please use `rate` instead of `keep_prob`. Rate should be set to `rate = 1 - keep_prob`.\n"
     ]
    },
    {
     "name": "stderr",
     "output_type": "stream",
     "text": [
      "WARNING:tensorflow:From /Users/elnazghofrani/miniconda3/lib/python3.10/site-packages/tensorflow/python/util/dispatch.py:1082: calling dropout (from tensorflow.python.ops.nn_ops) with keep_prob is deprecated and will be removed in a future version.\n",
      "Instructions for updating:\n",
      "Please use `rate` instead of `keep_prob`. Rate should be set to `rate = 1 - keep_prob`.\n"
     ]
    },
    {
     "name": "stdout",
     "output_type": "stream",
     "text": [
      "INFO:tensorflow:Done calling model_fn.\n"
     ]
    },
    {
     "name": "stderr",
     "output_type": "stream",
     "text": [
      "INFO:tensorflow:Done calling model_fn.\n"
     ]
    },
    {
     "name": "stdout",
     "output_type": "stream",
     "text": [
      "INFO:tensorflow:Starting evaluation at 2023-03-12T15:14:09\n"
     ]
    },
    {
     "name": "stderr",
     "output_type": "stream",
     "text": [
      "INFO:tensorflow:Starting evaluation at 2023-03-12T15:14:09\n"
     ]
    },
    {
     "name": "stdout",
     "output_type": "stream",
     "text": [
      "INFO:tensorflow:Graph was finalized.\n"
     ]
    },
    {
     "name": "stderr",
     "output_type": "stream",
     "text": [
      "INFO:tensorflow:Graph was finalized.\n"
     ]
    },
    {
     "name": "stdout",
     "output_type": "stream",
     "text": [
      "INFO:tensorflow:Restoring parameters from ./bert_news_category/model.ckpt-111\n"
     ]
    },
    {
     "name": "stderr",
     "output_type": "stream",
     "text": [
      "2023-03-12 15:14:09.866499: I tensorflow/core/common_runtime/pluggable_device/pluggable_device_factory.cc:305] Could not identify NUMA node of platform GPU ID 0, defaulting to 0. Your kernel may not have been built with NUMA support.\n",
      "INFO:tensorflow:Restoring parameters from ./bert_news_category/model.ckpt-111\n",
      "2023-03-12 15:14:09.866520: I tensorflow/core/common_runtime/pluggable_device/pluggable_device_factory.cc:271] Created TensorFlow device (/job:localhost/replica:0/task:0/device:GPU:0 with 0 MB memory) -> physical PluggableDevice (device: 0, name: METAL, pci bus id: <undefined>)\n",
      "2023-03-12 15:14:10.034421: I tensorflow/core/grappler/optimizers/custom_graph_optimizer_registry.cc:113] Plugin optimizer for device_type GPU is enabled.\n"
     ]
    },
    {
     "name": "stdout",
     "output_type": "stream",
     "text": [
      "INFO:tensorflow:Running local_init_op.\n"
     ]
    },
    {
     "name": "stderr",
     "output_type": "stream",
     "text": [
      "2023-03-12 15:14:11.436839: I tensorflow/core/grappler/optimizers/custom_graph_optimizer_registry.cc:113] Plugin optimizer for device_type GPU is enabled.\n",
      "INFO:tensorflow:Running local_init_op.\n"
     ]
    },
    {
     "name": "stdout",
     "output_type": "stream",
     "text": [
      "INFO:tensorflow:Done running local_init_op.\n"
     ]
    },
    {
     "name": "stderr",
     "output_type": "stream",
     "text": [
      "2023-03-12 15:14:11.555492: I tensorflow/core/grappler/optimizers/custom_graph_optimizer_registry.cc:113] Plugin optimizer for device_type GPU is enabled.\n",
      "INFO:tensorflow:Done running local_init_op.\n",
      "2023-03-12 15:14:11.589951: I tensorflow/core/grappler/optimizers/custom_graph_optimizer_registry.cc:113] Plugin optimizer for device_type GPU is enabled.\n",
      "2023-03-12 15:14:11.703235: I tensorflow/core/grappler/optimizers/custom_graph_optimizer_registry.cc:113] Plugin optimizer for device_type GPU is enabled.\n",
      "2023-03-12 15:14:11.740643: I tensorflow/core/grappler/optimizers/custom_graph_optimizer_registry.cc:113] Plugin optimizer for device_type GPU is enabled.\n",
      "2023-03-12 15:14:32.890121: I tensorflow/core/grappler/optimizers/custom_graph_optimizer_registry.cc:113] Plugin optimizer for device_type GPU is enabled.\n"
     ]
    },
    {
     "name": "stdout",
     "output_type": "stream",
     "text": [
      "INFO:tensorflow:Inference Time : 23.86708s\n"
     ]
    },
    {
     "name": "stderr",
     "output_type": "stream",
     "text": [
      "INFO:tensorflow:Inference Time : 23.86708s\n"
     ]
    },
    {
     "name": "stdout",
     "output_type": "stream",
     "text": [
      "INFO:tensorflow:Finished evaluation at 2023-03-12-15:14:33\n"
     ]
    },
    {
     "name": "stderr",
     "output_type": "stream",
     "text": [
      "INFO:tensorflow:Finished evaluation at 2023-03-12-15:14:33\n"
     ]
    },
    {
     "name": "stdout",
     "output_type": "stream",
     "text": [
      "INFO:tensorflow:Saving dict for global step 111: eval_accuracy = 0.98202246, false_negatives = 3.0, false_positives = 4.0, global_step = 111, loss = 0.08214555, true_negatives = 103.0, true_positives = 335.0\n"
     ]
    },
    {
     "name": "stderr",
     "output_type": "stream",
     "text": [
      "INFO:tensorflow:Saving dict for global step 111: eval_accuracy = 0.98202246, false_negatives = 3.0, false_positives = 4.0, global_step = 111, loss = 0.08214555, true_negatives = 103.0, true_positives = 335.0\n"
     ]
    },
    {
     "name": "stdout",
     "output_type": "stream",
     "text": [
      "INFO:tensorflow:Saving 'checkpoint_path' summary for global step 111: ./bert_news_category/model.ckpt-111\n"
     ]
    },
    {
     "name": "stderr",
     "output_type": "stream",
     "text": [
      "INFO:tensorflow:Saving 'checkpoint_path' summary for global step 111: ./bert_news_category/model.ckpt-111\n"
     ]
    },
    {
     "data": {
      "text/plain": [
       "{'eval_accuracy': 0.98202246,\n",
       " 'false_negatives': 3.0,\n",
       " 'false_positives': 4.0,\n",
       " 'loss': 0.08214555,\n",
       " 'true_negatives': 103.0,\n",
       " 'true_positives': 335.0,\n",
       " 'global_step': 111}"
      ]
     },
     "execution_count": 48,
     "metadata": {},
     "output_type": "execute_result"
    }
   ],
   "source": [
    "#Evaluating the model with Validation set\n",
    "estimator.evaluate(input_fn=val_input_fn, steps=None)"
   ]
  },
  {
   "cell_type": "code",
   "execution_count": 49,
   "metadata": {},
   "outputs": [],
   "source": [
    "# val_out=estimator.predict(input_fn=val_input_fn, yield_single_examples=False)\n",
    "# while(True):\n",
    "#     try:\n",
    "#         print(next(val_out)['labels'])\n",
    "#     except:\n",
    "#         break"
   ]
  },
  {
   "cell_type": "code",
   "execution_count": 50,
   "metadata": {},
   "outputs": [
    {
     "name": "stdout",
     "output_type": "stream",
     "text": [
      "INFO:tensorflow:Calling model_fn.\n"
     ]
    },
    {
     "name": "stderr",
     "output_type": "stream",
     "text": [
      "INFO:tensorflow:Calling model_fn.\n",
      "2023-03-12 15:14:44.029164: W tensorflow/core/common_runtime/graph_constructor.cc:1526] Importing a graph with a lower producer version 27 into an existing graph with producer version 1087. Shape inference will have run different parts of the graph with different producer versions.\n"
     ]
    },
    {
     "name": "stdout",
     "output_type": "stream",
     "text": [
      "INFO:tensorflow:Saver not created because there are no variables in the graph to restore\n"
     ]
    },
    {
     "name": "stderr",
     "output_type": "stream",
     "text": [
      "INFO:tensorflow:Saver not created because there are no variables in the graph to restore\n"
     ]
    },
    {
     "name": "stdout",
     "output_type": "stream",
     "text": [
      "INFO:tensorflow:Done calling model_fn.\n"
     ]
    },
    {
     "name": "stderr",
     "output_type": "stream",
     "text": [
      "INFO:tensorflow:Done calling model_fn.\n"
     ]
    },
    {
     "name": "stdout",
     "output_type": "stream",
     "text": [
      "INFO:tensorflow:Graph was finalized.\n"
     ]
    },
    {
     "name": "stderr",
     "output_type": "stream",
     "text": [
      "INFO:tensorflow:Graph was finalized.\n"
     ]
    },
    {
     "name": "stdout",
     "output_type": "stream",
     "text": [
      "INFO:tensorflow:Restoring parameters from ./bert_news_category/model.ckpt-111\n"
     ]
    },
    {
     "name": "stderr",
     "output_type": "stream",
     "text": [
      "2023-03-12 15:14:45.451007: I tensorflow/core/common_runtime/pluggable_device/pluggable_device_factory.cc:305] Could not identify NUMA node of platform GPU ID 0, defaulting to 0. Your kernel may not have been built with NUMA support.\n",
      "INFO:tensorflow:Restoring parameters from ./bert_news_category/model.ckpt-111\n",
      "2023-03-12 15:14:45.451035: I tensorflow/core/common_runtime/pluggable_device/pluggable_device_factory.cc:271] Created TensorFlow device (/job:localhost/replica:0/task:0/device:GPU:0 with 0 MB memory) -> physical PluggableDevice (device: 0, name: METAL, pci bus id: <undefined>)\n",
      "2023-03-12 15:14:45.515785: I tensorflow/core/grappler/optimizers/custom_graph_optimizer_registry.cc:113] Plugin optimizer for device_type GPU is enabled.\n"
     ]
    },
    {
     "name": "stdout",
     "output_type": "stream",
     "text": [
      "INFO:tensorflow:Running local_init_op.\n"
     ]
    },
    {
     "name": "stderr",
     "output_type": "stream",
     "text": [
      "2023-03-12 15:14:46.057600: I tensorflow/core/grappler/optimizers/custom_graph_optimizer_registry.cc:113] Plugin optimizer for device_type GPU is enabled.\n",
      "INFO:tensorflow:Running local_init_op.\n"
     ]
    },
    {
     "name": "stdout",
     "output_type": "stream",
     "text": [
      "INFO:tensorflow:Done running local_init_op.\n"
     ]
    },
    {
     "name": "stderr",
     "output_type": "stream",
     "text": [
      "2023-03-12 15:14:46.102587: I tensorflow/core/grappler/optimizers/custom_graph_optimizer_registry.cc:113] Plugin optimizer for device_type GPU is enabled.\n",
      "INFO:tensorflow:Done running local_init_op.\n",
      "2023-03-12 15:14:46.116231: I tensorflow/core/grappler/optimizers/custom_graph_optimizer_registry.cc:113] Plugin optimizer for device_type GPU is enabled.\n",
      "2023-03-12 15:14:46.160886: I tensorflow/core/grappler/optimizers/custom_graph_optimizer_registry.cc:113] Plugin optimizer for device_type GPU is enabled.\n",
      "2023-03-12 15:14:46.177841: I tensorflow/core/grappler/optimizers/custom_graph_optimizer_registry.cc:113] Plugin optimizer for device_type GPU is enabled.\n"
     ]
    },
    {
     "name": "stdout",
     "output_type": "stream",
     "text": [
      "[0 3 0 4 3 2 3 3 0 1 4 0 0 0 3 0]\n",
      "[4 0 0 4 2 4 0 2 4 4 0 1 2 2 4 2]\n",
      "[4 4 4 0 2 0 2 2 2 1 3 2 1 1 1 0]\n",
      "[0 4 0 4 3 3 3 0 0 0 0 1 0 2 2 0]\n",
      "[1 2 3 4 1 3 2 4 3 1 0 2 4 2 3 1]\n",
      "[2 2 3 3 4 1 3 1 0 3 0 0 0 2 2 4]\n",
      "[4 4 0 1 0 0 1 1 1 3 1 2 4 0 3 0]\n",
      "[0 0 1 0 0 3 4 0 0 4 0 3 4 0 4 0]\n",
      "[2 1 4 2 4 0 0 0 4 2 3 2 1 0 2 4]\n",
      "[2 1 4 4 2 3 0 2 2 2 3 3 0 4 0 2]\n",
      "[3 1 1 2 4 0 4 3 0 1 2 0 4 2 3 0]\n",
      "[1 2 0 2 2 1 1 1 4 1 1 2 1 2 4 4]\n",
      "[4 2 3 2 2 2 1 4 2 4 0 2 3 2 3 4]\n",
      "[3 4 1 3 1 0 4 1 1 3 3 0 0 0 2 4]\n",
      "[2 0 0 3 1 1 4 0 0 3 3 0 1 4 3 1]\n",
      "[4 3 3 3 1 3 3 0 0 3 0 4 2 1 4 0]\n",
      "[3 0 0 0 0 1 4 2 2 2 2 1 3 1 1 1]\n",
      "[3 2 0 4 3 0 4 1 4 4 4 3 2 4 2 3]\n",
      "[3 4 1 3 4 2 1 0 4 3 0 1 1 0 3 3]\n",
      "[4 3 0 3 0 2 0 1 3 3 4 0 1 1 2 3]\n",
      "[0 3 1 3 1 0 4 4 2 1 2 3 3 3 3 3]\n",
      "[1 4 1 2 2 3 4 3 1 0 1 2 2 4 4 0]\n",
      "[0 0 3 0 1 4 1 1 3 3 0 2 1 3 3 4]\n",
      "[3 0 0 3 2 4 3 2 3 0 3 2 0 0 4 4]\n",
      "[3 0 0 4 4 3 1 2 3 4 1 2 0 2 4 2]\n",
      "[4 2 3 1 3 0 3 4 0 3 1 4 3 0 1 3]\n",
      "[1 3 3 0 0 0 4 3 0 3 3 1 0 1 4 3]\n",
      "[4 0 3 3 2 2 4 1 1 1 1 3 0]\n"
     ]
    }
   ],
   "source": [
    "pred = []\n",
    "val_out=estimator.predict(input_fn=val_input_fn, yield_single_examples=False)\n",
    "while(True):\n",
    "    try:\n",
    "        bash_pred=next(val_out)['labels']\n",
    "        print(bash_pred)\n",
    "        pred = np.concatenate([pred, bash_pred])\n",
    "    except:\n",
    "        break"
   ]
  },
  {
   "cell_type": "code",
   "execution_count": 51,
   "metadata": {},
   "outputs": [
    {
     "data": {
      "text/plain": [
       "(445,)"
      ]
     },
     "execution_count": 51,
     "metadata": {},
     "output_type": "execute_result"
    }
   ],
   "source": [
    "pred.shape"
   ]
  },
  {
   "cell_type": "code",
   "execution_count": 52,
   "metadata": {},
   "outputs": [
    {
     "data": {
      "image/png": "[encoded data removed]",
      "text/plain": [
       "<Figure size 1000x1000 with 2 Axes>"
      ]
     },
     "metadata": {},
     "output_type": "display_data"
    }
   ],
   "source": [
    "from sklearn import metrics \n",
    "from matplotlib import pyplot as plt\n",
    "import seaborn as sns\n",
    "\n",
    "\n",
    "matrix = metrics.confusion_matrix(val['label'], pred)\n",
    "\n",
    "plt.figure(figsize=(10,10))\n",
    "ax = sns.heatmap(matrix, annot=True, fmt=\"d\", cmap = 'rocket_r', xticklabels = ['business', 'entertainment', 'politics', 'sport', 'tech']\n",
    ", yticklabels = ['business', 'entertainment', 'politics', 'sport', 'tech'])\n",
    "\n",
    "# cm_display = metrics.ConfusionMatrixDisplay(confusion_matrix =matrix, display_labels = np.unique(val['label']))\n",
    "# cm_display.plot()\n",
    "# plt.show()"
   ]
  },
  {
   "cell_type": "markdown",
   "metadata": {},
   "source": [
    "# Prediction example"
   ]
  },
  {
   "cell_type": "code",
   "execution_count": 95,
   "metadata": {},
   "outputs": [],
   "source": [
    "# test\n",
    "test_file = []\n",
    "test_title = []\n",
    "test_text = []\n",
    "\n",
    "test_datapath = './archive/test_data' \n",
    "for dirname, _ , filenames in os.walk(test_datapath):    \n",
    "    try:\n",
    "        filenames.remove('README.TXT')\n",
    "    except:\n",
    "        pass\n",
    "    for filename in filenames:\n",
    "        test_file.append(filename)\n",
    "        test_fullpathfile = os.path.join(dirname,filename)\n",
    "        with open(test_fullpathfile, 'r', encoding=\"utf8\", errors='ignore') as infile:\n",
    "            intext = ''\n",
    "            firstline = True\n",
    "            for line in infile:\n",
    "                if firstline:\n",
    "                    test_title.append(line.replace('\\n',''))\n",
    "                    firstline = False\n",
    "                else:\n",
    "                    intext = intext + ' ' + line.replace('\\n','')\n",
    "            test_text.append(intext)\n"
   ]
  },
  {
   "cell_type": "code",
   "execution_count": 96,
   "metadata": {},
   "outputs": [
    {
     "data": {
      "text/html": [
       "<div>\n",
       "<style scoped>\n",
       "    .dataframe tbody tr th:only-of-type {\n",
       "        vertical-align: middle;\n",
       "    }\n",
       "\n",
       "    .dataframe tbody tr th {\n",
       "        vertical-align: top;\n",
       "    }\n",
       "\n",
       "    .dataframe thead th {\n",
       "        text-align: right;\n",
       "    }\n",
       "</style>\n",
       "<table border=\"1\" class=\"dataframe\">\n",
       "  <thead>\n",
       "    <tr style=\"text-align: right;\">\n",
       "      <th></th>\n",
       "      <th>file</th>\n",
       "      <th>title</th>\n",
       "      <th>text</th>\n",
       "    </tr>\n",
       "  </thead>\n",
       "  <tbody>\n",
       "    <tr>\n",
       "      <th>0</th>\n",
       "      <td>test2.txt</td>\n",
       "      <td>Starbucks plans to open 100 new stores across ...</td>\n",
       "      <td>It comes as the world's largest coffee chain ...</td>\n",
       "    </tr>\n",
       "    <tr>\n",
       "      <th>1</th>\n",
       "      <td>test.txt</td>\n",
       "      <td>World number one Novak Djokovic has withdrawn ...</td>\n",
       "      <td>The 22-time Grand Slam winner, 35, had appli...</td>\n",
       "    </tr>\n",
       "  </tbody>\n",
       "</table>\n",
       "</div>"
      ],
      "text/plain": [
       "        file                                              title  \\\n",
       "0  test2.txt  Starbucks plans to open 100 new stores across ...   \n",
       "1   test.txt  World number one Novak Djokovic has withdrawn ...   \n",
       "\n",
       "                                                text  \n",
       "0   It comes as the world's largest coffee chain ...  \n",
       "1    The 22-time Grand Slam winner, 35, had appli...  "
      ]
     },
     "execution_count": 96,
     "metadata": {},
     "output_type": "execute_result"
    }
   ],
   "source": [
    "# test\n",
    "DATA_COLUMN = 'test_text'\n",
    "\n",
    "test_fulldf = pd.DataFrame(list(zip(test_file, test_title, test_text)), \n",
    "               columns =['file', 'title', 'text'])\n",
    "\n",
    "test_df = test_fulldf.filter(['text'], axis=1)\n",
    "# test_df.head(10)\n",
    "test_fulldf.head(10)\n"
   ]
  },
  {
   "cell_type": "code",
   "execution_count": 97,
   "metadata": {},
   "outputs": [
    {
     "data": {
      "text/plain": [
       "(2, 1)"
      ]
     },
     "execution_count": 97,
     "metadata": {},
     "output_type": "execute_result"
    }
   ],
   "source": [
    "#test\n",
    "test_df.shape"
   ]
  },
  {
   "cell_type": "code",
   "execution_count": 98,
   "metadata": {},
   "outputs": [
    {
     "data": {
      "text/plain": [
       "text    0\n",
       "dtype: int64"
      ]
     },
     "execution_count": 98,
     "metadata": {},
     "output_type": "execute_result"
    }
   ],
   "source": [
    "test_df.isnull().sum()"
   ]
  },
  {
   "cell_type": "code",
   "execution_count": 99,
   "metadata": {},
   "outputs": [
    {
     "name": "stderr",
     "output_type": "stream",
     "text": [
      "/var/folders/b2/hx3hnjy967d2_x_0tbdd6xzc0000gn/T/ipykernel_1027/736500345.py:2: FutureWarning: The default value of regex will change from True to False in a future version.\n",
      "  test_df['text'] = test_df['text'].str.replace('\\d+', '')\n"
     ]
    },
    {
     "data": {
      "text/html": [
       "<div>\n",
       "<style scoped>\n",
       "    .dataframe tbody tr th:only-of-type {\n",
       "        vertical-align: middle;\n",
       "    }\n",
       "\n",
       "    .dataframe tbody tr th {\n",
       "        vertical-align: top;\n",
       "    }\n",
       "\n",
       "    .dataframe thead th {\n",
       "        text-align: right;\n",
       "    }\n",
       "</style>\n",
       "<table border=\"1\" class=\"dataframe\">\n",
       "  <thead>\n",
       "    <tr style=\"text-align: right;\">\n",
       "      <th></th>\n",
       "      <th>text</th>\n",
       "    </tr>\n",
       "  </thead>\n",
       "  <tbody>\n",
       "    <tr>\n",
       "      <th>0</th>\n",
       "      <td>comes worlds largest coffee chain reported big...</td>\n",
       "    </tr>\n",
       "    <tr>\n",
       "      <th>1</th>\n",
       "      <td>time grand slam winner  applied special permis...</td>\n",
       "    </tr>\n",
       "  </tbody>\n",
       "</table>\n",
       "</div>"
      ],
      "text/plain": [
       "                                                text\n",
       "0  comes worlds largest coffee chain reported big...\n",
       "1  time grand slam winner  applied special permis..."
      ]
     },
     "execution_count": 99,
     "metadata": {},
     "output_type": "execute_result"
    }
   ],
   "source": [
    "test_df['text'] = test_df['text'].apply(clean_text)\n",
    "test_df['text'] = test_df['text'].str.replace('\\d+', '')\n",
    "test_df.head()"
   ]
  },
  {
   "cell_type": "code",
   "execution_count": 100,
   "metadata": {},
   "outputs": [
    {
     "data": {
      "text/html": [
       "<div>\n",
       "<style scoped>\n",
       "    .dataframe tbody tr th:only-of-type {\n",
       "        vertical-align: middle;\n",
       "    }\n",
       "\n",
       "    .dataframe tbody tr th {\n",
       "        vertical-align: top;\n",
       "    }\n",
       "\n",
       "    .dataframe thead th {\n",
       "        text-align: right;\n",
       "    }\n",
       "</style>\n",
       "<table border=\"1\" class=\"dataframe\">\n",
       "  <thead>\n",
       "    <tr style=\"text-align: right;\">\n",
       "      <th></th>\n",
       "      <th>text</th>\n",
       "      <th>text_split</th>\n",
       "    </tr>\n",
       "  </thead>\n",
       "  <tbody>\n",
       "    <tr>\n",
       "      <th>0</th>\n",
       "      <td>comes worlds largest coffee chain reported big...</td>\n",
       "      <td>[comes worlds largest coffee chain reported bi...</td>\n",
       "    </tr>\n",
       "    <tr>\n",
       "      <th>1</th>\n",
       "      <td>time grand slam winner  applied special permis...</td>\n",
       "      <td>[time grand slam winner applied special permis...</td>\n",
       "    </tr>\n",
       "  </tbody>\n",
       "</table>\n",
       "</div>"
      ],
      "text/plain": [
       "                                                text  \\\n",
       "0  comes worlds largest coffee chain reported big...   \n",
       "1  time grand slam winner  applied special permis...   \n",
       "\n",
       "                                          text_split  \n",
       "0  [comes worlds largest coffee chain reported bi...  \n",
       "1  [time grand slam winner applied special permis...  "
      ]
     },
     "execution_count": 100,
     "metadata": {},
     "output_type": "execute_result"
    }
   ],
   "source": [
    "test_df['text_split'] = test_df['text'].apply(get_split)\n",
    "test_df.head()"
   ]
  },
  {
   "cell_type": "code",
   "execution_count": 101,
   "metadata": {},
   "outputs": [
    {
     "data": {
      "text/plain": [
       "(2, 2)"
      ]
     },
     "execution_count": 101,
     "metadata": {},
     "output_type": "execute_result"
    }
   ],
   "source": [
    "test_l = []\n",
    "test_label_l = []\n",
    "test_index_l = []\n",
    "\n",
    "for idx,row in test_df.iterrows():\n",
    "    for l in row['text_split']:\n",
    "        test_l.append(l)\n",
    "        test_index_l.append(idx)\n",
    "            \n",
    "len(test_l), len(test_index_l)"
   ]
  },
  {
   "cell_type": "code",
   "execution_count": 102,
   "metadata": {},
   "outputs": [
    {
     "data": {
      "text/html": [
       "<div>\n",
       "<style scoped>\n",
       "    .dataframe tbody tr th:only-of-type {\n",
       "        vertical-align: middle;\n",
       "    }\n",
       "\n",
       "    .dataframe tbody tr th {\n",
       "        vertical-align: top;\n",
       "    }\n",
       "\n",
       "    .dataframe thead th {\n",
       "        text-align: right;\n",
       "    }\n",
       "</style>\n",
       "<table border=\"1\" class=\"dataframe\">\n",
       "  <thead>\n",
       "    <tr style=\"text-align: right;\">\n",
       "      <th></th>\n",
       "      <th>test_text</th>\n",
       "    </tr>\n",
       "  </thead>\n",
       "  <tbody>\n",
       "    <tr>\n",
       "      <th>0</th>\n",
       "      <td>comes worlds largest coffee chain reported big...</td>\n",
       "    </tr>\n",
       "    <tr>\n",
       "      <th>1</th>\n",
       "      <td>time grand slam winner applied special permiss...</td>\n",
       "    </tr>\n",
       "  </tbody>\n",
       "</table>\n",
       "</div>"
      ],
      "text/plain": [
       "                                           test_text\n",
       "0  comes worlds largest coffee chain reported big...\n",
       "1  time grand slam winner applied special permiss..."
      ]
     },
     "execution_count": 102,
     "metadata": {},
     "output_type": "execute_result"
    }
   ],
   "source": [
    "test_df = pd.DataFrame({DATA_COLUMN:test_l})\n",
    "test_df.head()"
   ]
  },
  {
   "cell_type": "code",
   "execution_count": 103,
   "metadata": {},
   "outputs": [],
   "source": [
    "test_InputExamples = test_df.apply(lambda x: run_classifier.InputExample(guid=None, \n",
    "                                                                   text_a = x[DATA_COLUMN], \n",
    "                                                                   text_b = None,\n",
    "                                                                   label = 0), axis = 1)"
   ]
  },
  {
   "cell_type": "code",
   "execution_count": 104,
   "metadata": {},
   "outputs": [],
   "source": [
    "# print(tokenizer.vocab[\"##w\"])"
   ]
  },
  {
   "cell_type": "code",
   "execution_count": 105,
   "metadata": {},
   "outputs": [],
   "source": [
    "#Here is what the tokenised sample of the first training set observation looks like\n",
    "# print(tokenizer.tokenize(test_InputExamples.iloc[0].text_a))"
   ]
  },
  {
   "cell_type": "code",
   "execution_count": 106,
   "metadata": {},
   "outputs": [
    {
     "name": "stdout",
     "output_type": "stream",
     "text": [
      "INFO:tensorflow:Writing example 0 of 2\n"
     ]
    },
    {
     "name": "stderr",
     "output_type": "stream",
     "text": [
      "INFO:tensorflow:Writing example 0 of 2\n"
     ]
    },
    {
     "name": "stdout",
     "output_type": "stream",
     "text": [
      "INFO:tensorflow:*** Example ***\n"
     ]
    },
    {
     "name": "stderr",
     "output_type": "stream",
     "text": [
      "INFO:tensorflow:*** Example ***\n"
     ]
    },
    {
     "name": "stdout",
     "output_type": "stream",
     "text": [
      "INFO:tensorflow:guid: None\n"
     ]
    },
    {
     "name": "stderr",
     "output_type": "stream",
     "text": [
      "INFO:tensorflow:guid: None\n"
     ]
    },
    {
     "name": "stdout",
     "output_type": "stream",
     "text": [
      "INFO:tensorflow:tokens: [CLS] comes worlds largest coffee chain reported big jump sales uk continuing recovery pan ##de ##mic last year firm reportedly looking sell british operations starbucks launched uk outlets country uk expansion comes despite inflation rate prices rise near year ##hi ##gh pushing cost ingredients firm eating profits firm also plans open new stores rest europe middle east africa em ##ea however duncan moi ##r leads firms em ##ea business said remained cautious economic outlook like many businesses said starbucks faced challenges including shortages h ##g ##v drivers rising supplier costs shipping delays also struggling higher energy bills demands higher wages staff hospitality companies across uk putting pay face shortage workers cost living rises pre ##t man ##ger recently announced giving staff third pay rise months starbucks said since pan ##de ##mic customers habits changed result firm would seek increase number drive ##th ##rou ##gh branches invest digital capabilities stores added many people continued work home foot ##fall cafes city centres train stations slower recover london exception starbucks last year reportedly considering selling uk business faced rising competition chains firm denied ever began formal sales process also hit hard pan ##de ##mic restrictions around world uk shops run franchises remainder [SEP]\n"
     ]
    },
    {
     "name": "stderr",
     "output_type": "stream",
     "text": [
      "INFO:tensorflow:tokens: [CLS] comes worlds largest coffee chain reported big jump sales uk continuing recovery pan ##de ##mic last year firm reportedly looking sell british operations starbucks launched uk outlets country uk expansion comes despite inflation rate prices rise near year ##hi ##gh pushing cost ingredients firm eating profits firm also plans open new stores rest europe middle east africa em ##ea however duncan moi ##r leads firms em ##ea business said remained cautious economic outlook like many businesses said starbucks faced challenges including shortages h ##g ##v drivers rising supplier costs shipping delays also struggling higher energy bills demands higher wages staff hospitality companies across uk putting pay face shortage workers cost living rises pre ##t man ##ger recently announced giving staff third pay rise months starbucks said since pan ##de ##mic customers habits changed result firm would seek increase number drive ##th ##rou ##gh branches invest digital capabilities stores added many people continued work home foot ##fall cafes city centres train stations slower recover london exception starbucks last year reportedly considering selling uk business faced rising competition chains firm denied ever began formal sales process also hit hard pan ##de ##mic restrictions around world uk shops run franchises remainder [SEP]\n"
     ]
    },
    {
     "name": "stdout",
     "output_type": "stream",
     "text": [
      "INFO:tensorflow:input_ids: 101 3310 8484 2922 4157 4677 2988 2502 5376 4341 2866 5719 7233 6090 3207 7712 2197 2095 3813 7283 2559 5271 2329 3136 29500 3390 2866 11730 2406 2866 4935 3310 2750 14200 3446 7597 4125 2379 2095 4048 5603 6183 3465 12760 3813 5983 11372 3813 2036 3488 2330 2047 5324 2717 2885 2690 2264 3088 7861 5243 2174 7343 25175 2099 5260 9786 7861 5243 2449 2056 2815 17145 3171 17680 2066 2116 5661 2056 29500 4320 7860 2164 22623 1044 2290 2615 6853 4803 17024 5366 7829 14350 2036 8084 3020 2943 8236 7670 3020 12678 3095 15961 3316 2408 2866 5128 3477 2227 15843 3667 3465 2542 9466 3653 2102 2158 4590 3728 2623 3228 3095 2353 3477 4125 2706 29500 2056 2144 6090 3207 7712 6304 14243 2904 2765 3813 2052 6148 3623 2193 3298 2705 22494 5603 5628 15697 3617 9859 5324 2794 2116 2111 2506 2147 2188 3329 13976 23812 2103 8941 3345 3703 12430 8980 2414 6453 29500 2197 2095 7283 6195 4855 2866 2449 4320 4803 2971 8859 3813 6380 2412 2211 5337 4341 2832 2036 2718 2524 6090 3207 7712 9259 2105 2088 2866 7340 2448 22506 6893 102\n"
     ]
    },
    {
     "name": "stderr",
     "output_type": "stream",
     "text": [
      "INFO:tensorflow:input_ids: 101 3310 8484 2922 4157 4677 2988 2502 5376 4341 2866 5719 7233 6090 3207 7712 2197 2095 3813 7283 2559 5271 2329 3136 29500 3390 2866 11730 2406 2866 4935 3310 2750 14200 3446 7597 4125 2379 2095 4048 5603 6183 3465 12760 3813 5983 11372 3813 2036 3488 2330 2047 5324 2717 2885 2690 2264 3088 7861 5243 2174 7343 25175 2099 5260 9786 7861 5243 2449 2056 2815 17145 3171 17680 2066 2116 5661 2056 29500 4320 7860 2164 22623 1044 2290 2615 6853 4803 17024 5366 7829 14350 2036 8084 3020 2943 8236 7670 3020 12678 3095 15961 3316 2408 2866 5128 3477 2227 15843 3667 3465 2542 9466 3653 2102 2158 4590 3728 2623 3228 3095 2353 3477 4125 2706 29500 2056 2144 6090 3207 7712 6304 14243 2904 2765 3813 2052 6148 3623 2193 3298 2705 22494 5603 5628 15697 3617 9859 5324 2794 2116 2111 2506 2147 2188 3329 13976 23812 2103 8941 3345 3703 12430 8980 2414 6453 29500 2197 2095 7283 6195 4855 2866 2449 4320 4803 2971 8859 3813 6380 2412 2211 5337 4341 2832 2036 2718 2524 6090 3207 7712 9259 2105 2088 2866 7340 2448 22506 6893 102\n"
     ]
    },
    {
     "name": "stdout",
     "output_type": "stream",
     "text": [
      "INFO:tensorflow:input_mask: 1 1 1 1 1 1 1 1 1 1 1 1 1 1 1 1 1 1 1 1 1 1 1 1 1 1 1 1 1 1 1 1 1 1 1 1 1 1 1 1 1 1 1 1 1 1 1 1 1 1 1 1 1 1 1 1 1 1 1 1 1 1 1 1 1 1 1 1 1 1 1 1 1 1 1 1 1 1 1 1 1 1 1 1 1 1 1 1 1 1 1 1 1 1 1 1 1 1 1 1 1 1 1 1 1 1 1 1 1 1 1 1 1 1 1 1 1 1 1 1 1 1 1 1 1 1 1 1 1 1 1 1 1 1 1 1 1 1 1 1 1 1 1 1 1 1 1 1 1 1 1 1 1 1 1 1 1 1 1 1 1 1 1 1 1 1 1 1 1 1 1 1 1 1 1 1 1 1 1 1 1 1 1 1 1 1 1 1 1 1 1 1 1 1 1 1 1 1 1 1\n"
     ]
    },
    {
     "name": "stderr",
     "output_type": "stream",
     "text": [
      "INFO:tensorflow:input_mask: 1 1 1 1 1 1 1 1 1 1 1 1 1 1 1 1 1 1 1 1 1 1 1 1 1 1 1 1 1 1 1 1 1 1 1 1 1 1 1 1 1 1 1 1 1 1 1 1 1 1 1 1 1 1 1 1 1 1 1 1 1 1 1 1 1 1 1 1 1 1 1 1 1 1 1 1 1 1 1 1 1 1 1 1 1 1 1 1 1 1 1 1 1 1 1 1 1 1 1 1 1 1 1 1 1 1 1 1 1 1 1 1 1 1 1 1 1 1 1 1 1 1 1 1 1 1 1 1 1 1 1 1 1 1 1 1 1 1 1 1 1 1 1 1 1 1 1 1 1 1 1 1 1 1 1 1 1 1 1 1 1 1 1 1 1 1 1 1 1 1 1 1 1 1 1 1 1 1 1 1 1 1 1 1 1 1 1 1 1 1 1 1 1 1 1 1 1 1 1 1\n"
     ]
    },
    {
     "name": "stdout",
     "output_type": "stream",
     "text": [
      "INFO:tensorflow:segment_ids: 0 0 0 0 0 0 0 0 0 0 0 0 0 0 0 0 0 0 0 0 0 0 0 0 0 0 0 0 0 0 0 0 0 0 0 0 0 0 0 0 0 0 0 0 0 0 0 0 0 0 0 0 0 0 0 0 0 0 0 0 0 0 0 0 0 0 0 0 0 0 0 0 0 0 0 0 0 0 0 0 0 0 0 0 0 0 0 0 0 0 0 0 0 0 0 0 0 0 0 0 0 0 0 0 0 0 0 0 0 0 0 0 0 0 0 0 0 0 0 0 0 0 0 0 0 0 0 0 0 0 0 0 0 0 0 0 0 0 0 0 0 0 0 0 0 0 0 0 0 0 0 0 0 0 0 0 0 0 0 0 0 0 0 0 0 0 0 0 0 0 0 0 0 0 0 0 0 0 0 0 0 0 0 0 0 0 0 0 0 0 0 0 0 0 0 0 0 0 0 0\n"
     ]
    },
    {
     "name": "stderr",
     "output_type": "stream",
     "text": [
      "INFO:tensorflow:segment_ids: 0 0 0 0 0 0 0 0 0 0 0 0 0 0 0 0 0 0 0 0 0 0 0 0 0 0 0 0 0 0 0 0 0 0 0 0 0 0 0 0 0 0 0 0 0 0 0 0 0 0 0 0 0 0 0 0 0 0 0 0 0 0 0 0 0 0 0 0 0 0 0 0 0 0 0 0 0 0 0 0 0 0 0 0 0 0 0 0 0 0 0 0 0 0 0 0 0 0 0 0 0 0 0 0 0 0 0 0 0 0 0 0 0 0 0 0 0 0 0 0 0 0 0 0 0 0 0 0 0 0 0 0 0 0 0 0 0 0 0 0 0 0 0 0 0 0 0 0 0 0 0 0 0 0 0 0 0 0 0 0 0 0 0 0 0 0 0 0 0 0 0 0 0 0 0 0 0 0 0 0 0 0 0 0 0 0 0 0 0 0 0 0 0 0 0 0 0 0 0 0\n"
     ]
    },
    {
     "name": "stdout",
     "output_type": "stream",
     "text": [
      "INFO:tensorflow:label: 0 (id = 0)\n"
     ]
    },
    {
     "name": "stderr",
     "output_type": "stream",
     "text": [
      "INFO:tensorflow:label: 0 (id = 0)\n"
     ]
    },
    {
     "name": "stdout",
     "output_type": "stream",
     "text": [
      "INFO:tensorflow:*** Example ***\n"
     ]
    },
    {
     "name": "stderr",
     "output_type": "stream",
     "text": [
      "INFO:tensorflow:*** Example ***\n"
     ]
    },
    {
     "name": "stdout",
     "output_type": "stream",
     "text": [
      "INFO:tensorflow:guid: None\n"
     ]
    },
    {
     "name": "stderr",
     "output_type": "stream",
     "text": [
      "INFO:tensorflow:guid: None\n"
     ]
    },
    {
     "name": "stdout",
     "output_type": "stream",
     "text": [
      "INFO:tensorflow:tokens: [CLS] time grand slam winner applied special permission enter us va ##cci ##nated co ##vid us requires international visitors va ##cci ##nated proof required least april dj ##oko ##vic missed last years us open va ##cci ##nation status world number one novak dj ##oko ##vic withdrawn bn ##p par ##iba ##s open withdrawal nik ##olo ##z basil ##ash ##vili moves field organise ##rs said statement indian wells one prestigious tournaments tennis calendar outside grand slams starts march friday united states tennis association us open said hopeful dj ##oko ##vic would allowed play months indian wells miami masters events dj ##oko ##vic also missed last years australian open deported country va ##cci ##nation status said would skip grand slams rather co ##vid va ##cci ##nation permitted travel melbourne january record ##ex ##ten ##ding th australian open title tying rafael nad ##als men ##s record grand slam wins [SEP]\n"
     ]
    },
    {
     "name": "stderr",
     "output_type": "stream",
     "text": [
      "INFO:tensorflow:tokens: [CLS] time grand slam winner applied special permission enter us va ##cci ##nated co ##vid us requires international visitors va ##cci ##nated proof required least april dj ##oko ##vic missed last years us open va ##cci ##nation status world number one novak dj ##oko ##vic withdrawn bn ##p par ##iba ##s open withdrawal nik ##olo ##z basil ##ash ##vili moves field organise ##rs said statement indian wells one prestigious tournaments tennis calendar outside grand slams starts march friday united states tennis association us open said hopeful dj ##oko ##vic would allowed play months indian wells miami masters events dj ##oko ##vic also missed last years australian open deported country va ##cci ##nation status said would skip grand slams rather co ##vid va ##cci ##nation permitted travel melbourne january record ##ex ##ten ##ding th australian open title tying rafael nad ##als men ##s record grand slam wins [SEP]\n"
     ]
    },
    {
     "name": "stdout",
     "output_type": "stream",
     "text": [
      "INFO:tensorflow:input_ids: 101 2051 2882 9555 3453 4162 2569 6656 4607 2149 12436 14693 23854 2522 17258 2149 5942 2248 5731 12436 14693 23854 6947 3223 2560 2258 6520 16366 7903 4771 2197 2086 2149 2330 12436 14693 9323 3570 2088 2193 2028 19580 6520 16366 7903 9633 24869 2361 11968 18410 2015 2330 10534 23205 12898 2480 14732 11823 21661 5829 2492 22933 2869 2056 4861 2796 7051 2028 8919 8504 5093 8094 2648 2882 25967 4627 2233 5958 2142 2163 5093 2523 2149 2330 2056 17772 6520 16366 7903 2052 3039 2377 2706 2796 7051 5631 5972 2824 6520 16366 7903 2036 4771 2197 2086 2827 2330 17929 2406 12436 14693 9323 3570 2056 2052 13558 2882 25967 2738 2522 17258 12436 14693 9323 7936 3604 4940 2254 2501 10288 6528 4667 16215 2827 2330 2516 15233 10999 23233 9777 2273 2015 2501 2882 9555 5222 102 0 0 0 0 0 0 0 0 0 0 0 0 0 0 0 0 0 0 0 0 0 0 0 0 0 0 0 0 0 0 0 0 0 0 0 0 0 0 0 0 0 0 0 0 0 0 0 0 0 0 0 0 0\n"
     ]
    },
    {
     "name": "stderr",
     "output_type": "stream",
     "text": [
      "INFO:tensorflow:input_ids: 101 2051 2882 9555 3453 4162 2569 6656 4607 2149 12436 14693 23854 2522 17258 2149 5942 2248 5731 12436 14693 23854 6947 3223 2560 2258 6520 16366 7903 4771 2197 2086 2149 2330 12436 14693 9323 3570 2088 2193 2028 19580 6520 16366 7903 9633 24869 2361 11968 18410 2015 2330 10534 23205 12898 2480 14732 11823 21661 5829 2492 22933 2869 2056 4861 2796 7051 2028 8919 8504 5093 8094 2648 2882 25967 4627 2233 5958 2142 2163 5093 2523 2149 2330 2056 17772 6520 16366 7903 2052 3039 2377 2706 2796 7051 5631 5972 2824 6520 16366 7903 2036 4771 2197 2086 2827 2330 17929 2406 12436 14693 9323 3570 2056 2052 13558 2882 25967 2738 2522 17258 12436 14693 9323 7936 3604 4940 2254 2501 10288 6528 4667 16215 2827 2330 2516 15233 10999 23233 9777 2273 2015 2501 2882 9555 5222 102 0 0 0 0 0 0 0 0 0 0 0 0 0 0 0 0 0 0 0 0 0 0 0 0 0 0 0 0 0 0 0 0 0 0 0 0 0 0 0 0 0 0 0 0 0 0 0 0 0 0 0 0 0\n"
     ]
    },
    {
     "name": "stdout",
     "output_type": "stream",
     "text": [
      "INFO:tensorflow:input_mask: 1 1 1 1 1 1 1 1 1 1 1 1 1 1 1 1 1 1 1 1 1 1 1 1 1 1 1 1 1 1 1 1 1 1 1 1 1 1 1 1 1 1 1 1 1 1 1 1 1 1 1 1 1 1 1 1 1 1 1 1 1 1 1 1 1 1 1 1 1 1 1 1 1 1 1 1 1 1 1 1 1 1 1 1 1 1 1 1 1 1 1 1 1 1 1 1 1 1 1 1 1 1 1 1 1 1 1 1 1 1 1 1 1 1 1 1 1 1 1 1 1 1 1 1 1 1 1 1 1 1 1 1 1 1 1 1 1 1 1 1 1 1 1 1 1 1 1 0 0 0 0 0 0 0 0 0 0 0 0 0 0 0 0 0 0 0 0 0 0 0 0 0 0 0 0 0 0 0 0 0 0 0 0 0 0 0 0 0 0 0 0 0 0 0 0 0 0 0 0 0\n"
     ]
    },
    {
     "name": "stderr",
     "output_type": "stream",
     "text": [
      "INFO:tensorflow:input_mask: 1 1 1 1 1 1 1 1 1 1 1 1 1 1 1 1 1 1 1 1 1 1 1 1 1 1 1 1 1 1 1 1 1 1 1 1 1 1 1 1 1 1 1 1 1 1 1 1 1 1 1 1 1 1 1 1 1 1 1 1 1 1 1 1 1 1 1 1 1 1 1 1 1 1 1 1 1 1 1 1 1 1 1 1 1 1 1 1 1 1 1 1 1 1 1 1 1 1 1 1 1 1 1 1 1 1 1 1 1 1 1 1 1 1 1 1 1 1 1 1 1 1 1 1 1 1 1 1 1 1 1 1 1 1 1 1 1 1 1 1 1 1 1 1 1 1 1 0 0 0 0 0 0 0 0 0 0 0 0 0 0 0 0 0 0 0 0 0 0 0 0 0 0 0 0 0 0 0 0 0 0 0 0 0 0 0 0 0 0 0 0 0 0 0 0 0 0 0 0 0\n"
     ]
    },
    {
     "name": "stdout",
     "output_type": "stream",
     "text": [
      "INFO:tensorflow:segment_ids: 0 0 0 0 0 0 0 0 0 0 0 0 0 0 0 0 0 0 0 0 0 0 0 0 0 0 0 0 0 0 0 0 0 0 0 0 0 0 0 0 0 0 0 0 0 0 0 0 0 0 0 0 0 0 0 0 0 0 0 0 0 0 0 0 0 0 0 0 0 0 0 0 0 0 0 0 0 0 0 0 0 0 0 0 0 0 0 0 0 0 0 0 0 0 0 0 0 0 0 0 0 0 0 0 0 0 0 0 0 0 0 0 0 0 0 0 0 0 0 0 0 0 0 0 0 0 0 0 0 0 0 0 0 0 0 0 0 0 0 0 0 0 0 0 0 0 0 0 0 0 0 0 0 0 0 0 0 0 0 0 0 0 0 0 0 0 0 0 0 0 0 0 0 0 0 0 0 0 0 0 0 0 0 0 0 0 0 0 0 0 0 0 0 0 0 0 0 0 0 0\n"
     ]
    },
    {
     "name": "stderr",
     "output_type": "stream",
     "text": [
      "INFO:tensorflow:segment_ids: 0 0 0 0 0 0 0 0 0 0 0 0 0 0 0 0 0 0 0 0 0 0 0 0 0 0 0 0 0 0 0 0 0 0 0 0 0 0 0 0 0 0 0 0 0 0 0 0 0 0 0 0 0 0 0 0 0 0 0 0 0 0 0 0 0 0 0 0 0 0 0 0 0 0 0 0 0 0 0 0 0 0 0 0 0 0 0 0 0 0 0 0 0 0 0 0 0 0 0 0 0 0 0 0 0 0 0 0 0 0 0 0 0 0 0 0 0 0 0 0 0 0 0 0 0 0 0 0 0 0 0 0 0 0 0 0 0 0 0 0 0 0 0 0 0 0 0 0 0 0 0 0 0 0 0 0 0 0 0 0 0 0 0 0 0 0 0 0 0 0 0 0 0 0 0 0 0 0 0 0 0 0 0 0 0 0 0 0 0 0 0 0 0 0 0 0 0 0 0 0\n"
     ]
    },
    {
     "name": "stdout",
     "output_type": "stream",
     "text": [
      "INFO:tensorflow:label: 0 (id = 0)\n"
     ]
    },
    {
     "name": "stderr",
     "output_type": "stream",
     "text": [
      "INFO:tensorflow:label: 0 (id = 0)\n"
     ]
    }
   ],
   "source": [
    "test_features = run_classifier.convert_examples_to_features(test_InputExamples, label_list, MAX_SEQ_LENGTH, tokenizer)"
   ]
  },
  {
   "cell_type": "code",
   "execution_count": 107,
   "metadata": {},
   "outputs": [],
   "source": [
    "test_input_fn = run_classifier.input_fn_builder(\n",
    "    features=test_features,\n",
    "    seq_length=MAX_SEQ_LENGTH,\n",
    "    is_training=False,\n",
    "    drop_remainder=False)"
   ]
  },
  {
   "cell_type": "code",
   "execution_count": 108,
   "metadata": {
    "execution": {
     "iopub.status.busy": "2023-02-23T18:23:35.787046Z",
     "iopub.status.idle": "2023-02-23T18:23:35.787440Z"
    }
   },
   "outputs": [],
   "source": [
    "test_out=estimator.predict(input_fn=test_input_fn, yield_single_examples=False)"
   ]
  },
  {
   "cell_type": "code",
   "execution_count": 109,
   "metadata": {},
   "outputs": [
    {
     "name": "stdout",
     "output_type": "stream",
     "text": [
      "INFO:tensorflow:Calling model_fn.\n"
     ]
    },
    {
     "name": "stderr",
     "output_type": "stream",
     "text": [
      "INFO:tensorflow:Calling model_fn.\n",
      "2023-03-12 16:01:23.859439: W tensorflow/core/common_runtime/graph_constructor.cc:1526] Importing a graph with a lower producer version 27 into an existing graph with producer version 1087. Shape inference will have run different parts of the graph with different producer versions.\n"
     ]
    },
    {
     "name": "stdout",
     "output_type": "stream",
     "text": [
      "INFO:tensorflow:Saver not created because there are no variables in the graph to restore\n"
     ]
    },
    {
     "name": "stderr",
     "output_type": "stream",
     "text": [
      "INFO:tensorflow:Saver not created because there are no variables in the graph to restore\n"
     ]
    },
    {
     "name": "stdout",
     "output_type": "stream",
     "text": [
      "INFO:tensorflow:Done calling model_fn.\n"
     ]
    },
    {
     "name": "stderr",
     "output_type": "stream",
     "text": [
      "INFO:tensorflow:Done calling model_fn.\n"
     ]
    },
    {
     "name": "stdout",
     "output_type": "stream",
     "text": [
      "INFO:tensorflow:Graph was finalized.\n"
     ]
    },
    {
     "name": "stderr",
     "output_type": "stream",
     "text": [
      "INFO:tensorflow:Graph was finalized.\n"
     ]
    },
    {
     "name": "stdout",
     "output_type": "stream",
     "text": [
      "INFO:tensorflow:Restoring parameters from ./bert_news_category/model.ckpt-111\n"
     ]
    },
    {
     "name": "stderr",
     "output_type": "stream",
     "text": [
      "2023-03-12 16:01:25.287249: I tensorflow/core/common_runtime/pluggable_device/pluggable_device_factory.cc:305] Could not identify NUMA node of platform GPU ID 0, defaulting to 0. Your kernel may not have been built with NUMA support.\n",
      "2023-03-12 16:01:25.287297: I tensorflow/core/common_runtime/pluggable_device/pluggable_device_factory.cc:271] Created TensorFlow device (/job:localhost/replica:0/task:0/device:GPU:0 with 0 MB memory) -> physical PluggableDevice (device: 0, name: METAL, pci bus id: <undefined>)\n",
      "INFO:tensorflow:Restoring parameters from ./bert_news_category/model.ckpt-111\n",
      "2023-03-12 16:01:25.389385: I tensorflow/core/grappler/optimizers/custom_graph_optimizer_registry.cc:113] Plugin optimizer for device_type GPU is enabled.\n"
     ]
    },
    {
     "name": "stdout",
     "output_type": "stream",
     "text": [
      "INFO:tensorflow:Running local_init_op.\n"
     ]
    },
    {
     "name": "stderr",
     "output_type": "stream",
     "text": [
      "2023-03-12 16:01:25.967930: I tensorflow/core/grappler/optimizers/custom_graph_optimizer_registry.cc:113] Plugin optimizer for device_type GPU is enabled.\n",
      "INFO:tensorflow:Running local_init_op.\n"
     ]
    },
    {
     "name": "stdout",
     "output_type": "stream",
     "text": [
      "INFO:tensorflow:Done running local_init_op.\n"
     ]
    },
    {
     "name": "stderr",
     "output_type": "stream",
     "text": [
      "2023-03-12 16:01:26.018794: I tensorflow/core/grappler/optimizers/custom_graph_optimizer_registry.cc:113] Plugin optimizer for device_type GPU is enabled.\n",
      "INFO:tensorflow:Done running local_init_op.\n",
      "2023-03-12 16:01:26.037923: I tensorflow/core/grappler/optimizers/custom_graph_optimizer_registry.cc:113] Plugin optimizer for device_type GPU is enabled.\n",
      "2023-03-12 16:01:26.100851: I tensorflow/core/grappler/optimizers/custom_graph_optimizer_registry.cc:113] Plugin optimizer for device_type GPU is enabled.\n",
      "2023-03-12 16:01:26.125487: I tensorflow/core/grappler/optimizers/custom_graph_optimizer_registry.cc:113] Plugin optimizer for device_type GPU is enabled.\n"
     ]
    },
    {
     "name": "stdout",
     "output_type": "stream",
     "text": [
      "{'probabilities': array([[-0.01260737, -5.5149946 , -5.8220215 , -5.795988  , -5.991052  ],\n",
      "       [-6.113459  , -6.3974442 , -6.67604   , -0.00814496, -5.818375  ]],\n",
      "      dtype=float32), 'labels': array([0, 3], dtype=int32), 'pooled_output': array([[ 0.35187992,  0.7716934 ,  0.9999582 , ...,  0.99605316,\n",
      "         0.4443725 , -0.05939209],\n",
      "       [ 0.5740807 , -0.20175342,  0.26008132, ..., -0.7837786 ,\n",
      "         0.03119677,  0.68072635]], dtype=float32)}\n"
     ]
    },
    {
     "data": {
      "text/plain": [
       "array(['business', 'sport'], dtype=object)"
      ]
     },
     "execution_count": 109,
     "metadata": {},
     "output_type": "execute_result"
    }
   ],
   "source": [
    "predic_result = next(test_out)\n",
    "print(predic_result)\n",
    "c=np.argmax(predic_result['probabilities'], axis=1)\n",
    "le.inverse_transform(c)"
   ]
  },
  {
   "cell_type": "markdown",
   "metadata": {},
   "source": [
    "# Validation with CNN dataset"
   ]
  },
  {
   "cell_type": "code",
   "execution_count": 209,
   "metadata": {},
   "outputs": [
    {
     "data": {
      "text/html": [
       "<div>\n",
       "<style scoped>\n",
       "    .dataframe tbody tr th:only-of-type {\n",
       "        vertical-align: middle;\n",
       "    }\n",
       "\n",
       "    .dataframe tbody tr th {\n",
       "        vertical-align: top;\n",
       "    }\n",
       "\n",
       "    .dataframe thead th {\n",
       "        text-align: right;\n",
       "    }\n",
       "</style>\n",
       "<table border=\"1\" class=\"dataframe\">\n",
       "  <thead>\n",
       "    <tr style=\"text-align: right;\">\n",
       "      <th></th>\n",
       "      <th>label</th>\n",
       "      <th>text</th>\n",
       "    </tr>\n",
       "  </thead>\n",
       "  <tbody>\n",
       "    <tr>\n",
       "      <th>0</th>\n",
       "      <td>news</td>\n",
       "      <td>(CNN)Right now, there's a shortage of truck d...</td>\n",
       "    </tr>\n",
       "    <tr>\n",
       "      <th>1</th>\n",
       "      <td>news</td>\n",
       "      <td>(CNN)Working in a factory or warehouse can me...</td>\n",
       "    </tr>\n",
       "    <tr>\n",
       "      <th>2</th>\n",
       "      <td>news</td>\n",
       "      <td>(CNN)In a Hong Kong warehouse, a swarm of aut...</td>\n",
       "    </tr>\n",
       "    <tr>\n",
       "      <th>3</th>\n",
       "      <td>business</td>\n",
       "      <td>New York (CNN Business)For many years, the wor...</td>\n",
       "    </tr>\n",
       "    <tr>\n",
       "      <th>4</th>\n",
       "      <td>business</td>\n",
       "      <td>The European Union formally approved on Tuesda...</td>\n",
       "    </tr>\n",
       "    <tr>\n",
       "      <th>5</th>\n",
       "      <td>business</td>\n",
       "      <td>(CNN Business)A woman holding a sign reading ...</td>\n",
       "    </tr>\n",
       "    <tr>\n",
       "      <th>6</th>\n",
       "      <td>business</td>\n",
       "      <td>New York (CNN Business)Fox News correspondent ...</td>\n",
       "    </tr>\n",
       "    <tr>\n",
       "      <th>7</th>\n",
       "      <td>business</td>\n",
       "      <td>London (CNN Business)Russia has sent the clear...</td>\n",
       "    </tr>\n",
       "    <tr>\n",
       "      <th>8</th>\n",
       "      <td>business</td>\n",
       "      <td>New York (CNN Business)US oil prices briefly t...</td>\n",
       "    </tr>\n",
       "    <tr>\n",
       "      <th>9</th>\n",
       "      <td>business</td>\n",
       "      <td>New DelhiIndia may take up a Russian offer to ...</td>\n",
       "    </tr>\n",
       "  </tbody>\n",
       "</table>\n",
       "</div>"
      ],
      "text/plain": [
       "      label                                               text\n",
       "0      news   (CNN)Right now, there's a shortage of truck d...\n",
       "1      news   (CNN)Working in a factory or warehouse can me...\n",
       "2      news   (CNN)In a Hong Kong warehouse, a swarm of aut...\n",
       "3  business  New York (CNN Business)For many years, the wor...\n",
       "4  business  The European Union formally approved on Tuesda...\n",
       "5  business   (CNN Business)A woman holding a sign reading ...\n",
       "6  business  New York (CNN Business)Fox News correspondent ...\n",
       "7  business  London (CNN Business)Russia has sent the clear...\n",
       "8  business  New York (CNN Business)US oil prices briefly t...\n",
       "9  business  New DelhiIndia may take up a Russian offer to ..."
      ]
     },
     "execution_count": 209,
     "metadata": {},
     "output_type": "execute_result"
    }
   ],
   "source": [
    "DATA_COLUMN = 'text'\n",
    "LABEL_COLUMN = 'label'\n",
    "fileDirectory= './archive/CNN_Articels_clean/CNN_Articels_clean.csv'\n",
    "\n",
    "test= pd.read_csv (fileDirectory, usecols=['Article text', 'Category'])\n",
    "test.rename(columns={'Article text': 'text', 'Category': 'label'}, inplace = True)\n",
    "test.head(10)"
   ]
  },
  {
   "cell_type": "code",
   "execution_count": 210,
   "metadata": {},
   "outputs": [
    {
     "name": "stdout",
     "output_type": "stream",
     "text": [
      "business\n",
      "entertainment\n",
      "health\n",
      "news\n",
      "politics\n",
      "sport\n"
     ]
    }
   ],
   "source": [
    "for label in np.unique(test['label']):\n",
    "    print(label)"
   ]
  },
  {
   "cell_type": "code",
   "execution_count": 211,
   "metadata": {},
   "outputs": [
    {
     "data": {
      "text/html": [
       "<div>\n",
       "<style scoped>\n",
       "    .dataframe tbody tr th:only-of-type {\n",
       "        vertical-align: middle;\n",
       "    }\n",
       "\n",
       "    .dataframe tbody tr th {\n",
       "        vertical-align: top;\n",
       "    }\n",
       "\n",
       "    .dataframe thead th {\n",
       "        text-align: right;\n",
       "    }\n",
       "</style>\n",
       "<table border=\"1\" class=\"dataframe\">\n",
       "  <thead>\n",
       "    <tr style=\"text-align: right;\">\n",
       "      <th></th>\n",
       "      <th>label</th>\n",
       "      <th>text</th>\n",
       "    </tr>\n",
       "  </thead>\n",
       "  <tbody>\n",
       "    <tr>\n",
       "      <th>0</th>\n",
       "      <td>business</td>\n",
       "      <td>New York (CNN Business)For many years, the wor...</td>\n",
       "    </tr>\n",
       "    <tr>\n",
       "      <th>1</th>\n",
       "      <td>business</td>\n",
       "      <td>The European Union formally approved on Tuesda...</td>\n",
       "    </tr>\n",
       "    <tr>\n",
       "      <th>2</th>\n",
       "      <td>business</td>\n",
       "      <td>(CNN Business)A woman holding a sign reading ...</td>\n",
       "    </tr>\n",
       "    <tr>\n",
       "      <th>3</th>\n",
       "      <td>business</td>\n",
       "      <td>New York (CNN Business)Fox News correspondent ...</td>\n",
       "    </tr>\n",
       "    <tr>\n",
       "      <th>4</th>\n",
       "      <td>business</td>\n",
       "      <td>London (CNN Business)Russia has sent the clear...</td>\n",
       "    </tr>\n",
       "    <tr>\n",
       "      <th>...</th>\n",
       "      <td>...</td>\n",
       "      <td>...</td>\n",
       "    </tr>\n",
       "    <tr>\n",
       "      <th>2408</th>\n",
       "      <td>sport</td>\n",
       "      <td>(CNN)French side Troyes has alleged that Sout...</td>\n",
       "    </tr>\n",
       "    <tr>\n",
       "      <th>2409</th>\n",
       "      <td>sport</td>\n",
       "      <td>(Reuters)The Australian Open's Covid-19 vacci...</td>\n",
       "    </tr>\n",
       "    <tr>\n",
       "      <th>2410</th>\n",
       "      <td>sport</td>\n",
       "      <td>(CNN)Four golfers scheduled to play in the So...</td>\n",
       "    </tr>\n",
       "    <tr>\n",
       "      <th>2411</th>\n",
       "      <td>sport</td>\n",
       "      <td>(CNN)Long-time International Olympic Committe...</td>\n",
       "    </tr>\n",
       "    <tr>\n",
       "      <th>2412</th>\n",
       "      <td>sport</td>\n",
       "      <td>This story was excerpted from the November 23 ...</td>\n",
       "    </tr>\n",
       "  </tbody>\n",
       "</table>\n",
       "<p>2413 rows × 2 columns</p>\n",
       "</div>"
      ],
      "text/plain": [
       "         label                                               text\n",
       "0     business  New York (CNN Business)For many years, the wor...\n",
       "1     business  The European Union formally approved on Tuesda...\n",
       "2     business   (CNN Business)A woman holding a sign reading ...\n",
       "3     business  New York (CNN Business)Fox News correspondent ...\n",
       "4     business  London (CNN Business)Russia has sent the clear...\n",
       "...        ...                                                ...\n",
       "2408     sport   (CNN)French side Troyes has alleged that Sout...\n",
       "2409     sport   (Reuters)The Australian Open's Covid-19 vacci...\n",
       "2410     sport   (CNN)Four golfers scheduled to play in the So...\n",
       "2411     sport   (CNN)Long-time International Olympic Committe...\n",
       "2412     sport  This story was excerpted from the November 23 ...\n",
       "\n",
       "[2413 rows x 2 columns]"
      ]
     },
     "execution_count": 211,
     "metadata": {},
     "output_type": "execute_result"
    }
   ],
   "source": [
    "test = test.query(\"label=='sport' | label=='politics' | label=='entertainment' | label=='business' | label=='tech' \")\n",
    "test.reset_index(drop=True, inplace=True)\n",
    "test"
   ]
  },
  {
   "cell_type": "code",
   "execution_count": 212,
   "metadata": {},
   "outputs": [
    {
     "data": {
      "text/plain": [
       "<Axes: >"
      ]
     },
     "execution_count": 212,
     "metadata": {},
     "output_type": "execute_result"
    },
    {
     "data": {
      "image/png": "[encoded data removed]",
      "text/plain": [
       "<Figure size 640x480 with 1 Axes>"
      ]
     },
     "metadata": {},
     "output_type": "display_data"
    }
   ],
   "source": [
    "# Checking number of records of each label\n",
    "test['label'].value_counts().plot(kind='bar')"
   ]
  },
  {
   "cell_type": "code",
   "execution_count": 213,
   "metadata": {},
   "outputs": [
    {
     "data": {
      "text/plain": [
       "<Axes: >"
      ]
     },
     "execution_count": 213,
     "metadata": {},
     "output_type": "execute_result"
    },
    {
     "data": {
      "image/png": "[encoded data removed]",
      "text/plain": [
       "<Figure size 640x480 with 1 Axes>"
      ]
     },
     "metadata": {},
     "output_type": "display_data"
    }
   ],
   "source": [
    "test.drop(test[(test['label'] == 'sport')].sample(frac=0.95).index, inplace=True)\n",
    "test['label'].value_counts().plot(kind='bar')"
   ]
  },
  {
   "cell_type": "code",
   "execution_count": 214,
   "metadata": {},
   "outputs": [],
   "source": [
    "test.reset_index(drop=True, inplace=True)"
   ]
  },
  {
   "cell_type": "code",
   "execution_count": 215,
   "metadata": {},
   "outputs": [
    {
     "name": "stdout",
     "output_type": "stream",
     "text": [
      "business\n",
      "entertainment\n",
      "politics\n",
      "sport\n"
     ]
    }
   ],
   "source": [
    "for label in np.unique(test['label']):\n",
    "    print(label)"
   ]
  },
  {
   "cell_type": "code",
   "execution_count": 216,
   "metadata": {},
   "outputs": [
    {
     "data": {
      "text/plain": [
       "(346, 2)"
      ]
     },
     "execution_count": 216,
     "metadata": {},
     "output_type": "execute_result"
    }
   ],
   "source": [
    "test.shape"
   ]
  },
  {
   "cell_type": "code",
   "execution_count": 217,
   "metadata": {},
   "outputs": [
    {
     "data": {
      "text/plain": [
       "label    0\n",
       "text     0\n",
       "dtype: int64"
      ]
     },
     "execution_count": 217,
     "metadata": {},
     "output_type": "execute_result"
    }
   ],
   "source": [
    "test.isnull().sum()"
   ]
  },
  {
   "cell_type": "code",
   "execution_count": 218,
   "metadata": {},
   "outputs": [
    {
     "data": {
      "text/plain": [
       "['business', 'entertainment', 'politics', 'sport']"
      ]
     },
     "execution_count": 218,
     "metadata": {},
     "output_type": "execute_result"
    }
   ],
   "source": [
    "le = LabelEncoder()\n",
    "test['label'] = le.fit_transform(test['label'])\n",
    "list(le.classes_)"
   ]
  },
  {
   "cell_type": "code",
   "execution_count": 219,
   "metadata": {},
   "outputs": [
    {
     "name": "stderr",
     "output_type": "stream",
     "text": [
      "/var/folders/b2/hx3hnjy967d2_x_0tbdd6xzc0000gn/T/ipykernel_1027/1937921843.py:4: FutureWarning: The default value of regex will change from True to False in a future version.\n",
      "  test['text_clean'] = test['text'].str.replace('(CNN Business)', '')\n",
      "/var/folders/b2/hx3hnjy967d2_x_0tbdd6xzc0000gn/T/ipykernel_1027/1937921843.py:5: FutureWarning: The default value of regex will change from True to False in a future version.\n",
      "  test['text_clean'] = test['text_clean'].str.replace('(CNN)', '')\n",
      "/var/folders/b2/hx3hnjy967d2_x_0tbdd6xzc0000gn/T/ipykernel_1027/1937921843.py:8: FutureWarning: The default value of regex will change from True to False in a future version.\n",
      "  test['text_clean'] = test['text_clean'].str.replace('\\d+', '')\n"
     ]
    },
    {
     "data": {
      "text/html": [
       "<div>\n",
       "<style scoped>\n",
       "    .dataframe tbody tr th:only-of-type {\n",
       "        vertical-align: middle;\n",
       "    }\n",
       "\n",
       "    .dataframe tbody tr th {\n",
       "        vertical-align: top;\n",
       "    }\n",
       "\n",
       "    .dataframe thead th {\n",
       "        text-align: right;\n",
       "    }\n",
       "</style>\n",
       "<table border=\"1\" class=\"dataframe\">\n",
       "  <thead>\n",
       "    <tr style=\"text-align: right;\">\n",
       "      <th></th>\n",
       "      <th>label</th>\n",
       "      <th>text</th>\n",
       "      <th>text_clean</th>\n",
       "    </tr>\n",
       "  </thead>\n",
       "  <tbody>\n",
       "    <tr>\n",
       "      <th>0</th>\n",
       "      <td>0</td>\n",
       "      <td>New York (CNN Business)For many years, the wor...</td>\n",
       "      <td>new york many years worlds popular emerging ma...</td>\n",
       "    </tr>\n",
       "    <tr>\n",
       "      <th>1</th>\n",
       "      <td>0</td>\n",
       "      <td>The European Union formally approved on Tuesda...</td>\n",
       "      <td>european union formally approved tuesday new b...</td>\n",
       "    </tr>\n",
       "    <tr>\n",
       "      <th>2</th>\n",
       "      <td>0</td>\n",
       "      <td>(CNN Business)A woman holding a sign reading ...</td>\n",
       "      <td>woman holding sign reading war interrupted liv...</td>\n",
       "    </tr>\n",
       "    <tr>\n",
       "      <th>3</th>\n",
       "      <td>0</td>\n",
       "      <td>New York (CNN Business)Fox News correspondent ...</td>\n",
       "      <td>new york fox news correspondent benjamin hall ...</td>\n",
       "    </tr>\n",
       "    <tr>\n",
       "      <th>4</th>\n",
       "      <td>0</td>\n",
       "      <td>London (CNN Business)Russia has sent the clear...</td>\n",
       "      <td>london russia sent clearest signal yet soon de...</td>\n",
       "    </tr>\n",
       "    <tr>\n",
       "      <th>...</th>\n",
       "      <td>...</td>\n",
       "      <td>...</td>\n",
       "      <td>...</td>\n",
       "    </tr>\n",
       "    <tr>\n",
       "      <th>341</th>\n",
       "      <td>3</td>\n",
       "      <td>(CNN)The Alabama Crimson Tide, Michigan Wolve...</td>\n",
       "      <td>alabama crimson tide michigan wolverines georg...</td>\n",
       "    </tr>\n",
       "    <tr>\n",
       "      <th>342</th>\n",
       "      <td>3</td>\n",
       "      <td>(CNN)Longtime Atlanta Falcons defensive end a...</td>\n",
       "      <td>longtime atlanta falcons defensive end pro foo...</td>\n",
       "    </tr>\n",
       "    <tr>\n",
       "      <th>343</th>\n",
       "      <td>3</td>\n",
       "      <td>(CNN)First-team coach Andrew Gale, Director o...</td>\n",
       "      <td>firstteam coach andrew gale director cricket m...</td>\n",
       "    </tr>\n",
       "    <tr>\n",
       "      <th>344</th>\n",
       "      <td>3</td>\n",
       "      <td>(CNN)The collective bargaining agreement betw...</td>\n",
       "      <td>collective bargaining agreement major league b...</td>\n",
       "    </tr>\n",
       "    <tr>\n",
       "      <th>345</th>\n",
       "      <td>3</td>\n",
       "      <td>(CNN)Four-time major winner Rory McIlroy has ...</td>\n",
       "      <td>fourtime major winner rory mcilroy defended pl...</td>\n",
       "    </tr>\n",
       "  </tbody>\n",
       "</table>\n",
       "<p>346 rows × 3 columns</p>\n",
       "</div>"
      ],
      "text/plain": [
       "     label                                               text  \\\n",
       "0        0  New York (CNN Business)For many years, the wor...   \n",
       "1        0  The European Union formally approved on Tuesda...   \n",
       "2        0   (CNN Business)A woman holding a sign reading ...   \n",
       "3        0  New York (CNN Business)Fox News correspondent ...   \n",
       "4        0  London (CNN Business)Russia has sent the clear...   \n",
       "..     ...                                                ...   \n",
       "341      3   (CNN)The Alabama Crimson Tide, Michigan Wolve...   \n",
       "342      3   (CNN)Longtime Atlanta Falcons defensive end a...   \n",
       "343      3   (CNN)First-team coach Andrew Gale, Director o...   \n",
       "344      3   (CNN)The collective bargaining agreement betw...   \n",
       "345      3   (CNN)Four-time major winner Rory McIlroy has ...   \n",
       "\n",
       "                                            text_clean  \n",
       "0    new york many years worlds popular emerging ma...  \n",
       "1    european union formally approved tuesday new b...  \n",
       "2    woman holding sign reading war interrupted liv...  \n",
       "3    new york fox news correspondent benjamin hall ...  \n",
       "4    london russia sent clearest signal yet soon de...  \n",
       "..                                                 ...  \n",
       "341  alabama crimson tide michigan wolverines georg...  \n",
       "342  longtime atlanta falcons defensive end pro foo...  \n",
       "343  firstteam coach andrew gale director cricket m...  \n",
       "344  collective bargaining agreement major league b...  \n",
       "345  fourtime major winner rory mcilroy defended pl...  \n",
       "\n",
       "[346 rows x 3 columns]"
      ]
     },
     "execution_count": 219,
     "metadata": {},
     "output_type": "execute_result"
    }
   ],
   "source": [
    "# Removing (CNN) and (CNN Business)\n",
    "# texts of (CNN Business) are bestill beginns with a city name!!\n",
    "\n",
    "test['text_clean'] = test['text'].str.replace('(CNN Business)', '')\n",
    "test['text_clean'] = test['text_clean'].str.replace('(CNN)', '')\n",
    "\n",
    "test['text_clean'] = test['text_clean'].apply(clean_text)\n",
    "test['text_clean'] = test['text_clean'].str.replace('\\d+', '')\n",
    "test"
   ]
  },
  {
   "cell_type": "code",
   "execution_count": 220,
   "metadata": {},
   "outputs": [
    {
     "data": {
      "text/html": [
       "<div>\n",
       "<style scoped>\n",
       "    .dataframe tbody tr th:only-of-type {\n",
       "        vertical-align: middle;\n",
       "    }\n",
       "\n",
       "    .dataframe tbody tr th {\n",
       "        vertical-align: top;\n",
       "    }\n",
       "\n",
       "    .dataframe thead th {\n",
       "        text-align: right;\n",
       "    }\n",
       "</style>\n",
       "<table border=\"1\" class=\"dataframe\">\n",
       "  <thead>\n",
       "    <tr style=\"text-align: right;\">\n",
       "      <th></th>\n",
       "      <th>label</th>\n",
       "      <th>text</th>\n",
       "      <th>text_clean</th>\n",
       "      <th>text_split</th>\n",
       "    </tr>\n",
       "  </thead>\n",
       "  <tbody>\n",
       "    <tr>\n",
       "      <th>0</th>\n",
       "      <td>0</td>\n",
       "      <td>New York (CNN Business)For many years, the wor...</td>\n",
       "      <td>new york many years worlds popular emerging ma...</td>\n",
       "      <td>[new york many years worlds popular emerging m...</td>\n",
       "    </tr>\n",
       "    <tr>\n",
       "      <th>1</th>\n",
       "      <td>0</td>\n",
       "      <td>The European Union formally approved on Tuesda...</td>\n",
       "      <td>european union formally approved tuesday new b...</td>\n",
       "      <td>[european union formally approved tuesday new ...</td>\n",
       "    </tr>\n",
       "    <tr>\n",
       "      <th>2</th>\n",
       "      <td>0</td>\n",
       "      <td>(CNN Business)A woman holding a sign reading ...</td>\n",
       "      <td>woman holding sign reading war interrupted liv...</td>\n",
       "      <td>[woman holding sign reading war interrupted li...</td>\n",
       "    </tr>\n",
       "    <tr>\n",
       "      <th>3</th>\n",
       "      <td>0</td>\n",
       "      <td>New York (CNN Business)Fox News correspondent ...</td>\n",
       "      <td>new york fox news correspondent benjamin hall ...</td>\n",
       "      <td>[new york fox news correspondent benjamin hall...</td>\n",
       "    </tr>\n",
       "    <tr>\n",
       "      <th>4</th>\n",
       "      <td>0</td>\n",
       "      <td>London (CNN Business)Russia has sent the clear...</td>\n",
       "      <td>london russia sent clearest signal yet soon de...</td>\n",
       "      <td>[london russia sent clearest signal yet soon d...</td>\n",
       "    </tr>\n",
       "    <tr>\n",
       "      <th>...</th>\n",
       "      <td>...</td>\n",
       "      <td>...</td>\n",
       "      <td>...</td>\n",
       "      <td>...</td>\n",
       "    </tr>\n",
       "    <tr>\n",
       "      <th>341</th>\n",
       "      <td>3</td>\n",
       "      <td>(CNN)The Alabama Crimson Tide, Michigan Wolve...</td>\n",
       "      <td>alabama crimson tide michigan wolverines georg...</td>\n",
       "      <td>[alabama crimson tide michigan wolverines geor...</td>\n",
       "    </tr>\n",
       "    <tr>\n",
       "      <th>342</th>\n",
       "      <td>3</td>\n",
       "      <td>(CNN)Longtime Atlanta Falcons defensive end a...</td>\n",
       "      <td>longtime atlanta falcons defensive end pro foo...</td>\n",
       "      <td>[longtime atlanta falcons defensive end pro fo...</td>\n",
       "    </tr>\n",
       "    <tr>\n",
       "      <th>343</th>\n",
       "      <td>3</td>\n",
       "      <td>(CNN)First-team coach Andrew Gale, Director o...</td>\n",
       "      <td>firstteam coach andrew gale director cricket m...</td>\n",
       "      <td>[firstteam coach andrew gale director cricket ...</td>\n",
       "    </tr>\n",
       "    <tr>\n",
       "      <th>344</th>\n",
       "      <td>3</td>\n",
       "      <td>(CNN)The collective bargaining agreement betw...</td>\n",
       "      <td>collective bargaining agreement major league b...</td>\n",
       "      <td>[collective bargaining agreement major league ...</td>\n",
       "    </tr>\n",
       "    <tr>\n",
       "      <th>345</th>\n",
       "      <td>3</td>\n",
       "      <td>(CNN)Four-time major winner Rory McIlroy has ...</td>\n",
       "      <td>fourtime major winner rory mcilroy defended pl...</td>\n",
       "      <td>[fourtime major winner rory mcilroy defended p...</td>\n",
       "    </tr>\n",
       "  </tbody>\n",
       "</table>\n",
       "<p>346 rows × 4 columns</p>\n",
       "</div>"
      ],
      "text/plain": [
       "     label                                               text  \\\n",
       "0        0  New York (CNN Business)For many years, the wor...   \n",
       "1        0  The European Union formally approved on Tuesda...   \n",
       "2        0   (CNN Business)A woman holding a sign reading ...   \n",
       "3        0  New York (CNN Business)Fox News correspondent ...   \n",
       "4        0  London (CNN Business)Russia has sent the clear...   \n",
       "..     ...                                                ...   \n",
       "341      3   (CNN)The Alabama Crimson Tide, Michigan Wolve...   \n",
       "342      3   (CNN)Longtime Atlanta Falcons defensive end a...   \n",
       "343      3   (CNN)First-team coach Andrew Gale, Director o...   \n",
       "344      3   (CNN)The collective bargaining agreement betw...   \n",
       "345      3   (CNN)Four-time major winner Rory McIlroy has ...   \n",
       "\n",
       "                                            text_clean  \\\n",
       "0    new york many years worlds popular emerging ma...   \n",
       "1    european union formally approved tuesday new b...   \n",
       "2    woman holding sign reading war interrupted liv...   \n",
       "3    new york fox news correspondent benjamin hall ...   \n",
       "4    london russia sent clearest signal yet soon de...   \n",
       "..                                                 ...   \n",
       "341  alabama crimson tide michigan wolverines georg...   \n",
       "342  longtime atlanta falcons defensive end pro foo...   \n",
       "343  firstteam coach andrew gale director cricket m...   \n",
       "344  collective bargaining agreement major league b...   \n",
       "345  fourtime major winner rory mcilroy defended pl...   \n",
       "\n",
       "                                            text_split  \n",
       "0    [new york many years worlds popular emerging m...  \n",
       "1    [european union formally approved tuesday new ...  \n",
       "2    [woman holding sign reading war interrupted li...  \n",
       "3    [new york fox news correspondent benjamin hall...  \n",
       "4    [london russia sent clearest signal yet soon d...  \n",
       "..                                                 ...  \n",
       "341  [alabama crimson tide michigan wolverines geor...  \n",
       "342  [longtime atlanta falcons defensive end pro fo...  \n",
       "343  [firstteam coach andrew gale director cricket ...  \n",
       "344  [collective bargaining agreement major league ...  \n",
       "345  [fourtime major winner rory mcilroy defended p...  \n",
       "\n",
       "[346 rows x 4 columns]"
      ]
     },
     "execution_count": 220,
     "metadata": {},
     "output_type": "execute_result"
    }
   ],
   "source": [
    "test['text_split'] = test['text_clean'].apply(get_split)\n",
    "test"
   ]
  },
  {
   "cell_type": "code",
   "execution_count": 221,
   "metadata": {},
   "outputs": [
    {
     "name": "stdout",
     "output_type": "stream",
     "text": [
      "26\n"
     ]
    },
    {
     "data": {
      "text/html": [
       "<div>\n",
       "<style scoped>\n",
       "    .dataframe tbody tr th:only-of-type {\n",
       "        vertical-align: middle;\n",
       "    }\n",
       "\n",
       "    .dataframe tbody tr th {\n",
       "        vertical-align: top;\n",
       "    }\n",
       "\n",
       "    .dataframe thead th {\n",
       "        text-align: right;\n",
       "    }\n",
       "</style>\n",
       "<table border=\"1\" class=\"dataframe\">\n",
       "  <thead>\n",
       "    <tr style=\"text-align: right;\">\n",
       "      <th></th>\n",
       "      <th>label</th>\n",
       "      <th>text</th>\n",
       "      <th>text_clean</th>\n",
       "      <th>text_split</th>\n",
       "      <th>num_text_split</th>\n",
       "    </tr>\n",
       "  </thead>\n",
       "  <tbody>\n",
       "    <tr>\n",
       "      <th>0</th>\n",
       "      <td>0</td>\n",
       "      <td>New York (CNN Business)For many years, the wor...</td>\n",
       "      <td>new york many years worlds popular emerging ma...</td>\n",
       "      <td>[new york many years worlds popular emerging m...</td>\n",
       "      <td>2</td>\n",
       "    </tr>\n",
       "    <tr>\n",
       "      <th>1</th>\n",
       "      <td>0</td>\n",
       "      <td>The European Union formally approved on Tuesda...</td>\n",
       "      <td>european union formally approved tuesday new b...</td>\n",
       "      <td>[european union formally approved tuesday new ...</td>\n",
       "      <td>2</td>\n",
       "    </tr>\n",
       "    <tr>\n",
       "      <th>2</th>\n",
       "      <td>0</td>\n",
       "      <td>(CNN Business)A woman holding a sign reading ...</td>\n",
       "      <td>woman holding sign reading war interrupted liv...</td>\n",
       "      <td>[woman holding sign reading war interrupted li...</td>\n",
       "      <td>2</td>\n",
       "    </tr>\n",
       "    <tr>\n",
       "      <th>3</th>\n",
       "      <td>0</td>\n",
       "      <td>New York (CNN Business)Fox News correspondent ...</td>\n",
       "      <td>new york fox news correspondent benjamin hall ...</td>\n",
       "      <td>[new york fox news correspondent benjamin hall...</td>\n",
       "      <td>1</td>\n",
       "    </tr>\n",
       "    <tr>\n",
       "      <th>4</th>\n",
       "      <td>0</td>\n",
       "      <td>London (CNN Business)Russia has sent the clear...</td>\n",
       "      <td>london russia sent clearest signal yet soon de...</td>\n",
       "      <td>[london russia sent clearest signal yet soon d...</td>\n",
       "      <td>2</td>\n",
       "    </tr>\n",
       "    <tr>\n",
       "      <th>...</th>\n",
       "      <td>...</td>\n",
       "      <td>...</td>\n",
       "      <td>...</td>\n",
       "      <td>...</td>\n",
       "      <td>...</td>\n",
       "    </tr>\n",
       "    <tr>\n",
       "      <th>341</th>\n",
       "      <td>3</td>\n",
       "      <td>(CNN)The Alabama Crimson Tide, Michigan Wolve...</td>\n",
       "      <td>alabama crimson tide michigan wolverines georg...</td>\n",
       "      <td>[alabama crimson tide michigan wolverines geor...</td>\n",
       "      <td>1</td>\n",
       "    </tr>\n",
       "    <tr>\n",
       "      <th>342</th>\n",
       "      <td>3</td>\n",
       "      <td>(CNN)Longtime Atlanta Falcons defensive end a...</td>\n",
       "      <td>longtime atlanta falcons defensive end pro foo...</td>\n",
       "      <td>[longtime atlanta falcons defensive end pro fo...</td>\n",
       "      <td>1</td>\n",
       "    </tr>\n",
       "    <tr>\n",
       "      <th>343</th>\n",
       "      <td>3</td>\n",
       "      <td>(CNN)First-team coach Andrew Gale, Director o...</td>\n",
       "      <td>firstteam coach andrew gale director cricket m...</td>\n",
       "      <td>[firstteam coach andrew gale director cricket ...</td>\n",
       "      <td>1</td>\n",
       "    </tr>\n",
       "    <tr>\n",
       "      <th>344</th>\n",
       "      <td>3</td>\n",
       "      <td>(CNN)The collective bargaining agreement betw...</td>\n",
       "      <td>collective bargaining agreement major league b...</td>\n",
       "      <td>[collective bargaining agreement major league ...</td>\n",
       "      <td>1</td>\n",
       "    </tr>\n",
       "    <tr>\n",
       "      <th>345</th>\n",
       "      <td>3</td>\n",
       "      <td>(CNN)Four-time major winner Rory McIlroy has ...</td>\n",
       "      <td>fourtime major winner rory mcilroy defended pl...</td>\n",
       "      <td>[fourtime major winner rory mcilroy defended p...</td>\n",
       "      <td>1</td>\n",
       "    </tr>\n",
       "  </tbody>\n",
       "</table>\n",
       "<p>346 rows × 5 columns</p>\n",
       "</div>"
      ],
      "text/plain": [
       "     label                                               text  \\\n",
       "0        0  New York (CNN Business)For many years, the wor...   \n",
       "1        0  The European Union formally approved on Tuesda...   \n",
       "2        0   (CNN Business)A woman holding a sign reading ...   \n",
       "3        0  New York (CNN Business)Fox News correspondent ...   \n",
       "4        0  London (CNN Business)Russia has sent the clear...   \n",
       "..     ...                                                ...   \n",
       "341      3   (CNN)The Alabama Crimson Tide, Michigan Wolve...   \n",
       "342      3   (CNN)Longtime Atlanta Falcons defensive end a...   \n",
       "343      3   (CNN)First-team coach Andrew Gale, Director o...   \n",
       "344      3   (CNN)The collective bargaining agreement betw...   \n",
       "345      3   (CNN)Four-time major winner Rory McIlroy has ...   \n",
       "\n",
       "                                            text_clean  \\\n",
       "0    new york many years worlds popular emerging ma...   \n",
       "1    european union formally approved tuesday new b...   \n",
       "2    woman holding sign reading war interrupted liv...   \n",
       "3    new york fox news correspondent benjamin hall ...   \n",
       "4    london russia sent clearest signal yet soon de...   \n",
       "..                                                 ...   \n",
       "341  alabama crimson tide michigan wolverines georg...   \n",
       "342  longtime atlanta falcons defensive end pro foo...   \n",
       "343  firstteam coach andrew gale director cricket m...   \n",
       "344  collective bargaining agreement major league b...   \n",
       "345  fourtime major winner rory mcilroy defended pl...   \n",
       "\n",
       "                                            text_split  num_text_split  \n",
       "0    [new york many years worlds popular emerging m...               2  \n",
       "1    [european union formally approved tuesday new ...               2  \n",
       "2    [woman holding sign reading war interrupted li...               2  \n",
       "3    [new york fox news correspondent benjamin hall...               1  \n",
       "4    [london russia sent clearest signal yet soon d...               2  \n",
       "..                                                 ...             ...  \n",
       "341  [alabama crimson tide michigan wolverines geor...               1  \n",
       "342  [longtime atlanta falcons defensive end pro fo...               1  \n",
       "343  [firstteam coach andrew gale director cricket ...               1  \n",
       "344  [collective bargaining agreement major league ...               1  \n",
       "345  [fourtime major winner rory mcilroy defended p...               1  \n",
       "\n",
       "[346 rows x 5 columns]"
      ]
     },
     "execution_count": 221,
     "metadata": {},
     "output_type": "execute_result"
    }
   ],
   "source": [
    "test['num_text_split'] = test['text_split'].apply(lambda x: len(x))\n",
    "n=max(test['num_text_split'])\n",
    "print(n)\n",
    "test"
   ]
  },
  {
   "cell_type": "code",
   "execution_count": 222,
   "metadata": {},
   "outputs": [
    {
     "name": "stdout",
     "output_type": "stream",
     "text": [
      "1061 1061 224 320 344 1061\n"
     ]
    }
   ],
   "source": [
    "l_num=0\n",
    "h=0\n",
    "j=0\n",
    "m=0\n",
    "r=0\n",
    "s=0\n",
    " \n",
    "s=test['num_text_split'].sum()\n",
    "\n",
    "for idx,row in test.iterrows():\n",
    "    j=j+len(row['text_split'])\n",
    "   \n",
    "    \n",
    "#N. of rows with more than one element in text_split\n",
    "    if len(row['text_split'])>1:\n",
    "        h=h+1\n",
    "#         print(len(row['text_split'][0].split()))\n",
    "#         print(idx,row['num_text_split'],len(row['text_split']),'\\n')\n",
    "        \n",
    "#N. of rows with more than 150 words in text_clean\n",
    "    if len(row['text_clean'].split())>150:\n",
    "        m=m+1\n",
    "#         print(len(row['text_clean']))\n",
    "#N. of rows with more than 150 words in text\n",
    "    if len(row['text'].split())>=150:\n",
    "        r=r+1\n",
    "        \n",
    "    for l in row['text_split']:        \n",
    "        l_num = l_num+1\n",
    "        \n",
    "print(s, j, h, m, r, l_num)"
   ]
  },
  {
   "cell_type": "code",
   "execution_count": 223,
   "metadata": {},
   "outputs": [
    {
     "data": {
      "text/plain": [
       "(1061, 1061, 1061)"
      ]
     },
     "execution_count": 223,
     "metadata": {},
     "output_type": "execute_result"
    }
   ],
   "source": [
    "test_l = []\n",
    "test_label_l = []\n",
    "test_index_l = []\n",
    "\n",
    "for idx,row in test.iterrows():\n",
    "    for l in row['text_split']:\n",
    "        test_l.append(l)\n",
    "        test_label_l.append(row['label'])\n",
    "        test_index_l.append(idx)\n",
    "            \n",
    "len(test_l), len(test_index_l) , len(test_label_l)"
   ]
  },
  {
   "cell_type": "code",
   "execution_count": 224,
   "metadata": {},
   "outputs": [
    {
     "data": {
      "text/html": [
       "<div>\n",
       "<style scoped>\n",
       "    .dataframe tbody tr th:only-of-type {\n",
       "        vertical-align: middle;\n",
       "    }\n",
       "\n",
       "    .dataframe tbody tr th {\n",
       "        vertical-align: top;\n",
       "    }\n",
       "\n",
       "    .dataframe thead th {\n",
       "        text-align: right;\n",
       "    }\n",
       "</style>\n",
       "<table border=\"1\" class=\"dataframe\">\n",
       "  <thead>\n",
       "    <tr style=\"text-align: right;\">\n",
       "      <th></th>\n",
       "      <th>text</th>\n",
       "      <th>label</th>\n",
       "    </tr>\n",
       "  </thead>\n",
       "  <tbody>\n",
       "    <tr>\n",
       "      <th>0</th>\n",
       "      <td>new york many years worlds popular emerging ma...</td>\n",
       "      <td>0</td>\n",
       "    </tr>\n",
       "    <tr>\n",
       "      <th>1</th>\n",
       "      <td>based acronym winograd said always strange say...</td>\n",
       "      <td>0</td>\n",
       "    </tr>\n",
       "    <tr>\n",
       "      <th>2</th>\n",
       "      <td>european union formally approved tuesday new b...</td>\n",
       "      <td>0</td>\n",
       "    </tr>\n",
       "    <tr>\n",
       "      <th>3</th>\n",
       "      <td>banned eu sources saidthe package also prohibi...</td>\n",
       "      <td>0</td>\n",
       "    </tr>\n",
       "    <tr>\n",
       "      <th>4</th>\n",
       "      <td>woman holding sign reading war interrupted liv...</td>\n",
       "      <td>0</td>\n",
       "    </tr>\n",
       "    <tr>\n",
       "      <th>...</th>\n",
       "      <td>...</td>\n",
       "      <td>...</td>\n",
       "    </tr>\n",
       "    <tr>\n",
       "      <th>1056</th>\n",
       "      <td>alabama crimson tide michigan wolverines georg...</td>\n",
       "      <td>3</td>\n",
       "    </tr>\n",
       "    <tr>\n",
       "      <th>1057</th>\n",
       "      <td>longtime atlanta falcons defensive end pro foo...</td>\n",
       "      <td>3</td>\n",
       "    </tr>\n",
       "    <tr>\n",
       "      <th>1058</th>\n",
       "      <td>firstteam coach andrew gale director cricket m...</td>\n",
       "      <td>3</td>\n",
       "    </tr>\n",
       "    <tr>\n",
       "      <th>1059</th>\n",
       "      <td>collective bargaining agreement major league b...</td>\n",
       "      <td>3</td>\n",
       "    </tr>\n",
       "    <tr>\n",
       "      <th>1060</th>\n",
       "      <td>fourtime major winner rory mcilroy defended pl...</td>\n",
       "      <td>3</td>\n",
       "    </tr>\n",
       "  </tbody>\n",
       "</table>\n",
       "<p>1061 rows × 2 columns</p>\n",
       "</div>"
      ],
      "text/plain": [
       "                                                   text  label\n",
       "0     new york many years worlds popular emerging ma...      0\n",
       "1     based acronym winograd said always strange say...      0\n",
       "2     european union formally approved tuesday new b...      0\n",
       "3     banned eu sources saidthe package also prohibi...      0\n",
       "4     woman holding sign reading war interrupted liv...      0\n",
       "...                                                 ...    ...\n",
       "1056  alabama crimson tide michigan wolverines georg...      3\n",
       "1057  longtime atlanta falcons defensive end pro foo...      3\n",
       "1058  firstteam coach andrew gale director cricket m...      3\n",
       "1059  collective bargaining agreement major league b...      3\n",
       "1060  fourtime major winner rory mcilroy defended pl...      3\n",
       "\n",
       "[1061 rows x 2 columns]"
      ]
     },
     "execution_count": 224,
     "metadata": {},
     "output_type": "execute_result"
    }
   ],
   "source": [
    "test_df = pd.DataFrame({DATA_COLUMN:test_l, LABEL_COLUMN:test_label_l})\n",
    "test_df"
   ]
  },
  {
   "cell_type": "code",
   "execution_count": 84,
   "metadata": {},
   "outputs": [
    {
     "data": {
      "text/plain": [
       "(1064, 2)"
      ]
     },
     "execution_count": 84,
     "metadata": {},
     "output_type": "execute_result"
    }
   ],
   "source": [
    "test_df.shape"
   ]
  },
  {
   "cell_type": "code",
   "execution_count": 85,
   "metadata": {},
   "outputs": [],
   "source": [
    "test_InputExamples = test_df.apply(lambda x: run_classifier.InputExample(guid=None, \n",
    "                                                                   text_a = x[DATA_COLUMN], \n",
    "                                                                   text_b = None, \n",
    "                                                                   label = x[LABEL_COLUMN]), axis = 1)"
   ]
  },
  {
   "cell_type": "code",
   "execution_count": 86,
   "metadata": {},
   "outputs": [
    {
     "name": "stdout",
     "output_type": "stream",
     "text": [
      "['new', 'york', 'many', 'years', 'worlds', 'popular', 'emerging', 'markets', 'soc', '##alle', '##d', 'br', '##ics', 'brazil', 'russia', 'india', 'china', 'south', 'africa', '##bu', '##t', 'given', 'russia', 'longer', 'market', 'western', '##ers', 'access', 'following', 'invasion', 'ukraine', 'might', 'time', 'investors', 'stop', 'lump', '##ing', 'emerging', 'markets', 'together', '##the', 'br', '##ics', 'day', 'sun', 'faded', 'said', 'eric', 'win', '##og', '##rad', 'senior', 'economist', 'alliance', '##ber', '##nstein', '##se', '##vera', '##l', 'major', 'us', 'index', 'providers', 'removed', 'russian', 'stocks', 'index', '##es', 'price', 'zero', 'effectively', 'zero', 'trading', 'shares', 'several', 'leading', 'usl', '##iste', '##d', 'russian', 'companies', 'search', 'engine', 'yan', '##de', '##x', 'telecom', 'mt', '##s', 'halted', 'moscow', 'stock', 'exchange', 'closed', 'since', 'february', 'day', 'invasion', '##rus', '##sia', 'could', 'default', 'debt', 'within', 'days', '##the', 'idea', 'country', 'large', 'russia', 'removed', 'index', '##es', 'big', 'deal', 'win', '##og', '##rad', 'said', '##rea', '##d', 'more', '##it', 'seems', 'likely', 'russia', 'included', 'top', 'emerging', 'markets', 'funds', 'anytime', 'soon', 'even', 'western', '##ers', 'still', 'willing', 'invest', 'russian', 'assets', 'clear', 'comes', 'next', '##some', 'investors', 'asking', 'exposure', 'russia', 'emerging', 'markets', 'funds', 'index', '##es', 'starting', 'exclude', 'russia', 'still', 'wait', '##ands', '##ee', 'game', 'said', 'my', '##chal', 'campos', 'head', 'investing', 'better', '##ment', '##for', 'investors', 'looking', 'get', 'exposure', 'emerging', 'markets', 'win', '##og', '##rad', 'said', 'country', 'looked', 'individually', '##the', 'name', 'game', 'differentiation', 'don', '##t', 'invest', 'emerging', 'markets', 'based', 'acronym', 'win', '##og', '##rad', 'said', 'always', 'strange', 'say', 'argentina', 'south', 'korea', 'thing', 'example', 'they', '##re', 'forget', 'br', '##ics', 'look', 'tick', '##s', 'mist', '##to', 'stick', 'acronym', '##s', 'shut', '##down', 'russian', 'stock', 'market', 'essentially', 'turned', 'br', '##ics', 'bi', '##cs', 'could', 'permanent', 'change', 'said', 'ra', '##hul', 'sen', 'sharma', 'managing', 'partner', 'ind', '##xx', 'global', 'index', 'provider', 'investors', 'ever', 'embrace', 'russia', 'liquid', '##ity', 'mo', '##ot', 'point', 'also', 'hard']\n"
     ]
    }
   ],
   "source": [
    "#Here is what the tokenised sample of the first training set observation looks like\n",
    "print(tokenizer.tokenize(test_InputExamples.iloc[0].text_a))"
   ]
  },
  {
   "cell_type": "code",
   "execution_count": 87,
   "metadata": {},
   "outputs": [
    {
     "name": "stdout",
     "output_type": "stream",
     "text": [
      "INFO:tensorflow:Writing example 0 of 1064\n"
     ]
    },
    {
     "name": "stderr",
     "output_type": "stream",
     "text": [
      "INFO:tensorflow:Writing example 0 of 1064\n"
     ]
    },
    {
     "name": "stdout",
     "output_type": "stream",
     "text": [
      "INFO:tensorflow:*** Example ***\n"
     ]
    },
    {
     "name": "stderr",
     "output_type": "stream",
     "text": [
      "INFO:tensorflow:*** Example ***\n"
     ]
    },
    {
     "name": "stdout",
     "output_type": "stream",
     "text": [
      "INFO:tensorflow:guid: None\n"
     ]
    },
    {
     "name": "stderr",
     "output_type": "stream",
     "text": [
      "INFO:tensorflow:guid: None\n"
     ]
    },
    {
     "name": "stdout",
     "output_type": "stream",
     "text": [
      "INFO:tensorflow:tokens: [CLS] new york many years worlds popular emerging markets soc ##alle ##d br ##ics brazil russia india china south africa ##bu ##t given russia longer market western ##ers access following invasion ukraine might time investors stop lump ##ing emerging markets together ##the br ##ics day sun faded said eric win ##og ##rad senior economist alliance ##ber ##nstein ##se ##vera ##l major us index providers removed russian stocks index ##es price zero effectively zero trading shares several leading usl ##iste ##d russian companies search engine yan ##de ##x telecom mt ##s halted moscow stock exchange closed since february day invasion ##rus ##sia could default debt within days ##the idea country large russia removed index ##es big deal win ##og ##rad said ##rea ##d more ##it seems likely russia included top emerging markets funds anytime soon even western ##ers still willing invest russian assets clear comes next ##some investors asking exposure russia emerging markets funds index ##es starting exclude russia still wait ##ands ##ee game said my ##chal campos head investing better ##ment ##for investors looking get exposure emerging markets win ##og ##rad said country looked individually ##the name game differentiation don ##t invest emerging markets based acronym win ##og ##rad [SEP]\n"
     ]
    },
    {
     "name": "stderr",
     "output_type": "stream",
     "text": [
      "INFO:tensorflow:tokens: [CLS] new york many years worlds popular emerging markets soc ##alle ##d br ##ics brazil russia india china south africa ##bu ##t given russia longer market western ##ers access following invasion ukraine might time investors stop lump ##ing emerging markets together ##the br ##ics day sun faded said eric win ##og ##rad senior economist alliance ##ber ##nstein ##se ##vera ##l major us index providers removed russian stocks index ##es price zero effectively zero trading shares several leading usl ##iste ##d russian companies search engine yan ##de ##x telecom mt ##s halted moscow stock exchange closed since february day invasion ##rus ##sia could default debt within days ##the idea country large russia removed index ##es big deal win ##og ##rad said ##rea ##d more ##it seems likely russia included top emerging markets funds anytime soon even western ##ers still willing invest russian assets clear comes next ##some investors asking exposure russia emerging markets funds index ##es starting exclude russia still wait ##ands ##ee game said my ##chal campos head investing better ##ment ##for investors looking get exposure emerging markets win ##og ##rad said country looked individually ##the name game differentiation don ##t invest emerging markets based acronym win ##og ##rad [SEP]\n"
     ]
    },
    {
     "name": "stdout",
     "output_type": "stream",
     "text": [
      "INFO:tensorflow:input_ids: 101 2047 2259 2116 2086 8484 2759 8361 6089 27084 24164 2094 7987 6558 4380 3607 2634 2859 2148 3088 8569 2102 2445 3607 2936 3006 2530 2545 3229 2206 5274 5924 2453 2051 9387 2644 15116 2075 8361 6089 2362 10760 7987 6558 2154 3103 8105 2056 4388 2663 8649 12173 3026 11708 4707 5677 15493 3366 26061 2140 2350 2149 5950 11670 3718 2845 15768 5950 2229 3976 5717 6464 5717 6202 6661 2195 2877 22448 27870 2094 2845 3316 3945 3194 13619 3207 2595 18126 11047 2015 12705 4924 4518 3863 2701 2144 2337 2154 5274 7946 8464 2071 12398 7016 2306 2420 10760 2801 2406 2312 3607 3718 5950 2229 2502 3066 2663 8649 12173 2056 16416 2094 2062 4183 3849 3497 3607 2443 2327 8361 6089 5029 15933 2574 2130 2530 2545 2145 5627 15697 2845 7045 3154 3310 2279 14045 9387 4851 7524 3607 8361 6089 5029 5950 2229 3225 23329 3607 2145 3524 29560 4402 2208 2056 2026 18598 26925 2132 19920 2488 3672 29278 9387 2559 2131 7524 8361 6089 2663 8649 12173 2056 2406 2246 14258 10760 2171 2208 20582 2123 2102 15697 8361 6089 2241 20137 2663 8649 12173 102\n"
     ]
    },
    {
     "name": "stderr",
     "output_type": "stream",
     "text": [
      "INFO:tensorflow:input_ids: 101 2047 2259 2116 2086 8484 2759 8361 6089 27084 24164 2094 7987 6558 4380 3607 2634 2859 2148 3088 8569 2102 2445 3607 2936 3006 2530 2545 3229 2206 5274 5924 2453 2051 9387 2644 15116 2075 8361 6089 2362 10760 7987 6558 2154 3103 8105 2056 4388 2663 8649 12173 3026 11708 4707 5677 15493 3366 26061 2140 2350 2149 5950 11670 3718 2845 15768 5950 2229 3976 5717 6464 5717 6202 6661 2195 2877 22448 27870 2094 2845 3316 3945 3194 13619 3207 2595 18126 11047 2015 12705 4924 4518 3863 2701 2144 2337 2154 5274 7946 8464 2071 12398 7016 2306 2420 10760 2801 2406 2312 3607 3718 5950 2229 2502 3066 2663 8649 12173 2056 16416 2094 2062 4183 3849 3497 3607 2443 2327 8361 6089 5029 15933 2574 2130 2530 2545 2145 5627 15697 2845 7045 3154 3310 2279 14045 9387 4851 7524 3607 8361 6089 5029 5950 2229 3225 23329 3607 2145 3524 29560 4402 2208 2056 2026 18598 26925 2132 19920 2488 3672 29278 9387 2559 2131 7524 8361 6089 2663 8649 12173 2056 2406 2246 14258 10760 2171 2208 20582 2123 2102 15697 8361 6089 2241 20137 2663 8649 12173 102\n"
     ]
    },
    {
     "name": "stdout",
     "output_type": "stream",
     "text": [
      "INFO:tensorflow:input_mask: 1 1 1 1 1 1 1 1 1 1 1 1 1 1 1 1 1 1 1 1 1 1 1 1 1 1 1 1 1 1 1 1 1 1 1 1 1 1 1 1 1 1 1 1 1 1 1 1 1 1 1 1 1 1 1 1 1 1 1 1 1 1 1 1 1 1 1 1 1 1 1 1 1 1 1 1 1 1 1 1 1 1 1 1 1 1 1 1 1 1 1 1 1 1 1 1 1 1 1 1 1 1 1 1 1 1 1 1 1 1 1 1 1 1 1 1 1 1 1 1 1 1 1 1 1 1 1 1 1 1 1 1 1 1 1 1 1 1 1 1 1 1 1 1 1 1 1 1 1 1 1 1 1 1 1 1 1 1 1 1 1 1 1 1 1 1 1 1 1 1 1 1 1 1 1 1 1 1 1 1 1 1 1 1 1 1 1 1 1 1 1 1 1 1 1 1 1 1 1 1\n"
     ]
    },
    {
     "name": "stderr",
     "output_type": "stream",
     "text": [
      "INFO:tensorflow:input_mask: 1 1 1 1 1 1 1 1 1 1 1 1 1 1 1 1 1 1 1 1 1 1 1 1 1 1 1 1 1 1 1 1 1 1 1 1 1 1 1 1 1 1 1 1 1 1 1 1 1 1 1 1 1 1 1 1 1 1 1 1 1 1 1 1 1 1 1 1 1 1 1 1 1 1 1 1 1 1 1 1 1 1 1 1 1 1 1 1 1 1 1 1 1 1 1 1 1 1 1 1 1 1 1 1 1 1 1 1 1 1 1 1 1 1 1 1 1 1 1 1 1 1 1 1 1 1 1 1 1 1 1 1 1 1 1 1 1 1 1 1 1 1 1 1 1 1 1 1 1 1 1 1 1 1 1 1 1 1 1 1 1 1 1 1 1 1 1 1 1 1 1 1 1 1 1 1 1 1 1 1 1 1 1 1 1 1 1 1 1 1 1 1 1 1 1 1 1 1 1 1\n"
     ]
    },
    {
     "name": "stdout",
     "output_type": "stream",
     "text": [
      "INFO:tensorflow:segment_ids: 0 0 0 0 0 0 0 0 0 0 0 0 0 0 0 0 0 0 0 0 0 0 0 0 0 0 0 0 0 0 0 0 0 0 0 0 0 0 0 0 0 0 0 0 0 0 0 0 0 0 0 0 0 0 0 0 0 0 0 0 0 0 0 0 0 0 0 0 0 0 0 0 0 0 0 0 0 0 0 0 0 0 0 0 0 0 0 0 0 0 0 0 0 0 0 0 0 0 0 0 0 0 0 0 0 0 0 0 0 0 0 0 0 0 0 0 0 0 0 0 0 0 0 0 0 0 0 0 0 0 0 0 0 0 0 0 0 0 0 0 0 0 0 0 0 0 0 0 0 0 0 0 0 0 0 0 0 0 0 0 0 0 0 0 0 0 0 0 0 0 0 0 0 0 0 0 0 0 0 0 0 0 0 0 0 0 0 0 0 0 0 0 0 0 0 0 0 0 0 0\n"
     ]
    },
    {
     "name": "stderr",
     "output_type": "stream",
     "text": [
      "INFO:tensorflow:segment_ids: 0 0 0 0 0 0 0 0 0 0 0 0 0 0 0 0 0 0 0 0 0 0 0 0 0 0 0 0 0 0 0 0 0 0 0 0 0 0 0 0 0 0 0 0 0 0 0 0 0 0 0 0 0 0 0 0 0 0 0 0 0 0 0 0 0 0 0 0 0 0 0 0 0 0 0 0 0 0 0 0 0 0 0 0 0 0 0 0 0 0 0 0 0 0 0 0 0 0 0 0 0 0 0 0 0 0 0 0 0 0 0 0 0 0 0 0 0 0 0 0 0 0 0 0 0 0 0 0 0 0 0 0 0 0 0 0 0 0 0 0 0 0 0 0 0 0 0 0 0 0 0 0 0 0 0 0 0 0 0 0 0 0 0 0 0 0 0 0 0 0 0 0 0 0 0 0 0 0 0 0 0 0 0 0 0 0 0 0 0 0 0 0 0 0 0 0 0 0 0 0\n"
     ]
    },
    {
     "name": "stdout",
     "output_type": "stream",
     "text": [
      "INFO:tensorflow:label: 0 (id = 0)\n"
     ]
    },
    {
     "name": "stderr",
     "output_type": "stream",
     "text": [
      "INFO:tensorflow:label: 0 (id = 0)\n"
     ]
    },
    {
     "name": "stdout",
     "output_type": "stream",
     "text": [
      "INFO:tensorflow:*** Example ***\n"
     ]
    },
    {
     "name": "stderr",
     "output_type": "stream",
     "text": [
      "INFO:tensorflow:*** Example ***\n"
     ]
    },
    {
     "name": "stdout",
     "output_type": "stream",
     "text": [
      "INFO:tensorflow:guid: None\n"
     ]
    },
    {
     "name": "stderr",
     "output_type": "stream",
     "text": [
      "INFO:tensorflow:guid: None\n"
     ]
    },
    {
     "name": "stdout",
     "output_type": "stream",
     "text": [
      "INFO:tensorflow:tokens: [CLS] based acronym win ##og ##rad said always strange say argentina south korea thing example they ##re forget br ##ics look tick ##s mist ##to stick acronym ##s shut ##down russian stock market essentially turned br ##ics bi ##cs could permanent change said ra ##hul sen sharma managing partner ind ##xx global index provider investors ever embrace russia liquid ##ity mo ##ot point also hard believe people rush russia anytime soon sen sharma told sen sharma said investors may start look emerging markets replace russia taiwan south korea br ##ics could become tick ##s added poland turkey mexico intriguing philippines indonesia could dub mexico indonesia south korea turkey mist markets people love acronym ##s sen sharma joked ##of course emerging market europe think poland inherently risky close geographically russia ukraine central eastern european nations may hard sell western investors ##war ukraine sparked scramble dollars ##oth ##er experts argue investors looking individual companies emerging markets less countries themselves ##a typical investor sees emerging markets class stocks piece portfolio said callie cox us investment analyst et ##oro ##the emerging markets landscape changing awhile cox added noting many investors skeptical russia since annexation crimea anxiety [SEP]\n"
     ]
    },
    {
     "name": "stderr",
     "output_type": "stream",
     "text": [
      "INFO:tensorflow:tokens: [CLS] based acronym win ##og ##rad said always strange say argentina south korea thing example they ##re forget br ##ics look tick ##s mist ##to stick acronym ##s shut ##down russian stock market essentially turned br ##ics bi ##cs could permanent change said ra ##hul sen sharma managing partner ind ##xx global index provider investors ever embrace russia liquid ##ity mo ##ot point also hard believe people rush russia anytime soon sen sharma told sen sharma said investors may start look emerging markets replace russia taiwan south korea br ##ics could become tick ##s added poland turkey mexico intriguing philippines indonesia could dub mexico indonesia south korea turkey mist markets people love acronym ##s sen sharma joked ##of course emerging market europe think poland inherently risky close geographically russia ukraine central eastern european nations may hard sell western investors ##war ukraine sparked scramble dollars ##oth ##er experts argue investors looking individual companies emerging markets less countries themselves ##a typical investor sees emerging markets class stocks piece portfolio said callie cox us investment analyst et ##oro ##the emerging markets landscape changing awhile cox added noting many investors skeptical russia since annexation crimea anxiety [SEP]\n"
     ]
    },
    {
     "name": "stdout",
     "output_type": "stream",
     "text": [
      "INFO:tensorflow:input_ids: 101 2241 20137 2663 8649 12173 2056 2467 4326 2360 5619 2148 4420 2518 2742 2027 2890 5293 7987 6558 2298 16356 2015 11094 3406 6293 20137 2015 3844 7698 2845 4518 3006 7687 2357 7987 6558 12170 6169 2071 4568 2689 2056 10958 21886 12411 14654 6605 4256 27427 20348 3795 5950 10802 9387 2412 9979 3607 6381 3012 9587 4140 2391 2036 2524 2903 2111 5481 3607 15933 2574 12411 14654 2409 12411 14654 2056 9387 2089 2707 2298 8361 6089 5672 3607 6629 2148 4420 7987 6558 2071 2468 16356 2015 2794 3735 4977 3290 23824 5137 6239 2071 12931 3290 6239 2148 4420 4977 11094 6089 2111 2293 20137 2015 12411 14654 19700 11253 2607 8361 3006 2885 2228 3735 26096 19188 2485 20969 3607 5924 2430 2789 2647 3741 2089 2524 5271 2530 9387 9028 5924 13977 25740 6363 14573 2121 8519 7475 9387 2559 3265 3316 8361 6089 2625 3032 3209 2050 5171 14316 5927 8361 6089 2465 15768 3538 11103 2056 20072 9574 2149 5211 12941 3802 14604 10760 8361 6089 5957 5278 19511 9574 2794 9073 2116 9387 18386 3607 2144 18985 21516 10089 102 0 0 0 0 0 0 0\n"
     ]
    },
    {
     "name": "stderr",
     "output_type": "stream",
     "text": [
      "INFO:tensorflow:input_ids: 101 2241 20137 2663 8649 12173 2056 2467 4326 2360 5619 2148 4420 2518 2742 2027 2890 5293 7987 6558 2298 16356 2015 11094 3406 6293 20137 2015 3844 7698 2845 4518 3006 7687 2357 7987 6558 12170 6169 2071 4568 2689 2056 10958 21886 12411 14654 6605 4256 27427 20348 3795 5950 10802 9387 2412 9979 3607 6381 3012 9587 4140 2391 2036 2524 2903 2111 5481 3607 15933 2574 12411 14654 2409 12411 14654 2056 9387 2089 2707 2298 8361 6089 5672 3607 6629 2148 4420 7987 6558 2071 2468 16356 2015 2794 3735 4977 3290 23824 5137 6239 2071 12931 3290 6239 2148 4420 4977 11094 6089 2111 2293 20137 2015 12411 14654 19700 11253 2607 8361 3006 2885 2228 3735 26096 19188 2485 20969 3607 5924 2430 2789 2647 3741 2089 2524 5271 2530 9387 9028 5924 13977 25740 6363 14573 2121 8519 7475 9387 2559 3265 3316 8361 6089 2625 3032 3209 2050 5171 14316 5927 8361 6089 2465 15768 3538 11103 2056 20072 9574 2149 5211 12941 3802 14604 10760 8361 6089 5957 5278 19511 9574 2794 9073 2116 9387 18386 3607 2144 18985 21516 10089 102 0 0 0 0 0 0 0\n"
     ]
    },
    {
     "name": "stdout",
     "output_type": "stream",
     "text": [
      "INFO:tensorflow:input_mask: 1 1 1 1 1 1 1 1 1 1 1 1 1 1 1 1 1 1 1 1 1 1 1 1 1 1 1 1 1 1 1 1 1 1 1 1 1 1 1 1 1 1 1 1 1 1 1 1 1 1 1 1 1 1 1 1 1 1 1 1 1 1 1 1 1 1 1 1 1 1 1 1 1 1 1 1 1 1 1 1 1 1 1 1 1 1 1 1 1 1 1 1 1 1 1 1 1 1 1 1 1 1 1 1 1 1 1 1 1 1 1 1 1 1 1 1 1 1 1 1 1 1 1 1 1 1 1 1 1 1 1 1 1 1 1 1 1 1 1 1 1 1 1 1 1 1 1 1 1 1 1 1 1 1 1 1 1 1 1 1 1 1 1 1 1 1 1 1 1 1 1 1 1 1 1 1 1 1 1 1 1 1 1 1 1 1 1 1 1 1 1 1 1 0 0 0 0 0 0 0\n"
     ]
    },
    {
     "name": "stderr",
     "output_type": "stream",
     "text": [
      "INFO:tensorflow:input_mask: 1 1 1 1 1 1 1 1 1 1 1 1 1 1 1 1 1 1 1 1 1 1 1 1 1 1 1 1 1 1 1 1 1 1 1 1 1 1 1 1 1 1 1 1 1 1 1 1 1 1 1 1 1 1 1 1 1 1 1 1 1 1 1 1 1 1 1 1 1 1 1 1 1 1 1 1 1 1 1 1 1 1 1 1 1 1 1 1 1 1 1 1 1 1 1 1 1 1 1 1 1 1 1 1 1 1 1 1 1 1 1 1 1 1 1 1 1 1 1 1 1 1 1 1 1 1 1 1 1 1 1 1 1 1 1 1 1 1 1 1 1 1 1 1 1 1 1 1 1 1 1 1 1 1 1 1 1 1 1 1 1 1 1 1 1 1 1 1 1 1 1 1 1 1 1 1 1 1 1 1 1 1 1 1 1 1 1 1 1 1 1 1 1 0 0 0 0 0 0 0\n"
     ]
    },
    {
     "name": "stdout",
     "output_type": "stream",
     "text": [
      "INFO:tensorflow:segment_ids: 0 0 0 0 0 0 0 0 0 0 0 0 0 0 0 0 0 0 0 0 0 0 0 0 0 0 0 0 0 0 0 0 0 0 0 0 0 0 0 0 0 0 0 0 0 0 0 0 0 0 0 0 0 0 0 0 0 0 0 0 0 0 0 0 0 0 0 0 0 0 0 0 0 0 0 0 0 0 0 0 0 0 0 0 0 0 0 0 0 0 0 0 0 0 0 0 0 0 0 0 0 0 0 0 0 0 0 0 0 0 0 0 0 0 0 0 0 0 0 0 0 0 0 0 0 0 0 0 0 0 0 0 0 0 0 0 0 0 0 0 0 0 0 0 0 0 0 0 0 0 0 0 0 0 0 0 0 0 0 0 0 0 0 0 0 0 0 0 0 0 0 0 0 0 0 0 0 0 0 0 0 0 0 0 0 0 0 0 0 0 0 0 0 0 0 0 0 0 0 0\n"
     ]
    },
    {
     "name": "stderr",
     "output_type": "stream",
     "text": [
      "INFO:tensorflow:segment_ids: 0 0 0 0 0 0 0 0 0 0 0 0 0 0 0 0 0 0 0 0 0 0 0 0 0 0 0 0 0 0 0 0 0 0 0 0 0 0 0 0 0 0 0 0 0 0 0 0 0 0 0 0 0 0 0 0 0 0 0 0 0 0 0 0 0 0 0 0 0 0 0 0 0 0 0 0 0 0 0 0 0 0 0 0 0 0 0 0 0 0 0 0 0 0 0 0 0 0 0 0 0 0 0 0 0 0 0 0 0 0 0 0 0 0 0 0 0 0 0 0 0 0 0 0 0 0 0 0 0 0 0 0 0 0 0 0 0 0 0 0 0 0 0 0 0 0 0 0 0 0 0 0 0 0 0 0 0 0 0 0 0 0 0 0 0 0 0 0 0 0 0 0 0 0 0 0 0 0 0 0 0 0 0 0 0 0 0 0 0 0 0 0 0 0 0 0 0 0 0 0\n"
     ]
    },
    {
     "name": "stdout",
     "output_type": "stream",
     "text": [
      "INFO:tensorflow:label: 0 (id = 0)\n"
     ]
    },
    {
     "name": "stderr",
     "output_type": "stream",
     "text": [
      "INFO:tensorflow:label: 0 (id = 0)\n"
     ]
    },
    {
     "name": "stdout",
     "output_type": "stream",
     "text": [
      "INFO:tensorflow:*** Example ***\n"
     ]
    },
    {
     "name": "stderr",
     "output_type": "stream",
     "text": [
      "INFO:tensorflow:*** Example ***\n"
     ]
    },
    {
     "name": "stdout",
     "output_type": "stream",
     "text": [
      "INFO:tensorflow:guid: None\n"
     ]
    },
    {
     "name": "stderr",
     "output_type": "stream",
     "text": [
      "INFO:tensorflow:guid: None\n"
     ]
    },
    {
     "name": "stdout",
     "output_type": "stream",
     "text": [
      "INFO:tensorflow:tokens: [CLS] european union formally approved tuesday new barrage sanctions russia invasion ukraine include ban ##s investments russian energy sector luxury goods exports imports steel products russia ##the sanctions come effect publication eu official journal later tuesday also freeze assets business leaders support russian state including chelsea football club owner roman ab ##ram ##ovich european commission said statement tuesday sanctions included far ##rea ##ching ban new investment across russian energy sector limited exceptions civil nuclear energy transport certain energy products back eu ##the measure hit russia ##s oil majors ro ##s ##ne ##ft trans ##ne ##ft ga ##z ##pro ##m ne ##ft g ##z ##pf ##y eu members still able buy oil gas eu source told reuters ##ther ##e also total ban transactions russian state ##own ##ed enterprises linked k ##rem ##lins military ##ind ##ust ##rial complex eu executive said ##rea ##d more ##the bloc reached preliminary agreement new sanctions monday objections raised agreed deadline ##the ban russian steel imports estimated affect billion euros billion worth products commission said ##eu companies also longer allowed export luxury goods worth euros including jewelry exports cars costing euros also banned eu sources said ##the package also prohibits eu credit rating agencies issuing ratings [SEP]\n"
     ]
    },
    {
     "name": "stderr",
     "output_type": "stream",
     "text": [
      "INFO:tensorflow:tokens: [CLS] european union formally approved tuesday new barrage sanctions russia invasion ukraine include ban ##s investments russian energy sector luxury goods exports imports steel products russia ##the sanctions come effect publication eu official journal later tuesday also freeze assets business leaders support russian state including chelsea football club owner roman ab ##ram ##ovich european commission said statement tuesday sanctions included far ##rea ##ching ban new investment across russian energy sector limited exceptions civil nuclear energy transport certain energy products back eu ##the measure hit russia ##s oil majors ro ##s ##ne ##ft trans ##ne ##ft ga ##z ##pro ##m ne ##ft g ##z ##pf ##y eu members still able buy oil gas eu source told reuters ##ther ##e also total ban transactions russian state ##own ##ed enterprises linked k ##rem ##lins military ##ind ##ust ##rial complex eu executive said ##rea ##d more ##the bloc reached preliminary agreement new sanctions monday objections raised agreed deadline ##the ban russian steel imports estimated affect billion euros billion worth products commission said ##eu companies also longer allowed export luxury goods worth euros including jewelry exports cars costing euros also banned eu sources said ##the package also prohibits eu credit rating agencies issuing ratings [SEP]\n"
     ]
    },
    {
     "name": "stdout",
     "output_type": "stream",
     "text": [
      "INFO:tensorflow:input_ids: 101 2647 2586 6246 4844 9857 2047 19359 17147 3607 5274 5924 2421 7221 2015 10518 2845 2943 4753 9542 5350 14338 17589 3886 3688 3607 10760 17147 2272 3466 4772 7327 2880 3485 2101 9857 2036 13184 7045 2449 4177 2490 2845 2110 2164 9295 2374 2252 3954 3142 11113 6444 12303 2647 3222 2056 4861 9857 17147 2443 2521 16416 8450 7221 2047 5211 2408 2845 2943 4753 3132 11790 2942 4517 2943 3665 3056 2943 3688 2067 7327 10760 5468 2718 3607 2015 3514 15279 20996 2015 2638 6199 9099 2638 6199 11721 2480 21572 2213 11265 6199 1043 2480 14376 2100 7327 2372 2145 2583 4965 3514 3806 7327 3120 2409 26665 12399 2063 2036 2561 7221 11817 2845 2110 12384 2098 9926 5799 1047 28578 24412 2510 22254 19966 14482 3375 7327 3237 2056 16416 2094 2062 10760 15984 2584 8824 3820 2047 17147 6928 17304 2992 3530 15117 10760 7221 2845 3886 17589 4358 7461 4551 19329 4551 4276 3688 3222 2056 13765 3316 2036 2936 3039 9167 9542 5350 4276 19329 2164 11912 14338 3765 22173 19329 2036 7917 7327 4216 2056 10760 7427 2036 25822 7327 4923 5790 6736 15089 8599 102\n"
     ]
    },
    {
     "name": "stderr",
     "output_type": "stream",
     "text": [
      "INFO:tensorflow:input_ids: 101 2647 2586 6246 4844 9857 2047 19359 17147 3607 5274 5924 2421 7221 2015 10518 2845 2943 4753 9542 5350 14338 17589 3886 3688 3607 10760 17147 2272 3466 4772 7327 2880 3485 2101 9857 2036 13184 7045 2449 4177 2490 2845 2110 2164 9295 2374 2252 3954 3142 11113 6444 12303 2647 3222 2056 4861 9857 17147 2443 2521 16416 8450 7221 2047 5211 2408 2845 2943 4753 3132 11790 2942 4517 2943 3665 3056 2943 3688 2067 7327 10760 5468 2718 3607 2015 3514 15279 20996 2015 2638 6199 9099 2638 6199 11721 2480 21572 2213 11265 6199 1043 2480 14376 2100 7327 2372 2145 2583 4965 3514 3806 7327 3120 2409 26665 12399 2063 2036 2561 7221 11817 2845 2110 12384 2098 9926 5799 1047 28578 24412 2510 22254 19966 14482 3375 7327 3237 2056 16416 2094 2062 10760 15984 2584 8824 3820 2047 17147 6928 17304 2992 3530 15117 10760 7221 2845 3886 17589 4358 7461 4551 19329 4551 4276 3688 3222 2056 13765 3316 2036 2936 3039 9167 9542 5350 4276 19329 2164 11912 14338 3765 22173 19329 2036 7917 7327 4216 2056 10760 7427 2036 25822 7327 4923 5790 6736 15089 8599 102\n"
     ]
    },
    {
     "name": "stdout",
     "output_type": "stream",
     "text": [
      "INFO:tensorflow:input_mask: 1 1 1 1 1 1 1 1 1 1 1 1 1 1 1 1 1 1 1 1 1 1 1 1 1 1 1 1 1 1 1 1 1 1 1 1 1 1 1 1 1 1 1 1 1 1 1 1 1 1 1 1 1 1 1 1 1 1 1 1 1 1 1 1 1 1 1 1 1 1 1 1 1 1 1 1 1 1 1 1 1 1 1 1 1 1 1 1 1 1 1 1 1 1 1 1 1 1 1 1 1 1 1 1 1 1 1 1 1 1 1 1 1 1 1 1 1 1 1 1 1 1 1 1 1 1 1 1 1 1 1 1 1 1 1 1 1 1 1 1 1 1 1 1 1 1 1 1 1 1 1 1 1 1 1 1 1 1 1 1 1 1 1 1 1 1 1 1 1 1 1 1 1 1 1 1 1 1 1 1 1 1 1 1 1 1 1 1 1 1 1 1 1 1 1 1 1 1 1 1\n"
     ]
    },
    {
     "name": "stderr",
     "output_type": "stream",
     "text": [
      "INFO:tensorflow:input_mask: 1 1 1 1 1 1 1 1 1 1 1 1 1 1 1 1 1 1 1 1 1 1 1 1 1 1 1 1 1 1 1 1 1 1 1 1 1 1 1 1 1 1 1 1 1 1 1 1 1 1 1 1 1 1 1 1 1 1 1 1 1 1 1 1 1 1 1 1 1 1 1 1 1 1 1 1 1 1 1 1 1 1 1 1 1 1 1 1 1 1 1 1 1 1 1 1 1 1 1 1 1 1 1 1 1 1 1 1 1 1 1 1 1 1 1 1 1 1 1 1 1 1 1 1 1 1 1 1 1 1 1 1 1 1 1 1 1 1 1 1 1 1 1 1 1 1 1 1 1 1 1 1 1 1 1 1 1 1 1 1 1 1 1 1 1 1 1 1 1 1 1 1 1 1 1 1 1 1 1 1 1 1 1 1 1 1 1 1 1 1 1 1 1 1 1 1 1 1 1 1\n"
     ]
    },
    {
     "name": "stdout",
     "output_type": "stream",
     "text": [
      "INFO:tensorflow:segment_ids: 0 0 0 0 0 0 0 0 0 0 0 0 0 0 0 0 0 0 0 0 0 0 0 0 0 0 0 0 0 0 0 0 0 0 0 0 0 0 0 0 0 0 0 0 0 0 0 0 0 0 0 0 0 0 0 0 0 0 0 0 0 0 0 0 0 0 0 0 0 0 0 0 0 0 0 0 0 0 0 0 0 0 0 0 0 0 0 0 0 0 0 0 0 0 0 0 0 0 0 0 0 0 0 0 0 0 0 0 0 0 0 0 0 0 0 0 0 0 0 0 0 0 0 0 0 0 0 0 0 0 0 0 0 0 0 0 0 0 0 0 0 0 0 0 0 0 0 0 0 0 0 0 0 0 0 0 0 0 0 0 0 0 0 0 0 0 0 0 0 0 0 0 0 0 0 0 0 0 0 0 0 0 0 0 0 0 0 0 0 0 0 0 0 0 0 0 0 0 0 0\n"
     ]
    },
    {
     "name": "stderr",
     "output_type": "stream",
     "text": [
      "INFO:tensorflow:segment_ids: 0 0 0 0 0 0 0 0 0 0 0 0 0 0 0 0 0 0 0 0 0 0 0 0 0 0 0 0 0 0 0 0 0 0 0 0 0 0 0 0 0 0 0 0 0 0 0 0 0 0 0 0 0 0 0 0 0 0 0 0 0 0 0 0 0 0 0 0 0 0 0 0 0 0 0 0 0 0 0 0 0 0 0 0 0 0 0 0 0 0 0 0 0 0 0 0 0 0 0 0 0 0 0 0 0 0 0 0 0 0 0 0 0 0 0 0 0 0 0 0 0 0 0 0 0 0 0 0 0 0 0 0 0 0 0 0 0 0 0 0 0 0 0 0 0 0 0 0 0 0 0 0 0 0 0 0 0 0 0 0 0 0 0 0 0 0 0 0 0 0 0 0 0 0 0 0 0 0 0 0 0 0 0 0 0 0 0 0 0 0 0 0 0 0 0 0 0 0 0 0\n"
     ]
    },
    {
     "name": "stdout",
     "output_type": "stream",
     "text": [
      "INFO:tensorflow:label: 0 (id = 0)\n"
     ]
    },
    {
     "name": "stderr",
     "output_type": "stream",
     "text": [
      "INFO:tensorflow:label: 0 (id = 0)\n"
     ]
    },
    {
     "name": "stdout",
     "output_type": "stream",
     "text": [
      "INFO:tensorflow:*** Example ***\n"
     ]
    },
    {
     "name": "stderr",
     "output_type": "stream",
     "text": [
      "INFO:tensorflow:*** Example ***\n"
     ]
    },
    {
     "name": "stdout",
     "output_type": "stream",
     "text": [
      "INFO:tensorflow:guid: None\n"
     ]
    },
    {
     "name": "stderr",
     "output_type": "stream",
     "text": [
      "INFO:tensorflow:guid: None\n"
     ]
    },
    {
     "name": "stdout",
     "output_type": "stream",
     "text": [
      "INFO:tensorflow:tokens: [CLS] banned eu sources said ##the package also prohibits eu credit rating agencies issuing ratings russia russian companies commission says restrict access european financial markets ##the latest sanctions follow three rounds pun ##itive measures included freezing assets russian central bank exclusion swift banking system russian belarusian banks ##the eu also agreed tuesday strip russia most ##fa ##vor ##ed nation trade status opening door pun ##itive tariffs russian goods outright import ban ##su ##k slap ##s tariff russian vodka ##the uk government also announced fresh round sanctions russia tuesday ban export luxury goods russia introduce tariffs russian goods worth billion additional tariff applied imports including vodka steel works art fur united kingdom also deny russia belarus access favoured nation trading tariff hundreds exports effectively de ##pr ##iving countries key benefits w ##to membership ##our new tariffs isolate russian economy global trade ensuring benefit rules ##base ##d international system respect tariffs build uk ##s existing work star ##ve russia ##s access international finance san ##ction putin ##s cr ##oni ##es ex ##ert maximum economic pressure regime finance minister ri ##shi sun ##ak said statement rob north contributed article [SEP]\n"
     ]
    },
    {
     "name": "stderr",
     "output_type": "stream",
     "text": [
      "INFO:tensorflow:tokens: [CLS] banned eu sources said ##the package also prohibits eu credit rating agencies issuing ratings russia russian companies commission says restrict access european financial markets ##the latest sanctions follow three rounds pun ##itive measures included freezing assets russian central bank exclusion swift banking system russian belarusian banks ##the eu also agreed tuesday strip russia most ##fa ##vor ##ed nation trade status opening door pun ##itive tariffs russian goods outright import ban ##su ##k slap ##s tariff russian vodka ##the uk government also announced fresh round sanctions russia tuesday ban export luxury goods russia introduce tariffs russian goods worth billion additional tariff applied imports including vodka steel works art fur united kingdom also deny russia belarus access favoured nation trading tariff hundreds exports effectively de ##pr ##iving countries key benefits w ##to membership ##our new tariffs isolate russian economy global trade ensuring benefit rules ##base ##d international system respect tariffs build uk ##s existing work star ##ve russia ##s access international finance san ##ction putin ##s cr ##oni ##es ex ##ert maximum economic pressure regime finance minister ri ##shi sun ##ak said statement rob north contributed article [SEP]\n"
     ]
    },
    {
     "name": "stdout",
     "output_type": "stream",
     "text": [
      "INFO:tensorflow:input_ids: 101 7917 7327 4216 2056 10760 7427 2036 25822 7327 4923 5790 6736 15089 8599 3607 2845 3316 3222 2758 21573 3229 2647 3361 6089 10760 6745 17147 3582 2093 6241 26136 13043 5761 2443 12809 7045 2845 2430 2924 15945 9170 8169 2291 2845 15626 5085 10760 7327 2036 3530 9857 6167 3607 2087 7011 14550 2098 3842 3119 3570 3098 2341 26136 13043 26269 2845 5350 13848 12324 7221 6342 2243 14308 2015 23234 2845 21092 10760 2866 2231 2036 2623 4840 2461 17147 3607 9857 7221 9167 9542 5350 3607 8970 26269 2845 5350 4276 4551 3176 23234 4162 17589 2164 21092 3886 2573 2396 6519 2142 2983 2036 9772 3607 12545 3229 16822 3842 6202 23234 5606 14338 6464 2139 18098 14966 3032 3145 6666 1059 3406 5779 8162 2047 26269 27152 2845 4610 3795 3119 12725 5770 3513 15058 2094 2248 2291 4847 26269 3857 2866 2015 4493 2147 2732 3726 3607 2015 3229 2248 5446 2624 7542 22072 2015 13675 10698 2229 4654 8743 4555 3171 3778 6939 5446 2704 15544 6182 3103 4817 2056 4861 6487 2167 5201 3720 102 0 0 0 0 0 0 0 0 0 0 0 0 0\n"
     ]
    },
    {
     "name": "stderr",
     "output_type": "stream",
     "text": [
      "INFO:tensorflow:input_ids: 101 7917 7327 4216 2056 10760 7427 2036 25822 7327 4923 5790 6736 15089 8599 3607 2845 3316 3222 2758 21573 3229 2647 3361 6089 10760 6745 17147 3582 2093 6241 26136 13043 5761 2443 12809 7045 2845 2430 2924 15945 9170 8169 2291 2845 15626 5085 10760 7327 2036 3530 9857 6167 3607 2087 7011 14550 2098 3842 3119 3570 3098 2341 26136 13043 26269 2845 5350 13848 12324 7221 6342 2243 14308 2015 23234 2845 21092 10760 2866 2231 2036 2623 4840 2461 17147 3607 9857 7221 9167 9542 5350 3607 8970 26269 2845 5350 4276 4551 3176 23234 4162 17589 2164 21092 3886 2573 2396 6519 2142 2983 2036 9772 3607 12545 3229 16822 3842 6202 23234 5606 14338 6464 2139 18098 14966 3032 3145 6666 1059 3406 5779 8162 2047 26269 27152 2845 4610 3795 3119 12725 5770 3513 15058 2094 2248 2291 4847 26269 3857 2866 2015 4493 2147 2732 3726 3607 2015 3229 2248 5446 2624 7542 22072 2015 13675 10698 2229 4654 8743 4555 3171 3778 6939 5446 2704 15544 6182 3103 4817 2056 4861 6487 2167 5201 3720 102 0 0 0 0 0 0 0 0 0 0 0 0 0\n"
     ]
    },
    {
     "name": "stdout",
     "output_type": "stream",
     "text": [
      "INFO:tensorflow:input_mask: 1 1 1 1 1 1 1 1 1 1 1 1 1 1 1 1 1 1 1 1 1 1 1 1 1 1 1 1 1 1 1 1 1 1 1 1 1 1 1 1 1 1 1 1 1 1 1 1 1 1 1 1 1 1 1 1 1 1 1 1 1 1 1 1 1 1 1 1 1 1 1 1 1 1 1 1 1 1 1 1 1 1 1 1 1 1 1 1 1 1 1 1 1 1 1 1 1 1 1 1 1 1 1 1 1 1 1 1 1 1 1 1 1 1 1 1 1 1 1 1 1 1 1 1 1 1 1 1 1 1 1 1 1 1 1 1 1 1 1 1 1 1 1 1 1 1 1 1 1 1 1 1 1 1 1 1 1 1 1 1 1 1 1 1 1 1 1 1 1 1 1 1 1 1 1 1 1 1 1 1 1 1 1 1 1 1 1 0 0 0 0 0 0 0 0 0 0 0 0 0\n"
     ]
    },
    {
     "name": "stderr",
     "output_type": "stream",
     "text": [
      "INFO:tensorflow:input_mask: 1 1 1 1 1 1 1 1 1 1 1 1 1 1 1 1 1 1 1 1 1 1 1 1 1 1 1 1 1 1 1 1 1 1 1 1 1 1 1 1 1 1 1 1 1 1 1 1 1 1 1 1 1 1 1 1 1 1 1 1 1 1 1 1 1 1 1 1 1 1 1 1 1 1 1 1 1 1 1 1 1 1 1 1 1 1 1 1 1 1 1 1 1 1 1 1 1 1 1 1 1 1 1 1 1 1 1 1 1 1 1 1 1 1 1 1 1 1 1 1 1 1 1 1 1 1 1 1 1 1 1 1 1 1 1 1 1 1 1 1 1 1 1 1 1 1 1 1 1 1 1 1 1 1 1 1 1 1 1 1 1 1 1 1 1 1 1 1 1 1 1 1 1 1 1 1 1 1 1 1 1 1 1 1 1 1 1 0 0 0 0 0 0 0 0 0 0 0 0 0\n"
     ]
    },
    {
     "name": "stdout",
     "output_type": "stream",
     "text": [
      "INFO:tensorflow:segment_ids: 0 0 0 0 0 0 0 0 0 0 0 0 0 0 0 0 0 0 0 0 0 0 0 0 0 0 0 0 0 0 0 0 0 0 0 0 0 0 0 0 0 0 0 0 0 0 0 0 0 0 0 0 0 0 0 0 0 0 0 0 0 0 0 0 0 0 0 0 0 0 0 0 0 0 0 0 0 0 0 0 0 0 0 0 0 0 0 0 0 0 0 0 0 0 0 0 0 0 0 0 0 0 0 0 0 0 0 0 0 0 0 0 0 0 0 0 0 0 0 0 0 0 0 0 0 0 0 0 0 0 0 0 0 0 0 0 0 0 0 0 0 0 0 0 0 0 0 0 0 0 0 0 0 0 0 0 0 0 0 0 0 0 0 0 0 0 0 0 0 0 0 0 0 0 0 0 0 0 0 0 0 0 0 0 0 0 0 0 0 0 0 0 0 0 0 0 0 0 0 0\n"
     ]
    },
    {
     "name": "stderr",
     "output_type": "stream",
     "text": [
      "INFO:tensorflow:segment_ids: 0 0 0 0 0 0 0 0 0 0 0 0 0 0 0 0 0 0 0 0 0 0 0 0 0 0 0 0 0 0 0 0 0 0 0 0 0 0 0 0 0 0 0 0 0 0 0 0 0 0 0 0 0 0 0 0 0 0 0 0 0 0 0 0 0 0 0 0 0 0 0 0 0 0 0 0 0 0 0 0 0 0 0 0 0 0 0 0 0 0 0 0 0 0 0 0 0 0 0 0 0 0 0 0 0 0 0 0 0 0 0 0 0 0 0 0 0 0 0 0 0 0 0 0 0 0 0 0 0 0 0 0 0 0 0 0 0 0 0 0 0 0 0 0 0 0 0 0 0 0 0 0 0 0 0 0 0 0 0 0 0 0 0 0 0 0 0 0 0 0 0 0 0 0 0 0 0 0 0 0 0 0 0 0 0 0 0 0 0 0 0 0 0 0 0 0 0 0 0 0\n"
     ]
    },
    {
     "name": "stdout",
     "output_type": "stream",
     "text": [
      "INFO:tensorflow:label: 0 (id = 0)\n"
     ]
    },
    {
     "name": "stderr",
     "output_type": "stream",
     "text": [
      "INFO:tensorflow:label: 0 (id = 0)\n"
     ]
    },
    {
     "name": "stdout",
     "output_type": "stream",
     "text": [
      "INFO:tensorflow:*** Example ***\n"
     ]
    },
    {
     "name": "stderr",
     "output_type": "stream",
     "text": [
      "INFO:tensorflow:*** Example ***\n"
     ]
    },
    {
     "name": "stdout",
     "output_type": "stream",
     "text": [
      "INFO:tensorflow:guid: None\n"
     ]
    },
    {
     "name": "stderr",
     "output_type": "stream",
     "text": [
      "INFO:tensorflow:guid: None\n"
     ]
    },
    {
     "name": "stdout",
     "output_type": "stream",
     "text": [
      "INFO:tensorflow:tokens: [CLS] woman holding sign reading war interrupted live news broadcast russian state television monday den ##oun ##ce russia ##s invasion ukraine stop war believe propaganda tell lies sign reads russians war last line sign says english ##the woman carried bold act defiance identified maria o ##vs ##yan ##nikov ##a employee russia channel one according o ##vd ##in ##fo independent human rights protest ##mon ##itor ##ing group outlets content tightly controlled russian government ##chin ##a expressed open ##ness providing military financial aid russia us cable suggests cannot independently verify woman holding sign o ##vs ##yan ##nikov ##a photos social media profiles bearing name match woman seen screen ##rus ##sian state news agency ta ##ss confirmed o ##vd ##in ##fo ##s reporting citing source added could face prosecution ##rea ##d more ##fr ##ien ##ds o ##vs ##yan ##nikov ##a told o ##vd ##in ##fo os ##tan ##kin ##o police department moscow lawyer dmitry za ##kh ##vat ##ov later told couldn ##t locate didn ##t find continuing search za ##kh ##vat ##ov said ##the act protest came nearly three weeks russia invaded neighboring ukraine setting humanitarian disaster country triggering greatest security crisis europe since cold war satellite images show widespread destruction russian [SEP]\n"
     ]
    },
    {
     "name": "stderr",
     "output_type": "stream",
     "text": [
      "INFO:tensorflow:tokens: [CLS] woman holding sign reading war interrupted live news broadcast russian state television monday den ##oun ##ce russia ##s invasion ukraine stop war believe propaganda tell lies sign reads russians war last line sign says english ##the woman carried bold act defiance identified maria o ##vs ##yan ##nikov ##a employee russia channel one according o ##vd ##in ##fo independent human rights protest ##mon ##itor ##ing group outlets content tightly controlled russian government ##chin ##a expressed open ##ness providing military financial aid russia us cable suggests cannot independently verify woman holding sign o ##vs ##yan ##nikov ##a photos social media profiles bearing name match woman seen screen ##rus ##sian state news agency ta ##ss confirmed o ##vd ##in ##fo ##s reporting citing source added could face prosecution ##rea ##d more ##fr ##ien ##ds o ##vs ##yan ##nikov ##a told o ##vd ##in ##fo os ##tan ##kin ##o police department moscow lawyer dmitry za ##kh ##vat ##ov later told couldn ##t locate didn ##t find continuing search za ##kh ##vat ##ov said ##the act protest came nearly three weeks russia invaded neighboring ukraine setting humanitarian disaster country triggering greatest security crisis europe since cold war satellite images show widespread destruction russian [SEP]\n"
     ]
    },
    {
     "name": "stdout",
     "output_type": "stream",
     "text": [
      "INFO:tensorflow:input_ids: 101 2450 3173 3696 3752 2162 7153 2444 2739 3743 2845 2110 2547 6928 7939 23709 3401 3607 2015 5274 5924 2644 2162 2903 10398 2425 3658 3696 9631 12513 2162 2197 2240 3696 2758 2394 10760 2450 3344 7782 2552 19674 4453 3814 1051 15088 7054 22576 2050 7904 3607 3149 2028 2429 1051 16872 2378 14876 2981 2529 2916 6186 8202 15660 2075 2177 11730 4180 7371 4758 2845 2231 17231 2050 5228 2330 2791 4346 2510 3361 4681 3607 2149 5830 6083 3685 9174 20410 2450 3173 3696 1051 15088 7054 22576 2050 7760 2591 2865 17879 7682 2171 2674 2450 2464 3898 7946 17043 2110 2739 4034 11937 4757 4484 1051 16872 2378 14876 2015 7316 8951 3120 2794 2071 2227 11537 16416 2094 2062 19699 9013 5104 1051 15088 7054 22576 2050 2409 1051 16872 2378 14876 9808 5794 4939 2080 2610 2533 4924 5160 22141 23564 10023 22879 4492 2101 2409 2481 2102 12453 2134 2102 2424 5719 3945 23564 10023 22879 4492 2056 10760 2552 6186 2234 3053 2093 3134 3607 10836 8581 5924 4292 11470 7071 2406 29170 4602 3036 5325 2885 2144 3147 2162 5871 4871 2265 6923 6215 2845 102\n"
     ]
    },
    {
     "name": "stderr",
     "output_type": "stream",
     "text": [
      "INFO:tensorflow:input_ids: 101 2450 3173 3696 3752 2162 7153 2444 2739 3743 2845 2110 2547 6928 7939 23709 3401 3607 2015 5274 5924 2644 2162 2903 10398 2425 3658 3696 9631 12513 2162 2197 2240 3696 2758 2394 10760 2450 3344 7782 2552 19674 4453 3814 1051 15088 7054 22576 2050 7904 3607 3149 2028 2429 1051 16872 2378 14876 2981 2529 2916 6186 8202 15660 2075 2177 11730 4180 7371 4758 2845 2231 17231 2050 5228 2330 2791 4346 2510 3361 4681 3607 2149 5830 6083 3685 9174 20410 2450 3173 3696 1051 15088 7054 22576 2050 7760 2591 2865 17879 7682 2171 2674 2450 2464 3898 7946 17043 2110 2739 4034 11937 4757 4484 1051 16872 2378 14876 2015 7316 8951 3120 2794 2071 2227 11537 16416 2094 2062 19699 9013 5104 1051 15088 7054 22576 2050 2409 1051 16872 2378 14876 9808 5794 4939 2080 2610 2533 4924 5160 22141 23564 10023 22879 4492 2101 2409 2481 2102 12453 2134 2102 2424 5719 3945 23564 10023 22879 4492 2056 10760 2552 6186 2234 3053 2093 3134 3607 10836 8581 5924 4292 11470 7071 2406 29170 4602 3036 5325 2885 2144 3147 2162 5871 4871 2265 6923 6215 2845 102\n"
     ]
    },
    {
     "name": "stdout",
     "output_type": "stream",
     "text": [
      "INFO:tensorflow:input_mask: 1 1 1 1 1 1 1 1 1 1 1 1 1 1 1 1 1 1 1 1 1 1 1 1 1 1 1 1 1 1 1 1 1 1 1 1 1 1 1 1 1 1 1 1 1 1 1 1 1 1 1 1 1 1 1 1 1 1 1 1 1 1 1 1 1 1 1 1 1 1 1 1 1 1 1 1 1 1 1 1 1 1 1 1 1 1 1 1 1 1 1 1 1 1 1 1 1 1 1 1 1 1 1 1 1 1 1 1 1 1 1 1 1 1 1 1 1 1 1 1 1 1 1 1 1 1 1 1 1 1 1 1 1 1 1 1 1 1 1 1 1 1 1 1 1 1 1 1 1 1 1 1 1 1 1 1 1 1 1 1 1 1 1 1 1 1 1 1 1 1 1 1 1 1 1 1 1 1 1 1 1 1 1 1 1 1 1 1 1 1 1 1 1 1 1 1 1 1 1 1\n"
     ]
    },
    {
     "name": "stderr",
     "output_type": "stream",
     "text": [
      "INFO:tensorflow:input_mask: 1 1 1 1 1 1 1 1 1 1 1 1 1 1 1 1 1 1 1 1 1 1 1 1 1 1 1 1 1 1 1 1 1 1 1 1 1 1 1 1 1 1 1 1 1 1 1 1 1 1 1 1 1 1 1 1 1 1 1 1 1 1 1 1 1 1 1 1 1 1 1 1 1 1 1 1 1 1 1 1 1 1 1 1 1 1 1 1 1 1 1 1 1 1 1 1 1 1 1 1 1 1 1 1 1 1 1 1 1 1 1 1 1 1 1 1 1 1 1 1 1 1 1 1 1 1 1 1 1 1 1 1 1 1 1 1 1 1 1 1 1 1 1 1 1 1 1 1 1 1 1 1 1 1 1 1 1 1 1 1 1 1 1 1 1 1 1 1 1 1 1 1 1 1 1 1 1 1 1 1 1 1 1 1 1 1 1 1 1 1 1 1 1 1 1 1 1 1 1 1\n"
     ]
    },
    {
     "name": "stdout",
     "output_type": "stream",
     "text": [
      "INFO:tensorflow:segment_ids: 0 0 0 0 0 0 0 0 0 0 0 0 0 0 0 0 0 0 0 0 0 0 0 0 0 0 0 0 0 0 0 0 0 0 0 0 0 0 0 0 0 0 0 0 0 0 0 0 0 0 0 0 0 0 0 0 0 0 0 0 0 0 0 0 0 0 0 0 0 0 0 0 0 0 0 0 0 0 0 0 0 0 0 0 0 0 0 0 0 0 0 0 0 0 0 0 0 0 0 0 0 0 0 0 0 0 0 0 0 0 0 0 0 0 0 0 0 0 0 0 0 0 0 0 0 0 0 0 0 0 0 0 0 0 0 0 0 0 0 0 0 0 0 0 0 0 0 0 0 0 0 0 0 0 0 0 0 0 0 0 0 0 0 0 0 0 0 0 0 0 0 0 0 0 0 0 0 0 0 0 0 0 0 0 0 0 0 0 0 0 0 0 0 0 0 0 0 0 0 0\n"
     ]
    },
    {
     "name": "stderr",
     "output_type": "stream",
     "text": [
      "INFO:tensorflow:segment_ids: 0 0 0 0 0 0 0 0 0 0 0 0 0 0 0 0 0 0 0 0 0 0 0 0 0 0 0 0 0 0 0 0 0 0 0 0 0 0 0 0 0 0 0 0 0 0 0 0 0 0 0 0 0 0 0 0 0 0 0 0 0 0 0 0 0 0 0 0 0 0 0 0 0 0 0 0 0 0 0 0 0 0 0 0 0 0 0 0 0 0 0 0 0 0 0 0 0 0 0 0 0 0 0 0 0 0 0 0 0 0 0 0 0 0 0 0 0 0 0 0 0 0 0 0 0 0 0 0 0 0 0 0 0 0 0 0 0 0 0 0 0 0 0 0 0 0 0 0 0 0 0 0 0 0 0 0 0 0 0 0 0 0 0 0 0 0 0 0 0 0 0 0 0 0 0 0 0 0 0 0 0 0 0 0 0 0 0 0 0 0 0 0 0 0 0 0 0 0 0 0\n"
     ]
    },
    {
     "name": "stdout",
     "output_type": "stream",
     "text": [
      "INFO:tensorflow:label: 0 (id = 0)\n"
     ]
    },
    {
     "name": "stderr",
     "output_type": "stream",
     "text": [
      "INFO:tensorflow:label: 0 (id = 0)\n"
     ]
    }
   ],
   "source": [
    "test_features = run_classifier.convert_examples_to_features(test_InputExamples, label_list, MAX_SEQ_LENGTH, tokenizer)"
   ]
  },
  {
   "cell_type": "code",
   "execution_count": 88,
   "metadata": {},
   "outputs": [],
   "source": [
    "test_input_fn = run_classifier.input_fn_builder(\n",
    "    features=test_features,\n",
    "    seq_length=MAX_SEQ_LENGTH,\n",
    "    is_training=False,\n",
    "    drop_remainder=False)"
   ]
  },
  {
   "cell_type": "code",
   "execution_count": 89,
   "metadata": {},
   "outputs": [
    {
     "data": {
      "text/plain": [
       "(1064,)"
      ]
     },
     "execution_count": 89,
     "metadata": {},
     "output_type": "execute_result"
    }
   ],
   "source": [
    "test_InputExamples.shape"
   ]
  },
  {
   "cell_type": "code",
   "execution_count": 90,
   "metadata": {},
   "outputs": [],
   "source": [
    "# test_out=estimator.predict(input_fn=test_input_fn, yield_single_examples=False)"
   ]
  },
  {
   "cell_type": "code",
   "execution_count": 91,
   "metadata": {},
   "outputs": [
    {
     "name": "stdout",
     "output_type": "stream",
     "text": [
      "INFO:tensorflow:Calling model_fn.\n"
     ]
    },
    {
     "name": "stderr",
     "output_type": "stream",
     "text": [
      "INFO:tensorflow:Calling model_fn.\n",
      "2023-03-12 15:15:18.547800: W tensorflow/core/common_runtime/graph_constructor.cc:1526] Importing a graph with a lower producer version 27 into an existing graph with producer version 1087. Shape inference will have run different parts of the graph with different producer versions.\n"
     ]
    },
    {
     "name": "stdout",
     "output_type": "stream",
     "text": [
      "INFO:tensorflow:Saver not created because there are no variables in the graph to restore\n"
     ]
    },
    {
     "name": "stderr",
     "output_type": "stream",
     "text": [
      "INFO:tensorflow:Saver not created because there are no variables in the graph to restore\n"
     ]
    },
    {
     "name": "stdout",
     "output_type": "stream",
     "text": [
      "INFO:tensorflow:Done calling model_fn.\n"
     ]
    },
    {
     "name": "stderr",
     "output_type": "stream",
     "text": [
      "INFO:tensorflow:Done calling model_fn.\n"
     ]
    },
    {
     "name": "stdout",
     "output_type": "stream",
     "text": [
      "INFO:tensorflow:Graph was finalized.\n"
     ]
    },
    {
     "name": "stderr",
     "output_type": "stream",
     "text": [
      "INFO:tensorflow:Graph was finalized.\n"
     ]
    },
    {
     "name": "stdout",
     "output_type": "stream",
     "text": [
      "INFO:tensorflow:Restoring parameters from ./bert_news_category/model.ckpt-111\n"
     ]
    },
    {
     "name": "stderr",
     "output_type": "stream",
     "text": [
      "2023-03-12 15:15:19.911561: I tensorflow/core/common_runtime/pluggable_device/pluggable_device_factory.cc:305] Could not identify NUMA node of platform GPU ID 0, defaulting to 0. Your kernel may not have been built with NUMA support.\n",
      "2023-03-12 15:15:19.911591: I tensorflow/core/common_runtime/pluggable_device/pluggable_device_factory.cc:271] Created TensorFlow device (/job:localhost/replica:0/task:0/device:GPU:0 with 0 MB memory) -> physical PluggableDevice (device: 0, name: METAL, pci bus id: <undefined>)\n",
      "INFO:tensorflow:Restoring parameters from ./bert_news_category/model.ckpt-111\n",
      "2023-03-12 15:15:19.985549: I tensorflow/core/grappler/optimizers/custom_graph_optimizer_registry.cc:113] Plugin optimizer for device_type GPU is enabled.\n"
     ]
    },
    {
     "name": "stdout",
     "output_type": "stream",
     "text": [
      "INFO:tensorflow:Running local_init_op.\n"
     ]
    },
    {
     "name": "stderr",
     "output_type": "stream",
     "text": [
      "2023-03-12 15:15:20.463099: I tensorflow/core/grappler/optimizers/custom_graph_optimizer_registry.cc:113] Plugin optimizer for device_type GPU is enabled.\n",
      "INFO:tensorflow:Running local_init_op.\n"
     ]
    },
    {
     "name": "stdout",
     "output_type": "stream",
     "text": [
      "INFO:tensorflow:Done running local_init_op.\n"
     ]
    },
    {
     "name": "stderr",
     "output_type": "stream",
     "text": [
      "2023-03-12 15:15:20.516283: I tensorflow/core/grappler/optimizers/custom_graph_optimizer_registry.cc:113] Plugin optimizer for device_type GPU is enabled.\n",
      "INFO:tensorflow:Done running local_init_op.\n",
      "2023-03-12 15:15:20.531357: I tensorflow/core/grappler/optimizers/custom_graph_optimizer_registry.cc:113] Plugin optimizer for device_type GPU is enabled.\n",
      "2023-03-12 15:15:20.589685: I tensorflow/core/grappler/optimizers/custom_graph_optimizer_registry.cc:113] Plugin optimizer for device_type GPU is enabled.\n",
      "2023-03-12 15:15:20.609362: I tensorflow/core/grappler/optimizers/custom_graph_optimizer_registry.cc:113] Plugin optimizer for device_type GPU is enabled.\n"
     ]
    },
    {
     "name": "stdout",
     "output_type": "stream",
     "text": [
      "[4 0 3 3 2 2 4 1 1 1 1 3 0]\n",
      "[4 0 3 3 2 2 4 1 1 1 1 3 0]\n",
      "[4 0 3 3 2 2 4 1 1 1 1 3 0]\n",
      "[4 0 3 3 2 2 4 1 1 1 1 3 0]\n",
      "[4 0 3 3 2 2 4 1 1 1 1 3 0]\n",
      "[4 0 3 3 2 2 4 1 1 1 1 3 0]\n",
      "[4 0 3 3 2 2 4 1 1 1 1 3 0]\n",
      "[4 0 3 3 2 2 4 1 1 1 1 3 0]\n",
      "[4 0 3 3 2 2 4 1 1 1 1 3 0]\n",
      "[4 0 3 3 2 2 4 1 1 1 1 3 0]\n",
      "[4 0 3 3 2 2 4 1 1 1 1 3 0]\n",
      "[4 0 3 3 2 2 4 1 1 1 1 3 0]\n",
      "[4 0 3 3 2 2 4 1 1 1 1 3 0]\n",
      "[4 0 3 3 2 2 4 1 1 1 1 3 0]\n",
      "[4 0 3 3 2 2 4 1 1 1 1 3 0]\n",
      "[4 0 3 3 2 2 4 1 1 1 1 3 0]\n",
      "[4 0 3 3 2 2 4 1 1 1 1 3 0]\n",
      "[4 0 3 3 2 2 4 1 1 1 1 3 0]\n",
      "[4 0 3 3 2 2 4 1 1 1 1 3 0]\n",
      "[4 0 3 3 2 2 4 1 1 1 1 3 0]\n",
      "[4 0 3 3 2 2 4 1 1 1 1 3 0]\n",
      "[4 0 3 3 2 2 4 1 1 1 1 3 0]\n",
      "[4 0 3 3 2 2 4 1 1 1 1 3 0]\n",
      "[4 0 3 3 2 2 4 1 1 1 1 3 0]\n",
      "[4 0 3 3 2 2 4 1 1 1 1 3 0]\n",
      "[4 0 3 3 2 2 4 1 1 1 1 3 0]\n",
      "[4 0 3 3 2 2 4 1 1 1 1 3 0]\n",
      "[4 0 3 3 2 2 4 1 1 1 1 3 0]\n",
      "[4 0 3 3 2 2 4 1 1 1 1 3 0]\n",
      "[4 0 3 3 2 2 4 1 1 1 1 3 0]\n",
      "[4 0 3 3 2 2 4 1 1 1 1 3 0]\n",
      "[4 0 3 3 2 2 4 1 1 1 1 3 0]\n",
      "[4 0 3 3 2 2 4 1 1 1 1 3 0]\n",
      "[4 0 3 3 2 2 4 1 1 1 1 3 0]\n",
      "[4 0 3 3 2 2 4 1 1 1 1 3 0]\n",
      "[4 0 3 3 2 2 4 1 1 1 1 3 0]\n",
      "[4 0 3 3 2 2 4 1 1 1 1 3 0]\n",
      "[4 0 3 3 2 2 4 1 1 1 1 3 0]\n",
      "[4 0 3 3 2 2 4 1 1 1 1 3 0]\n",
      "[4 0 3 3 2 2 4 1 1 1 1 3 0]\n",
      "[4 0 3 3 2 2 4 1 1 1 1 3 0]\n",
      "[4 0 3 3 2 2 4 1 1 1 1 3 0]\n",
      "[4 0 3 3 2 2 4 1 1 1 1 3 0]\n",
      "[4 0 3 3 2 2 4 1 1 1 1 3 0]\n",
      "[4 0 3 3 2 2 4 1 1 1 1 3 0]\n",
      "[4 0 3 3 2 2 4 1 1 1 1 3 0]\n",
      "[4 0 3 3 2 2 4 1 1 1 1 3 0]\n",
      "[4 0 3 3 2 2 4 1 1 1 1 3 0]\n",
      "[4 0 3 3 2 2 4 1 1 1 1 3 0]\n",
      "[4 0 3 3 2 2 4 1 1 1 1 3 0]\n",
      "[4 0 3 3 2 2 4 1 1 1 1 3 0]\n",
      "[4 0 3 3 2 2 4 1 1 1 1 3 0]\n",
      "[4 0 3 3 2 2 4 1 1 1 1 3 0]\n",
      "[4 0 3 3 2 2 4 1 1 1 1 3 0]\n",
      "[4 0 3 3 2 2 4 1 1 1 1 3 0]\n",
      "[4 0 3 3 2 2 4 1 1 1 1 3 0]\n",
      "[4 0 3 3 2 2 4 1 1 1 1 3 0]\n",
      "[4 0 3 3 2 2 4 1 1 1 1 3 0]\n",
      "[4 0 3 3 2 2 4 1 1 1 1 3 0]\n",
      "[4 0 3 3 2 2 4 1 1 1 1 3 0]\n",
      "[4 0 3 3 2 2 4 1 1 1 1 3 0]\n",
      "[4 0 3 3 2 2 4 1 1 1 1 3 0]\n",
      "[4 0 3 3 2 2 4 1 1 1 1 3 0]\n",
      "[4 0 3 3 2 2 4 1 1 1 1 3 0]\n",
      "[4 0 3 3 2 2 4 1 1 1 1 3 0]\n",
      "[4 0 3 3 2 2 4 1 1 1 1 3 0]\n",
      "[4 0 3 3 2 2 4 1 1 1 1 3 0]\n"
     ]
    }
   ],
   "source": [
    "test_pred = []\n",
    "test_out=estimator.predict(input_fn=test_input_fn, yield_single_examples=False)\n",
    "while(True):\n",
    "    try:\n",
    "        test_bash_pred=next(test_out)['labels']\n",
    "        print(bash_pred)\n",
    "        test_pred = np.concatenate([test_pred, test_bash_pred])\n",
    "    except:\n",
    "        break\n"
   ]
  },
  {
   "cell_type": "code",
   "execution_count": 92,
   "metadata": {},
   "outputs": [
    {
     "data": {
      "text/plain": [
       "(1064,)"
      ]
     },
     "execution_count": 92,
     "metadata": {},
     "output_type": "execute_result"
    }
   ],
   "source": [
    "test_pred.shape"
   ]
  },
  {
   "cell_type": "code",
   "execution_count": 93,
   "metadata": {},
   "outputs": [
    {
     "data": {
      "image/png": "[encoded data removed]",
      "text/plain": [
       "<Figure size 1000x1000 with 2 Axes>"
      ]
     },
     "metadata": {},
     "output_type": "display_data"
    }
   ],
   "source": [
    "from sklearn import metrics \n",
    "from matplotlib import pyplot as plt\n",
    "import seaborn as sns\n",
    "\n",
    "\n",
    "matrix = metrics.confusion_matrix(test_df['label'], test_pred)\n",
    "\n",
    "plt.figure(figsize=(10,10))\n",
    "ax = sns.heatmap(matrix, annot=True, fmt=\"d\", cmap = 'rocket_r', xticklabels = ['business', 'entertainment', 'politics', 'sport', 'tech']\n",
    ", yticklabels = ['business', 'entertainment', 'politics', 'sport', 'tech'])"
   ]
  },
  {
   "cell_type": "code",
   "execution_count": 94,
   "metadata": {},
   "outputs": [
    {
     "name": "stdout",
     "output_type": "stream",
     "text": [
      "INFO:tensorflow:Calling model_fn.\n"
     ]
    },
    {
     "name": "stderr",
     "output_type": "stream",
     "text": [
      "INFO:tensorflow:Calling model_fn.\n",
      "2023-03-12 15:16:11.102495: W tensorflow/core/common_runtime/graph_constructor.cc:1526] Importing a graph with a lower producer version 27 into an existing graph with producer version 1087. Shape inference will have run different parts of the graph with different producer versions.\n"
     ]
    },
    {
     "name": "stdout",
     "output_type": "stream",
     "text": [
      "INFO:tensorflow:Saver not created because there are no variables in the graph to restore\n"
     ]
    },
    {
     "name": "stderr",
     "output_type": "stream",
     "text": [
      "INFO:tensorflow:Saver not created because there are no variables in the graph to restore\n"
     ]
    },
    {
     "name": "stdout",
     "output_type": "stream",
     "text": [
      "INFO:tensorflow:Done calling model_fn.\n"
     ]
    },
    {
     "name": "stderr",
     "output_type": "stream",
     "text": [
      "INFO:tensorflow:Done calling model_fn.\n"
     ]
    },
    {
     "name": "stdout",
     "output_type": "stream",
     "text": [
      "INFO:tensorflow:Starting evaluation at 2023-03-12T15:16:14\n"
     ]
    },
    {
     "name": "stderr",
     "output_type": "stream",
     "text": [
      "INFO:tensorflow:Starting evaluation at 2023-03-12T15:16:14\n"
     ]
    },
    {
     "name": "stdout",
     "output_type": "stream",
     "text": [
      "INFO:tensorflow:Graph was finalized.\n"
     ]
    },
    {
     "name": "stderr",
     "output_type": "stream",
     "text": [
      "INFO:tensorflow:Graph was finalized.\n"
     ]
    },
    {
     "name": "stdout",
     "output_type": "stream",
     "text": [
      "INFO:tensorflow:Restoring parameters from ./bert_news_category/model.ckpt-111\n"
     ]
    },
    {
     "name": "stderr",
     "output_type": "stream",
     "text": [
      "2023-03-12 15:16:14.926150: I tensorflow/core/common_runtime/pluggable_device/pluggable_device_factory.cc:305] Could not identify NUMA node of platform GPU ID 0, defaulting to 0. Your kernel may not have been built with NUMA support.\n",
      "2023-03-12 15:16:14.926184: I tensorflow/core/common_runtime/pluggable_device/pluggable_device_factory.cc:271] Created TensorFlow device (/job:localhost/replica:0/task:0/device:GPU:0 with 0 MB memory) -> physical PluggableDevice (device: 0, name: METAL, pci bus id: <undefined>)\n",
      "INFO:tensorflow:Restoring parameters from ./bert_news_category/model.ckpt-111\n",
      "2023-03-12 15:16:15.100194: I tensorflow/core/grappler/optimizers/custom_graph_optimizer_registry.cc:113] Plugin optimizer for device_type GPU is enabled.\n"
     ]
    },
    {
     "name": "stdout",
     "output_type": "stream",
     "text": [
      "INFO:tensorflow:Running local_init_op.\n"
     ]
    },
    {
     "name": "stderr",
     "output_type": "stream",
     "text": [
      "2023-03-12 15:16:16.674220: I tensorflow/core/grappler/optimizers/custom_graph_optimizer_registry.cc:113] Plugin optimizer for device_type GPU is enabled.\n",
      "INFO:tensorflow:Running local_init_op.\n"
     ]
    },
    {
     "name": "stdout",
     "output_type": "stream",
     "text": [
      "INFO:tensorflow:Done running local_init_op.\n"
     ]
    },
    {
     "name": "stderr",
     "output_type": "stream",
     "text": [
      "2023-03-12 15:16:16.802121: I tensorflow/core/grappler/optimizers/custom_graph_optimizer_registry.cc:113] Plugin optimizer for device_type GPU is enabled.\n",
      "INFO:tensorflow:Done running local_init_op.\n",
      "2023-03-12 15:16:16.838792: I tensorflow/core/grappler/optimizers/custom_graph_optimizer_registry.cc:113] Plugin optimizer for device_type GPU is enabled.\n",
      "2023-03-12 15:16:16.955648: I tensorflow/core/grappler/optimizers/custom_graph_optimizer_registry.cc:113] Plugin optimizer for device_type GPU is enabled.\n",
      "2023-03-12 15:16:17.002738: I tensorflow/core/grappler/optimizers/custom_graph_optimizer_registry.cc:113] Plugin optimizer for device_type GPU is enabled.\n",
      "2023-03-12 15:17:07.511643: I tensorflow/core/grappler/optimizers/custom_graph_optimizer_registry.cc:113] Plugin optimizer for device_type GPU is enabled.\n"
     ]
    },
    {
     "name": "stdout",
     "output_type": "stream",
     "text": [
      "INFO:tensorflow:Inference Time : 53.42968s\n"
     ]
    },
    {
     "name": "stderr",
     "output_type": "stream",
     "text": [
      "INFO:tensorflow:Inference Time : 53.42968s\n"
     ]
    },
    {
     "name": "stdout",
     "output_type": "stream",
     "text": [
      "INFO:tensorflow:Finished evaluation at 2023-03-12-15:17:08\n"
     ]
    },
    {
     "name": "stderr",
     "output_type": "stream",
     "text": [
      "INFO:tensorflow:Finished evaluation at 2023-03-12-15:17:08\n"
     ]
    },
    {
     "name": "stdout",
     "output_type": "stream",
     "text": [
      "INFO:tensorflow:Saving dict for global step 111: eval_accuracy = 0.6597745, false_negatives = 212.0, false_positives = 83.0, global_step = 111, loss = 1.0706701, true_negatives = 248.0, true_positives = 521.0\n"
     ]
    },
    {
     "name": "stderr",
     "output_type": "stream",
     "text": [
      "INFO:tensorflow:Saving dict for global step 111: eval_accuracy = 0.6597745, false_negatives = 212.0, false_positives = 83.0, global_step = 111, loss = 1.0706701, true_negatives = 248.0, true_positives = 521.0\n"
     ]
    },
    {
     "name": "stdout",
     "output_type": "stream",
     "text": [
      "INFO:tensorflow:Saving 'checkpoint_path' summary for global step 111: ./bert_news_category/model.ckpt-111\n"
     ]
    },
    {
     "name": "stderr",
     "output_type": "stream",
     "text": [
      "INFO:tensorflow:Saving 'checkpoint_path' summary for global step 111: ./bert_news_category/model.ckpt-111\n"
     ]
    },
    {
     "data": {
      "text/plain": [
       "{'eval_accuracy': 0.6597745,\n",
       " 'false_negatives': 212.0,\n",
       " 'false_positives': 83.0,\n",
       " 'loss': 1.0706701,\n",
       " 'true_negatives': 248.0,\n",
       " 'true_positives': 521.0,\n",
       " 'global_step': 111}"
      ]
     },
     "execution_count": 94,
     "metadata": {},
     "output_type": "execute_result"
    }
   ],
   "source": [
    "#Evaluating the model with Validation set\n",
    "estimator.evaluate(input_fn=test_input_fn, steps=None)"
   ]
  },
  {
   "cell_type": "code",
   "execution_count": null,
   "metadata": {},
   "outputs": [],
   "source": []
  }
 ],
 "metadata": {
  "kernelspec": {
   "display_name": "Python 3 (ipykernel)",
   "language": "python",
   "name": "python3"
  },
  "language_info": {
   "codemirror_mode": {
    "name": "ipython",
    "version": 3
   },
   "file_extension": ".py",
   "mimetype": "text/x-python",
   "name": "python",
   "nbconvert_exporter": "python",
   "pygments_lexer": "ipython3",
   "version": "3.10.9"
  }
 },
 "nbformat": 4,
 "nbformat_minor": 4
}
