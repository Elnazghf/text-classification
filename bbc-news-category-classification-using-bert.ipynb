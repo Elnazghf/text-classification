{
 "cells": [
  {
   "cell_type": "code",
   "execution_count": 1,
   "metadata": {
    "_cell_guid": "b1076dfc-b9ad-4769-8c92-a6c4dae69d19",
    "_uuid": "8f2839f25d086af736a60e9eeb907d3b93b6e0e5",
    "execution": {
     "iopub.execute_input": "2023-01-06T15:49:11.21797Z",
     "iopub.status.busy": "2023-01-06T15:49:11.217321Z",
     "iopub.status.idle": "2023-01-06T15:49:11.791265Z",
     "shell.execute_reply": "2023-01-06T15:49:11.790287Z",
     "shell.execute_reply.started": "2023-01-06T15:49:11.21779Z"
    }
   },
   "outputs": [
    {
     "data": {
      "text/plain": [
       "['./archive/bbc-fulltext (document classification)/bbc/',\n",
       " './archive/bbc-fulltext (document classification)/bbc/entertainment',\n",
       " './archive/bbc-fulltext (document classification)/bbc/business',\n",
       " './archive/bbc-fulltext (document classification)/bbc/sport',\n",
       " './archive/bbc-fulltext (document classification)/bbc/politics',\n",
       " './archive/bbc-fulltext (document classification)/bbc/tech']"
      ]
     },
     "execution_count": 1,
     "metadata": {},
     "output_type": "execute_result"
    }
   ],
   "source": [
    "# This Python 3 environment comes with many helpful analytics libraries installed\n",
    "# It is defined by the kaggle/python Docker image: https://github.com/kaggle/docker-python\n",
    "# For example, here's several helpful packages to load\n",
    "\n",
    "import numpy as np # linear algebra\n",
    "import pandas as pd # data processing, CSV file I/O (e.g. pd.read_csv)\n",
    "\n",
    "# Input data files are available in the read-only \"../input/\" directory\n",
    "# For example, running this (by clicking run or pressing Shift+Enter) will list all files under the input directory\n",
    "\n",
    "import os\n",
    "\n",
    "dir_path = []\n",
    "for dirname, _, filenames in os.walk('./archive/bbc-fulltext (document classification)/bbc/'):\n",
    "    dir_path.append(dirname)\n",
    "\n",
    "dir_path\n",
    "\n",
    "# You can write up to 20GB to the current directory (/kaggle/working/) that gets preserved as output when you create a version using \"Save & Run All\" \n",
    "# You can also write temporary files to /kaggle/temp/, but they won't be saved outside of the current session"
   ]
  },
  {
   "cell_type": "code",
   "execution_count": 2,
   "metadata": {},
   "outputs": [],
   "source": [
    "# !pip install --upgrade pip\n",
    "# !pip install scikit-learn"
   ]
  },
  {
   "cell_type": "markdown",
   "metadata": {},
   "source": [
    "# Text files to CSV\n",
    "\n",
    "Data has 5 subfolders which are actually the labels of the news. They are politics, sports, tech, entertainment and business news. Each of these subfolders contains several news in the form of .txt files.\n",
    "\n",
    "For easy use, I define following function to read all of these files along with their category and convert them to a single pandas CSV data frame."
   ]
  },
  {
   "cell_type": "code",
   "execution_count": 3,
   "metadata": {
    "execution": {
     "iopub.execute_input": "2023-01-06T15:49:11.794007Z",
     "iopub.status.busy": "2023-01-06T15:49:11.793426Z",
     "iopub.status.idle": "2023-01-06T15:49:11.802994Z",
     "shell.execute_reply": "2023-01-06T15:49:11.801705Z",
     "shell.execute_reply.started": "2023-01-06T15:49:11.793964Z"
    }
   },
   "outputs": [],
   "source": [
    "import glob\n",
    "import io\n",
    "import warnings\n",
    "warnings.filterwarnings(\"ignore\")\n",
    "\n",
    "def text_to_pandasDF(path):\n",
    "    df = pd.DataFrame(columns=['news', 'class'])\n",
    "    txt = []\n",
    "    label = []\n",
    "    \n",
    "    for dirpath in path:\n",
    "        text_files_path = sorted(glob.glob(os.path.join(dirpath, '*.txt')))\n",
    "        \n",
    "        for text_path in text_files_path:\n",
    "            with io.open(text_path, 'r', encoding='utf-8', errors='ignore') as txt_file:\n",
    "                txt.append(txt_file.read())\n",
    "                label.append(dirpath.split('/')[-1])\n",
    "\n",
    "    df['news'] = txt\n",
    "    df['class'] = label\n",
    "    txt, label = [], []\n",
    "    \n",
    "    return df"
   ]
  },
  {
   "cell_type": "code",
   "execution_count": 4,
   "metadata": {
    "execution": {
     "iopub.execute_input": "2023-01-06T15:49:11.804816Z",
     "iopub.status.busy": "2023-01-06T15:49:11.804363Z",
     "iopub.status.idle": "2023-01-06T15:49:18.17326Z",
     "shell.execute_reply": "2023-01-06T15:49:18.172265Z",
     "shell.execute_reply.started": "2023-01-06T15:49:11.804772Z"
    }
   },
   "outputs": [
    {
     "data": {
      "text/html": [
       "<div>\n",
       "<style scoped>\n",
       "    .dataframe tbody tr th:only-of-type {\n",
       "        vertical-align: middle;\n",
       "    }\n",
       "\n",
       "    .dataframe tbody tr th {\n",
       "        vertical-align: top;\n",
       "    }\n",
       "\n",
       "    .dataframe thead th {\n",
       "        text-align: right;\n",
       "    }\n",
       "</style>\n",
       "<table border=\"1\" class=\"dataframe\">\n",
       "  <thead>\n",
       "    <tr style=\"text-align: right;\">\n",
       "      <th></th>\n",
       "      <th>news</th>\n",
       "      <th>class</th>\n",
       "    </tr>\n",
       "  </thead>\n",
       "  <tbody>\n",
       "    <tr>\n",
       "      <th>0</th>\n",
       "      <td>Gallery unveils interactive tree\\n\\nA Christma...</td>\n",
       "      <td>entertainment</td>\n",
       "    </tr>\n",
       "    <tr>\n",
       "      <th>1</th>\n",
       "      <td>Jarre joins fairytale celebration\\n\\nFrench mu...</td>\n",
       "      <td>entertainment</td>\n",
       "    </tr>\n",
       "    <tr>\n",
       "      <th>2</th>\n",
       "      <td>Musical treatment for Capra film\\n\\nThe classi...</td>\n",
       "      <td>entertainment</td>\n",
       "    </tr>\n",
       "    <tr>\n",
       "      <th>3</th>\n",
       "      <td>Richard and Judy choose top books\\n\\nThe 10 au...</td>\n",
       "      <td>entertainment</td>\n",
       "    </tr>\n",
       "    <tr>\n",
       "      <th>4</th>\n",
       "      <td>Poppins musical gets flying start\\n\\nThe stage...</td>\n",
       "      <td>entertainment</td>\n",
       "    </tr>\n",
       "    <tr>\n",
       "      <th>...</th>\n",
       "      <td>...</td>\n",
       "      <td>...</td>\n",
       "    </tr>\n",
       "    <tr>\n",
       "      <th>2220</th>\n",
       "      <td>BT program to beat dialler scams\\n\\nBT is intr...</td>\n",
       "      <td>tech</td>\n",
       "    </tr>\n",
       "    <tr>\n",
       "      <th>2221</th>\n",
       "      <td>Spam e-mails tempt net shoppers\\n\\nComputer us...</td>\n",
       "      <td>tech</td>\n",
       "    </tr>\n",
       "    <tr>\n",
       "      <th>2222</th>\n",
       "      <td>Be careful how you code\\n\\nA new European dire...</td>\n",
       "      <td>tech</td>\n",
       "    </tr>\n",
       "    <tr>\n",
       "      <th>2223</th>\n",
       "      <td>US cyber security chief resigns\\n\\nThe man mak...</td>\n",
       "      <td>tech</td>\n",
       "    </tr>\n",
       "    <tr>\n",
       "      <th>2224</th>\n",
       "      <td>Losing yourself in online gaming\\n\\nOnline rol...</td>\n",
       "      <td>tech</td>\n",
       "    </tr>\n",
       "  </tbody>\n",
       "</table>\n",
       "<p>2225 rows × 2 columns</p>\n",
       "</div>"
      ],
      "text/plain": [
       "                                                   news          class\n",
       "0     Gallery unveils interactive tree\\n\\nA Christma...  entertainment\n",
       "1     Jarre joins fairytale celebration\\n\\nFrench mu...  entertainment\n",
       "2     Musical treatment for Capra film\\n\\nThe classi...  entertainment\n",
       "3     Richard and Judy choose top books\\n\\nThe 10 au...  entertainment\n",
       "4     Poppins musical gets flying start\\n\\nThe stage...  entertainment\n",
       "...                                                 ...            ...\n",
       "2220  BT program to beat dialler scams\\n\\nBT is intr...           tech\n",
       "2221  Spam e-mails tempt net shoppers\\n\\nComputer us...           tech\n",
       "2222  Be careful how you code\\n\\nA new European dire...           tech\n",
       "2223  US cyber security chief resigns\\n\\nThe man mak...           tech\n",
       "2224  Losing yourself in online gaming\\n\\nOnline rol...           tech\n",
       "\n",
       "[2225 rows x 2 columns]"
      ]
     },
     "execution_count": 4,
     "metadata": {},
     "output_type": "execute_result"
    }
   ],
   "source": [
    "df = text_to_pandasDF(dir_path[1:])\n",
    "df"
   ]
  },
  {
   "cell_type": "markdown",
   "metadata": {},
   "source": [
    "Let's plot histogram of each class to check whether the data is unbalanced or not:"
   ]
  },
  {
   "cell_type": "code",
   "execution_count": 5,
   "metadata": {
    "execution": {
     "iopub.execute_input": "2023-01-06T15:49:18.17498Z",
     "iopub.status.busy": "2023-01-06T15:49:18.174619Z",
     "iopub.status.idle": "2023-01-06T15:49:18.961245Z",
     "shell.execute_reply": "2023-01-06T15:49:18.960125Z",
     "shell.execute_reply.started": "2023-01-06T15:49:18.174953Z"
    }
   },
   "outputs": [
    {
     "data": {
      "image/png": "[encoded data removed]",
      "text/plain": [
       "<Figure size 600x600 with 1 Axes>"
      ]
     },
     "metadata": {},
     "output_type": "display_data"
    }
   ],
   "source": [
    "from matplotlib import pyplot as plt\n",
    "import seaborn as sns\n",
    "\n",
    "plt.figure(figsize=(6,6))\n",
    "plt.title(\"news categories:\")\n",
    "sns.countplot(x=df[\"class\"])\n",
    "sns.despine(top=True, right=True, left=False, bottom=False)"
   ]
  },
  {
   "cell_type": "markdown",
   "metadata": {},
   "source": [
    "As you can see, the data is balanced; let's continue"
   ]
  },
  {
   "cell_type": "markdown",
   "metadata": {},
   "source": [
    "# Data Preprocessing\n",
    "\n",
    "As for the data has 5 classes, we should use one-hot encoding to transform label of classes. After that, we can split data to train and test sets."
   ]
  },
  {
   "cell_type": "code",
   "execution_count": 6,
   "metadata": {
    "execution": {
     "iopub.execute_input": "2023-01-06T15:49:18.964755Z",
     "iopub.status.busy": "2023-01-06T15:49:18.964398Z",
     "iopub.status.idle": "2023-01-06T15:49:19.078703Z",
     "shell.execute_reply": "2023-01-06T15:49:19.07783Z",
     "shell.execute_reply.started": "2023-01-06T15:49:18.964724Z"
    }
   },
   "outputs": [],
   "source": [
    "from sklearn.preprocessing import OneHotEncoder\n",
    "from sklearn.model_selection import train_test_split\n",
    "\n",
    "X = df['news']\n",
    "\n",
    "#label one_hot encoding\n",
    "y = np.array(df['class'])\n",
    "y = np.reshape(y, (-1,1))\n",
    "y = OneHotEncoder().fit_transform(y).toarray()\n",
    "\n",
    "\n",
    "X_train, X_test, y_train, y_test = train_test_split(X, y, test_size=0.2, random_state=42)"
   ]
  },
  {
   "cell_type": "markdown",
   "metadata": {},
   "source": [
    "# Model Training\n",
    "\n",
    "in this notebook we are goin to use BERT;\n",
    "\n",
    "BERT (Bidirectional Encoder Representations from Transformers) provides dense vector representations for natural language by using a deep, pre-trained neural network with the Transformer architecture. For more information and how to use it, check this documentation:\n",
    "\n",
    "[https://tfhub.dev/google/collections/bert/1](http://)"
   ]
  },
  {
   "cell_type": "markdown",
   "metadata": {},
   "source": [
    "BERT uses its own preprocessing, which requires tensorflow_text to be installed. So let's intall it:"
   ]
  },
  {
   "cell_type": "code",
   "execution_count": 7,
   "metadata": {
    "execution": {
     "iopub.execute_input": "2023-01-06T15:49:19.080501Z",
     "iopub.status.busy": "2023-01-06T15:49:19.080092Z",
     "iopub.status.idle": "2023-01-06T15:50:39.38561Z",
     "shell.execute_reply": "2023-01-06T15:50:39.384311Z",
     "shell.execute_reply.started": "2023-01-06T15:49:19.080461Z"
    }
   },
   "outputs": [],
   "source": [
    "# !pip install tensorflow_text"
   ]
  },
  {
   "cell_type": "code",
   "execution_count": 8,
   "metadata": {
    "execution": {
     "iopub.execute_input": "2023-01-06T15:50:39.391777Z",
     "iopub.status.busy": "2023-01-06T15:50:39.391086Z",
     "iopub.status.idle": "2023-01-06T15:50:43.132126Z",
     "shell.execute_reply": "2023-01-06T15:50:43.131094Z",
     "shell.execute_reply.started": "2023-01-06T15:50:39.391736Z"
    }
   },
   "outputs": [],
   "source": [
    "import tensorflow_hub as hub\n",
    "import tensorflow_text as text"
   ]
  },
  {
   "cell_type": "code",
   "execution_count": 9,
   "metadata": {
    "execution": {
     "iopub.execute_input": "2023-01-06T15:50:43.134325Z",
     "iopub.status.busy": "2023-01-06T15:50:43.133617Z",
     "iopub.status.idle": "2023-01-06T15:51:03.879145Z",
     "shell.execute_reply": "2023-01-06T15:51:03.878181Z",
     "shell.execute_reply.started": "2023-01-06T15:50:43.134295Z"
    }
   },
   "outputs": [
    {
     "name": "stdout",
     "output_type": "stream",
     "text": [
      "WARNING:tensorflow:Please fix your imports. Module tensorflow.python.training.tracking.data_structures has been moved to tensorflow.python.trackable.data_structures. The old module will be deleted in version 2.11.\n",
      "Metal device set to: Apple M1\n"
     ]
    },
    {
     "name": "stderr",
     "output_type": "stream",
     "text": [
      "2023-03-11 01:51:28.291441: I tensorflow/core/common_runtime/pluggable_device/pluggable_device_factory.cc:306] Could not identify NUMA node of platform GPU ID 0, defaulting to 0. Your kernel may not have been built with NUMA support.\n",
      "2023-03-11 01:51:28.291561: I tensorflow/core/common_runtime/pluggable_device/pluggable_device_factory.cc:272] Created TensorFlow device (/job:localhost/replica:0/task:0/device:GPU:0 with 0 MB memory) -> physical PluggableDevice (device: 0, name: METAL, pci bus id: <undefined>)\n",
      "2023-03-11 01:51:30.743781: W tensorflow/core/platform/profile_utils/cpu_utils.cc:128] Failed to get CPU frequency: 0 Hz\n",
      "2023-03-11 01:51:30.760203: I tensorflow/core/grappler/optimizers/custom_graph_optimizer_registry.cc:114] Plugin optimizer for device_type GPU is enabled.\n"
     ]
    }
   ],
   "source": [
    "model_url = 'https://tfhub.dev/tensorflow/bert_en_uncased_L-12_H-768_A-12/4'\n",
    "model_preprocessing_url = 'https://tfhub.dev/tensorflow/bert_en_uncased_preprocess/3'\n",
    "\n",
    "preprocessor = hub.KerasLayer(model_preprocessing_url)\n",
    "encoder = hub.KerasLayer(model_url)"
   ]
  },
  {
   "cell_type": "code",
   "execution_count": 10,
   "metadata": {
    "execution": {
     "iopub.execute_input": "2023-01-06T15:51:03.88096Z",
     "iopub.status.busy": "2023-01-06T15:51:03.880576Z",
     "iopub.status.idle": "2023-01-06T15:51:04.979389Z",
     "shell.execute_reply": "2023-01-06T15:51:04.978592Z",
     "shell.execute_reply.started": "2023-01-06T15:51:03.880924Z"
    }
   },
   "outputs": [
    {
     "name": "stdout",
     "output_type": "stream",
     "text": [
      "Model: \"model\"\n",
      "__________________________________________________________________________________________________\n",
      " Layer (type)                   Output Shape         Param #     Connected to                     \n",
      "==================================================================================================\n",
      " input_1 (InputLayer)           [(None,)]            0           []                               \n",
      "                                                                                                  \n",
      " keras_layer (KerasLayer)       {'input_mask': (Non  0           ['input_1[0][0]']                \n",
      "                                e, 128),                                                          \n",
      "                                 'input_type_ids':                                                \n",
      "                                (None, 128),                                                      \n",
      "                                 'input_word_ids':                                                \n",
      "                                (None, 128)}                                                      \n",
      "                                                                                                  \n",
      " keras_layer_1 (KerasLayer)     {'default': (None,   109482241   ['keras_layer[0][0]',            \n",
      "                                768),                             'keras_layer[0][1]',            \n",
      "                                 'encoder_outputs':               'keras_layer[0][2]']            \n",
      "                                 [(None, 128, 768),                                               \n",
      "                                 (None, 128, 768),                                                \n",
      "                                 (None, 128, 768),                                                \n",
      "                                 (None, 128, 768),                                                \n",
      "                                 (None, 128, 768),                                                \n",
      "                                 (None, 128, 768),                                                \n",
      "                                 (None, 128, 768),                                                \n",
      "                                 (None, 128, 768),                                                \n",
      "                                 (None, 128, 768),                                                \n",
      "                                 (None, 128, 768),                                                \n",
      "                                 (None, 128, 768),                                                \n",
      "                                 (None, 128, 768)],                                               \n",
      "                                 'pooled_output': (                                               \n",
      "                                None, 768),                                                       \n",
      "                                 'sequence_output':                                               \n",
      "                                 (None, 128, 768)}                                                \n",
      "                                                                                                  \n",
      " dropout (Dropout)              (None, 768)          0           ['keras_layer_1[0][13]']         \n",
      "                                                                                                  \n",
      " dense (Dense)                  (None, 5)            3845        ['dropout[0][0]']                \n",
      "                                                                                                  \n",
      "==================================================================================================\n",
      "Total params: 109,486,086\n",
      "Trainable params: 3,845\n",
      "Non-trainable params: 109,482,241\n",
      "__________________________________________________________________________________________________\n"
     ]
    }
   ],
   "source": [
    "import tensorflow as tf\n",
    "from tensorflow.keras.layers import Input, Dropout, Dense\n",
    "from tensorflow.keras.models import Model\n",
    "\n",
    "#BERT Layers\n",
    "input_layer = Input(shape=(), dtype=tf.string)\n",
    "preprocess_layer = preprocessor(input_layer)\n",
    "bert_output = encoder(preprocess_layer)\n",
    "\n",
    "#Fully connected layers\n",
    "z = Dropout(0.1)(bert_output['pooled_output'])\n",
    "z = Dense(5, activation='softmax')(z)\n",
    "\n",
    "model = Model(inputs=input_layer, outputs=z)\n",
    "model.compile(optimizer='adam', loss='categorical_crossentropy', metrics=['accuracy'])\n",
    "\n",
    "model.summary()"
   ]
  },
  {
   "cell_type": "code",
   "execution_count": 11,
   "metadata": {},
   "outputs": [],
   "source": [
    "# # Include the epoch in the file name (uses `str.format`)\n",
    "# checkpoint_path = \"training_1/cp-{epoch:04d}.ckpt\"\n",
    "# checkpoint_dir = os.path.dirname(checkpoint_path)\n",
    "\n",
    "# batch_size = 32\n",
    "\n",
    "# # Create a callback that saves the model's weights every 5 epochs\n",
    "# cp_callback = tf.keras.callbacks.ModelCheckpoint(\n",
    "#     filepath=checkpoint_path, \n",
    "#     verbose=1, \n",
    "#     save_weights_only=True,\n",
    "#     save_freq=5*batch_size)\n",
    "\n",
    "# # # Create a new model instance\n",
    "# # model = create_model()\n",
    "\n",
    "# # Save the weights using the `checkpoint_path` format\n",
    "# model.save_weights(checkpoint_path.format(epoch=0))\n",
    "\n",
    "# # Train the model with the new callback\n",
    "# # model_history = model.fit(train_images, \n",
    "# #           train_labels,\n",
    "# #           epochs=50, \n",
    "# #           batch_size=batch_size, \n",
    "# #           callbacks=[cp_callback],\n",
    "# #           validation_data=(test_images, test_labels),\n",
    "# #           verbose=0)\n",
    "# model_history = model.fit(x=X_train,\n",
    "#                           y=y_train,\n",
    "#                           batch_size=32,\n",
    "#                           validation_split=0.2, \n",
    "#                           callbacks=[tf.keras.callbacks.EarlyStopping(monitor='val_accuracy', patience=4)],\n",
    "#                           epochs=10)"
   ]
  },
  {
   "cell_type": "code",
   "execution_count": null,
   "metadata": {
    "execution": {
     "iopub.execute_input": "2023-01-06T15:51:04.981174Z",
     "iopub.status.busy": "2023-01-06T15:51:04.980568Z",
     "iopub.status.idle": "2023-01-06T15:57:59.579855Z",
     "shell.execute_reply": "2023-01-06T15:57:59.578941Z",
     "shell.execute_reply.started": "2023-01-06T15:51:04.981143Z"
    }
   },
   "outputs": [
    {
     "name": "stdout",
     "output_type": "stream",
     "text": [
      "Epoch 1/5\n"
     ]
    },
    {
     "name": "stderr",
     "output_type": "stream",
     "text": [
      "2023-03-11 01:51:51.864853: I tensorflow/core/grappler/optimizers/custom_graph_optimizer_registry.cc:114] Plugin optimizer for device_type GPU is enabled.\n"
     ]
    }
   ],
   "source": [
    "model_history = model.fit(x=X_train,\n",
    "                          y=y_train,\n",
    "                          batch_size=32,\n",
    "                          validation_split=0.2, \n",
    "                          callbacks=[tf.keras.callbacks.EarlyStopping(monitor='val_accuracy', patience=4)],\n",
    "                          epochs=5)"
   ]
  },
  {
   "cell_type": "code",
   "execution_count": null,
   "metadata": {
    "execution": {
     "iopub.execute_input": "2023-01-06T15:57:59.582301Z",
     "iopub.status.busy": "2023-01-06T15:57:59.581896Z",
     "iopub.status.idle": "2023-01-06T15:58:36.350639Z",
     "shell.execute_reply": "2023-01-06T15:58:36.349402Z",
     "shell.execute_reply.started": "2023-01-06T15:57:59.58226Z"
    }
   },
   "outputs": [],
   "source": [
    "fig, ax = plt.subplots(nrows=1, ncols=2, figsize=(12,6))\n",
    "\n",
    "ax[0].plot(model_history.history['accuracy'])\n",
    "ax[0].plot(model_history.history['val_accuracy'])\n",
    "ax[0].set_title('model accuracy')\n",
    "ax[0].set_ylabel('val_accuracy')\n",
    "ax[0].set_xlabel('epoch')\n",
    "ax[0].legend(['train', 'val'], loc='upper left')\n",
    "\n",
    "ax[1].plot(model_history.history['loss'])\n",
    "ax[1].plot(model_history.history['val_loss'])\n",
    "ax[1].set_title('model loss')\n",
    "ax[1].set_ylabel('val_loss')\n",
    "ax[1].set_xlabel('epoch')\n",
    "ax[1].legend(['train', 'val'], loc='upper right')\n",
    "\n",
    "fig.show()"
   ]
  },
  {
   "cell_type": "markdown",
   "metadata": {},
   "source": [
    "# Model Testing"
   ]
  },
  {
   "cell_type": "code",
   "execution_count": null,
   "metadata": {
    "execution": {
     "iopub.execute_input": "2023-01-06T15:58:36.352741Z",
     "iopub.status.busy": "2023-01-06T15:58:36.352285Z",
     "iopub.status.idle": "2023-01-06T15:58:43.074208Z",
     "shell.execute_reply": "2023-01-06T15:58:43.073134Z",
     "shell.execute_reply.started": "2023-01-06T15:58:36.352701Z"
    }
   },
   "outputs": [],
   "source": [
    "from sklearn.metrics import confusion_matrix\n",
    "\n",
    "y_pred = model.predict(X_test)\n",
    "matrix = confusion_matrix(y_test.argmax(axis=1), y_pred.argmax(axis=1))\n",
    "\n",
    "plt.figure(figsize=(10,10))\n",
    "ax = sns.heatmap(matrix, annot=True, fmt=\"d\", cmap = 'rocket_r', xticklabels = ['politics', 'sports', 'tech', 'entertaintment', 'business'], yticklabels = ['politics', 'sports', 'tech', 'entertaintment', 'business'])"
   ]
  }
 ],
 "metadata": {
  "kernelspec": {
   "display_name": "Python 3 (ipykernel)",
   "language": "python",
   "name": "python3"
  },
  "language_info": {
   "codemirror_mode": {
    "name": "ipython",
    "version": 3
   },
   "file_extension": ".py",
   "mimetype": "text/x-python",
   "name": "python",
   "nbconvert_exporter": "python",
   "pygments_lexer": "ipython3",
   "version": "3.9.16"
  }
 },
 "nbformat": 4,
 "nbformat_minor": 4
}
