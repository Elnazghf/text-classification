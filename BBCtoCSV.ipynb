{
 "cells": [
  {
   "cell_type": "code",
   "execution_count": 1,
   "id": "9ad4debe",
   "metadata": {},
   "outputs": [
    {
     "name": "stdout",
     "output_type": "stream",
     "text": [
      "WARNING:tensorflow:From /Users/elnazghofrani/miniconda3/lib/python3.10/site-packages/tensorflow/python/compat/v2_compat.py:107: disable_resource_variables (from tensorflow.python.ops.variable_scope) is deprecated and will be removed in a future version.\n",
      "Instructions for updating:\n",
      "non-resource variables are not supported in the long term\n"
     ]
    }
   ],
   "source": [
    "import numpy as np # linear algebra\n",
    "import re, os\n",
    "import pandas as pd # data processing, CSV file I/O (e.g. pd.read_csv)\n",
    "from sklearn.preprocessing import LabelEncoder\n",
    "from nltk.corpus import stopwords\n",
    "from sklearn.model_selection import train_test_split\n",
    "# import tensorflow as tf\n",
    "import tensorflow.compat.v1 as tf\n",
    "tf.disable_v2_behavior()\n",
    "\n",
    "\n",
    "import datetime\n",
    "from datetime import datetime\n",
    "\n",
    "# BERT\n",
    "import optimization\n",
    "import run_classifier\n",
    "import tokenization\n",
    "import tensorflow_hub as hub"
   ]
  },
  {
   "cell_type": "code",
   "execution_count": 2,
   "id": "2b7b2493",
   "metadata": {},
   "outputs": [],
   "source": [
    "# Get the file details\n",
    "directory = []\n",
    "file = []\n",
    "title = []\n",
    "text = []\n",
    "label = []\n",
    "\n",
    "datapath = './archive/bbc-fulltext (document classification)/bbc/' \n",
    "for dirname, _ , filenames in os.walk(datapath):\n",
    "    #print('Directory: ', dirname)\n",
    "    #print('Subdir: ', dirname.split('/')[-1])\n",
    "    # remove the Readme.txt file\n",
    "    # will not find file in the second iteration so we skip the error\n",
    "    try:\n",
    "        filenames.remove('README.TXT')\n",
    "    except:\n",
    "        pass\n",
    "    for filename in filenames:\n",
    "        directory.append(dirname)\n",
    "        file.append(filename)\n",
    "        label.append(dirname.split('/')[-1])\n",
    "        fullpathfile = os.path.join(dirname,filename)\n",
    "        with open(fullpathfile, 'r', encoding=\"utf8\", errors='ignore') as infile:\n",
    "            intext = ''\n",
    "            firstline = True\n",
    "            for line in infile:\n",
    "                if firstline:\n",
    "                    title.append(line.replace('\\n',''))\n",
    "                    firstline = False\n",
    "                else:\n",
    "                    intext = intext + ' ' + line.replace('\\n','')\n",
    "            text.append(intext)\n"
   ]
  },
  {
   "cell_type": "code",
   "execution_count": 3,
   "id": "f95ea9a5",
   "metadata": {},
   "outputs": [
    {
     "data": {
      "text/html": [
       "<div>\n",
       "<style scoped>\n",
       "    .dataframe tbody tr th:only-of-type {\n",
       "        vertical-align: middle;\n",
       "    }\n",
       "\n",
       "    .dataframe tbody tr th {\n",
       "        vertical-align: top;\n",
       "    }\n",
       "\n",
       "    .dataframe thead th {\n",
       "        text-align: right;\n",
       "    }\n",
       "</style>\n",
       "<table border=\"1\" class=\"dataframe\">\n",
       "  <thead>\n",
       "    <tr style=\"text-align: right;\">\n",
       "      <th></th>\n",
       "      <th>directory</th>\n",
       "      <th>file</th>\n",
       "      <th>title</th>\n",
       "      <th>label</th>\n",
       "      <th>text</th>\n",
       "    </tr>\n",
       "  </thead>\n",
       "  <tbody>\n",
       "    <tr>\n",
       "      <th>0</th>\n",
       "      <td>./archive/bbc-fulltext (document classificatio...</td>\n",
       "      <td>289.txt</td>\n",
       "      <td>Musicians to tackle US red tape</td>\n",
       "      <td>entertainment</td>\n",
       "      <td>Musicians' groups are to tackle US visa regu...</td>\n",
       "    </tr>\n",
       "    <tr>\n",
       "      <th>1</th>\n",
       "      <td>./archive/bbc-fulltext (document classificatio...</td>\n",
       "      <td>262.txt</td>\n",
       "      <td>U2's desire to be number one</td>\n",
       "      <td>entertainment</td>\n",
       "      <td>U2, who have won three prestigious Grammy Aw...</td>\n",
       "    </tr>\n",
       "    <tr>\n",
       "      <th>2</th>\n",
       "      <td>./archive/bbc-fulltext (document classificatio...</td>\n",
       "      <td>276.txt</td>\n",
       "      <td>Rocker Doherty in on-stage fight</td>\n",
       "      <td>entertainment</td>\n",
       "      <td>Rock singer Pete Doherty has been involved i...</td>\n",
       "    </tr>\n",
       "    <tr>\n",
       "      <th>3</th>\n",
       "      <td>./archive/bbc-fulltext (document classificatio...</td>\n",
       "      <td>060.txt</td>\n",
       "      <td>Snicket tops US box office chart</td>\n",
       "      <td>entertainment</td>\n",
       "      <td>The film adaptation of Lemony Snicket novels...</td>\n",
       "    </tr>\n",
       "    <tr>\n",
       "      <th>4</th>\n",
       "      <td>./archive/bbc-fulltext (document classificatio...</td>\n",
       "      <td>074.txt</td>\n",
       "      <td>Ocean's Twelve raids box office</td>\n",
       "      <td>entertainment</td>\n",
       "      <td>Ocean's Twelve, the crime caper sequel starr...</td>\n",
       "    </tr>\n",
       "  </tbody>\n",
       "</table>\n",
       "</div>"
      ],
      "text/plain": [
       "                                           directory     file  \\\n",
       "0  ./archive/bbc-fulltext (document classificatio...  289.txt   \n",
       "1  ./archive/bbc-fulltext (document classificatio...  262.txt   \n",
       "2  ./archive/bbc-fulltext (document classificatio...  276.txt   \n",
       "3  ./archive/bbc-fulltext (document classificatio...  060.txt   \n",
       "4  ./archive/bbc-fulltext (document classificatio...  074.txt   \n",
       "\n",
       "                              title          label  \\\n",
       "0   Musicians to tackle US red tape  entertainment   \n",
       "1      U2's desire to be number one  entertainment   \n",
       "2  Rocker Doherty in on-stage fight  entertainment   \n",
       "3  Snicket tops US box office chart  entertainment   \n",
       "4   Ocean's Twelve raids box office  entertainment   \n",
       "\n",
       "                                                text  \n",
       "0    Musicians' groups are to tackle US visa regu...  \n",
       "1    U2, who have won three prestigious Grammy Aw...  \n",
       "2    Rock singer Pete Doherty has been involved i...  \n",
       "3    The film adaptation of Lemony Snicket novels...  \n",
       "4    Ocean's Twelve, the crime caper sequel starr...  "
      ]
     },
     "execution_count": 3,
     "metadata": {},
     "output_type": "execute_result"
    }
   ],
   "source": [
    "DATA_COLUMN = 'text'\n",
    "LABEL_COLUMN = 'label'\n",
    "\n",
    "df = pd.DataFrame(list(zip(directory, file, title, label, text)), \n",
    "               columns =['directory', 'file', 'title', 'label','text'])\n",
    "\n",
    "# df = fulldf.filter(['label','text'], axis=1)\n",
    "df.head()"
   ]
  },
  {
   "cell_type": "code",
   "execution_count": 4,
   "id": "cd22e927",
   "metadata": {},
   "outputs": [
    {
     "data": {
      "text/plain": [
       "(2225, 5)"
      ]
     },
     "execution_count": 4,
     "metadata": {},
     "output_type": "execute_result"
    }
   ],
   "source": [
    "df.shape"
   ]
  },
  {
   "cell_type": "code",
   "execution_count": 5,
   "id": "587ba1f9",
   "metadata": {},
   "outputs": [
    {
     "data": {
      "text/plain": [
       "directory    0\n",
       "file         0\n",
       "title        0\n",
       "label        0\n",
       "text         0\n",
       "dtype: int64"
      ]
     },
     "execution_count": 5,
     "metadata": {},
     "output_type": "execute_result"
    }
   ],
   "source": [
    "df.isnull().sum()"
   ]
  },
  {
   "cell_type": "code",
   "execution_count": 6,
   "id": "259bae6f",
   "metadata": {},
   "outputs": [
    {
     "name": "stdout",
     "output_type": "stream",
     "text": [
      "business\n",
      "entertainment\n",
      "politics\n",
      "sport\n",
      "tech\n"
     ]
    }
   ],
   "source": [
    "for label in np.unique(df['label']):\n",
    "    print(label)"
   ]
  },
  {
   "cell_type": "code",
   "execution_count": 7,
   "id": "e48db82f",
   "metadata": {},
   "outputs": [
    {
     "data": {
      "text/plain": [
       "<Axes: >"
      ]
     },
     "execution_count": 7,
     "metadata": {},
     "output_type": "execute_result"
    },
    {
     "data": {
      "image/png": "[encoded data removed]",
      "text/plain": [
       "<Figure size 640x480 with 1 Axes>"
      ]
     },
     "metadata": {},
     "output_type": "display_data"
    }
   ],
   "source": [
    "# Checking number of records of each label\n",
    "df['label'].value_counts().sort_values(ascending=False).plot(kind='bar')"
   ]
  },
  {
   "cell_type": "code",
   "execution_count": 8,
   "id": "c4e7fbc6",
   "metadata": {},
   "outputs": [],
   "source": [
    "REPLACE_BY_SPACE_RE = re.compile('[/(){}\\[\\]\\|@,;]')\n",
    "BAD_SYMBOLS_RE = re.compile('[^0-9a-z #+_]')\n",
    "STOPWORDS = set(stopwords.words('english'))\n",
    "\n",
    "def clean_text(text):\n",
    "    \"\"\"\n",
    "        text: a string\n",
    "        \n",
    "        return: modified initial string\n",
    "    \"\"\"\n",
    "    text = text.lower() # lowercase text\n",
    "    text = REPLACE_BY_SPACE_RE.sub(' ', text) # replace REPLACE_BY_SPACE_RE symbols by space in text. substitute the matched string in REPLACE_BY_SPACE_RE with space.\n",
    "    text = BAD_SYMBOLS_RE.sub('', text) # remove symbols which are in BAD_SYMBOLS_RE from text. substitute the matched string in BAD_SYMBOLS_RE with nothing. \n",
    "#     text = re.sub(r'\\W+', '', text)\n",
    "    text = ' '.join(word for word in text.split() if word not in STOPWORDS) # remove stopwors from text\n",
    "    return text"
   ]
  },
  {
   "cell_type": "code",
   "execution_count": 9,
   "id": "c8c20424",
   "metadata": {},
   "outputs": [
    {
     "name": "stderr",
     "output_type": "stream",
     "text": [
      "/var/folders/b2/hx3hnjy967d2_x_0tbdd6xzc0000gn/T/ipykernel_1470/2915232710.py:2: FutureWarning: The default value of regex will change from True to False in a future version.\n",
      "  df['text_clean'] = df['text_clean'].str.replace('\\d+', '')\n"
     ]
    },
    {
     "data": {
      "text/html": [
       "<div>\n",
       "<style scoped>\n",
       "    .dataframe tbody tr th:only-of-type {\n",
       "        vertical-align: middle;\n",
       "    }\n",
       "\n",
       "    .dataframe tbody tr th {\n",
       "        vertical-align: top;\n",
       "    }\n",
       "\n",
       "    .dataframe thead th {\n",
       "        text-align: right;\n",
       "    }\n",
       "</style>\n",
       "<table border=\"1\" class=\"dataframe\">\n",
       "  <thead>\n",
       "    <tr style=\"text-align: right;\">\n",
       "      <th></th>\n",
       "      <th>directory</th>\n",
       "      <th>file</th>\n",
       "      <th>title</th>\n",
       "      <th>label</th>\n",
       "      <th>text</th>\n",
       "      <th>text_clean</th>\n",
       "    </tr>\n",
       "  </thead>\n",
       "  <tbody>\n",
       "    <tr>\n",
       "      <th>0</th>\n",
       "      <td>./archive/bbc-fulltext (document classificatio...</td>\n",
       "      <td>289.txt</td>\n",
       "      <td>Musicians to tackle US red tape</td>\n",
       "      <td>entertainment</td>\n",
       "      <td>Musicians' groups are to tackle US visa regu...</td>\n",
       "      <td>musicians groups tackle us visa regulations bl...</td>\n",
       "    </tr>\n",
       "    <tr>\n",
       "      <th>1</th>\n",
       "      <td>./archive/bbc-fulltext (document classificatio...</td>\n",
       "      <td>262.txt</td>\n",
       "      <td>U2's desire to be number one</td>\n",
       "      <td>entertainment</td>\n",
       "      <td>U2, who have won three prestigious Grammy Aw...</td>\n",
       "      <td>u three prestigious grammy awards hit vertigo ...</td>\n",
       "    </tr>\n",
       "    <tr>\n",
       "      <th>2</th>\n",
       "      <td>./archive/bbc-fulltext (document classificatio...</td>\n",
       "      <td>276.txt</td>\n",
       "      <td>Rocker Doherty in on-stage fight</td>\n",
       "      <td>entertainment</td>\n",
       "      <td>Rock singer Pete Doherty has been involved i...</td>\n",
       "      <td>rock singer pete doherty involved fight bands ...</td>\n",
       "    </tr>\n",
       "    <tr>\n",
       "      <th>3</th>\n",
       "      <td>./archive/bbc-fulltext (document classificatio...</td>\n",
       "      <td>060.txt</td>\n",
       "      <td>Snicket tops US box office chart</td>\n",
       "      <td>entertainment</td>\n",
       "      <td>The film adaptation of Lemony Snicket novels...</td>\n",
       "      <td>film adaptation lemony snicket novels topped n...</td>\n",
       "    </tr>\n",
       "    <tr>\n",
       "      <th>4</th>\n",
       "      <td>./archive/bbc-fulltext (document classificatio...</td>\n",
       "      <td>074.txt</td>\n",
       "      <td>Ocean's Twelve raids box office</td>\n",
       "      <td>entertainment</td>\n",
       "      <td>Ocean's Twelve, the crime caper sequel starr...</td>\n",
       "      <td>oceans twelve crime caper sequel starring geor...</td>\n",
       "    </tr>\n",
       "  </tbody>\n",
       "</table>\n",
       "</div>"
      ],
      "text/plain": [
       "                                           directory     file  \\\n",
       "0  ./archive/bbc-fulltext (document classificatio...  289.txt   \n",
       "1  ./archive/bbc-fulltext (document classificatio...  262.txt   \n",
       "2  ./archive/bbc-fulltext (document classificatio...  276.txt   \n",
       "3  ./archive/bbc-fulltext (document classificatio...  060.txt   \n",
       "4  ./archive/bbc-fulltext (document classificatio...  074.txt   \n",
       "\n",
       "                              title          label  \\\n",
       "0   Musicians to tackle US red tape  entertainment   \n",
       "1      U2's desire to be number one  entertainment   \n",
       "2  Rocker Doherty in on-stage fight  entertainment   \n",
       "3  Snicket tops US box office chart  entertainment   \n",
       "4   Ocean's Twelve raids box office  entertainment   \n",
       "\n",
       "                                                text  \\\n",
       "0    Musicians' groups are to tackle US visa regu...   \n",
       "1    U2, who have won three prestigious Grammy Aw...   \n",
       "2    Rock singer Pete Doherty has been involved i...   \n",
       "3    The film adaptation of Lemony Snicket novels...   \n",
       "4    Ocean's Twelve, the crime caper sequel starr...   \n",
       "\n",
       "                                          text_clean  \n",
       "0  musicians groups tackle us visa regulations bl...  \n",
       "1  u three prestigious grammy awards hit vertigo ...  \n",
       "2  rock singer pete doherty involved fight bands ...  \n",
       "3  film adaptation lemony snicket novels topped n...  \n",
       "4  oceans twelve crime caper sequel starring geor...  "
      ]
     },
     "execution_count": 9,
     "metadata": {},
     "output_type": "execute_result"
    }
   ],
   "source": [
    "df['text_clean'] = df['text'].apply(clean_text)\n",
    "df['text_clean'] = df['text_clean'].str.replace('\\d+', '')\n",
    "df.head()"
   ]
  },
  {
   "cell_type": "code",
   "execution_count": 10,
   "id": "0327a2d5",
   "metadata": {},
   "outputs": [],
   "source": [
    "# def get_split(text1):\n",
    "#     l_total = []\n",
    "#     l_parcial = []\n",
    "#     if len(text1.split())//150 >0:\n",
    "#         n = len(text1.split())//150\n",
    "# # why do we have an else?\n",
    "#     else: \n",
    "#         n = 1\n",
    "#     for w in range(n):\n",
    "#         if w == 0:\n",
    "#             l_parcial = text1.split()[:200]\n",
    "#             l_total.append(\" \".join(l_parcial))\n",
    "#         else:\n",
    "#             l_parcial = text1.split()[w*150:w*150 + 200]\n",
    "#             l_total.append(\" \".join(l_parcial))\n",
    "#     return l_total"
   ]
  },
  {
   "cell_type": "code",
   "execution_count": 11,
   "id": "5bca895e",
   "metadata": {},
   "outputs": [],
   "source": [
    "# df['text_split'] = df['text'].apply(get_split)\n",
    "# df.head()"
   ]
  },
  {
   "cell_type": "code",
   "execution_count": 13,
   "id": "a396fd4b",
   "metadata": {},
   "outputs": [
    {
     "data": {
      "text/html": [
       "<div>\n",
       "<style scoped>\n",
       "    .dataframe tbody tr th:only-of-type {\n",
       "        vertical-align: middle;\n",
       "    }\n",
       "\n",
       "    .dataframe tbody tr th {\n",
       "        vertical-align: top;\n",
       "    }\n",
       "\n",
       "    .dataframe thead th {\n",
       "        text-align: right;\n",
       "    }\n",
       "</style>\n",
       "<table border=\"1\" class=\"dataframe\">\n",
       "  <thead>\n",
       "    <tr style=\"text-align: right;\">\n",
       "      <th></th>\n",
       "      <th>directory</th>\n",
       "      <th>file</th>\n",
       "      <th>title</th>\n",
       "      <th>label</th>\n",
       "      <th>text</th>\n",
       "      <th>text_clean</th>\n",
       "      <th>text_split</th>\n",
       "    </tr>\n",
       "  </thead>\n",
       "  <tbody>\n",
       "    <tr>\n",
       "      <th>0</th>\n",
       "      <td>./archive/bbc-fulltext (document classificatio...</td>\n",
       "      <td>289.txt</td>\n",
       "      <td>Musicians to tackle US red tape</td>\n",
       "      <td>entertainment</td>\n",
       "      <td>Musicians' groups are to tackle US visa regu...</td>\n",
       "      <td>musicians groups tackle us visa regulations bl...</td>\n",
       "      <td>[musicians, groups, tackle, us, visa, regulati...</td>\n",
       "    </tr>\n",
       "    <tr>\n",
       "      <th>1</th>\n",
       "      <td>./archive/bbc-fulltext (document classificatio...</td>\n",
       "      <td>262.txt</td>\n",
       "      <td>U2's desire to be number one</td>\n",
       "      <td>entertainment</td>\n",
       "      <td>U2, who have won three prestigious Grammy Aw...</td>\n",
       "      <td>u three prestigious grammy awards hit vertigo ...</td>\n",
       "      <td>[u, three, prestigious, grammy, awards, hit, v...</td>\n",
       "    </tr>\n",
       "    <tr>\n",
       "      <th>2</th>\n",
       "      <td>./archive/bbc-fulltext (document classificatio...</td>\n",
       "      <td>276.txt</td>\n",
       "      <td>Rocker Doherty in on-stage fight</td>\n",
       "      <td>entertainment</td>\n",
       "      <td>Rock singer Pete Doherty has been involved i...</td>\n",
       "      <td>rock singer pete doherty involved fight bands ...</td>\n",
       "      <td>[rock, singer, pete, doherty, involved, fight,...</td>\n",
       "    </tr>\n",
       "    <tr>\n",
       "      <th>3</th>\n",
       "      <td>./archive/bbc-fulltext (document classificatio...</td>\n",
       "      <td>060.txt</td>\n",
       "      <td>Snicket tops US box office chart</td>\n",
       "      <td>entertainment</td>\n",
       "      <td>The film adaptation of Lemony Snicket novels...</td>\n",
       "      <td>film adaptation lemony snicket novels topped n...</td>\n",
       "      <td>[film, adaptation, lemony, snicket, novels, to...</td>\n",
       "    </tr>\n",
       "    <tr>\n",
       "      <th>4</th>\n",
       "      <td>./archive/bbc-fulltext (document classificatio...</td>\n",
       "      <td>074.txt</td>\n",
       "      <td>Ocean's Twelve raids box office</td>\n",
       "      <td>entertainment</td>\n",
       "      <td>Ocean's Twelve, the crime caper sequel starr...</td>\n",
       "      <td>oceans twelve crime caper sequel starring geor...</td>\n",
       "      <td>[oceans, twelve, crime, caper, sequel, starrin...</td>\n",
       "    </tr>\n",
       "  </tbody>\n",
       "</table>\n",
       "</div>"
      ],
      "text/plain": [
       "                                           directory     file  \\\n",
       "0  ./archive/bbc-fulltext (document classificatio...  289.txt   \n",
       "1  ./archive/bbc-fulltext (document classificatio...  262.txt   \n",
       "2  ./archive/bbc-fulltext (document classificatio...  276.txt   \n",
       "3  ./archive/bbc-fulltext (document classificatio...  060.txt   \n",
       "4  ./archive/bbc-fulltext (document classificatio...  074.txt   \n",
       "\n",
       "                              title          label  \\\n",
       "0   Musicians to tackle US red tape  entertainment   \n",
       "1      U2's desire to be number one  entertainment   \n",
       "2  Rocker Doherty in on-stage fight  entertainment   \n",
       "3  Snicket tops US box office chart  entertainment   \n",
       "4   Ocean's Twelve raids box office  entertainment   \n",
       "\n",
       "                                                text  \\\n",
       "0    Musicians' groups are to tackle US visa regu...   \n",
       "1    U2, who have won three prestigious Grammy Aw...   \n",
       "2    Rock singer Pete Doherty has been involved i...   \n",
       "3    The film adaptation of Lemony Snicket novels...   \n",
       "4    Ocean's Twelve, the crime caper sequel starr...   \n",
       "\n",
       "                                          text_clean  \\\n",
       "0  musicians groups tackle us visa regulations bl...   \n",
       "1  u three prestigious grammy awards hit vertigo ...   \n",
       "2  rock singer pete doherty involved fight bands ...   \n",
       "3  film adaptation lemony snicket novels topped n...   \n",
       "4  oceans twelve crime caper sequel starring geor...   \n",
       "\n",
       "                                          text_split  \n",
       "0  [musicians, groups, tackle, us, visa, regulati...  \n",
       "1  [u, three, prestigious, grammy, awards, hit, v...  \n",
       "2  [rock, singer, pete, doherty, involved, fight,...  \n",
       "3  [film, adaptation, lemony, snicket, novels, to...  \n",
       "4  [oceans, twelve, crime, caper, sequel, starrin...  "
      ]
     },
     "execution_count": 13,
     "metadata": {},
     "output_type": "execute_result"
    }
   ],
   "source": [
    "df['text_split'] = df['text_clean'].str.split()\n",
    "df.head()"
   ]
  },
  {
   "cell_type": "code",
   "execution_count": 15,
   "id": "e2c7e422",
   "metadata": {},
   "outputs": [],
   "source": [
    "df.to_csv('BBC_news.csv', index=False)  "
   ]
  }
 ],
 "metadata": {
  "kernelspec": {
   "display_name": "Python 3 (ipykernel)",
   "language": "python",
   "name": "python3"
  },
  "language_info": {
   "codemirror_mode": {
    "name": "ipython",
    "version": 3
   },
   "file_extension": ".py",
   "mimetype": "text/x-python",
   "name": "python",
   "nbconvert_exporter": "python",
   "pygments_lexer": "ipython3",
   "version": "3.10.9"
  }
 },
 "nbformat": 4,
 "nbformat_minor": 5
}
